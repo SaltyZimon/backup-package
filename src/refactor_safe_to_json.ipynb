{
 "cells": [
  {
   "cell_type": "code",
   "execution_count": 1,
   "metadata": {
    "collapsed": true
   },
   "outputs": [],
   "source": [
    "import json\n",
    "import os\n",
    "import time\n",
    "from functools import wraps\n",
    "from typing import List, Dict\n",
    "\n",
    "import requests\n",
    "from bs4 import BeautifulSoup\n",
    "\n",
    "allowed_categories = [\"vorspeise\", \"hauptgang\", \"dessert\", \"fruehstueck\", \"snacks\", \"brote\", \"getränke\"]"
   ]
  },
  {
   "cell_type": "code",
   "execution_count": 2,
   "outputs": [],
   "source": [
    "def timeit(func):\n",
    "    \"\"\"\n",
    "    Function, to get the runtime from different functions\n",
    "    :param func:\n",
    "    :return: runtime\n",
    "    \"\"\"\n",
    "\n",
    "    @wraps(func)\n",
    "    def timeit_wrapper(*args, **kwargs):\n",
    "        start_time = time.perf_counter()\n",
    "        result = func(*args, **kwargs)\n",
    "        end_time = time.perf_counter()\n",
    "        total_time = end_time - start_time\n",
    "        print(f'Function {func.__name__}{args} {kwargs} Took {total_time:.4f} seconds')\n",
    "        return result\n",
    "\n",
    "    return timeit_wrapper"
   ],
   "metadata": {
    "collapsed": false
   }
  },
  {
   "cell_type": "code",
   "execution_count": 3,
   "outputs": [],
   "source": [
    "def get_page_content(link: str) -> str:\n",
    "    \"\"\"\n",
    "    Get a Parsed homepage as HTML str.\n",
    "    :param link:\n",
    "    :return: parsed_homepage\n",
    "    \"\"\"\n",
    "    homepage = requests.get(link)\n",
    "    if not homepage.status_code == 200:\n",
    "        print(f\"Can't reach {link} with status code 200.\")\n",
    "    elif homepage.status_code == 200:\n",
    "        parsed_homepage = BeautifulSoup(homepage.text, 'html.parser')\n",
    "        return parsed_homepage"
   ],
   "metadata": {
    "collapsed": false
   }
  },
  {
   "cell_type": "code",
   "execution_count": 4,
   "outputs": [
    {
     "data": {
      "text/plain": "<!DOCTYPE html>\n\n<html lang=\"en\">\n<head>\n<meta charset=\"utf-8\"/>\n<meta content=\"IE=edge\" http-equiv=\"X-UA-Compatible\"/>\n<meta content=\"width=device-width, initial-scale=1.0\" name=\"viewport\"/>\n<link href=\"css\\style.css\" rel=\"stylesheet\"/>\n<script src=\"js\\scritp.js\"></script>\n<link href=\"img\\icon_phone.png\" rel=\"icon\"/>\n<link href=\"img\\icon_phone.png\" rel=\"apple-touch-icon\" sizes=\"76x76\"/>\n<link href=\"img\\icon_phone.png\" rel=\"apple-touch-icon\" sizes=\"120x120\"/>\n<link href=\"img\\icon_phone.png\" rel=\"apple-touch-icon\" sizes=\"152x152\"/>\n<title>Selinas Choice</title>\n</head>\n<body>\n<!-- App -->\n<div class=\"app\">\n<header>\n<a href=\"index.html\">\n<img alt=\"brand\" class=\"brand\" src=\"img\\brand.png\"/>\n</a>\n<h1 class=\"titel\">Selina's Choice</h1>\n</header>\n<div class=\"scroll-abstandhalter\">\n</div>\n<div class=\"nav-feed\">\n<nav>\n<button class=\"btn\" id=\"nav_vorspeise\"><a href=\"#vorspeise\">Vorspeise</a></button>\n<button class=\"btn\" id=\"nav_hauptgang\"><a href=\"#hauptgang\">Hauptgang</a></button>\n<button class=\"btn\" id=\"nav_dessert\"><a href=\"#dessert\">Dessert</a></button>\n<button class=\"btn\" id=\"nav_fruehstueck\"><a href=\"#fruehstueck\">FrÃ¼hstÃ¼ck</a></button>\n<button class=\"btn\" id=\"nav_snacks\"><a href=\"#snacks\">Snacks</a></button>\n<button class=\"btn\" id=\"nav_brote\"><a href=\"#brote\">Brote</a></button>\n<button class=\"btn\" id=\"nav_getrÃ¤nke\"><a href=\"#getrÃ¤nke\">GetrÃ¤nke</a></button>\n</nav>\n<main>\n<!-- Vorspeisen -->\n<h2 class=\"rezeptklassetitel\" id=\"vorspeise\">Vorspeise</h2>\n<div class=\"rezeptklasse\">\n<div class=\"rezept vorspeise\">\n<a href=\"https://shortcutapp.io/n/MjgzMzNlMzRkZWZmMGRiYzVjMzkxNDM2OWU0ZDA1MmQz\">\n<img alt=\"Rezeptname\" src=\"img\\vorspeisen\\salvia-fritta.jpeg\"/>\n<h3 class=\"rezeptname\">Salvia Fritta</h3>\n</a>\n</div>\n<div class=\"rezept vorspeise\">\n<a href=\"https://shortcutapp.io/n/ZDBlMzhkNjRkZTliMDg0NGQ4NmRmNjNiM2U0ZGE1ODVj\">\n<img alt=\"Rezeptname\" src=\"img\\vorspeisen\\paprikahumus.jpg\"/>\n<h3 class=\"rezeptname\">Paprika Hummus</h3>\n</a>\n</div>\n<div class=\"rezept vorspeise\">\n<a href=\"https://shortcutapp.io/n/ODQwMjlmODVmYWViM2Q0NmIxMDcwNzNjZDVlMGQ4NTg2\">\n<img alt=\"Rezeptname\" src=\"img\\vorspeisen\\tsatsiki.jpg\"/>\n<h3 class=\"rezeptname\">Tsatsiki</h3>\n</a>\n</div>\n<div class=\"rezept vorspeise\">\n<a href=\"https://shortcutapp.io/n/OTVmYmU0Y2I4MWYwMmY0ZTI3YTE4MGJkZTQ4ZTczYjRj\">\n<img alt=\"Rezeptname\" src=\"img\\vorspeisen\\tartar.jpg\"/>\n<h3 class=\"rezeptname\">Tartar Sauce</h3>\n</a>\n</div>\n<div class=\"rezept vorspeise\">\n<a href=\"https://shortcutapp.io/n/MWRmNjhhOWQ2ZjgzNzFhYzYxZDAzMTMwZTYzMzQxZGRi\">\n<img alt=\"Rezeptname\" src=\"img\\vorspeisen\\sommersalat.jpg\"/>\n<h3 class=\"rezeptname\">Sommersalat</h3>\n</a>\n</div>\n<div class=\"rezept vorspeise\">\n<a href=\"https://shortcutapp.io/n/MDg4OWJiZTU0NmEzMzRmNzQ4ZTMyMGNjMzMxM2IxMGNl\">\n<img alt=\"Rezeptname\" src=\"img\\snacks\\tomatenbutter.jpeg\"/>\n<h3 class=\"rezeptname\">Tomatenbutter</h3>\n</a>\n</div>\n<div class=\"rezept vorspeise\">\n<a href=\"https://shortcutapp.io/n/ZGNlZGM3NDQ1MzU2MTk4ZGJjODdkY2E4Nzc4YzA1ZDIx\">\n<img alt=\"Rezeptname\" src=\"img\\vorspeisen\\kÃ¼rbissuppe.jpg\"/>\n<h3 class=\"rezeptname\">KÃ¼rbissuppe</h3>\n</a>\n</div>\n<!-- Ende Vorspeisen -->\n</div>\n<!-- Hauptgang -->\n<h2 class=\"rezeptklassetitel\" id=\"hauptgang\">Hauptgang</h2>\n<div class=\"rezeptklasse\">\n<div class=\"rezept hauptgang\">\n<a href=\"https://shortcutapp.io/n/YzVjNDhmZGFkNDMyNTMxYzFkYjk3ZWRhMjg0MmM4NDUx\">\n<img alt=\"Rezeptname\" src=\"img\\hauptgang\\miso_rahmen.jpg\"/>\n<h3 class=\"rezeptname\">Miso-Ramen</h3>\n</a>\n</div>\n<div class=\"rezept hauptgang\">\n<a href=\"https://shortcutapp.io/n/MmNhZDIxZjcyNDg3NGY0ZGM3NzRlODNkNmQyOGVhMzQ0\">\n<img alt=\"Rezeptname\" src=\"img\\hauptgang\\somerrollen.jpg\"/>\n<h3 class=\"rezeptname\">Sommerrollen</h3>\n</a>\n</div>\n<div class=\"rezept hauptgang\">\n<a href=\"https://shortcutapp.io/n/NGE0MDg2Nzg2NjQyZjZjMzIzZTMyNjhlYWFjMDQzZmRl\">\n<img alt=\"Rezeptname\" src=\"img\\hauptgang\\poke_bowl.jpg\"/>\n<h3 class=\"rezeptname\">PokÃ© Bowl</h3>\n</a>\n</div>\n<div class=\"rezept hauptgang\">\n<a href=\"https://shortcutapp.io/n/MjZmNTYyNTI2YWQxMDBlMTc1MWUwODE4MmM0YTdkNTFj\">\n<img alt=\"Rezeptname\" src=\"img\\hauptgang\\gyoza.jpg\"/>\n<h3 class=\"rezeptname\">Gyoza</h3>\n</a>\n</div>\n<div class=\"rezept hauptgang\">\n<a href=\"https://shortcutapp.io/n/YTEzNTRiNTFiOTJkOGM5N2FkZWMzNDJiNGY0YjcwZDhl\">\n<img alt=\"Rezeptname\" src=\"img\\hauptgang\\lowcarbsuhsi.jpg\"/>\n<h3 class=\"rezeptname\">Low Carb Sushi</h3>\n</a>\n</div>\n<div class=\"rezept hauptgang\">\n<a href=\"https://shortcutapp.io/n/MGEzNzRmYzQ1MjkzYTlhMjY0YTE2NjE4MjgwMGEzOTY5\">\n<img alt=\"Rezeptname\" src=\"img\\hauptgang\\indisches_butterchickencurry.jpg\"/>\n<h3 class=\"rezeptname\">Butterchickencurry</h3>\n</a>\n</div>\n<div class=\"rezept hauptgang\">\n<a href=\"https://shortcutapp.io/n/Yzc4MzhhM2UyMGIzNzAwMDM3MmQ2ZTg3YzU4NjIwMDEx\">\n<img alt=\"Rezeptname\" src=\"img\\hauptgang\\chicken_tikka_malasa.jpg\"/>\n<h3 class=\"rezeptname\">Chicken Tikka Masala</h3>\n</a>\n</div>\n<div class=\"rezept hauptgang\">\n<a href=\"https://shortcutapp.io/n/ZmQxN2M1ZGNlN2JhNjAwYTgwNDkyZTlkZWI1NzA5NmZm\">\n<img alt=\"Rezeptname\" src=\"img\\hauptgang\\rotesthaicurry.jpg\"/>\n<h3 class=\"rezeptname\">Rotes Thai Curry</h3>\n</a>\n</div>\n<div class=\"rezept hauptgang\">\n<a href=\"https://shortcutapp.io/n/MzhhY2E0OWE3ZWUwMWU1ODcwMGQ1YzA2YTQ3OGUzOGJk\">\n<img alt=\"Rezeptname\" src=\"img\\hauptgang\\Clubsandwich.jpg\"/>\n<h3 class=\"rezeptname\">Club Sandwich</h3>\n</a>\n</div>\n<div class=\"rezept hauptgang\">\n<a href=\"https://shortcutapp.io/n/Y2VmMGMxNTY1ZTU0NzFhMWU2OGE3Mjc3MTYyZWQxNGYy\">\n<img alt=\"Rezeptname\" src=\"img\\hauptgang\\pouletgeschn.jpg\"/>\n<h3 class=\"rezeptname\">Pouletgeschnetzeltes</h3>\n</a>\n</div>\n<div class=\"rezept hauptgang\">\n<a href=\"https://shortcutapp.io/n/MjYyNDJhMTJjMTNhMGJhNTU3NjM0NmU0M2YzNTg0YWYz\">\n<img alt=\"Rezeptname\" src=\"img\\hauptgang\\PeanutButterChicken.jpg\"/>\n<h3 class=\"rezeptname\">Peanut Butter Chicken</h3>\n</a>\n</div>\n<div class=\"rezept hauptgang\">\n<a href=\"https://shortcutapp.io/n/NzNiNDgwMzIzMTQwZmQ5ZjBkNDQ3NzdhYzY4N2NjOTZi\">\n<img alt=\"Rezeptname\" src=\"img\\hauptgang\\knusperli.jpg\"/>\n<h3 class=\"rezeptname\">Knusperli im Bierteig</h3>\n</a>\n</div>\n<div class=\"rezept hauptgang\">\n<a href=\"https://shortcutapp.io/n/MjE3YmFjNDI3N2ZmYTdlYzY0N2NlZjMyN2Q2YzVhMmJl\">\n<img alt=\"Rezeptname\" src=\"img\\hauptgang\\egli_zitrone.jpg\"/>\n<h3 class=\"rezeptname\">Egli an Zitronenbutter</h3>\n</a>\n</div>\n<div class=\"rezept hauptgang\">\n<a href=\"https://shortcutapp.io/n/OGZmNTk5NTVhNDk3MWVhNDYyZTlhZGY3NTA4YjQ0YTIx\">\n<img alt=\"Rezeptname\" src=\"img\\hauptgang\\chilliconcarne.jpg\"/>\n<h3 class=\"rezeptname\">Chilli Con Simon</h3>\n</a>\n</div>\n<div class=\"rezept hauptgang\">\n<a href=\"https://shortcutapp.io/n/NDBkMjI4N2VhYzIyOGQ3NDYzODEzZmFlNDUxZWQ5M2Zm\">\n<img alt=\"Rezeptname\" src=\"img\\hauptgang\\couscous.jpg\"/>\n<h3 class=\"rezeptname\">Couscous</h3>\n</a>\n</div>\n<div class=\"rezept hauptgang\">\n<a href=\"https://shortcutapp.io/n/YzQ1NDc5MDg2OWY4NWMzYzQ0MTFlN2YyYTliMzNkMDc4\">\n<img alt=\"Rezeptname\" src=\"img\\hauptgang\\CornflakesNuggets.jpg\"/>\n<h3 class=\"rezeptname\">Cornflakes Nuggets</h3>\n</a>\n</div>\n<div class=\"rezept hauptgang\">\n<a href=\"https://shortcutapp.io/n/M2M1ZjJlMzEwNzgwM2JjZTMwM2Q0NjdmYWU4MjZkN2Vm\">\n<img alt=\"Rezeptname\" src=\"img\\hauptgang\\spinatricotta.jpg\"/>\n<h3 class=\"rezeptname\">Spinat Ricotta</h3>\n</a>\n</div>\n<div class=\"rezept hauptgang\">\n<a href=\"https://shortcutapp.io/n/M2I5MGMwOTY0YTljYzJiNTI5ODFhMDMwZTE2NTgxNDVj\">\n<img alt=\"Rezeptname\" src=\"img\\hauptgang\\Bolognese.jpg\"/>\n<h3 class=\"rezeptname\">Bolognese</h3>\n</a>\n</div>\n<div class=\"rezept hauptgang\">\n<a href=\"https://shortcutapp.io/n/NTczMDE2MWUzYzAyODE3NmM4NjA4NTIwZDg1ZjQ0MGFm\">\n<img alt=\"Rezeptname\" src=\"img\\hauptgang\\griesschnitten.jpg\"/>\n<h3 class=\"rezeptname\">Griesschnitten</h3>\n</a>\n</div>\n<div class=\"rezept hauptgang\">\n<a href=\"https://shortcutapp.io/n/Y2JiMjM2NzgxOTdhM2Y5ODQyNWNjY2FkNDJkNzk0NjZl\">\n<img alt=\"Rezeptname\" src=\"img\\hauptgang\\sushi_reis.jpg\"/>\n<h3 class=\"rezeptname\">Sushi Reis</h3>\n</a>\n</div>\n<div class=\"rezept hauptgang\">\n<a href=\"https://shortcutapp.io/n/M2I5MGMwOTY0YTljYzJiNTI5ODFhMDMwZTE2NTgxNDVj\">\n<img alt=\"Rezeptname\" src=\"img\\hauptgang\\pfannenreis.jpg\"/>\n<h3 class=\"rezeptname\">Pfannen Reis</h3>\n</a>\n</div>\n<!-- Ende Hauptgang -->\n</div>\n<!-- Dessert -->\n<h2 class=\"rezeptklassetitel\" id=\"dessert\">Dessert</h2>\n<div class=\"rezeptklasse\">\n<div class=\"rezept dessert\">\n<a href=\"https://shortcutapp.io/n/YjhjMWYxODBkZTQwNTFhYWE5NWQ0YWQ1MzRkNGFiNzg5\">\n<img alt=\"Rezeptname\" src=\"img\\dessert\\strudel.jpg\"/>\n<h3 class=\"rezeptname\">Strudel dalla Nonna</h3>\n</a>\n</div>\n<div class=\"rezept dessert\">\n<a href=\"https://shortcutapp.io/n/YWI5NWY5MjhhNzUzNTIwYTExNGE5YTdkN2U4ZTBhOGJi\">\n<img alt=\"Rezeptname\" src=\"img\\dessert\\erdbeer-clafoutis.jpg\"/>\n<h3 class=\"rezeptname\">Erdbeer Clafoutis</h3>\n</a>\n</div>\n<div class=\"rezept dessert\">\n<a href=\"https://shortcutapp.io/n/MmI5MGQ1ZGExMDg3YzlmYjMyOGY0MDYzMTM2MjA5ZDky\">\n<img alt=\"Rezeptname\" src=\"img\\dessert\\schokomuffin.jpg\"/>\n<h3 class=\"rezeptname\">Vegane Schokomuffins</h3>\n</a>\n</div>\n<div class=\"rezept dessert\">\n<a href=\"https://shortcutapp.io/n/NTFmN2NkZWRjMmNiOTU2ZmIzOGY5NTdiYTg1MDU1OTM2\">\n<img alt=\"Rezeptname\" src=\"img\\dessert\\Poffertjes.jpg\"/>\n<h3 class=\"rezeptname\">Poffertjes</h3>\n</a>\n</div>\n<div class=\"rezept dessert\">\n<a href=\"https://shortcutapp.io/n/Nzg1ZGJlMWY3MGMzNTFkOTIxODM4MjQwNjczNDM3ZjRl\">\n<img alt=\"Rezeptname\" src=\"img\\dessert\\cheesecake.jpg\"/>\n<h3 class=\"rezeptname\">Cheesecake ohne Boden</h3>\n</a>\n</div>\n<div class=\"rezept dessert\">\n<a href=\"https://shortcutapp.io/n/MTkwZjc5MWJkM2Y3ZGRlZDE1YzRiODM2YjRkMzBjYTYx\">\n<img alt=\"Rezeptname\" src=\"img\\dessert\\cheesecake_imglas.jpg\"/>\n<h3 class=\"rezeptname\">Cheesecake im Glas</h3>\n</a>\n</div>\n<div class=\"rezept dessert\">\n<a href=\"https://shortcutapp.io/n/MTNhYmZmY2RjM2E3NDA0OWJlODYwODk3MTU2NzNjMGZh\">\n<img alt=\"Rezeptname\" src=\"img\\dessert\\muffins.jpg\"/>\n<h3 class=\"rezeptname\">Klassische Muffins</h3>\n</a>\n</div>\n<div class=\"rezept dessert\">\n<a href=\"https://shortcutapp.io/n/NTk2NGQ4Y2FhZmE1NjljNzM5OGJmMjI1ZTIzMjFmODQ5\">\n<img alt=\"Rezeptname\" src=\"img\\dessert\\bananenmuffins.jpg\"/>\n<h3 class=\"rezeptname\">Bananen Muffins</h3>\n</a>\n</div>\n<div class=\"rezept dessert\">\n<a href=\"https://shortcutapp.io/n/Yzc4ZGRhZWJjZTFlMDgwNDgzNGFlOWUxMzMxNDMyMDhi\">\n<img alt=\"Rezeptname\" src=\"img\\dessert\\kÃ¼rbismuffin.jpg\"/>\n<h3 class=\"rezeptname\">KÃ¼rbis Muffins</h3>\n</a>\n</div>\n<div class=\"rezept dessert\">\n<a href=\"https://shortcutapp.io/n/YWZlNzg1ZmQ4OTU0NDc1MWMxMDgzNDNmODg1MzE4Zjky\">\n<img alt=\"Rezeptname\" src=\"img\\dessert\\Profiteroles.jpg\"/>\n<h3 class=\"rezeptname\">Profiteroles</h3>\n</a>\n</div>\n<div class=\"rezept dessert\">\n<a href=\"https://shortcutapp.io/n/NjUzZDc5ZjY4MTRkNWI4MzFiMDRiY2JhN2IwNzI2ZTU3\">\n<img alt=\"Rezeptname\" src=\"img\\dessert\\schokokuchen_gf.jpg\"/>\n<h3 class=\"rezeptname\">Schokoladenkuchen (GF)</h3>\n</a>\n</div>\n<div class=\"rezept dessert\">\n<a href=\"https://shortcutapp.io/n/ZTg2YzQ0NjM4Y2VkMjFmOGZiNzM3NTY5YTU3NmE5MDYx\">\n<img alt=\"Rezeptname\" src=\"img\\dessert\\schokokuchen.jpg\"/>\n<h3 class=\"rezeptname\">Schokoladenkuchen</h3>\n</a>\n</div>\n<div class=\"rezept dessert\">\n<a href=\"https://shortcutapp.io/n/OGQ1YTM0NjlmN2Y4YzBhOWVkZjMxOWQwZTkxZmQ1YjY1\">\n<img alt=\"Rezeptname\" src=\"img\\dessert\\kÃ¼rbiscake.jpg\"/>\n<h3 class=\"rezeptname\">KÃ¼rbiscake</h3>\n</a>\n</div>\n<div class=\"rezept dessert\">\n<a href=\"https://shortcutapp.io/n/OGUxNWE3NjQ1NjA1MWI5NmUxYTYwOTZhYTMxZjQzMTQ2\">\n<img alt=\"Rezeptname\" src=\"img\\dessert\\cheesecakebrownies.jpg\"/>\n<h3 class=\"rezeptname\">Cheesecake-Brownies</h3>\n</a>\n</div>\n<div class=\"rezept dessert\">\n<a href=\"https://shortcutapp.io/n/ZjMwOGUyZGMxNDEzMDlhZWIwZWUyNDUzM2EwOWEwNjg4\">\n<img alt=\"Rezeptname\" src=\"img\\dessert\\buenotorte.jpg\"/>\n<h3 class=\"rezeptname\">Bueno Torte</h3>\n</a>\n</div>\n<div class=\"rezept dessert\">\n<a href=\"https://shortcutapp.io/n/Y2NiODkyNTg0Y2NiY2IyOGYyYWNkYmQ1ODIxM2M5Zjk1\">\n<img alt=\"Rezeptname\" src=\"img\\dessert\\zebrakuchen.jpg\"/>\n<h3 class=\"rezeptname\">Zebrakuchen</h3>\n</a>\n</div>\n<div class=\"rezept dessert\">\n<a href=\"https://shortcutapp.io/n/MGU2Y2FhMmRmNWI3MTY5NmRhMGJkNjEyYTU2ZDNlZGEx\">\n<img alt=\"Rezeptname\" src=\"img\\dessert\\schoggimousse.jpg\"/>\n<h3 class=\"rezeptname\">Schoggimousse</h3>\n</a>\n</div>\n<div class=\"rezept dessert\">\n<a href=\"https://shortcutapp.io/n/NzI1YmJkYmUzZDMzMzc4ZDVmNGNhOWNlNTQzZWJjOTQ4\">\n<img alt=\"Rezeptname\" src=\"img\\dessert\\Oreo-Cupcakes.jpg\"/>\n<h3 class=\"rezeptname\">Oreo-Cupcakes</h3>\n</a>\n</div>\n<div class=\"rezept dessert\">\n<a href=\"https://shortcutapp.io/n/ZDdhNDg1YjljOTJhNGM1ODMyMGY2NTA0Zjk0NTA1MTdi\">\n<img alt=\"Rezeptname\" src=\"img\\dessert\\Schokomuffins.jpg\"/>\n<h3 class=\"rezeptname\">Schokomuffins</h3>\n</a>\n</div>\n<div class=\"rezept dessert\">\n<a href=\"https://shortcutapp.io/n/ZDdhNDg1YjljOTJhNGM1ODMyMGY2NTA0Zjk0NTA1MTdi\">\n<img alt=\"Rezeptname\" src=\"img\\dessert\\Ovo-Schoggimousse.jpg\"/>\n<h3 class=\"rezeptname\">Ovo-Schoggimousse</h3>\n</a>\n</div>\n<!-- Ende Dessert -->\n</div>\n<!-- FrÃ¼hstÃ¼ck -->\n<h2 class=\"rezeptklassetitel\" id=\"fruehstueck\">FrÃ¼hstÃ¼ck</h2>\n<div class=\"rezeptklasse\">\n<div class=\"rezept fruehstueck\">\n<a href=\"https://shortcutapp.io/n/ZmZjOWQ4YTczNTkwODY4MTI1ZTBiNmQ2ODNlMjYxNjEz\">\n<img alt=\"Rezeptname\" src=\"img\\fruehstueck\\kokosporridge.jpg\"/>\n<h3 class=\"rezeptname\">Kokos-Porridge</h3>\n</a>\n</div>\n<div class=\"rezept fruehstueck\">\n<a href=\"https://shortcutapp.io/n/NDcwM2UyMDA3MzM5NzZhZmRmNmNmNzBmMzMyNzNkY2Mw\">\n<img alt=\"Rezeptname\" src=\"img\\fruehstueck\\chiapudding.jpg\"/>\n<h3 class=\"rezeptname\">Chia Pudding</h3>\n</a>\n</div>\n<div class=\"rezept fruehstueck\">\n<a href=\"https://shortcutapp.io/n/NmNjNTI2M2M3ZjdhZWY4YjA3MmYyMDgxYzcwYTEyN2Nl\">\n<img alt=\"Rezeptname\" src=\"img\\fruehstueck\\avocadotoast.jpg\"/>\n<h3 class=\"rezeptname\">Avocado-Toast mit Ei</h3>\n</a>\n</div>\n<div class=\"rezept fruehstueck\">\n<a href=\"https://shortcutapp.io/n/Yjc3OWY2NGMxZWNkNTc3NGZhMDhjN2I0NjBhNzRmZjU1\">\n<img alt=\"Rezeptname\" src=\"img\\fruehstueck\\pancakes.jpg\"/>\n<h3 class=\"rezeptname\">Pancakes - Kalorienarm</h3>\n</a>\n</div>\n<div class=\"rezept fruehstueck\">\n<a href=\"https://shortcutapp.io/n/MzNiOTRjMzgwZWMzYjc5MGI4NzAzYmQyZGMxYWMzYTk3\">\n<img alt=\"Rezeptname\" src=\"img\\fruehstueck\\waffeln.jpg\"/>\n<h3 class=\"rezeptname\">Waffeln mit Vanillesauce</h3>\n</a>\n</div>\n<div class=\"rezept fruehstueck\">\n<a href=\"https://shortcutapp.io/n/ZWIxODAxNjFmZmY0NmM2OGMyYTcwZGU0MmE1MDcxNDRk\">\n<img alt=\"Rezeptname\" src=\"img\\fruehstueck\\Griesskuchen.jpg\"/>\n<h3 class=\"rezeptname\">Protein Griesskuchen</h3>\n</a>\n</div>\n<!-- Ende FrÃ¼hstÃ¼ck -->\n</div>\n<!-- Snacks -->\n<h2 class=\"rezeptklassetitel\" id=\"snacks\">Snacks</h2>\n<div class=\"rezeptklasse\">\n<div class=\"rezept snacks\">\n<a href=\"https://shortcutapp.io/n/YjNhNTQxOWNjNWRkNjY3NDI0NWExYjZiODllYzRiNWVk\">\n<img alt=\"Rezeptname\" src=\"img\\snacks\\knuspernuesse.jpeg\"/>\n<h3 class=\"rezeptname\">KnuspernÃ¼sse</h3>\n</a>\n</div>\n<div class=\"rezept snacks\">\n<a href=\"https://shortcutapp.io/n/MjJmNmNjMWY5MWU2ZWQ5MDEwNWEzYzU5MzI1MmIxOGRi\">\n<img alt=\"Rezeptname\" src=\"img\\dessert\\CookieDoughBalls.jpg\"/>\n<h3 class=\"rezeptname\">Cookie Dough Balls</h3>\n</a>\n</div>\n<div class=\"rezep snackst\">\n<a href=\"https://shortcutapp.io/n/NThkZjdjYmQ0Yzg0NjA1ZmM2MmM2MTI1NmJkNjZhZTA3\">\n<img alt=\"Rezeptname\" src=\"img\\dessert\\CornflakesHÃ¼feli.jpg\"/>\n<h3 class=\"rezeptname\">Cornflakes HÃ¼feli</h3>\n</a>\n</div>\n<!-- Ende Snacks -->\n</div>\n<!-- Brote -->\n<h2 class=\"rezeptklassetitel\" id=\"brote\">Brote</h2>\n<div class=\"rezeptklasse\">\n<div class=\"rezept brote\">\n<a href=\"https://shortcutapp.io/n/ODBhYzMyYmVkOTJjOWE2NjNjOTgxNjBkMTViMzE2NjFh\">\n<img alt=\"Rezeptname\" src=\"img\\brote\\topfbrot.jpg\"/>\n<h3 class=\"rezeptname\">Topfbrot</h3>\n</a>\n</div>\n<div class=\"rezept brote\">\n<a href=\"https://shortcutapp.io/n/ZDc4MGIyOGJkMzJlY2RkY2Y1MTFjNGJjZjhkYTViZDM1\">\n<img alt=\"Rezeptname\" src=\"img\\brote\\focaccia.jpg\"/>\n<h3 class=\"rezeptname\">Focaccia</h3>\n</a>\n</div>\n<div class=\"rezept brote\">\n<a href=\"https://shortcutapp.io/n/ODQyODU2NzE4YjVkZDFkN2FiNTc2ODAzODI4YTRjNzBh\">\n<img alt=\"Rezeptname\" src=\"img\\brote\\burger_buns.jpg\"/>\n<h3 class=\"rezeptname\">Burger Buns</h3>\n</a>\n</div>\n<div class=\"rezept brote\">\n<a href=\"https://shortcutapp.io/n/NDJlNzE0NGIyMTUwYzcwYjliMzcxZTEyYWMyZTk2YzE4\">\n<img alt=\"Rezeptname\" src=\"img\\brote\\naan_brot.jpg\"/>\n<h3 class=\"rezeptname\">Naan Brot</h3>\n</a>\n</div>\n<div class=\"rezept brote\">\n<a href=\"https://shortcutapp.io/n/ZjY0YThmNGY2ZGZhNGUyMTU3NTMyNWFjZGUyNzA3OTBh\">\n<img alt=\"Rezeptname\" src=\"img\\brote\\bazlama.jpg\"/>\n<h3 class=\"rezeptname\">Bazlama Fladenbrot</h3>\n</a>\n</div>\n<div class=\"rezept brote\">\n<a href=\"https://shortcutapp.io/n/NDc0ZTFhZGYzMTBiOWRmY2U2NTkyNjU4ZWMyNzY4ODQ2\">\n<img alt=\"Rezeptname\" src=\"img\\brote\\knoblibrot.jpg\"/>\n<h3 class=\"rezeptname\">Knoblibrot</h3>\n</a>\n</div>\n<div class=\"rezept brote\">\n<a href=\"https://shortcutapp.io/n/MzdhOWE0OWMwYTgwZjUxYjZmOWRjZGMxYjAzYzNhYzMw\">\n<img alt=\"Rezeptname\" src=\"img\\brote\\linsentortillas.jpg\"/>\n<h3 class=\"rezeptname\">Linsen Tortillas</h3>\n</a>\n</div>\n<!-- Ende Brote -->\n</div>\n<!-- GetrÃ¤nke -->\n<h2 class=\"rezeptklassetitel\" id=\"getrÃ¤nke\">GetrÃ¤nke</h2>\n<div class=\"rezeptklasse\">\n<div class=\"rezept getrÃ¤nke\">\n<a href=\"https://shortcutapp.io/n/NDczZmVmMWVmYzBhNWRjNWJkYmFiNjNiMDM2OGQ5Njg0\">\n<img alt=\"Rezeptname\" src=\"img\\getrÃ¤nke\\Blodhound_Grapefruit.jpg\"/>\n<h3 class=\"rezeptname\">Bloodhound Grapefruit</h3>\n</a>\n</div>\n<div class=\"rezept getrÃ¤nke\">\n<a href=\"https://shortcutapp.io/n/MGE5YWI4ZDA0YzE0MmZmNzNjNDc1YzM3NzhiYzEyMTFi\">\n<img alt=\"Rezeptname\" src=\"img\\getrÃ¤nke\\sangria.jpg\"/>\n<h3 class=\"rezeptname\">Rose Angria</h3>\n</a>\n</div>\n<div class=\"rezept getrÃ¤nke\">\n<a href=\"https://shortcutapp.io/n/ZTIzMTc2MjVmZjRiOWQyNDhhMWI4ZDk5OTVmYzZlYjI5\">\n<img alt=\"Rezeptname\" src=\"img\\getrÃ¤nke\\dr_green_thumb.jpg\"/>\n<h3 class=\"rezeptname\">Dr. Green Thumb</h3>\n</a>\n</div>\n<div class=\"rezept getrÃ¤nke\">\n<a href=\"https://shortcutapp.io/n/MzUwNjEyYmRlZTdjNGE5Zjk3M2NkZDFlMTMxMGUzODQx\">\n<img alt=\"Rezeptname\" src=\"img\\getrÃ¤nke\\orange_zimon.jpg\"/>\n<h3 class=\"rezeptname\">Orange Zimon</h3>\n</a>\n</div>\n<div class=\"rezept getrÃ¤nke\">\n<a href=\"https://shortcutapp.io/n/NTE0YmIyOTEzNTc5NjA5Yjg4NTE5ZjU0ZDU0ODg3MDIy\">\n<img alt=\"Rezeptname\" src=\"img\\getrÃ¤nke\\Gluewein.jpg\"/>\n<h3 class=\"rezeptname\">GlÃ¼hwein</h3>\n</a>\n</div>\n<div class=\"rezept getrÃ¤nke\">\n<a href=\"https://shortcutapp.io/n/NmYzZDU3MTNkMDNiN2I5MjAzY2E5MjljYWU3NTRjYWU3\">\n<img alt=\"Rezeptname\" src=\"img\\getrÃ¤nke\\chai_latte.jpg\"/>\n<h3 class=\"rezeptname\">Chai Latte</h3>\n</a>\n</div>\n<!-- Ende GetrÃ¤nke -->\n</div>\n<!-- End main -->\n</main>\n<!-- End - Nav-feed -->\n</div>\n<!-- End - App -->\n</div>\n<button id=\"nav_author\"><a href=\"https://www.linkedin.com/in/simon-ebn%C3%B6ther/\" style=\"color: black\">Built by Simon\n      EbnÃ¶ther</a></button>\n</body>\n</html>\n<!-- Vorlagen\n\n<div class=\"rezept\">\n            <a href=\"#\">\n              <img src=\"img\\vorspeisen\\test2.jpg\" alt=\"Rezeptname\">\n              <h3 class=\"rezeptname\">Brote 1</h3>\n            </a>\n          </div>\n\n\n-->"
     },
     "execution_count": 4,
     "metadata": {},
     "output_type": "execute_result"
    }
   ],
   "source": [
    "get_page_content('https://storage.googleapis.com/www.selinaschoice.ch/index.html')"
   ],
   "metadata": {
    "collapsed": false
   }
  },
  {
   "cell_type": "code",
   "execution_count": 5,
   "outputs": [],
   "source": [
    "def get_links_from_category(category: List) -> List:\n",
    "    \"\"\"\n",
    "    Get a List recipes acording to the categories\n",
    "    :param category:\n",
    "    :return: recipes\n",
    "    \"\"\"\n",
    "    recipes = []\n",
    "    main_page = get_page_content('https://storage.googleapis.com/www.selinaschoice.ch/index.html')\n",
    "    recipes_by_category = main_page.find_all(\"div\", class_=category)  # a -> div\n",
    "    for tag in recipes_by_category:\n",
    "        recipe = tag.a.get('href', None)\n",
    "        recipes.append(recipe)\n",
    "    return recipes"
   ],
   "metadata": {
    "collapsed": false
   }
  },
  {
   "cell_type": "code",
   "execution_count": 6,
   "outputs": [
    {
     "data": {
      "text/plain": "['https://shortcutapp.io/n/MjgzMzNlMzRkZWZmMGRiYzVjMzkxNDM2OWU0ZDA1MmQz',\n 'https://shortcutapp.io/n/ZDBlMzhkNjRkZTliMDg0NGQ4NmRmNjNiM2U0ZGE1ODVj',\n 'https://shortcutapp.io/n/ODQwMjlmODVmYWViM2Q0NmIxMDcwNzNjZDVlMGQ4NTg2',\n 'https://shortcutapp.io/n/OTVmYmU0Y2I4MWYwMmY0ZTI3YTE4MGJkZTQ4ZTczYjRj',\n 'https://shortcutapp.io/n/MWRmNjhhOWQ2ZjgzNzFhYzYxZDAzMTMwZTYzMzQxZGRi',\n 'https://shortcutapp.io/n/MDg4OWJiZTU0NmEzMzRmNzQ4ZTMyMGNjMzMxM2IxMGNl',\n 'https://shortcutapp.io/n/ZGNlZGM3NDQ1MzU2MTk4ZGJjODdkY2E4Nzc4YzA1ZDIx',\n 'https://shortcutapp.io/n/YzVjNDhmZGFkNDMyNTMxYzFkYjk3ZWRhMjg0MmM4NDUx',\n 'https://shortcutapp.io/n/MmNhZDIxZjcyNDg3NGY0ZGM3NzRlODNkNmQyOGVhMzQ0',\n 'https://shortcutapp.io/n/NGE0MDg2Nzg2NjQyZjZjMzIzZTMyNjhlYWFjMDQzZmRl',\n 'https://shortcutapp.io/n/MjZmNTYyNTI2YWQxMDBlMTc1MWUwODE4MmM0YTdkNTFj',\n 'https://shortcutapp.io/n/YTEzNTRiNTFiOTJkOGM5N2FkZWMzNDJiNGY0YjcwZDhl',\n 'https://shortcutapp.io/n/MGEzNzRmYzQ1MjkzYTlhMjY0YTE2NjE4MjgwMGEzOTY5',\n 'https://shortcutapp.io/n/Yzc4MzhhM2UyMGIzNzAwMDM3MmQ2ZTg3YzU4NjIwMDEx',\n 'https://shortcutapp.io/n/ZmQxN2M1ZGNlN2JhNjAwYTgwNDkyZTlkZWI1NzA5NmZm',\n 'https://shortcutapp.io/n/MzhhY2E0OWE3ZWUwMWU1ODcwMGQ1YzA2YTQ3OGUzOGJk',\n 'https://shortcutapp.io/n/Y2VmMGMxNTY1ZTU0NzFhMWU2OGE3Mjc3MTYyZWQxNGYy',\n 'https://shortcutapp.io/n/MjYyNDJhMTJjMTNhMGJhNTU3NjM0NmU0M2YzNTg0YWYz',\n 'https://shortcutapp.io/n/NzNiNDgwMzIzMTQwZmQ5ZjBkNDQ3NzdhYzY4N2NjOTZi',\n 'https://shortcutapp.io/n/MjE3YmFjNDI3N2ZmYTdlYzY0N2NlZjMyN2Q2YzVhMmJl',\n 'https://shortcutapp.io/n/OGZmNTk5NTVhNDk3MWVhNDYyZTlhZGY3NTA4YjQ0YTIx',\n 'https://shortcutapp.io/n/NDBkMjI4N2VhYzIyOGQ3NDYzODEzZmFlNDUxZWQ5M2Zm',\n 'https://shortcutapp.io/n/YzQ1NDc5MDg2OWY4NWMzYzQ0MTFlN2YyYTliMzNkMDc4',\n 'https://shortcutapp.io/n/M2M1ZjJlMzEwNzgwM2JjZTMwM2Q0NjdmYWU4MjZkN2Vm',\n 'https://shortcutapp.io/n/M2I5MGMwOTY0YTljYzJiNTI5ODFhMDMwZTE2NTgxNDVj',\n 'https://shortcutapp.io/n/NTczMDE2MWUzYzAyODE3NmM4NjA4NTIwZDg1ZjQ0MGFm',\n 'https://shortcutapp.io/n/Y2JiMjM2NzgxOTdhM2Y5ODQyNWNjY2FkNDJkNzk0NjZl',\n 'https://shortcutapp.io/n/M2I5MGMwOTY0YTljYzJiNTI5ODFhMDMwZTE2NTgxNDVj']"
     },
     "execution_count": 6,
     "metadata": {},
     "output_type": "execute_result"
    }
   ],
   "source": [
    "get_links_from_category([\"vorspeise\", \"hauptgang\"])"
   ],
   "metadata": {
    "collapsed": false
   }
  },
  {
   "cell_type": "code",
   "execution_count": 7,
   "outputs": [],
   "source": [
    "def get_links_to_scrape(categories=None) -> List:\n",
    "    \"\"\"\n",
    "    Get all or some Recipes by categories. Default is None and will give you all recipies links.\n",
    "    :param categories: None, str oder List\n",
    "    :return: recipes: List\n",
    "    \"\"\"\n",
    "    if categories is None:\n",
    "        recipes = get_links_from_category(allowed_categories)\n",
    "    else:\n",
    "        recipes = get_links_from_category(categories)\n",
    "    return recipes"
   ],
   "metadata": {
    "collapsed": false
   }
  },
  {
   "cell_type": "code",
   "execution_count": 8,
   "outputs": [
    {
     "data": {
      "text/plain": "['https://shortcutapp.io/n/YzVjNDhmZGFkNDMyNTMxYzFkYjk3ZWRhMjg0MmM4NDUx',\n 'https://shortcutapp.io/n/MmNhZDIxZjcyNDg3NGY0ZGM3NzRlODNkNmQyOGVhMzQ0',\n 'https://shortcutapp.io/n/NGE0MDg2Nzg2NjQyZjZjMzIzZTMyNjhlYWFjMDQzZmRl',\n 'https://shortcutapp.io/n/MjZmNTYyNTI2YWQxMDBlMTc1MWUwODE4MmM0YTdkNTFj',\n 'https://shortcutapp.io/n/YTEzNTRiNTFiOTJkOGM5N2FkZWMzNDJiNGY0YjcwZDhl',\n 'https://shortcutapp.io/n/MGEzNzRmYzQ1MjkzYTlhMjY0YTE2NjE4MjgwMGEzOTY5',\n 'https://shortcutapp.io/n/Yzc4MzhhM2UyMGIzNzAwMDM3MmQ2ZTg3YzU4NjIwMDEx',\n 'https://shortcutapp.io/n/ZmQxN2M1ZGNlN2JhNjAwYTgwNDkyZTlkZWI1NzA5NmZm',\n 'https://shortcutapp.io/n/MzhhY2E0OWE3ZWUwMWU1ODcwMGQ1YzA2YTQ3OGUzOGJk',\n 'https://shortcutapp.io/n/Y2VmMGMxNTY1ZTU0NzFhMWU2OGE3Mjc3MTYyZWQxNGYy',\n 'https://shortcutapp.io/n/MjYyNDJhMTJjMTNhMGJhNTU3NjM0NmU0M2YzNTg0YWYz',\n 'https://shortcutapp.io/n/NzNiNDgwMzIzMTQwZmQ5ZjBkNDQ3NzdhYzY4N2NjOTZi',\n 'https://shortcutapp.io/n/MjE3YmFjNDI3N2ZmYTdlYzY0N2NlZjMyN2Q2YzVhMmJl',\n 'https://shortcutapp.io/n/OGZmNTk5NTVhNDk3MWVhNDYyZTlhZGY3NTA4YjQ0YTIx',\n 'https://shortcutapp.io/n/NDBkMjI4N2VhYzIyOGQ3NDYzODEzZmFlNDUxZWQ5M2Zm',\n 'https://shortcutapp.io/n/YzQ1NDc5MDg2OWY4NWMzYzQ0MTFlN2YyYTliMzNkMDc4',\n 'https://shortcutapp.io/n/M2M1ZjJlMzEwNzgwM2JjZTMwM2Q0NjdmYWU4MjZkN2Vm',\n 'https://shortcutapp.io/n/M2I5MGMwOTY0YTljYzJiNTI5ODFhMDMwZTE2NTgxNDVj',\n 'https://shortcutapp.io/n/NTczMDE2MWUzYzAyODE3NmM4NjA4NTIwZDg1ZjQ0MGFm',\n 'https://shortcutapp.io/n/Y2JiMjM2NzgxOTdhM2Y5ODQyNWNjY2FkNDJkNzk0NjZl',\n 'https://shortcutapp.io/n/M2I5MGMwOTY0YTljYzJiNTI5ODFhMDMwZTE2NTgxNDVj']"
     },
     "execution_count": 8,
     "metadata": {},
     "output_type": "execute_result"
    }
   ],
   "source": [
    "get_links_to_scrape(\"hauptgang\")"
   ],
   "metadata": {
    "collapsed": false
   }
  },
  {
   "cell_type": "code",
   "execution_count": 9,
   "outputs": [],
   "source": [
    "def get_category_from_recipe(link: str) -> str:\n",
    "    \"\"\"\n",
    "    Get the one of allowed classes based on the recipe link.\n",
    "    :param link: str\n",
    "    :return recipe_class: str\n",
    "    \"\"\"\n",
    "    main_page = get_page_content('https://storage.googleapis.com/www.selinaschoice.ch/index.html#hauptgang')\n",
    "    specific_recipe = main_page.find(\"a\", href=link).parent\n",
    "    specific_recipe_class = specific_recipe[\"class\"][1:]\n",
    "    recipe_class = \"\".join(specific_recipe_class)\n",
    "    if recipe_class in allowed_categories:\n",
    "        return recipe_class\n",
    "    else:\n",
    "        print(f\"The class from recipe: {link} is {recipe_class} and not in {allowed_categories}.\")"
   ],
   "metadata": {
    "collapsed": false
   }
  },
  {
   "cell_type": "code",
   "execution_count": 10,
   "outputs": [
    {
     "data": {
      "text/plain": "'hauptgang'"
     },
     "execution_count": 10,
     "metadata": {},
     "output_type": "execute_result"
    }
   ],
   "source": [
    "get_category_from_recipe('https://shortcutapp.io/n/MGEzNzRmYzQ1MjkzYTlhMjY0YTE2NjE4MjgwMGEzOTY5')\n"
   ],
   "metadata": {
    "collapsed": false
   }
  },
  {
   "cell_type": "code",
   "execution_count": 11,
   "outputs": [],
   "source": [
    "def get_recipe_title(link: str) -> str:\n",
    "    \"\"\"\n",
    "    Get the Title from a recipe with a recipe link.\n",
    "    :param link: str\n",
    "    :return: title: str\n",
    "    \"\"\"\n",
    "    recipe = get_page_content(link)\n",
    "    title = recipe.h1.text\n",
    "    return title"
   ],
   "metadata": {
    "collapsed": false
   }
  },
  {
   "cell_type": "code",
   "execution_count": 12,
   "outputs": [
    {
     "data": {
      "text/plain": "'Indisches Butterchickencurry'"
     },
     "execution_count": 12,
     "metadata": {},
     "output_type": "execute_result"
    }
   ],
   "source": [
    "get_recipe_title('https://shortcutapp.io/n/MGEzNzRmYzQ1MjkzYTlhMjY0YTE2NjE4MjgwMGEzOTY5')"
   ],
   "metadata": {
    "collapsed": false
   }
  },
  {
   "cell_type": "code",
   "execution_count": 13,
   "outputs": [],
   "source": [
    "def get_recipe_img_path(link: str) -> str:\n",
    "    \"\"\"\n",
    "    Get the img path from a recipe with the recipe link.\n",
    "    :param link: str\n",
    "    :return img_path: str\n",
    "    \"\"\"\n",
    "    main_page = get_page_content('https://storage.googleapis.com/www.selinaschoice.ch/index.html#hauptgang')\n",
    "    specific_recipe = main_page.find(\"a\", href=link)\n",
    "    img = specific_recipe.find(\"img\")\n",
    "    img_path = img.get(\"src\")\n",
    "    return img_path"
   ],
   "metadata": {
    "collapsed": false
   }
  },
  {
   "cell_type": "code",
   "execution_count": 14,
   "outputs": [
    {
     "data": {
      "text/plain": "'img\\\\hauptgang\\\\indisches_butterchickencurry.jpg'"
     },
     "execution_count": 14,
     "metadata": {},
     "output_type": "execute_result"
    }
   ],
   "source": [
    "get_recipe_img_path(\"https://shortcutapp.io/n/MGEzNzRmYzQ1MjkzYTlhMjY0YTE2NjE4MjgwMGEzOTY5\")"
   ],
   "metadata": {
    "collapsed": false
   }
  },
  {
   "cell_type": "code",
   "execution_count": 15,
   "outputs": [],
   "source": [
    "def get_prep_time(link: str) -> str:\n",
    "    \"\"\"\n",
    "    Get the preparation time from a recipe.\n",
    "    :param link: str\n",
    "    :return prep_time: str\n",
    "    \"\"\"\n",
    "    page_content = get_page_content(link)\n",
    "    prep_time = page_content.find('time', itemprop=\"prepTime\").text\n",
    "    return prep_time"
   ],
   "metadata": {
    "collapsed": false
   }
  },
  {
   "cell_type": "code",
   "execution_count": 16,
   "outputs": [
    {
     "data": {
      "text/plain": "'30 minutes'"
     },
     "execution_count": 16,
     "metadata": {},
     "output_type": "execute_result"
    }
   ],
   "source": [
    "get_prep_time(\"https://shortcutapp.io/n/MGEzNzRmYzQ1MjkzYTlhMjY0YTE2NjE4MjgwMGEzOTY5\")"
   ],
   "metadata": {
    "collapsed": false
   }
  },
  {
   "cell_type": "code",
   "execution_count": 17,
   "outputs": [],
   "source": [
    "def get_serves(link: str) -> str:\n",
    "    \"\"\"\n",
    "    Get serves from recipe.\n",
    "    :param link: str\n",
    "    :return serves: str\n",
    "    \"\"\"\n",
    "    page_content = get_page_content(link)\n",
    "    serves = page_content.find_all('li')[1].text\n",
    "    return serves[8:]  # without index returns \"serves: 4 persons\""
   ],
   "metadata": {
    "collapsed": false
   }
  },
  {
   "cell_type": "code",
   "execution_count": 18,
   "outputs": [
    {
     "data": {
      "text/plain": "'4 persons'"
     },
     "execution_count": 18,
     "metadata": {},
     "output_type": "execute_result"
    }
   ],
   "source": [
    "get_serves(\"https://shortcutapp.io/n/MGEzNzRmYzQ1MjkzYTlhMjY0YTE2NjE4MjgwMGEzOTY5\")"
   ],
   "metadata": {
    "collapsed": false
   }
  },
  {
   "cell_type": "code",
   "execution_count": 19,
   "outputs": [],
   "source": [
    "def get_difficulty(link: str) -> str:\n",
    "    \"\"\"\n",
    "    Get difficulty from recipe.\n",
    "    :param link: str\n",
    "    :return difficulty: str\n",
    "    \"\"\"\n",
    "    page_content = get_page_content(link)\n",
    "    difficulty = page_content.find_all('li')[2].text\n",
    "    return difficulty[12:]  # without index returns \"difficulty: easy emoji\""
   ],
   "metadata": {
    "collapsed": false
   }
  },
  {
   "cell_type": "code",
   "execution_count": 20,
   "outputs": [
    {
     "data": {
      "text/plain": "'easy 🥳'"
     },
     "execution_count": 20,
     "metadata": {},
     "output_type": "execute_result"
    }
   ],
   "source": [
    "get_difficulty(\"https://shortcutapp.io/n/MGEzNzRmYzQ1MjkzYTlhMjY0YTE2NjE4MjgwMGEzOTY5\")"
   ],
   "metadata": {
    "collapsed": false
   }
  },
  {
   "cell_type": "code",
   "execution_count": 21,
   "outputs": [],
   "source": [
    "def get_ingredients(link: str) -> List[Dict]:\n",
    "    page_content = get_page_content(link)\n",
    "    ingredients = page_content.find(\"section\", class_=\"ingredients\")\n",
    "    ingredientArray = []\n",
    "    for li in ingredients.find_all('li'):\n",
    "        quantity = li.find('div', class_='quantity').text\n",
    "        ingredient = li.find('div', class_='name').text\n",
    "        # print(quantity)\n",
    "        # print(ingredient)\n",
    "        ingredientValues = {\n",
    "            \"quantity\": quantity,\n",
    "            \"name\": ingredient,\n",
    "        }\n",
    "        ingredientArray.append(ingredientValues)\n",
    "    return ingredientArray"
   ],
   "metadata": {
    "collapsed": false
   }
  },
  {
   "cell_type": "code",
   "execution_count": 22,
   "outputs": [
    {
     "data": {
      "text/plain": "[{'quantity': '3', 'name': 'Hähnchenbrustfilets'},\n {'quantity': '1', 'name': 'Zwiebel'},\n {'quantity': '1', 'name': 'Knoblauchzehe'},\n {'quantity': '300 g', 'name': 'Gemüse deiner Wahl'},\n {'quantity': '300 ml', 'name': 'Kokosmilch'},\n {'quantity': '150 ml', 'name': 'passierte Tomaten'},\n {'quantity': '4 EL', 'name': 'Currypulver'},\n {'quantity': '1 EL', 'name': 'Butter'},\n {'quantity': '', 'name': 'Salz & Pfeffer'}]"
     },
     "execution_count": 22,
     "metadata": {},
     "output_type": "execute_result"
    }
   ],
   "source": [
    "get_ingredients(\"https://shortcutapp.io/n/MGEzNzRmYzQ1MjkzYTlhMjY0YTE2NjE4MjgwMGEzOTY5\")"
   ],
   "metadata": {
    "collapsed": false
   }
  },
  {
   "cell_type": "code",
   "execution_count": 23,
   "outputs": [],
   "source": [
    "def get_instructions(link: str) -> List[Dict]:\n",
    "    page_content = get_page_content(link)\n",
    "    instructionArray = []\n",
    "    instructions = page_content.find('section', class_='instructions')\n",
    "    for li in instructions.find_all('li'):\n",
    "        stepTitle = li.find('div', class_='details').h3.text\n",
    "        stepInfo = li.find('div', class_='text').text\n",
    "        # print(stepTitle)\n",
    "        # print(stepInfo)\n",
    "        instructionValues = {\n",
    "            \"step\": stepTitle,\n",
    "            \"instruction\": stepInfo,\n",
    "        }\n",
    "        instructionArray.append(instructionValues)\n",
    "    return instructionArray"
   ],
   "metadata": {
    "collapsed": false
   }
  },
  {
   "cell_type": "code",
   "execution_count": 24,
   "outputs": [
    {
     "data": {
      "text/plain": "[{'step': 'Step 1',\n  'instruction': 'Hähnchen und das gewünschte Gemüse, sowie Zwiebeln & Knoblauch in Stücke schneiden.'},\n {'step': 'Step 2',\n  'instruction': 'In einer Bratpfanne den Butter schmelzen und die Hähnchenstücke anbraten. Nicht ganz durchbraten und dann zur Seite legen.'},\n {'step': 'Step 3',\n  'instruction': 'Zwiebeln, Knoblauch und das Gemüse anbraten und anschliessend die Kokosmilch und passierte Tomaten hinzugeben.'},\n {'step': 'Step 4',\n  'instruction': 'Currypulver, Salz und Pfeffer hinzugeben und das ganze ca. 10min köcheln lassen (je nach Gemüse). Anschliessend die Hähnchenstückebeigeben und nochmals ca. 5min köcheln lassen.'},\n {'step': 'Step 5',\n  'instruction': 'Die Sauce abschmecken und anschliessend mit Reis oder Naan-Brote servieren und geniessen.'}]"
     },
     "execution_count": 24,
     "metadata": {},
     "output_type": "execute_result"
    }
   ],
   "source": [
    "get_instructions(\"https://shortcutapp.io/n/MGEzNzRmYzQ1MjkzYTlhMjY0YTE2NjE4MjgwMGEzOTY5\")"
   ],
   "metadata": {
    "collapsed": false
   }
  },
  {
   "cell_type": "code",
   "execution_count": 25,
   "outputs": [],
   "source": [
    "def get_parsed_recipe(link: List) -> Dict:\n",
    "    title = get_recipe_title(link)\n",
    "    recipe_class = get_category_from_recipe(link)\n",
    "    img = get_recipe_img_path(link)\n",
    "    prep_time = get_prep_time(link)\n",
    "    serves = get_serves(link)\n",
    "    difficulty = get_difficulty(link)\n",
    "    ingredients = get_ingredients(link)\n",
    "    instructions = get_instructions(link)\n",
    "\n",
    "    recipe_dict = {\n",
    "        \"title\": title,\n",
    "        \"recipe_class\": recipe_class,\n",
    "        \"img_path\": img,\n",
    "        \"prep_time\": prep_time,\n",
    "        \"serves\": serves,\n",
    "        \"difficulty\": difficulty,\n",
    "        \"ingredients\": ingredients,\n",
    "        \"instructions\": instructions,\n",
    "    }\n",
    "    return recipe_dict"
   ],
   "metadata": {
    "collapsed": false
   }
  },
  {
   "cell_type": "code",
   "execution_count": 26,
   "outputs": [
    {
     "data": {
      "text/plain": "{'title': 'Indisches Butterchickencurry',\n 'recipe_class': 'hauptgang',\n 'img_path': 'img\\\\hauptgang\\\\indisches_butterchickencurry.jpg',\n 'prep_time': '30 minutes',\n 'serves': '4 persons',\n 'difficulty': 'easy 🥳',\n 'ingredients': [{'quantity': '3', 'name': 'Hähnchenbrustfilets'},\n  {'quantity': '1', 'name': 'Zwiebel'},\n  {'quantity': '1', 'name': 'Knoblauchzehe'},\n  {'quantity': '300 g', 'name': 'Gemüse deiner Wahl'},\n  {'quantity': '300 ml', 'name': 'Kokosmilch'},\n  {'quantity': '150 ml', 'name': 'passierte Tomaten'},\n  {'quantity': '4 EL', 'name': 'Currypulver'},\n  {'quantity': '1 EL', 'name': 'Butter'},\n  {'quantity': '', 'name': 'Salz & Pfeffer'}],\n 'instructions': [{'step': 'Step 1',\n   'instruction': 'Hähnchen und das gewünschte Gemüse, sowie Zwiebeln & Knoblauch in Stücke schneiden.'},\n  {'step': 'Step 2',\n   'instruction': 'In einer Bratpfanne den Butter schmelzen und die Hähnchenstücke anbraten. Nicht ganz durchbraten und dann zur Seite legen.'},\n  {'step': 'Step 3',\n   'instruction': 'Zwiebeln, Knoblauch und das Gemüse anbraten und anschliessend die Kokosmilch und passierte Tomaten hinzugeben.'},\n  {'step': 'Step 4',\n   'instruction': 'Currypulver, Salz und Pfeffer hinzugeben und das ganze ca. 10min köcheln lassen (je nach Gemüse). Anschliessend die Hähnchenstückebeigeben und nochmals ca. 5min köcheln lassen.'},\n  {'step': 'Step 5',\n   'instruction': 'Die Sauce abschmecken und anschliessend mit Reis oder Naan-Brote servieren und geniessen.'}]}"
     },
     "execution_count": 26,
     "metadata": {},
     "output_type": "execute_result"
    }
   ],
   "source": [
    "get_parsed_recipe('https://shortcutapp.io/n/MGEzNzRmYzQ1MjkzYTlhMjY0YTE2NjE4MjgwMGEzOTY5')"
   ],
   "metadata": {
    "collapsed": false
   }
  },
  {
   "cell_type": "code",
   "execution_count": 27,
   "outputs": [],
   "source": [
    "def backup_recipe(recipe=Dict) -> json:\n",
    "    filename = recipe[\"title\"] + \".json\"\n",
    "    json_object = json.dumps(recipe, indent=4, ensure_ascii=False)\n",
    "    with open(filename, \"w\", encoding=\"utf-8\") as outfile:\n",
    "        outfile.write(json_object)\n"
   ],
   "metadata": {
    "collapsed": false
   }
  },
  {
   "cell_type": "markdown",
   "source": [
    "# To-Do\n",
    "- Get the categorie and save it to the dict\n",
    "- Write json to specific folder with the right naming"
   ],
   "metadata": {
    "collapsed": false
   }
  },
  {
   "cell_type": "code",
   "execution_count": 32,
   "outputs": [],
   "source": [
    "# Create directory\n",
    "\n",
    "os.chdir(\"../recipes\")\n",
    "dirName = 'hauptgang'\n",
    "try:\n",
    "    # Create target Directory\n",
    "    os.mkdir(dirName)\n",
    "except FileExistsError:\n",
    "    print(\"Directory \", dirName, \" already exists\")"
   ],
   "metadata": {
    "collapsed": false
   }
  },
  {
   "cell_type": "code",
   "execution_count": null,
   "outputs": [],
   "source": [],
   "metadata": {
    "collapsed": false
   }
  }
 ],
 "metadata": {
  "kernelspec": {
   "display_name": "Python 3",
   "language": "python",
   "name": "python3"
  },
  "language_info": {
   "codemirror_mode": {
    "name": "ipython",
    "version": 2
   },
   "file_extension": ".py",
   "mimetype": "text/x-python",
   "name": "python",
   "nbconvert_exporter": "python",
   "pygments_lexer": "ipython2",
   "version": "2.7.6"
  }
 },
 "nbformat": 4,
 "nbformat_minor": 0
}
