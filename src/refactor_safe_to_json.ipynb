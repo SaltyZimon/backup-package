{
 "cells": [
  {
   "cell_type": "code",
   "execution_count": 1,
   "metadata": {
    "collapsed": true
   },
   "outputs": [],
   "source": [
    "import json\n",
    "import os\n",
    "import time\n",
    "from datetime import datetime\n",
    "from functools import wraps\n",
    "from typing import List, Dict\n",
    "\n",
    "import requests\n",
    "from bs4 import BeautifulSoup\n",
    "\n",
    "allowed_categories = [\"vorspeise\", \"hauptgang\", \"dessert\", \"fruehstueck\", \"snacks\", \"brote\", \"getränke\"]"
   ]
  },
  {
   "cell_type": "code",
   "execution_count": 2,
   "outputs": [],
   "source": [
    "def timeit(func):\n",
    "    \"\"\"\n",
    "    Function, to get the runtime from different functions\n",
    "    :param func:\n",
    "    :return: runtime\n",
    "    \"\"\"\n",
    "\n",
    "    @wraps(func)\n",
    "    def timeit_wrapper(*args, **kwargs):\n",
    "        start_time = time.perf_counter()\n",
    "        result = func(*args, **kwargs)\n",
    "        end_time = time.perf_counter()\n",
    "        total_time = end_time - start_time\n",
    "        print(f'Function {func.__name__}{args} {kwargs} Took {total_time:.4f} seconds')\n",
    "        return result\n",
    "\n",
    "    return timeit_wrapper"
   ],
   "metadata": {
    "collapsed": false
   }
  },
  {
   "cell_type": "code",
   "execution_count": 46,
   "outputs": [],
   "source": [
    "@timeit\n",
    "def get_page_content(link: str) -> str:\n",
    "    \"\"\"\n",
    "    Get a Parsed homepage as HTML str.\n",
    "    :param link:\n",
    "    :return: parsed_homepage\n",
    "    \"\"\"\n",
    "    homepage = requests.get(link)\n",
    "    if not homepage.status_code == 200:\n",
    "        print(f\"Can't reach {link} with status code 200.\")\n",
    "    elif homepage.status_code == 200:\n",
    "        parsed_homepage = BeautifulSoup(homepage.text, 'html.parser')\n",
    "        return parsed_homepage"
   ],
   "metadata": {
    "collapsed": false
   }
  },
  {
   "cell_type": "code",
   "execution_count": 47,
   "outputs": [
    {
     "name": "stdout",
     "output_type": "stream",
     "text": [
      "Function get_page_content('https://storage.googleapis.com/www.selinaschoice.ch/index.html',) {} Took 2.2716 seconds\n"
     ]
    },
    {
     "data": {
      "text/plain": "<!DOCTYPE html>\n\n<html lang=\"en\">\n<head>\n<meta charset=\"utf-8\"/>\n<meta content=\"IE=edge\" http-equiv=\"X-UA-Compatible\"/>\n<meta content=\"width=device-width, initial-scale=1.0\" name=\"viewport\"/>\n<link href=\"css\\style.css\" rel=\"stylesheet\"/>\n<script src=\"js\\scritp.js\"></script>\n<link href=\"img\\icon_phone.png\" rel=\"icon\"/>\n<link href=\"img\\icon_phone.png\" rel=\"apple-touch-icon\" sizes=\"76x76\"/>\n<link href=\"img\\icon_phone.png\" rel=\"apple-touch-icon\" sizes=\"120x120\"/>\n<link href=\"img\\icon_phone.png\" rel=\"apple-touch-icon\" sizes=\"152x152\"/>\n<title>Selinas Choice</title>\n</head>\n<body>\n<!-- App -->\n<div class=\"app\">\n<header>\n<a href=\"index.html\">\n<img alt=\"brand\" class=\"brand\" src=\"img\\brand.png\"/>\n</a>\n<h1 class=\"titel\">Selina's Choice</h1>\n</header>\n<div class=\"scroll-abstandhalter\">\n</div>\n<div class=\"nav-feed\">\n<nav>\n<button class=\"btn\" id=\"nav_vorspeise\"><a href=\"#vorspeise\">Vorspeise</a></button>\n<button class=\"btn\" id=\"nav_hauptgang\"><a href=\"#hauptgang\">Hauptgang</a></button>\n<button class=\"btn\" id=\"nav_dessert\"><a href=\"#dessert\">Dessert</a></button>\n<button class=\"btn\" id=\"nav_fruehstueck\"><a href=\"#fruehstueck\">FrÃ¼hstÃ¼ck</a></button>\n<button class=\"btn\" id=\"nav_snacks\"><a href=\"#snacks\">Snacks</a></button>\n<button class=\"btn\" id=\"nav_brote\"><a href=\"#brote\">Brote</a></button>\n<button class=\"btn\" id=\"nav_getrÃ¤nke\"><a href=\"#getrÃ¤nke\">GetrÃ¤nke</a></button>\n</nav>\n<main>\n<!-- Vorspeisen -->\n<h2 class=\"rezeptklassetitel\" id=\"vorspeise\">Vorspeise</h2>\n<div class=\"rezeptklasse\">\n<div class=\"rezept vorspeise\">\n<a href=\"https://shortcutapp.io/n/MjgzMzNlMzRkZWZmMGRiYzVjMzkxNDM2OWU0ZDA1MmQz\">\n<img alt=\"Rezeptname\" src=\"img\\vorspeisen\\salvia-fritta.jpeg\"/>\n<h3 class=\"rezeptname\">Salvia Fritta</h3>\n</a>\n</div>\n<div class=\"rezept vorspeise\">\n<a href=\"https://shortcutapp.io/n/ZDBlMzhkNjRkZTliMDg0NGQ4NmRmNjNiM2U0ZGE1ODVj\">\n<img alt=\"Rezeptname\" src=\"img\\vorspeisen\\paprikahumus.jpg\"/>\n<h3 class=\"rezeptname\">Paprika Hummus</h3>\n</a>\n</div>\n<div class=\"rezept vorspeise\">\n<a href=\"https://shortcutapp.io/n/ODQwMjlmODVmYWViM2Q0NmIxMDcwNzNjZDVlMGQ4NTg2\">\n<img alt=\"Rezeptname\" src=\"img\\vorspeisen\\tsatsiki.jpg\"/>\n<h3 class=\"rezeptname\">Tsatsiki</h3>\n</a>\n</div>\n<div class=\"rezept vorspeise\">\n<a href=\"https://shortcutapp.io/n/OTVmYmU0Y2I4MWYwMmY0ZTI3YTE4MGJkZTQ4ZTczYjRj\">\n<img alt=\"Rezeptname\" src=\"img\\vorspeisen\\tartar.jpg\"/>\n<h3 class=\"rezeptname\">Tartar Sauce</h3>\n</a>\n</div>\n<div class=\"rezept vorspeise\">\n<a href=\"https://shortcutapp.io/n/MWRmNjhhOWQ2ZjgzNzFhYzYxZDAzMTMwZTYzMzQxZGRi\">\n<img alt=\"Rezeptname\" src=\"img\\vorspeisen\\sommersalat.jpg\"/>\n<h3 class=\"rezeptname\">Sommersalat</h3>\n</a>\n</div>\n<div class=\"rezept vorspeise\">\n<a href=\"https://shortcutapp.io/n/MDg4OWJiZTU0NmEzMzRmNzQ4ZTMyMGNjMzMxM2IxMGNl\">\n<img alt=\"Rezeptname\" src=\"img\\snacks\\tomatenbutter.jpeg\"/>\n<h3 class=\"rezeptname\">Tomatenbutter</h3>\n</a>\n</div>\n<div class=\"rezept vorspeise\">\n<a href=\"https://shortcutapp.io/n/ZGNlZGM3NDQ1MzU2MTk4ZGJjODdkY2E4Nzc4YzA1ZDIx\">\n<img alt=\"Rezeptname\" src=\"img\\vorspeisen\\kÃ¼rbissuppe.jpg\"/>\n<h3 class=\"rezeptname\">KÃ¼rbissuppe</h3>\n</a>\n</div>\n<!-- Ende Vorspeisen -->\n</div>\n<!-- Hauptgang -->\n<h2 class=\"rezeptklassetitel\" id=\"hauptgang\">Hauptgang</h2>\n<div class=\"rezeptklasse\">\n<div class=\"rezept hauptgang\">\n<a href=\"https://shortcutapp.io/n/YzVjNDhmZGFkNDMyNTMxYzFkYjk3ZWRhMjg0MmM4NDUx\">\n<img alt=\"Rezeptname\" src=\"img\\hauptgang\\miso_rahmen.jpg\"/>\n<h3 class=\"rezeptname\">Miso-Ramen</h3>\n</a>\n</div>\n<div class=\"rezept hauptgang\">\n<a href=\"https://shortcutapp.io/n/MmNhZDIxZjcyNDg3NGY0ZGM3NzRlODNkNmQyOGVhMzQ0\">\n<img alt=\"Rezeptname\" src=\"img\\hauptgang\\somerrollen.jpg\"/>\n<h3 class=\"rezeptname\">Sommerrollen</h3>\n</a>\n</div>\n<div class=\"rezept hauptgang\">\n<a href=\"https://shortcutapp.io/n/NGE0MDg2Nzg2NjQyZjZjMzIzZTMyNjhlYWFjMDQzZmRl\">\n<img alt=\"Rezeptname\" src=\"img\\hauptgang\\poke_bowl.jpg\"/>\n<h3 class=\"rezeptname\">PokÃ© Bowl</h3>\n</a>\n</div>\n<div class=\"rezept hauptgang\">\n<a href=\"https://shortcutapp.io/n/MjZmNTYyNTI2YWQxMDBlMTc1MWUwODE4MmM0YTdkNTFj\">\n<img alt=\"Rezeptname\" src=\"img\\hauptgang\\gyoza.jpg\"/>\n<h3 class=\"rezeptname\">Gyoza</h3>\n</a>\n</div>\n<div class=\"rezept hauptgang\">\n<a href=\"https://shortcutapp.io/n/YTEzNTRiNTFiOTJkOGM5N2FkZWMzNDJiNGY0YjcwZDhl\">\n<img alt=\"Rezeptname\" src=\"img\\hauptgang\\lowcarbsuhsi.jpg\"/>\n<h3 class=\"rezeptname\">Low Carb Sushi</h3>\n</a>\n</div>\n<div class=\"rezept hauptgang\">\n<a href=\"https://shortcutapp.io/n/MGEzNzRmYzQ1MjkzYTlhMjY0YTE2NjE4MjgwMGEzOTY5\">\n<img alt=\"Rezeptname\" src=\"img\\hauptgang\\indisches_butterchickencurry.jpg\"/>\n<h3 class=\"rezeptname\">Butterchickencurry</h3>\n</a>\n</div>\n<div class=\"rezept hauptgang\">\n<a href=\"https://shortcutapp.io/n/Yzc4MzhhM2UyMGIzNzAwMDM3MmQ2ZTg3YzU4NjIwMDEx\">\n<img alt=\"Rezeptname\" src=\"img\\hauptgang\\chicken_tikka_malasa.jpg\"/>\n<h3 class=\"rezeptname\">Chicken Tikka Masala</h3>\n</a>\n</div>\n<div class=\"rezept hauptgang\">\n<a href=\"https://shortcutapp.io/n/ZmQxN2M1ZGNlN2JhNjAwYTgwNDkyZTlkZWI1NzA5NmZm\">\n<img alt=\"Rezeptname\" src=\"img\\hauptgang\\rotesthaicurry.jpg\"/>\n<h3 class=\"rezeptname\">Rotes Thai Curry</h3>\n</a>\n</div>\n<div class=\"rezept hauptgang\">\n<a href=\"https://shortcutapp.io/n/MzhhY2E0OWE3ZWUwMWU1ODcwMGQ1YzA2YTQ3OGUzOGJk\">\n<img alt=\"Rezeptname\" src=\"img\\hauptgang\\Clubsandwich.jpg\"/>\n<h3 class=\"rezeptname\">Club Sandwich</h3>\n</a>\n</div>\n<div class=\"rezept hauptgang\">\n<a href=\"https://shortcutapp.io/n/Y2VmMGMxNTY1ZTU0NzFhMWU2OGE3Mjc3MTYyZWQxNGYy\">\n<img alt=\"Rezeptname\" src=\"img\\hauptgang\\pouletgeschn.jpg\"/>\n<h3 class=\"rezeptname\">Pouletgeschnetzeltes</h3>\n</a>\n</div>\n<div class=\"rezept hauptgang\">\n<a href=\"https://shortcutapp.io/n/MjYyNDJhMTJjMTNhMGJhNTU3NjM0NmU0M2YzNTg0YWYz\">\n<img alt=\"Rezeptname\" src=\"img\\hauptgang\\PeanutButterChicken.jpg\"/>\n<h3 class=\"rezeptname\">Peanut Butter Chicken</h3>\n</a>\n</div>\n<div class=\"rezept hauptgang\">\n<a href=\"https://shortcutapp.io/n/NzNiNDgwMzIzMTQwZmQ5ZjBkNDQ3NzdhYzY4N2NjOTZi\">\n<img alt=\"Rezeptname\" src=\"img\\hauptgang\\knusperli.jpg\"/>\n<h3 class=\"rezeptname\">Knusperli im Bierteig</h3>\n</a>\n</div>\n<div class=\"rezept hauptgang\">\n<a href=\"https://shortcutapp.io/n/MjE3YmFjNDI3N2ZmYTdlYzY0N2NlZjMyN2Q2YzVhMmJl\">\n<img alt=\"Rezeptname\" src=\"img\\hauptgang\\egli_zitrone.jpg\"/>\n<h3 class=\"rezeptname\">Egli an Zitronenbutter</h3>\n</a>\n</div>\n<div class=\"rezept hauptgang\">\n<a href=\"https://shortcutapp.io/n/OGZmNTk5NTVhNDk3MWVhNDYyZTlhZGY3NTA4YjQ0YTIx\">\n<img alt=\"Rezeptname\" src=\"img\\hauptgang\\chilliconcarne.jpg\"/>\n<h3 class=\"rezeptname\">Chilli Con Simon</h3>\n</a>\n</div>\n<div class=\"rezept hauptgang\">\n<a href=\"https://shortcutapp.io/n/NDBkMjI4N2VhYzIyOGQ3NDYzODEzZmFlNDUxZWQ5M2Zm\">\n<img alt=\"Rezeptname\" src=\"img\\hauptgang\\couscous.jpg\"/>\n<h3 class=\"rezeptname\">Couscous</h3>\n</a>\n</div>\n<div class=\"rezept hauptgang\">\n<a href=\"https://shortcutapp.io/n/YzQ1NDc5MDg2OWY4NWMzYzQ0MTFlN2YyYTliMzNkMDc4\">\n<img alt=\"Rezeptname\" src=\"img\\hauptgang\\CornflakesNuggets.jpg\"/>\n<h3 class=\"rezeptname\">Cornflakes Nuggets</h3>\n</a>\n</div>\n<div class=\"rezept hauptgang\">\n<a href=\"https://shortcutapp.io/n/M2M1ZjJlMzEwNzgwM2JjZTMwM2Q0NjdmYWU4MjZkN2Vm\">\n<img alt=\"Rezeptname\" src=\"img\\hauptgang\\spinatricotta.jpg\"/>\n<h3 class=\"rezeptname\">Spinat Ricotta</h3>\n</a>\n</div>\n<div class=\"rezept hauptgang\">\n<a href=\"https://shortcutapp.io/n/M2I5MGMwOTY0YTljYzJiNTI5ODFhMDMwZTE2NTgxNDVj\">\n<img alt=\"Rezeptname\" src=\"img\\hauptgang\\Bolognese.jpg\"/>\n<h3 class=\"rezeptname\">Bolognese</h3>\n</a>\n</div>\n<div class=\"rezept hauptgang\">\n<a href=\"https://shortcutapp.io/n/NTczMDE2MWUzYzAyODE3NmM4NjA4NTIwZDg1ZjQ0MGFm\">\n<img alt=\"Rezeptname\" src=\"img\\hauptgang\\griesschnitten.jpg\"/>\n<h3 class=\"rezeptname\">Griesschnitten</h3>\n</a>\n</div>\n<div class=\"rezept hauptgang\">\n<a href=\"https://shortcutapp.io/n/Y2JiMjM2NzgxOTdhM2Y5ODQyNWNjY2FkNDJkNzk0NjZl\">\n<img alt=\"Rezeptname\" src=\"img\\hauptgang\\sushi_reis.jpg\"/>\n<h3 class=\"rezeptname\">Sushi Reis</h3>\n</a>\n</div>\n<div class=\"rezept hauptgang\">\n<a href=\"https://shortcutapp.io/n/M2I5MGMwOTY0YTljYzJiNTI5ODFhMDMwZTE2NTgxNDVj\">\n<img alt=\"Rezeptname\" src=\"img\\hauptgang\\pfannenreis.jpg\"/>\n<h3 class=\"rezeptname\">Pfannen Reis</h3>\n</a>\n</div>\n<!-- Ende Hauptgang -->\n</div>\n<!-- Dessert -->\n<h2 class=\"rezeptklassetitel\" id=\"dessert\">Dessert</h2>\n<div class=\"rezeptklasse\">\n<div class=\"rezept dessert\">\n<a href=\"https://shortcutapp.io/n/YjhjMWYxODBkZTQwNTFhYWE5NWQ0YWQ1MzRkNGFiNzg5\">\n<img alt=\"Rezeptname\" src=\"img\\dessert\\strudel.jpg\"/>\n<h3 class=\"rezeptname\">Strudel dalla Nonna</h3>\n</a>\n</div>\n<div class=\"rezept dessert\">\n<a href=\"https://shortcutapp.io/n/YWI5NWY5MjhhNzUzNTIwYTExNGE5YTdkN2U4ZTBhOGJi\">\n<img alt=\"Rezeptname\" src=\"img\\dessert\\erdbeer-clafoutis.jpg\"/>\n<h3 class=\"rezeptname\">Erdbeer Clafoutis</h3>\n</a>\n</div>\n<div class=\"rezept dessert\">\n<a href=\"https://shortcutapp.io/n/MmI5MGQ1ZGExMDg3YzlmYjMyOGY0MDYzMTM2MjA5ZDky\">\n<img alt=\"Rezeptname\" src=\"img\\dessert\\schokomuffin.jpg\"/>\n<h3 class=\"rezeptname\">Vegane Schokomuffins</h3>\n</a>\n</div>\n<div class=\"rezept dessert\">\n<a href=\"https://shortcutapp.io/n/NTFmN2NkZWRjMmNiOTU2ZmIzOGY5NTdiYTg1MDU1OTM2\">\n<img alt=\"Rezeptname\" src=\"img\\dessert\\Poffertjes.jpg\"/>\n<h3 class=\"rezeptname\">Poffertjes</h3>\n</a>\n</div>\n<div class=\"rezept dessert\">\n<a href=\"https://shortcutapp.io/n/Nzg1ZGJlMWY3MGMzNTFkOTIxODM4MjQwNjczNDM3ZjRl\">\n<img alt=\"Rezeptname\" src=\"img\\dessert\\cheesecake.jpg\"/>\n<h3 class=\"rezeptname\">Cheesecake ohne Boden</h3>\n</a>\n</div>\n<div class=\"rezept dessert\">\n<a href=\"https://shortcutapp.io/n/MTkwZjc5MWJkM2Y3ZGRlZDE1YzRiODM2YjRkMzBjYTYx\">\n<img alt=\"Rezeptname\" src=\"img\\dessert\\cheesecake_imglas.jpg\"/>\n<h3 class=\"rezeptname\">Cheesecake im Glas</h3>\n</a>\n</div>\n<div class=\"rezept dessert\">\n<a href=\"https://shortcutapp.io/n/MTNhYmZmY2RjM2E3NDA0OWJlODYwODk3MTU2NzNjMGZh\">\n<img alt=\"Rezeptname\" src=\"img\\dessert\\muffins.jpg\"/>\n<h3 class=\"rezeptname\">Klassische Muffins</h3>\n</a>\n</div>\n<div class=\"rezept dessert\">\n<a href=\"https://shortcutapp.io/n/NTk2NGQ4Y2FhZmE1NjljNzM5OGJmMjI1ZTIzMjFmODQ5\">\n<img alt=\"Rezeptname\" src=\"img\\dessert\\bananenmuffins.jpg\"/>\n<h3 class=\"rezeptname\">Bananen Muffins</h3>\n</a>\n</div>\n<div class=\"rezept dessert\">\n<a href=\"https://shortcutapp.io/n/Yzc4ZGRhZWJjZTFlMDgwNDgzNGFlOWUxMzMxNDMyMDhi\">\n<img alt=\"Rezeptname\" src=\"img\\dessert\\kÃ¼rbismuffin.jpg\"/>\n<h3 class=\"rezeptname\">KÃ¼rbis Muffins</h3>\n</a>\n</div>\n<div class=\"rezept dessert\">\n<a href=\"https://shortcutapp.io/n/YWZlNzg1ZmQ4OTU0NDc1MWMxMDgzNDNmODg1MzE4Zjky\">\n<img alt=\"Rezeptname\" src=\"img\\dessert\\Profiteroles.jpg\"/>\n<h3 class=\"rezeptname\">Profiteroles</h3>\n</a>\n</div>\n<div class=\"rezept dessert\">\n<a href=\"https://shortcutapp.io/n/NjUzZDc5ZjY4MTRkNWI4MzFiMDRiY2JhN2IwNzI2ZTU3\">\n<img alt=\"Rezeptname\" src=\"img\\dessert\\schokokuchen_gf.jpg\"/>\n<h3 class=\"rezeptname\">Schokoladenkuchen (GF)</h3>\n</a>\n</div>\n<div class=\"rezept dessert\">\n<a href=\"https://shortcutapp.io/n/ZTg2YzQ0NjM4Y2VkMjFmOGZiNzM3NTY5YTU3NmE5MDYx\">\n<img alt=\"Rezeptname\" src=\"img\\dessert\\schokokuchen.jpg\"/>\n<h3 class=\"rezeptname\">Schokoladenkuchen</h3>\n</a>\n</div>\n<div class=\"rezept dessert\">\n<a href=\"https://shortcutapp.io/n/OGQ1YTM0NjlmN2Y4YzBhOWVkZjMxOWQwZTkxZmQ1YjY1\">\n<img alt=\"Rezeptname\" src=\"img\\dessert\\kÃ¼rbiscake.jpg\"/>\n<h3 class=\"rezeptname\">KÃ¼rbiscake</h3>\n</a>\n</div>\n<div class=\"rezept dessert\">\n<a href=\"https://shortcutapp.io/n/OGUxNWE3NjQ1NjA1MWI5NmUxYTYwOTZhYTMxZjQzMTQ2\">\n<img alt=\"Rezeptname\" src=\"img\\dessert\\cheesecakebrownies.jpg\"/>\n<h3 class=\"rezeptname\">Cheesecake-Brownies</h3>\n</a>\n</div>\n<div class=\"rezept dessert\">\n<a href=\"https://shortcutapp.io/n/ZjMwOGUyZGMxNDEzMDlhZWIwZWUyNDUzM2EwOWEwNjg4\">\n<img alt=\"Rezeptname\" src=\"img\\dessert\\buenotorte.jpg\"/>\n<h3 class=\"rezeptname\">Bueno Torte</h3>\n</a>\n</div>\n<div class=\"rezept dessert\">\n<a href=\"https://shortcutapp.io/n/Y2NiODkyNTg0Y2NiY2IyOGYyYWNkYmQ1ODIxM2M5Zjk1\">\n<img alt=\"Rezeptname\" src=\"img\\dessert\\zebrakuchen.jpg\"/>\n<h3 class=\"rezeptname\">Zebrakuchen</h3>\n</a>\n</div>\n<div class=\"rezept dessert\">\n<a href=\"https://shortcutapp.io/n/MGU2Y2FhMmRmNWI3MTY5NmRhMGJkNjEyYTU2ZDNlZGEx\">\n<img alt=\"Rezeptname\" src=\"img\\dessert\\schoggimousse.jpg\"/>\n<h3 class=\"rezeptname\">Schoggimousse</h3>\n</a>\n</div>\n<div class=\"rezept dessert\">\n<a href=\"https://shortcutapp.io/n/NzI1YmJkYmUzZDMzMzc4ZDVmNGNhOWNlNTQzZWJjOTQ4\">\n<img alt=\"Rezeptname\" src=\"img\\dessert\\Oreo-Cupcakes.jpg\"/>\n<h3 class=\"rezeptname\">Oreo-Cupcakes</h3>\n</a>\n</div>\n<div class=\"rezept dessert\">\n<a href=\"https://shortcutapp.io/n/ZDdhNDg1YjljOTJhNGM1ODMyMGY2NTA0Zjk0NTA1MTdi\">\n<img alt=\"Rezeptname\" src=\"img\\dessert\\Schokomuffins.jpg\"/>\n<h3 class=\"rezeptname\">Schokomuffins</h3>\n</a>\n</div>\n<div class=\"rezept dessert\">\n<a href=\"https://shortcutapp.io/n/ZDdhNDg1YjljOTJhNGM1ODMyMGY2NTA0Zjk0NTA1MTdi\">\n<img alt=\"Rezeptname\" src=\"img\\dessert\\Ovo-Schoggimousse.jpg\"/>\n<h3 class=\"rezeptname\">Ovo-Schoggimousse</h3>\n</a>\n</div>\n<!-- Ende Dessert -->\n</div>\n<!-- FrÃ¼hstÃ¼ck -->\n<h2 class=\"rezeptklassetitel\" id=\"fruehstueck\">FrÃ¼hstÃ¼ck</h2>\n<div class=\"rezeptklasse\">\n<div class=\"rezept fruehstueck\">\n<a href=\"https://shortcutapp.io/n/ZmZjOWQ4YTczNTkwODY4MTI1ZTBiNmQ2ODNlMjYxNjEz\">\n<img alt=\"Rezeptname\" src=\"img\\fruehstueck\\kokosporridge.jpg\"/>\n<h3 class=\"rezeptname\">Kokos-Porridge</h3>\n</a>\n</div>\n<div class=\"rezept fruehstueck\">\n<a href=\"https://shortcutapp.io/n/NDcwM2UyMDA3MzM5NzZhZmRmNmNmNzBmMzMyNzNkY2Mw\">\n<img alt=\"Rezeptname\" src=\"img\\fruehstueck\\chiapudding.jpg\"/>\n<h3 class=\"rezeptname\">Chia Pudding</h3>\n</a>\n</div>\n<div class=\"rezept fruehstueck\">\n<a href=\"https://shortcutapp.io/n/NmNjNTI2M2M3ZjdhZWY4YjA3MmYyMDgxYzcwYTEyN2Nl\">\n<img alt=\"Rezeptname\" src=\"img\\fruehstueck\\avocadotoast.jpg\"/>\n<h3 class=\"rezeptname\">Avocado-Toast mit Ei</h3>\n</a>\n</div>\n<div class=\"rezept fruehstueck\">\n<a href=\"https://shortcutapp.io/n/Yjc3OWY2NGMxZWNkNTc3NGZhMDhjN2I0NjBhNzRmZjU1\">\n<img alt=\"Rezeptname\" src=\"img\\fruehstueck\\pancakes.jpg\"/>\n<h3 class=\"rezeptname\">Pancakes - Kalorienarm</h3>\n</a>\n</div>\n<div class=\"rezept fruehstueck\">\n<a href=\"https://shortcutapp.io/n/MzNiOTRjMzgwZWMzYjc5MGI4NzAzYmQyZGMxYWMzYTk3\">\n<img alt=\"Rezeptname\" src=\"img\\fruehstueck\\waffeln.jpg\"/>\n<h3 class=\"rezeptname\">Waffeln mit Vanillesauce</h3>\n</a>\n</div>\n<div class=\"rezept fruehstueck\">\n<a href=\"https://shortcutapp.io/n/ZWIxODAxNjFmZmY0NmM2OGMyYTcwZGU0MmE1MDcxNDRk\">\n<img alt=\"Rezeptname\" src=\"img\\fruehstueck\\Griesskuchen.jpg\"/>\n<h3 class=\"rezeptname\">Protein Griesskuchen</h3>\n</a>\n</div>\n<!-- Ende FrÃ¼hstÃ¼ck -->\n</div>\n<!-- Snacks -->\n<h2 class=\"rezeptklassetitel\" id=\"snacks\">Snacks</h2>\n<div class=\"rezeptklasse\">\n<div class=\"rezept snacks\">\n<a href=\"https://shortcutapp.io/n/YjNhNTQxOWNjNWRkNjY3NDI0NWExYjZiODllYzRiNWVk\">\n<img alt=\"Rezeptname\" src=\"img\\snacks\\knuspernuesse.jpeg\"/>\n<h3 class=\"rezeptname\">KnuspernÃ¼sse</h3>\n</a>\n</div>\n<div class=\"rezept snacks\">\n<a href=\"https://shortcutapp.io/n/MjJmNmNjMWY5MWU2ZWQ5MDEwNWEzYzU5MzI1MmIxOGRi\">\n<img alt=\"Rezeptname\" src=\"img\\dessert\\CookieDoughBalls.jpg\"/>\n<h3 class=\"rezeptname\">Cookie Dough Balls</h3>\n</a>\n</div>\n<div class=\"rezep snackst\">\n<a href=\"https://shortcutapp.io/n/NThkZjdjYmQ0Yzg0NjA1ZmM2MmM2MTI1NmJkNjZhZTA3\">\n<img alt=\"Rezeptname\" src=\"img\\dessert\\CornflakesHÃ¼feli.jpg\"/>\n<h3 class=\"rezeptname\">Cornflakes HÃ¼feli</h3>\n</a>\n</div>\n<!-- Ende Snacks -->\n</div>\n<!-- Brote -->\n<h2 class=\"rezeptklassetitel\" id=\"brote\">Brote</h2>\n<div class=\"rezeptklasse\">\n<div class=\"rezept brote\">\n<a href=\"https://shortcutapp.io/n/ODBhYzMyYmVkOTJjOWE2NjNjOTgxNjBkMTViMzE2NjFh\">\n<img alt=\"Rezeptname\" src=\"img\\brote\\topfbrot.jpg\"/>\n<h3 class=\"rezeptname\">Topfbrot</h3>\n</a>\n</div>\n<div class=\"rezept brote\">\n<a href=\"https://shortcutapp.io/n/ZDc4MGIyOGJkMzJlY2RkY2Y1MTFjNGJjZjhkYTViZDM1\">\n<img alt=\"Rezeptname\" src=\"img\\brote\\focaccia.jpg\"/>\n<h3 class=\"rezeptname\">Focaccia</h3>\n</a>\n</div>\n<div class=\"rezept brote\">\n<a href=\"https://shortcutapp.io/n/ODQyODU2NzE4YjVkZDFkN2FiNTc2ODAzODI4YTRjNzBh\">\n<img alt=\"Rezeptname\" src=\"img\\brote\\burger_buns.jpg\"/>\n<h3 class=\"rezeptname\">Burger Buns</h3>\n</a>\n</div>\n<div class=\"rezept brote\">\n<a href=\"https://shortcutapp.io/n/NDJlNzE0NGIyMTUwYzcwYjliMzcxZTEyYWMyZTk2YzE4\">\n<img alt=\"Rezeptname\" src=\"img\\brote\\naan_brot.jpg\"/>\n<h3 class=\"rezeptname\">Naan Brot</h3>\n</a>\n</div>\n<div class=\"rezept brote\">\n<a href=\"https://shortcutapp.io/n/ZjY0YThmNGY2ZGZhNGUyMTU3NTMyNWFjZGUyNzA3OTBh\">\n<img alt=\"Rezeptname\" src=\"img\\brote\\bazlama.jpg\"/>\n<h3 class=\"rezeptname\">Bazlama Fladenbrot</h3>\n</a>\n</div>\n<div class=\"rezept brote\">\n<a href=\"https://shortcutapp.io/n/NDc0ZTFhZGYzMTBiOWRmY2U2NTkyNjU4ZWMyNzY4ODQ2\">\n<img alt=\"Rezeptname\" src=\"img\\brote\\knoblibrot.jpg\"/>\n<h3 class=\"rezeptname\">Knoblibrot</h3>\n</a>\n</div>\n<div class=\"rezept brote\">\n<a href=\"https://shortcutapp.io/n/MzdhOWE0OWMwYTgwZjUxYjZmOWRjZGMxYjAzYzNhYzMw\">\n<img alt=\"Rezeptname\" src=\"img\\brote\\linsentortillas.jpg\"/>\n<h3 class=\"rezeptname\">Linsen Tortillas</h3>\n</a>\n</div>\n<!-- Ende Brote -->\n</div>\n<!-- GetrÃ¤nke -->\n<h2 class=\"rezeptklassetitel\" id=\"getrÃ¤nke\">GetrÃ¤nke</h2>\n<div class=\"rezeptklasse\">\n<div class=\"rezept getrÃ¤nke\">\n<a href=\"https://shortcutapp.io/n/NDczZmVmMWVmYzBhNWRjNWJkYmFiNjNiMDM2OGQ5Njg0\">\n<img alt=\"Rezeptname\" src=\"img\\getrÃ¤nke\\Blodhound_Grapefruit.jpg\"/>\n<h3 class=\"rezeptname\">Bloodhound Grapefruit</h3>\n</a>\n</div>\n<div class=\"rezept getrÃ¤nke\">\n<a href=\"https://shortcutapp.io/n/MGE5YWI4ZDA0YzE0MmZmNzNjNDc1YzM3NzhiYzEyMTFi\">\n<img alt=\"Rezeptname\" src=\"img\\getrÃ¤nke\\sangria.jpg\"/>\n<h3 class=\"rezeptname\">Rose Angria</h3>\n</a>\n</div>\n<div class=\"rezept getrÃ¤nke\">\n<a href=\"https://shortcutapp.io/n/ZTIzMTc2MjVmZjRiOWQyNDhhMWI4ZDk5OTVmYzZlYjI5\">\n<img alt=\"Rezeptname\" src=\"img\\getrÃ¤nke\\dr_green_thumb.jpg\"/>\n<h3 class=\"rezeptname\">Dr. Green Thumb</h3>\n</a>\n</div>\n<div class=\"rezept getrÃ¤nke\">\n<a href=\"https://shortcutapp.io/n/MzUwNjEyYmRlZTdjNGE5Zjk3M2NkZDFlMTMxMGUzODQx\">\n<img alt=\"Rezeptname\" src=\"img\\getrÃ¤nke\\orange_zimon.jpg\"/>\n<h3 class=\"rezeptname\">Orange Zimon</h3>\n</a>\n</div>\n<div class=\"rezept getrÃ¤nke\">\n<a href=\"https://shortcutapp.io/n/NTE0YmIyOTEzNTc5NjA5Yjg4NTE5ZjU0ZDU0ODg3MDIy\">\n<img alt=\"Rezeptname\" src=\"img\\getrÃ¤nke\\Gluewein.jpg\"/>\n<h3 class=\"rezeptname\">GlÃ¼hwein</h3>\n</a>\n</div>\n<div class=\"rezept getrÃ¤nke\">\n<a href=\"https://shortcutapp.io/n/NmYzZDU3MTNkMDNiN2I5MjAzY2E5MjljYWU3NTRjYWU3\">\n<img alt=\"Rezeptname\" src=\"img\\getrÃ¤nke\\chai_latte.jpg\"/>\n<h3 class=\"rezeptname\">Chai Latte</h3>\n</a>\n</div>\n<!-- Ende GetrÃ¤nke -->\n</div>\n<!-- End main -->\n</main>\n<!-- End - Nav-feed -->\n</div>\n<!-- End - App -->\n</div>\n<button id=\"nav_author\"><a href=\"https://www.linkedin.com/in/simon-ebn%C3%B6ther/\" style=\"color: black\">Built by Simon\n      EbnÃ¶ther</a></button>\n</body>\n</html>\n<!-- Vorlagen\n\n<div class=\"rezept\">\n            <a href=\"#\">\n              <img src=\"img\\vorspeisen\\test2.jpg\" alt=\"Rezeptname\">\n              <h3 class=\"rezeptname\">Brote 1</h3>\n            </a>\n          </div>\n\n\n-->"
     },
     "execution_count": 47,
     "metadata": {},
     "output_type": "execute_result"
    }
   ],
   "source": [
    "get_page_content('https://storage.googleapis.com/www.selinaschoice.ch/index.html')"
   ],
   "metadata": {
    "collapsed": false
   }
  },
  {
   "cell_type": "code",
   "execution_count": 5,
   "outputs": [],
   "source": [
    "def get_links_from_category(category: List) -> List:\n",
    "    \"\"\"\n",
    "    Get a List recipes acording to the categories\n",
    "    :param category:\n",
    "    :return: recipes\n",
    "    \"\"\"\n",
    "    recipes = []\n",
    "    main_page = get_page_content('https://storage.googleapis.com/www.selinaschoice.ch/index.html')\n",
    "    recipes_by_category = main_page.find_all(\"div\", class_=category)  # a -> div\n",
    "    for tag in recipes_by_category:\n",
    "        recipe = tag.a.get('href', None)\n",
    "        recipes.append(recipe)\n",
    "    return recipes"
   ],
   "metadata": {
    "collapsed": false
   }
  },
  {
   "cell_type": "code",
   "execution_count": 6,
   "outputs": [
    {
     "data": {
      "text/plain": "['https://shortcutapp.io/n/MjgzMzNlMzRkZWZmMGRiYzVjMzkxNDM2OWU0ZDA1MmQz',\n 'https://shortcutapp.io/n/ZDBlMzhkNjRkZTliMDg0NGQ4NmRmNjNiM2U0ZGE1ODVj',\n 'https://shortcutapp.io/n/ODQwMjlmODVmYWViM2Q0NmIxMDcwNzNjZDVlMGQ4NTg2',\n 'https://shortcutapp.io/n/OTVmYmU0Y2I4MWYwMmY0ZTI3YTE4MGJkZTQ4ZTczYjRj',\n 'https://shortcutapp.io/n/MWRmNjhhOWQ2ZjgzNzFhYzYxZDAzMTMwZTYzMzQxZGRi',\n 'https://shortcutapp.io/n/MDg4OWJiZTU0NmEzMzRmNzQ4ZTMyMGNjMzMxM2IxMGNl',\n 'https://shortcutapp.io/n/ZGNlZGM3NDQ1MzU2MTk4ZGJjODdkY2E4Nzc4YzA1ZDIx',\n 'https://shortcutapp.io/n/YzVjNDhmZGFkNDMyNTMxYzFkYjk3ZWRhMjg0MmM4NDUx',\n 'https://shortcutapp.io/n/MmNhZDIxZjcyNDg3NGY0ZGM3NzRlODNkNmQyOGVhMzQ0',\n 'https://shortcutapp.io/n/NGE0MDg2Nzg2NjQyZjZjMzIzZTMyNjhlYWFjMDQzZmRl',\n 'https://shortcutapp.io/n/MjZmNTYyNTI2YWQxMDBlMTc1MWUwODE4MmM0YTdkNTFj',\n 'https://shortcutapp.io/n/YTEzNTRiNTFiOTJkOGM5N2FkZWMzNDJiNGY0YjcwZDhl',\n 'https://shortcutapp.io/n/MGEzNzRmYzQ1MjkzYTlhMjY0YTE2NjE4MjgwMGEzOTY5',\n 'https://shortcutapp.io/n/Yzc4MzhhM2UyMGIzNzAwMDM3MmQ2ZTg3YzU4NjIwMDEx',\n 'https://shortcutapp.io/n/ZmQxN2M1ZGNlN2JhNjAwYTgwNDkyZTlkZWI1NzA5NmZm',\n 'https://shortcutapp.io/n/MzhhY2E0OWE3ZWUwMWU1ODcwMGQ1YzA2YTQ3OGUzOGJk',\n 'https://shortcutapp.io/n/Y2VmMGMxNTY1ZTU0NzFhMWU2OGE3Mjc3MTYyZWQxNGYy',\n 'https://shortcutapp.io/n/MjYyNDJhMTJjMTNhMGJhNTU3NjM0NmU0M2YzNTg0YWYz',\n 'https://shortcutapp.io/n/NzNiNDgwMzIzMTQwZmQ5ZjBkNDQ3NzdhYzY4N2NjOTZi',\n 'https://shortcutapp.io/n/MjE3YmFjNDI3N2ZmYTdlYzY0N2NlZjMyN2Q2YzVhMmJl',\n 'https://shortcutapp.io/n/OGZmNTk5NTVhNDk3MWVhNDYyZTlhZGY3NTA4YjQ0YTIx',\n 'https://shortcutapp.io/n/NDBkMjI4N2VhYzIyOGQ3NDYzODEzZmFlNDUxZWQ5M2Zm',\n 'https://shortcutapp.io/n/YzQ1NDc5MDg2OWY4NWMzYzQ0MTFlN2YyYTliMzNkMDc4',\n 'https://shortcutapp.io/n/M2M1ZjJlMzEwNzgwM2JjZTMwM2Q0NjdmYWU4MjZkN2Vm',\n 'https://shortcutapp.io/n/M2I5MGMwOTY0YTljYzJiNTI5ODFhMDMwZTE2NTgxNDVj',\n 'https://shortcutapp.io/n/NTczMDE2MWUzYzAyODE3NmM4NjA4NTIwZDg1ZjQ0MGFm',\n 'https://shortcutapp.io/n/Y2JiMjM2NzgxOTdhM2Y5ODQyNWNjY2FkNDJkNzk0NjZl',\n 'https://shortcutapp.io/n/M2I5MGMwOTY0YTljYzJiNTI5ODFhMDMwZTE2NTgxNDVj']"
     },
     "execution_count": 6,
     "metadata": {},
     "output_type": "execute_result"
    }
   ],
   "source": [
    "get_links_from_category([\"vorspeise\", \"hauptgang\"])"
   ],
   "metadata": {
    "collapsed": false
   }
  },
  {
   "cell_type": "code",
   "execution_count": 7,
   "outputs": [],
   "source": [
    "def get_links_to_scrape(categories=None) -> List:\n",
    "    \"\"\"\n",
    "    Get all or some Recipes by categories. Default is None and will give you all recipies links.\n",
    "    :param categories: None, str oder List\n",
    "    :return: recipes: List\n",
    "    \"\"\"\n",
    "    if categories is None:\n",
    "        recipes = get_links_from_category(allowed_categories)\n",
    "    else:\n",
    "        recipes = get_links_from_category(categories)\n",
    "    return recipes"
   ],
   "metadata": {
    "collapsed": false
   }
  },
  {
   "cell_type": "code",
   "execution_count": 8,
   "outputs": [
    {
     "data": {
      "text/plain": "['https://shortcutapp.io/n/YzVjNDhmZGFkNDMyNTMxYzFkYjk3ZWRhMjg0MmM4NDUx',\n 'https://shortcutapp.io/n/MmNhZDIxZjcyNDg3NGY0ZGM3NzRlODNkNmQyOGVhMzQ0',\n 'https://shortcutapp.io/n/NGE0MDg2Nzg2NjQyZjZjMzIzZTMyNjhlYWFjMDQzZmRl',\n 'https://shortcutapp.io/n/MjZmNTYyNTI2YWQxMDBlMTc1MWUwODE4MmM0YTdkNTFj',\n 'https://shortcutapp.io/n/YTEzNTRiNTFiOTJkOGM5N2FkZWMzNDJiNGY0YjcwZDhl',\n 'https://shortcutapp.io/n/MGEzNzRmYzQ1MjkzYTlhMjY0YTE2NjE4MjgwMGEzOTY5',\n 'https://shortcutapp.io/n/Yzc4MzhhM2UyMGIzNzAwMDM3MmQ2ZTg3YzU4NjIwMDEx',\n 'https://shortcutapp.io/n/ZmQxN2M1ZGNlN2JhNjAwYTgwNDkyZTlkZWI1NzA5NmZm',\n 'https://shortcutapp.io/n/MzhhY2E0OWE3ZWUwMWU1ODcwMGQ1YzA2YTQ3OGUzOGJk',\n 'https://shortcutapp.io/n/Y2VmMGMxNTY1ZTU0NzFhMWU2OGE3Mjc3MTYyZWQxNGYy',\n 'https://shortcutapp.io/n/MjYyNDJhMTJjMTNhMGJhNTU3NjM0NmU0M2YzNTg0YWYz',\n 'https://shortcutapp.io/n/NzNiNDgwMzIzMTQwZmQ5ZjBkNDQ3NzdhYzY4N2NjOTZi',\n 'https://shortcutapp.io/n/MjE3YmFjNDI3N2ZmYTdlYzY0N2NlZjMyN2Q2YzVhMmJl',\n 'https://shortcutapp.io/n/OGZmNTk5NTVhNDk3MWVhNDYyZTlhZGY3NTA4YjQ0YTIx',\n 'https://shortcutapp.io/n/NDBkMjI4N2VhYzIyOGQ3NDYzODEzZmFlNDUxZWQ5M2Zm',\n 'https://shortcutapp.io/n/YzQ1NDc5MDg2OWY4NWMzYzQ0MTFlN2YyYTliMzNkMDc4',\n 'https://shortcutapp.io/n/M2M1ZjJlMzEwNzgwM2JjZTMwM2Q0NjdmYWU4MjZkN2Vm',\n 'https://shortcutapp.io/n/M2I5MGMwOTY0YTljYzJiNTI5ODFhMDMwZTE2NTgxNDVj',\n 'https://shortcutapp.io/n/NTczMDE2MWUzYzAyODE3NmM4NjA4NTIwZDg1ZjQ0MGFm',\n 'https://shortcutapp.io/n/Y2JiMjM2NzgxOTdhM2Y5ODQyNWNjY2FkNDJkNzk0NjZl',\n 'https://shortcutapp.io/n/M2I5MGMwOTY0YTljYzJiNTI5ODFhMDMwZTE2NTgxNDVj']"
     },
     "execution_count": 8,
     "metadata": {},
     "output_type": "execute_result"
    }
   ],
   "source": [
    "get_links_to_scrape(\"hauptgang\")"
   ],
   "metadata": {
    "collapsed": false
   }
  },
  {
   "cell_type": "code",
   "execution_count": 35,
   "outputs": [],
   "source": [
    "def get_category_from_recipe(link: str) -> str:\n",
    "    \"\"\"\n",
    "    Get the one of allowed classes based on the recipe link.\n",
    "    :param link: str\n",
    "    :return recipe_class: str\n",
    "    \"\"\"\n",
    "    main_page = get_page_content('https://storage.googleapis.com/www.selinaschoice.ch/index.html#hauptgang')\n",
    "    specific_recipe = main_page.find(\"a\", href=link).parent\n",
    "    print(specific_recipe)\n",
    "    specific_recipe_class = specific_recipe[\"class\"][1:]\n",
    "    recipe_class = \"\".join(specific_recipe_class)\n",
    "    if recipe_class in allowed_categories:\n",
    "        return recipe_class\n",
    "    else:\n",
    "        print(f\"The class from recipe: {link} is {recipe_class} and not in {allowed_categories}.\")"
   ],
   "metadata": {
    "collapsed": false
   }
  },
  {
   "cell_type": "code",
   "execution_count": 37,
   "outputs": [
    {
     "name": "stdout",
     "output_type": "stream",
     "text": [
      "<div class=\"rezept getrÃ¤nke\">\n",
      "<a href=\"https://shortcutapp.io/n/NDczZmVmMWVmYzBhNWRjNWJkYmFiNjNiMDM2OGQ5Njg0\">\n",
      "<img alt=\"Rezeptname\" src=\"img\\getrÃ¤nke\\Blodhound_Grapefruit.jpg\"/>\n",
      "<h3 class=\"rezeptname\">Bloodhound Grapefruit</h3>\n",
      "</a>\n",
      "</div>\n",
      "The class from recipe: https://shortcutapp.io/n/NDczZmVmMWVmYzBhNWRjNWJkYmFiNjNiMDM2OGQ5Njg0 is getrÃ¤nke and not in ['vorspeise', 'hauptgang', 'dessert', 'fruehstueck', 'snacks', 'brote', 'getränke'].\n"
     ]
    }
   ],
   "source": [
    "get_category_from_recipe('https://shortcutapp.io/n/MGEzNzRmYzQ1MjkzYTlhMjY0YTE2NjE4MjgwMGEzOTY5')"
   ],
   "metadata": {
    "collapsed": false
   }
  },
  {
   "cell_type": "code",
   "execution_count": 11,
   "outputs": [],
   "source": [
    "def get_timestamp(link: str) -> str:\n",
    "    \"\"\"\n",
    "    Get Timestamp from when the recipe is created.\n",
    "    :param link: str\n",
    "    :return time: str\n",
    "    \"\"\"\n",
    "    recipe = get_page_content(link)\n",
    "    recipe.find_all('time')\n",
    "    datetime_str = recipe.find('time')[\"datetime\"]\n",
    "    datetime_object = datetime.strptime(datetime_str, \"%Y-%m-%dT%H:%M:%SZ\")\n",
    "    return (str(datetime_object))"
   ],
   "metadata": {
    "collapsed": false
   }
  },
  {
   "cell_type": "code",
   "execution_count": 12,
   "outputs": [
    {
     "data": {
      "text/plain": "'2021-07-04 10:21:46'"
     },
     "execution_count": 12,
     "metadata": {},
     "output_type": "execute_result"
    }
   ],
   "source": [
    "get_timestamp('https://shortcutapp.io/n/MGEzNzRmYzQ1MjkzYTlhMjY0YTE2NjE4MjgwMGEzOTY5')"
   ],
   "metadata": {
    "collapsed": false
   }
  },
  {
   "cell_type": "code",
   "execution_count": 13,
   "outputs": [],
   "source": [
    "def get_recipe_title(link: str) -> str:\n",
    "    \"\"\"\n",
    "    Get the Title from a recipe with a recipe link.\n",
    "    :param link: str\n",
    "    :return: title: str\n",
    "    \"\"\"\n",
    "    recipe = get_page_content(link)\n",
    "    title = recipe.h1.text\n",
    "    return title"
   ],
   "metadata": {
    "collapsed": false
   }
  },
  {
   "cell_type": "code",
   "execution_count": 14,
   "outputs": [
    {
     "data": {
      "text/plain": "'Indisches Butterchickencurry'"
     },
     "execution_count": 14,
     "metadata": {},
     "output_type": "execute_result"
    }
   ],
   "source": [
    "get_recipe_title('https://shortcutapp.io/n/MGEzNzRmYzQ1MjkzYTlhMjY0YTE2NjE4MjgwMGEzOTY5')"
   ],
   "metadata": {
    "collapsed": false
   }
  },
  {
   "cell_type": "code",
   "execution_count": 15,
   "outputs": [],
   "source": [
    "def get_recipe_img_path(link: str) -> str:\n",
    "    \"\"\"\n",
    "    Get the img path from a recipe with the recipe link.\n",
    "    :param link: str\n",
    "    :return img_path: str\n",
    "    \"\"\"\n",
    "    main_page = get_page_content('https://storage.googleapis.com/www.selinaschoice.ch/index.html#hauptgang')\n",
    "    specific_recipe = main_page.find(\"a\", href=link)\n",
    "    img = specific_recipe.find(\"img\")\n",
    "    img_path = img.get(\"src\")\n",
    "    print(img_path)\n",
    "    print(\"img\\\\hauptgang\\\\indisches_butterchickencurry.jpg\")\n",
    "    return img_path"
   ],
   "metadata": {
    "collapsed": false
   }
  },
  {
   "cell_type": "code",
   "execution_count": 16,
   "outputs": [
    {
     "name": "stdout",
     "output_type": "stream",
     "text": [
      "img\\hauptgang\\indisches_butterchickencurry.jpg\n",
      "img\\hauptgang\\indisches_butterchickencurry.jpg\n"
     ]
    },
    {
     "data": {
      "text/plain": "'img\\\\hauptgang\\\\indisches_butterchickencurry.jpg'"
     },
     "execution_count": 16,
     "metadata": {},
     "output_type": "execute_result"
    }
   ],
   "source": [
    "get_recipe_img_path(\"https://shortcutapp.io/n/MGEzNzRmYzQ1MjkzYTlhMjY0YTE2NjE4MjgwMGEzOTY5\")"
   ],
   "metadata": {
    "collapsed": false
   }
  },
  {
   "cell_type": "code",
   "execution_count": 17,
   "outputs": [],
   "source": [
    "def get_prep_time(link: str) -> str:\n",
    "    \"\"\"\n",
    "    Get the preparation time from a recipe.\n",
    "    :param link: str\n",
    "    :return prep_time: str\n",
    "    \"\"\"\n",
    "    page_content = get_page_content(link)\n",
    "    prep_time = page_content.find('time', itemprop=\"prepTime\").text\n",
    "    return prep_time"
   ],
   "metadata": {
    "collapsed": false
   }
  },
  {
   "cell_type": "code",
   "execution_count": 18,
   "outputs": [
    {
     "data": {
      "text/plain": "'30 minutes'"
     },
     "execution_count": 18,
     "metadata": {},
     "output_type": "execute_result"
    }
   ],
   "source": [
    "get_prep_time(\"https://shortcutapp.io/n/MGEzNzRmYzQ1MjkzYTlhMjY0YTE2NjE4MjgwMGEzOTY5\")"
   ],
   "metadata": {
    "collapsed": false
   }
  },
  {
   "cell_type": "code",
   "execution_count": 19,
   "outputs": [],
   "source": [
    "def get_serves(link: str) -> str:\n",
    "    \"\"\"\n",
    "    Get serves from recipe.\n",
    "    :param link: str\n",
    "    :return serves: str\n",
    "    \"\"\"\n",
    "    page_content = get_page_content(link)\n",
    "    serves = page_content.find_all('li')[1].text\n",
    "    return serves[8:]  # without index returns \"serves: 4 persons\""
   ],
   "metadata": {
    "collapsed": false
   }
  },
  {
   "cell_type": "code",
   "execution_count": 20,
   "outputs": [
    {
     "data": {
      "text/plain": "'4 persons'"
     },
     "execution_count": 20,
     "metadata": {},
     "output_type": "execute_result"
    }
   ],
   "source": [
    "get_serves(\"https://shortcutapp.io/n/MGEzNzRmYzQ1MjkzYTlhMjY0YTE2NjE4MjgwMGEzOTY5\")"
   ],
   "metadata": {
    "collapsed": false
   }
  },
  {
   "cell_type": "code",
   "execution_count": 21,
   "outputs": [],
   "source": [
    "def get_difficulty(link: str) -> str:\n",
    "    \"\"\"\n",
    "    Get difficulty from recipe.\n",
    "    :param link: str\n",
    "    :return difficulty: str\n",
    "    \"\"\"\n",
    "    page_content = get_page_content(link)\n",
    "    difficulty = page_content.find_all('li')[2].text\n",
    "    return difficulty[12:]  # without index returns \"difficulty: easy emoji\""
   ],
   "metadata": {
    "collapsed": false
   }
  },
  {
   "cell_type": "code",
   "execution_count": 22,
   "outputs": [
    {
     "data": {
      "text/plain": "'easy 🥳'"
     },
     "execution_count": 22,
     "metadata": {},
     "output_type": "execute_result"
    }
   ],
   "source": [
    "get_difficulty(\"https://shortcutapp.io/n/MGEzNzRmYzQ1MjkzYTlhMjY0YTE2NjE4MjgwMGEzOTY5\")"
   ],
   "metadata": {
    "collapsed": false
   }
  },
  {
   "cell_type": "code",
   "execution_count": 23,
   "outputs": [],
   "source": [
    "def get_ingredients(link: str) -> List[Dict]:\n",
    "    page_content = get_page_content(link)\n",
    "    ingredients = page_content.find(\"section\", class_=\"ingredients\")\n",
    "    ingredientArray = []\n",
    "    for li in ingredients.find_all('li'):\n",
    "        quantity = li.find('div', class_='quantity').text\n",
    "        ingredient = li.find('div', class_='name').text\n",
    "        # print(quantity)\n",
    "        # print(ingredient)\n",
    "        ingredientValues = {\n",
    "            \"quantity\": quantity,\n",
    "            \"name\": ingredient,\n",
    "        }\n",
    "        ingredientArray.append(ingredientValues)\n",
    "    return ingredientArray"
   ],
   "metadata": {
    "collapsed": false
   }
  },
  {
   "cell_type": "code",
   "execution_count": 24,
   "outputs": [
    {
     "data": {
      "text/plain": "[{'quantity': '3', 'name': 'Hähnchenbrustfilets'},\n {'quantity': '1', 'name': 'Zwiebel'},\n {'quantity': '1', 'name': 'Knoblauchzehe'},\n {'quantity': '300 g', 'name': 'Gemüse deiner Wahl'},\n {'quantity': '300 ml', 'name': 'Kokosmilch'},\n {'quantity': '150 ml', 'name': 'passierte Tomaten'},\n {'quantity': '4 EL', 'name': 'Currypulver'},\n {'quantity': '1 EL', 'name': 'Butter'},\n {'quantity': '', 'name': 'Salz & Pfeffer'}]"
     },
     "execution_count": 24,
     "metadata": {},
     "output_type": "execute_result"
    }
   ],
   "source": [
    "get_ingredients(\"https://shortcutapp.io/n/MGEzNzRmYzQ1MjkzYTlhMjY0YTE2NjE4MjgwMGEzOTY5\")"
   ],
   "metadata": {
    "collapsed": false
   }
  },
  {
   "cell_type": "code",
   "execution_count": 25,
   "outputs": [],
   "source": [
    "def get_instructions(link: str) -> List[Dict]:\n",
    "    page_content = get_page_content(link)\n",
    "    instructionArray = []\n",
    "    instructions = page_content.find('section', class_='instructions')\n",
    "    for li in instructions.find_all('li'):\n",
    "        stepTitle = li.find('div', class_='details').h3.text\n",
    "        stepInfo = li.find('div', class_='text').text\n",
    "        # print(stepTitle)\n",
    "        # print(stepInfo)\n",
    "        instructionValues = {\n",
    "            \"step\": stepTitle,\n",
    "            \"instruction\": stepInfo,\n",
    "        }\n",
    "        instructionArray.append(instructionValues)\n",
    "    return instructionArray"
   ],
   "metadata": {
    "collapsed": false
   }
  },
  {
   "cell_type": "code",
   "execution_count": 26,
   "outputs": [
    {
     "data": {
      "text/plain": "[{'step': 'Step 1',\n  'instruction': 'Hähnchen und das gewünschte Gemüse, sowie Zwiebeln & Knoblauch in Stücke schneiden.'},\n {'step': 'Step 2',\n  'instruction': 'In einer Bratpfanne den Butter schmelzen und die Hähnchenstücke anbraten. Nicht ganz durchbraten und dann zur Seite legen.'},\n {'step': 'Step 3',\n  'instruction': 'Zwiebeln, Knoblauch und das Gemüse anbraten und anschliessend die Kokosmilch und passierte Tomaten hinzugeben.'},\n {'step': 'Step 4',\n  'instruction': 'Currypulver, Salz und Pfeffer hinzugeben und das ganze ca. 10min köcheln lassen (je nach Gemüse). Anschliessend die Hähnchenstückebeigeben und nochmals ca. 5min köcheln lassen.'},\n {'step': 'Step 5',\n  'instruction': 'Die Sauce abschmecken und anschliessend mit Reis oder Naan-Brote servieren und geniessen.'}]"
     },
     "execution_count": 26,
     "metadata": {},
     "output_type": "execute_result"
    }
   ],
   "source": [
    "get_instructions(\"https://shortcutapp.io/n/MGEzNzRmYzQ1MjkzYTlhMjY0YTE2NjE4MjgwMGEzOTY5\")"
   ],
   "metadata": {
    "collapsed": false
   }
  },
  {
   "cell_type": "code",
   "execution_count": 51,
   "outputs": [],
   "source": [
    "@timeit\n",
    "def get_parsed_recipe(link: List) -> Dict:\n",
    "    title = get_recipe_title(link)\n",
    "    recipe_class = get_category_from_recipe(link)\n",
    "    time_stamp = get_timestamp(link)\n",
    "    img = get_recipe_img_path(link)\n",
    "    prep_time = get_prep_time(link)\n",
    "    serves = get_serves(link)\n",
    "    difficulty = get_difficulty(link)\n",
    "    ingredients = get_ingredients(link)\n",
    "    instructions = get_instructions(link)\n",
    "\n",
    "    recipe_dict = {\n",
    "        \"title\": title,\n",
    "        \"recipe_class\": recipe_class,\n",
    "        \"time\": time_stamp,\n",
    "        \"img_path\": img,\n",
    "        \"prep_time\": prep_time,\n",
    "        \"serves\": serves,\n",
    "        \"difficulty\": difficulty,\n",
    "        \"ingredients\": ingredients,\n",
    "        \"instructions\": instructions,\n",
    "    }\n",
    "    return recipe_dict"
   ],
   "metadata": {
    "collapsed": false
   }
  },
  {
   "cell_type": "code",
   "execution_count": 52,
   "outputs": [
    {
     "name": "stdout",
     "output_type": "stream",
     "text": [
      "Function get_page_content('https://shortcutapp.io/n/MGEzNzRmYzQ1MjkzYTlhMjY0YTE2NjE4MjgwMGEzOTY5',) {} Took 2.3454 seconds\n",
      "Function get_page_content('https://storage.googleapis.com/www.selinaschoice.ch/index.html#hauptgang',) {} Took 2.2280 seconds\n",
      "<div class=\"rezept hauptgang\">\n",
      "<a href=\"https://shortcutapp.io/n/MGEzNzRmYzQ1MjkzYTlhMjY0YTE2NjE4MjgwMGEzOTY5\">\n",
      "<img alt=\"Rezeptname\" src=\"img\\hauptgang\\indisches_butterchickencurry.jpg\"/>\n",
      "<h3 class=\"rezeptname\">Butterchickencurry</h3>\n",
      "</a>\n",
      "</div>\n",
      "Function get_page_content('https://shortcutapp.io/n/MGEzNzRmYzQ1MjkzYTlhMjY0YTE2NjE4MjgwMGEzOTY5',) {} Took 2.3430 seconds\n",
      "Function get_page_content('https://storage.googleapis.com/www.selinaschoice.ch/index.html#hauptgang',) {} Took 2.2504 seconds\n",
      "img\\hauptgang\\indisches_butterchickencurry.jpg\n",
      "img\\hauptgang\\indisches_butterchickencurry.jpg\n",
      "Function get_page_content('https://shortcutapp.io/n/MGEzNzRmYzQ1MjkzYTlhMjY0YTE2NjE4MjgwMGEzOTY5',) {} Took 2.3541 seconds\n",
      "Function get_page_content('https://shortcutapp.io/n/MGEzNzRmYzQ1MjkzYTlhMjY0YTE2NjE4MjgwMGEzOTY5',) {} Took 2.3690 seconds\n",
      "Function get_page_content('https://shortcutapp.io/n/MGEzNzRmYzQ1MjkzYTlhMjY0YTE2NjE4MjgwMGEzOTY5',) {} Took 2.3026 seconds\n",
      "Function get_page_content('https://shortcutapp.io/n/MGEzNzRmYzQ1MjkzYTlhMjY0YTE2NjE4MjgwMGEzOTY5',) {} Took 2.2607 seconds\n",
      "Function get_page_content('https://shortcutapp.io/n/MGEzNzRmYzQ1MjkzYTlhMjY0YTE2NjE4MjgwMGEzOTY5',) {} Took 2.3126 seconds\n",
      "Function get_parsed_recipe('https://shortcutapp.io/n/MGEzNzRmYzQ1MjkzYTlhMjY0YTE2NjE4MjgwMGEzOTY5',) {} Took 20.7689 seconds\n"
     ]
    },
    {
     "data": {
      "text/plain": "{'title': 'Indisches Butterchickencurry',\n 'recipe_class': 'hauptgang',\n 'time': '2021-07-04 10:21:46',\n 'img_path': 'img\\\\hauptgang\\\\indisches_butterchickencurry.jpg',\n 'prep_time': '30 minutes',\n 'serves': '4 persons',\n 'difficulty': 'easy 🥳',\n 'ingredients': [{'quantity': '3', 'name': 'Hähnchenbrustfilets'},\n  {'quantity': '1', 'name': 'Zwiebel'},\n  {'quantity': '1', 'name': 'Knoblauchzehe'},\n  {'quantity': '300 g', 'name': 'Gemüse deiner Wahl'},\n  {'quantity': '300 ml', 'name': 'Kokosmilch'},\n  {'quantity': '150 ml', 'name': 'passierte Tomaten'},\n  {'quantity': '4 EL', 'name': 'Currypulver'},\n  {'quantity': '1 EL', 'name': 'Butter'},\n  {'quantity': '', 'name': 'Salz & Pfeffer'}],\n 'instructions': [{'step': 'Step 1',\n   'instruction': 'Hähnchen und das gewünschte Gemüse, sowie Zwiebeln & Knoblauch in Stücke schneiden.'},\n  {'step': 'Step 2',\n   'instruction': 'In einer Bratpfanne den Butter schmelzen und die Hähnchenstücke anbraten. Nicht ganz durchbraten und dann zur Seite legen.'},\n  {'step': 'Step 3',\n   'instruction': 'Zwiebeln, Knoblauch und das Gemüse anbraten und anschliessend die Kokosmilch und passierte Tomaten hinzugeben.'},\n  {'step': 'Step 4',\n   'instruction': 'Currypulver, Salz und Pfeffer hinzugeben und das ganze ca. 10min köcheln lassen (je nach Gemüse). Anschliessend die Hähnchenstückebeigeben und nochmals ca. 5min köcheln lassen.'},\n  {'step': 'Step 5',\n   'instruction': 'Die Sauce abschmecken und anschliessend mit Reis oder Naan-Brote servieren und geniessen.'}]}"
     },
     "execution_count": 52,
     "metadata": {},
     "output_type": "execute_result"
    }
   ],
   "source": [
    "get_parsed_recipe('https://shortcutapp.io/n/MGEzNzRmYzQ1MjkzYTlhMjY0YTE2NjE4MjgwMGEzOTY5')"
   ],
   "metadata": {
    "collapsed": false
   }
  },
  {
   "cell_type": "code",
   "execution_count": 48,
   "outputs": [],
   "source": [
    "def save_recipe(recipe=Dict) -> json:\n",
    "    filename = recipe[\"title\"] + \".json\"\n",
    "    folder = recipe[\"recipe_class\"]\n",
    "    dir = os.getcwd()\n",
    "    print(dir)\n",
    "    os.chdir(f\"../recipes/{folder}\")\n",
    "    json_object = json.dumps(recipe, indent=4, ensure_ascii=False)\n",
    "    with open(filename, \"w\", encoding=\"utf-8\") as outfile:\n",
    "        outfile.write(json_object)\n",
    "    print(os.getcwd())\n",
    "    os.chdir(\"../../src\")\n",
    "    print(os.getcwd())"
   ],
   "metadata": {
    "collapsed": false
   }
  },
  {
   "cell_type": "code",
   "execution_count": 49,
   "outputs": [
    {
     "name": "stdout",
     "output_type": "stream",
     "text": [
      "Function get_page_content('https://shortcutapp.io/n/MGEzNzRmYzQ1MjkzYTlhMjY0YTE2NjE4MjgwMGEzOTY5',) {} Took 2.3402 seconds\n",
      "Function get_page_content('https://storage.googleapis.com/www.selinaschoice.ch/index.html#hauptgang',) {} Took 2.2315 seconds\n",
      "<div class=\"rezept hauptgang\">\n",
      "<a href=\"https://shortcutapp.io/n/MGEzNzRmYzQ1MjkzYTlhMjY0YTE2NjE4MjgwMGEzOTY5\">\n",
      "<img alt=\"Rezeptname\" src=\"img\\hauptgang\\indisches_butterchickencurry.jpg\"/>\n",
      "<h3 class=\"rezeptname\">Butterchickencurry</h3>\n",
      "</a>\n",
      "</div>\n",
      "Function get_page_content('https://shortcutapp.io/n/MGEzNzRmYzQ1MjkzYTlhMjY0YTE2NjE4MjgwMGEzOTY5',) {} Took 2.3689 seconds\n",
      "Function get_page_content('https://storage.googleapis.com/www.selinaschoice.ch/index.html#hauptgang',) {} Took 2.2471 seconds\n",
      "img\\hauptgang\\indisches_butterchickencurry.jpg\n",
      "img\\hauptgang\\indisches_butterchickencurry.jpg\n",
      "Function get_page_content('https://shortcutapp.io/n/MGEzNzRmYzQ1MjkzYTlhMjY0YTE2NjE4MjgwMGEzOTY5',) {} Took 2.3318 seconds\n",
      "Function get_page_content('https://shortcutapp.io/n/MGEzNzRmYzQ1MjkzYTlhMjY0YTE2NjE4MjgwMGEzOTY5',) {} Took 2.2775 seconds\n",
      "Function get_page_content('https://shortcutapp.io/n/MGEzNzRmYzQ1MjkzYTlhMjY0YTE2NjE4MjgwMGEzOTY5',) {} Took 2.2757 seconds\n",
      "Function get_page_content('https://shortcutapp.io/n/MGEzNzRmYzQ1MjkzYTlhMjY0YTE2NjE4MjgwMGEzOTY5',) {} Took 2.2988 seconds\n",
      "Function get_page_content('https://shortcutapp.io/n/MGEzNzRmYzQ1MjkzYTlhMjY0YTE2NjE4MjgwMGEzOTY5',) {} Took 2.2483 seconds\n",
      "C:\\Users\\u108695\\PycharmProjects\\backup-package\\recipes\n"
     ]
    },
    {
     "ename": "FileNotFoundError",
     "evalue": "[WinError 2] The system cannot find the file specified: '../recipes/hauptgang'",
     "output_type": "error",
     "traceback": [
      "\u001B[1;31m---------------------------------------------------------------------------\u001B[0m",
      "\u001B[1;31mFileNotFoundError\u001B[0m                         Traceback (most recent call last)",
      "Cell \u001B[1;32mIn[49], line 2\u001B[0m\n\u001B[0;32m      1\u001B[0m recipe \u001B[38;5;241m=\u001B[39m get_parsed_recipe(\u001B[38;5;124m'\u001B[39m\u001B[38;5;124mhttps://shortcutapp.io/n/MGEzNzRmYzQ1MjkzYTlhMjY0YTE2NjE4MjgwMGEzOTY5\u001B[39m\u001B[38;5;124m'\u001B[39m)\n\u001B[1;32m----> 2\u001B[0m \u001B[43msave_recipe\u001B[49m\u001B[43m(\u001B[49m\u001B[43mrecipe\u001B[49m\u001B[43m)\u001B[49m\n",
      "Cell \u001B[1;32mIn[48], line 6\u001B[0m, in \u001B[0;36msave_recipe\u001B[1;34m(recipe)\u001B[0m\n\u001B[0;32m      4\u001B[0m \u001B[38;5;28mdir\u001B[39m \u001B[38;5;241m=\u001B[39m os\u001B[38;5;241m.\u001B[39mgetcwd()\n\u001B[0;32m      5\u001B[0m \u001B[38;5;28mprint\u001B[39m(\u001B[38;5;28mdir\u001B[39m)\n\u001B[1;32m----> 6\u001B[0m \u001B[43mos\u001B[49m\u001B[38;5;241;43m.\u001B[39;49m\u001B[43mchdir\u001B[49m\u001B[43m(\u001B[49m\u001B[38;5;124;43mf\u001B[39;49m\u001B[38;5;124;43m\"\u001B[39;49m\u001B[38;5;124;43m../recipes/\u001B[39;49m\u001B[38;5;132;43;01m{\u001B[39;49;00m\u001B[43mfolder\u001B[49m\u001B[38;5;132;43;01m}\u001B[39;49;00m\u001B[38;5;124;43m\"\u001B[39;49m\u001B[43m)\u001B[49m\n\u001B[0;32m      7\u001B[0m json_object \u001B[38;5;241m=\u001B[39m json\u001B[38;5;241m.\u001B[39mdumps(recipe, indent\u001B[38;5;241m=\u001B[39m\u001B[38;5;241m4\u001B[39m, ensure_ascii\u001B[38;5;241m=\u001B[39m\u001B[38;5;28;01mFalse\u001B[39;00m)\n\u001B[0;32m      8\u001B[0m \u001B[38;5;28;01mwith\u001B[39;00m \u001B[38;5;28mopen\u001B[39m(filename, \u001B[38;5;124m\"\u001B[39m\u001B[38;5;124mw\u001B[39m\u001B[38;5;124m\"\u001B[39m, encoding\u001B[38;5;241m=\u001B[39m\u001B[38;5;124m\"\u001B[39m\u001B[38;5;124mutf-8\u001B[39m\u001B[38;5;124m\"\u001B[39m) \u001B[38;5;28;01mas\u001B[39;00m outfile:\n",
      "\u001B[1;31mFileNotFoundError\u001B[0m: [WinError 2] The system cannot find the file specified: '../recipes/hauptgang'"
     ]
    }
   ],
   "source": [
    "recipe = get_parsed_recipe('https://shortcutapp.io/n/MGEzNzRmYzQ1MjkzYTlhMjY0YTE2NjE4MjgwMGEzOTY5')\n",
    "save_recipe(recipe)"
   ],
   "metadata": {
    "collapsed": false
   }
  },
  {
   "cell_type": "markdown",
   "source": [
    "# To-Do"
   ],
   "metadata": {
    "collapsed": false
   }
  },
  {
   "cell_type": "code",
   "execution_count": 39,
   "outputs": [],
   "source": [
    "@timeit\n",
    "def backup_recipe(link: str):\n",
    "    # Create directory\n",
    "    os.chdir(\"../recipes\")\n",
    "    dirName = get_category_from_recipe(link)\n",
    "    recipe = get_parsed_recipe(link)\n",
    "    try:\n",
    "        # Create target Directory\n",
    "        os.mkdir(dirName)\n",
    "    except FileExistsError:\n",
    "        print(\"Directory \", dirName, \" already exists\")\n",
    "    save_recipe(recipe)"
   ],
   "metadata": {
    "collapsed": false
   }
  },
  {
   "cell_type": "code",
   "execution_count": 40,
   "outputs": [
    {
     "name": "stdout",
     "output_type": "stream",
     "text": [
      "<div class=\"rezept hauptgang\">\n",
      "<a href=\"https://shortcutapp.io/n/OGZmNTk5NTVhNDk3MWVhNDYyZTlhZGY3NTA4YjQ0YTIx\">\n",
      "<img alt=\"Rezeptname\" src=\"img\\hauptgang\\chilliconcarne.jpg\"/>\n",
      "<h3 class=\"rezeptname\">Chilli Con Simon</h3>\n",
      "</a>\n",
      "</div>\n",
      "<div class=\"rezept hauptgang\">\n",
      "<a href=\"https://shortcutapp.io/n/OGZmNTk5NTVhNDk3MWVhNDYyZTlhZGY3NTA4YjQ0YTIx\">\n",
      "<img alt=\"Rezeptname\" src=\"img\\hauptgang\\chilliconcarne.jpg\"/>\n",
      "<h3 class=\"rezeptname\">Chilli Con Simon</h3>\n",
      "</a>\n",
      "</div>\n",
      "img\\hauptgang\\chilliconcarne.jpg\n",
      "img\\hauptgang\\indisches_butterchickencurry.jpg\n",
      "Directory  hauptgang  already exists\n",
      "C:\\Users\\u108695\\PycharmProjects\\backup-package\\recipes\n",
      "C:\\Users\\u108695\\PycharmProjects\\backup-package\\recipes\\hauptgang\n",
      "C:\\Users\\u108695\\PycharmProjects\\backup-package\\src\n",
      "Function backup_recipe('https://shortcutapp.io/n/OGZmNTk5NTVhNDk3MWVhNDYyZTlhZGY3NTA4YjQ0YTIx',) {} Took 24.1968 seconds\n"
     ]
    }
   ],
   "source": [
    "backup_recipe(\"https://shortcutapp.io/n/OGZmNTk5NTVhNDk3MWVhNDYyZTlhZGY3NTA4YjQ0YTIx\")"
   ],
   "metadata": {
    "collapsed": false
   }
  },
  {
   "cell_type": "code",
   "execution_count": 41,
   "outputs": [],
   "source": [
    "def backup_website():\n",
    "    raw_recipes = get_links_to_scrape()\n",
    "    for recipe in raw_recipes:\n",
    "        backup_recipe(recipe)"
   ],
   "metadata": {
    "collapsed": false
   }
  },
  {
   "cell_type": "code",
   "execution_count": 42,
   "outputs": [
    {
     "name": "stdout",
     "output_type": "stream",
     "text": [
      "<div class=\"rezept vorspeise\">\n",
      "<a href=\"https://shortcutapp.io/n/MjgzMzNlMzRkZWZmMGRiYzVjMzkxNDM2OWU0ZDA1MmQz\">\n",
      "<img alt=\"Rezeptname\" src=\"img\\vorspeisen\\salvia-fritta.jpeg\"/>\n",
      "<h3 class=\"rezeptname\">Salvia Fritta</h3>\n",
      "</a>\n",
      "</div>\n",
      "<div class=\"rezept vorspeise\">\n",
      "<a href=\"https://shortcutapp.io/n/MjgzMzNlMzRkZWZmMGRiYzVjMzkxNDM2OWU0ZDA1MmQz\">\n",
      "<img alt=\"Rezeptname\" src=\"img\\vorspeisen\\salvia-fritta.jpeg\"/>\n",
      "<h3 class=\"rezeptname\">Salvia Fritta</h3>\n",
      "</a>\n",
      "</div>\n",
      "img\\vorspeisen\\salvia-fritta.jpeg\n",
      "img\\hauptgang\\indisches_butterchickencurry.jpg\n",
      "C:\\Users\\u108695\\PycharmProjects\\backup-package\\recipes\n",
      "C:\\Users\\u108695\\PycharmProjects\\backup-package\\recipes\\vorspeise\n",
      "C:\\Users\\u108695\\PycharmProjects\\backup-package\\src\n",
      "Function backup_recipe('https://shortcutapp.io/n/MjgzMzNlMzRkZWZmMGRiYzVjMzkxNDM2OWU0ZDA1MmQz',) {} Took 24.6123 seconds\n",
      "<div class=\"rezept vorspeise\">\n",
      "<a href=\"https://shortcutapp.io/n/ZDBlMzhkNjRkZTliMDg0NGQ4NmRmNjNiM2U0ZGE1ODVj\">\n",
      "<img alt=\"Rezeptname\" src=\"img\\vorspeisen\\paprikahumus.jpg\"/>\n",
      "<h3 class=\"rezeptname\">Paprika Hummus</h3>\n",
      "</a>\n",
      "</div>\n",
      "<div class=\"rezept vorspeise\">\n",
      "<a href=\"https://shortcutapp.io/n/ZDBlMzhkNjRkZTliMDg0NGQ4NmRmNjNiM2U0ZGE1ODVj\">\n",
      "<img alt=\"Rezeptname\" src=\"img\\vorspeisen\\paprikahumus.jpg\"/>\n",
      "<h3 class=\"rezeptname\">Paprika Hummus</h3>\n",
      "</a>\n",
      "</div>\n",
      "img\\vorspeisen\\paprikahumus.jpg\n",
      "img\\hauptgang\\indisches_butterchickencurry.jpg\n",
      "Directory  vorspeise  already exists\n",
      "C:\\Users\\u108695\\PycharmProjects\\backup-package\\recipes\n",
      "C:\\Users\\u108695\\PycharmProjects\\backup-package\\recipes\\vorspeise\n",
      "C:\\Users\\u108695\\PycharmProjects\\backup-package\\src\n",
      "Function backup_recipe('https://shortcutapp.io/n/ZDBlMzhkNjRkZTliMDg0NGQ4NmRmNjNiM2U0ZGE1ODVj',) {} Took 24.4707 seconds\n",
      "<div class=\"rezept vorspeise\">\n",
      "<a href=\"https://shortcutapp.io/n/ODQwMjlmODVmYWViM2Q0NmIxMDcwNzNjZDVlMGQ4NTg2\">\n",
      "<img alt=\"Rezeptname\" src=\"img\\vorspeisen\\tsatsiki.jpg\"/>\n",
      "<h3 class=\"rezeptname\">Tsatsiki</h3>\n",
      "</a>\n",
      "</div>\n",
      "<div class=\"rezept vorspeise\">\n",
      "<a href=\"https://shortcutapp.io/n/ODQwMjlmODVmYWViM2Q0NmIxMDcwNzNjZDVlMGQ4NTg2\">\n",
      "<img alt=\"Rezeptname\" src=\"img\\vorspeisen\\tsatsiki.jpg\"/>\n",
      "<h3 class=\"rezeptname\">Tsatsiki</h3>\n",
      "</a>\n",
      "</div>\n",
      "img\\vorspeisen\\tsatsiki.jpg\n",
      "img\\hauptgang\\indisches_butterchickencurry.jpg\n",
      "Directory  vorspeise  already exists\n",
      "C:\\Users\\u108695\\PycharmProjects\\backup-package\\recipes\n",
      "C:\\Users\\u108695\\PycharmProjects\\backup-package\\recipes\\vorspeise\n",
      "C:\\Users\\u108695\\PycharmProjects\\backup-package\\src\n",
      "Function backup_recipe('https://shortcutapp.io/n/ODQwMjlmODVmYWViM2Q0NmIxMDcwNzNjZDVlMGQ4NTg2',) {} Took 23.5587 seconds\n",
      "<div class=\"rezept vorspeise\">\n",
      "<a href=\"https://shortcutapp.io/n/OTVmYmU0Y2I4MWYwMmY0ZTI3YTE4MGJkZTQ4ZTczYjRj\">\n",
      "<img alt=\"Rezeptname\" src=\"img\\vorspeisen\\tartar.jpg\"/>\n",
      "<h3 class=\"rezeptname\">Tartar Sauce</h3>\n",
      "</a>\n",
      "</div>\n",
      "<div class=\"rezept vorspeise\">\n",
      "<a href=\"https://shortcutapp.io/n/OTVmYmU0Y2I4MWYwMmY0ZTI3YTE4MGJkZTQ4ZTczYjRj\">\n",
      "<img alt=\"Rezeptname\" src=\"img\\vorspeisen\\tartar.jpg\"/>\n",
      "<h3 class=\"rezeptname\">Tartar Sauce</h3>\n",
      "</a>\n",
      "</div>\n",
      "img\\vorspeisen\\tartar.jpg\n",
      "img\\hauptgang\\indisches_butterchickencurry.jpg\n"
     ]
    },
    {
     "ename": "KeyboardInterrupt",
     "evalue": "",
     "output_type": "error",
     "traceback": [
      "\u001B[1;31m---------------------------------------------------------------------------\u001B[0m",
      "\u001B[1;31mKeyboardInterrupt\u001B[0m                         Traceback (most recent call last)",
      "Cell \u001B[1;32mIn[42], line 1\u001B[0m\n\u001B[1;32m----> 1\u001B[0m \u001B[43mbackup_website\u001B[49m\u001B[43m(\u001B[49m\u001B[43m)\u001B[49m\n",
      "Cell \u001B[1;32mIn[41], line 4\u001B[0m, in \u001B[0;36mbackup_website\u001B[1;34m()\u001B[0m\n\u001B[0;32m      2\u001B[0m raw_recipes \u001B[38;5;241m=\u001B[39m get_links_to_scrape()\n\u001B[0;32m      3\u001B[0m \u001B[38;5;28;01mfor\u001B[39;00m recipe \u001B[38;5;129;01min\u001B[39;00m raw_recipes:\n\u001B[1;32m----> 4\u001B[0m     \u001B[43mbackup_recipe\u001B[49m\u001B[43m(\u001B[49m\u001B[43mrecipe\u001B[49m\u001B[43m)\u001B[49m\n",
      "Cell \u001B[1;32mIn[2], line 11\u001B[0m, in \u001B[0;36mtimeit.<locals>.timeit_wrapper\u001B[1;34m(*args, **kwargs)\u001B[0m\n\u001B[0;32m      8\u001B[0m \u001B[38;5;129m@wraps\u001B[39m(func)\n\u001B[0;32m      9\u001B[0m \u001B[38;5;28;01mdef\u001B[39;00m \u001B[38;5;21mtimeit_wrapper\u001B[39m(\u001B[38;5;241m*\u001B[39margs, \u001B[38;5;241m*\u001B[39m\u001B[38;5;241m*\u001B[39mkwargs):\n\u001B[0;32m     10\u001B[0m     start_time \u001B[38;5;241m=\u001B[39m time\u001B[38;5;241m.\u001B[39mperf_counter()\n\u001B[1;32m---> 11\u001B[0m     result \u001B[38;5;241m=\u001B[39m func(\u001B[38;5;241m*\u001B[39margs, \u001B[38;5;241m*\u001B[39m\u001B[38;5;241m*\u001B[39mkwargs)\n\u001B[0;32m     12\u001B[0m     end_time \u001B[38;5;241m=\u001B[39m time\u001B[38;5;241m.\u001B[39mperf_counter()\n\u001B[0;32m     13\u001B[0m     total_time \u001B[38;5;241m=\u001B[39m end_time \u001B[38;5;241m-\u001B[39m start_time\n",
      "Cell \u001B[1;32mIn[39], line 6\u001B[0m, in \u001B[0;36mbackup_recipe\u001B[1;34m(link)\u001B[0m\n\u001B[0;32m      4\u001B[0m os\u001B[38;5;241m.\u001B[39mchdir(\u001B[38;5;124m\"\u001B[39m\u001B[38;5;124m../recipes\u001B[39m\u001B[38;5;124m\"\u001B[39m)\n\u001B[0;32m      5\u001B[0m dirName \u001B[38;5;241m=\u001B[39m get_category_from_recipe(link)\n\u001B[1;32m----> 6\u001B[0m recipe \u001B[38;5;241m=\u001B[39m \u001B[43mget_parsed_recipe\u001B[49m\u001B[43m(\u001B[49m\u001B[43mlink\u001B[49m\u001B[43m)\u001B[49m\n\u001B[0;32m      7\u001B[0m \u001B[38;5;28;01mtry\u001B[39;00m:\n\u001B[0;32m      8\u001B[0m     \u001B[38;5;66;03m# Create target Directory\u001B[39;00m\n\u001B[0;32m      9\u001B[0m     os\u001B[38;5;241m.\u001B[39mmkdir(dirName)\n",
      "Cell \u001B[1;32mIn[27], line 9\u001B[0m, in \u001B[0;36mget_parsed_recipe\u001B[1;34m(link)\u001B[0m\n\u001B[0;32m      7\u001B[0m serves \u001B[38;5;241m=\u001B[39m get_serves(link)\n\u001B[0;32m      8\u001B[0m difficulty \u001B[38;5;241m=\u001B[39m get_difficulty(link)\n\u001B[1;32m----> 9\u001B[0m ingredients \u001B[38;5;241m=\u001B[39m \u001B[43mget_ingredients\u001B[49m\u001B[43m(\u001B[49m\u001B[43mlink\u001B[49m\u001B[43m)\u001B[49m\n\u001B[0;32m     10\u001B[0m instructions \u001B[38;5;241m=\u001B[39m get_instructions(link)\n\u001B[0;32m     12\u001B[0m recipe_dict \u001B[38;5;241m=\u001B[39m {\n\u001B[0;32m     13\u001B[0m     \u001B[38;5;124m\"\u001B[39m\u001B[38;5;124mtitle\u001B[39m\u001B[38;5;124m\"\u001B[39m: title,\n\u001B[0;32m     14\u001B[0m     \u001B[38;5;124m\"\u001B[39m\u001B[38;5;124mrecipe_class\u001B[39m\u001B[38;5;124m\"\u001B[39m: recipe_class,\n\u001B[1;32m   (...)\u001B[0m\n\u001B[0;32m     21\u001B[0m     \u001B[38;5;124m\"\u001B[39m\u001B[38;5;124minstructions\u001B[39m\u001B[38;5;124m\"\u001B[39m: instructions,\n\u001B[0;32m     22\u001B[0m }\n",
      "Cell \u001B[1;32mIn[23], line 2\u001B[0m, in \u001B[0;36mget_ingredients\u001B[1;34m(link)\u001B[0m\n\u001B[0;32m      1\u001B[0m \u001B[38;5;28;01mdef\u001B[39;00m \u001B[38;5;21mget_ingredients\u001B[39m(link: \u001B[38;5;28mstr\u001B[39m) \u001B[38;5;241m-\u001B[39m\u001B[38;5;241m>\u001B[39m List[Dict]:\n\u001B[1;32m----> 2\u001B[0m     page_content \u001B[38;5;241m=\u001B[39m \u001B[43mget_page_content\u001B[49m\u001B[43m(\u001B[49m\u001B[43mlink\u001B[49m\u001B[43m)\u001B[49m\n\u001B[0;32m      3\u001B[0m     ingredients \u001B[38;5;241m=\u001B[39m page_content\u001B[38;5;241m.\u001B[39mfind(\u001B[38;5;124m\"\u001B[39m\u001B[38;5;124msection\u001B[39m\u001B[38;5;124m\"\u001B[39m, class_\u001B[38;5;241m=\u001B[39m\u001B[38;5;124m\"\u001B[39m\u001B[38;5;124mingredients\u001B[39m\u001B[38;5;124m\"\u001B[39m)\n\u001B[0;32m      4\u001B[0m     ingredientArray \u001B[38;5;241m=\u001B[39m []\n",
      "Cell \u001B[1;32mIn[3], line 7\u001B[0m, in \u001B[0;36mget_page_content\u001B[1;34m(link)\u001B[0m\n\u001B[0;32m      1\u001B[0m \u001B[38;5;28;01mdef\u001B[39;00m \u001B[38;5;21mget_page_content\u001B[39m(link: \u001B[38;5;28mstr\u001B[39m) \u001B[38;5;241m-\u001B[39m\u001B[38;5;241m>\u001B[39m \u001B[38;5;28mstr\u001B[39m:\n\u001B[0;32m      2\u001B[0m \u001B[38;5;250m    \u001B[39m\u001B[38;5;124;03m\"\"\"\u001B[39;00m\n\u001B[0;32m      3\u001B[0m \u001B[38;5;124;03m    Get a Parsed homepage as HTML str.\u001B[39;00m\n\u001B[0;32m      4\u001B[0m \u001B[38;5;124;03m    :param link:\u001B[39;00m\n\u001B[0;32m      5\u001B[0m \u001B[38;5;124;03m    :return: parsed_homepage\u001B[39;00m\n\u001B[0;32m      6\u001B[0m \u001B[38;5;124;03m    \"\"\"\u001B[39;00m\n\u001B[1;32m----> 7\u001B[0m     homepage \u001B[38;5;241m=\u001B[39m \u001B[43mrequests\u001B[49m\u001B[38;5;241;43m.\u001B[39;49m\u001B[43mget\u001B[49m\u001B[43m(\u001B[49m\u001B[43mlink\u001B[49m\u001B[43m)\u001B[49m\n\u001B[0;32m      8\u001B[0m     \u001B[38;5;28;01mif\u001B[39;00m \u001B[38;5;129;01mnot\u001B[39;00m homepage\u001B[38;5;241m.\u001B[39mstatus_code \u001B[38;5;241m==\u001B[39m \u001B[38;5;241m200\u001B[39m:\n\u001B[0;32m      9\u001B[0m         \u001B[38;5;28mprint\u001B[39m(\u001B[38;5;124mf\u001B[39m\u001B[38;5;124m\"\u001B[39m\u001B[38;5;124mCan\u001B[39m\u001B[38;5;124m'\u001B[39m\u001B[38;5;124mt reach \u001B[39m\u001B[38;5;132;01m{\u001B[39;00mlink\u001B[38;5;132;01m}\u001B[39;00m\u001B[38;5;124m with status code 200.\u001B[39m\u001B[38;5;124m\"\u001B[39m)\n",
      "File \u001B[1;32m~\\PycharmProjects\\backup-package\\venv\\lib\\site-packages\\requests\\api.py:73\u001B[0m, in \u001B[0;36mget\u001B[1;34m(url, params, **kwargs)\u001B[0m\n\u001B[0;32m     62\u001B[0m \u001B[38;5;28;01mdef\u001B[39;00m \u001B[38;5;21mget\u001B[39m(url, params\u001B[38;5;241m=\u001B[39m\u001B[38;5;28;01mNone\u001B[39;00m, \u001B[38;5;241m*\u001B[39m\u001B[38;5;241m*\u001B[39mkwargs):\n\u001B[0;32m     63\u001B[0m \u001B[38;5;250m    \u001B[39m\u001B[38;5;124mr\u001B[39m\u001B[38;5;124;03m\"\"\"Sends a GET request.\u001B[39;00m\n\u001B[0;32m     64\u001B[0m \n\u001B[0;32m     65\u001B[0m \u001B[38;5;124;03m    :param url: URL for the new :class:`Request` object.\u001B[39;00m\n\u001B[1;32m   (...)\u001B[0m\n\u001B[0;32m     70\u001B[0m \u001B[38;5;124;03m    :rtype: requests.Response\u001B[39;00m\n\u001B[0;32m     71\u001B[0m \u001B[38;5;124;03m    \"\"\"\u001B[39;00m\n\u001B[1;32m---> 73\u001B[0m     \u001B[38;5;28;01mreturn\u001B[39;00m request(\u001B[38;5;124m\"\u001B[39m\u001B[38;5;124mget\u001B[39m\u001B[38;5;124m\"\u001B[39m, url, params\u001B[38;5;241m=\u001B[39mparams, \u001B[38;5;241m*\u001B[39m\u001B[38;5;241m*\u001B[39mkwargs)\n",
      "File \u001B[1;32m~\\PycharmProjects\\backup-package\\venv\\lib\\site-packages\\requests\\api.py:59\u001B[0m, in \u001B[0;36mrequest\u001B[1;34m(method, url, **kwargs)\u001B[0m\n\u001B[0;32m     55\u001B[0m \u001B[38;5;66;03m# By using the 'with' statement we are sure the session is closed, thus we\u001B[39;00m\n\u001B[0;32m     56\u001B[0m \u001B[38;5;66;03m# avoid leaving sockets open which can trigger a ResourceWarning in some\u001B[39;00m\n\u001B[0;32m     57\u001B[0m \u001B[38;5;66;03m# cases, and look like a memory leak in others.\u001B[39;00m\n\u001B[0;32m     58\u001B[0m \u001B[38;5;28;01mwith\u001B[39;00m sessions\u001B[38;5;241m.\u001B[39mSession() \u001B[38;5;28;01mas\u001B[39;00m session:\n\u001B[1;32m---> 59\u001B[0m     \u001B[38;5;28;01mreturn\u001B[39;00m session\u001B[38;5;241m.\u001B[39mrequest(method\u001B[38;5;241m=\u001B[39mmethod, url\u001B[38;5;241m=\u001B[39murl, \u001B[38;5;241m*\u001B[39m\u001B[38;5;241m*\u001B[39mkwargs)\n",
      "File \u001B[1;32m~\\PycharmProjects\\backup-package\\venv\\lib\\site-packages\\requests\\sessions.py:587\u001B[0m, in \u001B[0;36mSession.request\u001B[1;34m(self, method, url, params, data, headers, cookies, files, auth, timeout, allow_redirects, proxies, hooks, stream, verify, cert, json)\u001B[0m\n\u001B[0;32m    582\u001B[0m send_kwargs \u001B[38;5;241m=\u001B[39m {\n\u001B[0;32m    583\u001B[0m     \u001B[38;5;124m\"\u001B[39m\u001B[38;5;124mtimeout\u001B[39m\u001B[38;5;124m\"\u001B[39m: timeout,\n\u001B[0;32m    584\u001B[0m     \u001B[38;5;124m\"\u001B[39m\u001B[38;5;124mallow_redirects\u001B[39m\u001B[38;5;124m\"\u001B[39m: allow_redirects,\n\u001B[0;32m    585\u001B[0m }\n\u001B[0;32m    586\u001B[0m send_kwargs\u001B[38;5;241m.\u001B[39mupdate(settings)\n\u001B[1;32m--> 587\u001B[0m resp \u001B[38;5;241m=\u001B[39m \u001B[38;5;28mself\u001B[39m\u001B[38;5;241m.\u001B[39msend(prep, \u001B[38;5;241m*\u001B[39m\u001B[38;5;241m*\u001B[39msend_kwargs)\n\u001B[0;32m    589\u001B[0m \u001B[38;5;28;01mreturn\u001B[39;00m resp\n",
      "File \u001B[1;32m~\\PycharmProjects\\backup-package\\venv\\lib\\site-packages\\requests\\sessions.py:701\u001B[0m, in \u001B[0;36mSession.send\u001B[1;34m(self, request, **kwargs)\u001B[0m\n\u001B[0;32m    698\u001B[0m start \u001B[38;5;241m=\u001B[39m preferred_clock()\n\u001B[0;32m    700\u001B[0m \u001B[38;5;66;03m# Send the request\u001B[39;00m\n\u001B[1;32m--> 701\u001B[0m r \u001B[38;5;241m=\u001B[39m adapter\u001B[38;5;241m.\u001B[39msend(request, \u001B[38;5;241m*\u001B[39m\u001B[38;5;241m*\u001B[39mkwargs)\n\u001B[0;32m    703\u001B[0m \u001B[38;5;66;03m# Total elapsed time of the request (approximately)\u001B[39;00m\n\u001B[0;32m    704\u001B[0m elapsed \u001B[38;5;241m=\u001B[39m preferred_clock() \u001B[38;5;241m-\u001B[39m start\n",
      "File \u001B[1;32m~\\PycharmProjects\\backup-package\\venv\\lib\\site-packages\\requests\\adapters.py:489\u001B[0m, in \u001B[0;36mHTTPAdapter.send\u001B[1;34m(self, request, stream, timeout, verify, cert, proxies)\u001B[0m\n\u001B[0;32m    487\u001B[0m \u001B[38;5;28;01mtry\u001B[39;00m:\n\u001B[0;32m    488\u001B[0m     \u001B[38;5;28;01mif\u001B[39;00m \u001B[38;5;129;01mnot\u001B[39;00m chunked:\n\u001B[1;32m--> 489\u001B[0m         resp \u001B[38;5;241m=\u001B[39m \u001B[43mconn\u001B[49m\u001B[38;5;241;43m.\u001B[39;49m\u001B[43murlopen\u001B[49m\u001B[43m(\u001B[49m\n\u001B[0;32m    490\u001B[0m \u001B[43m            \u001B[49m\u001B[43mmethod\u001B[49m\u001B[38;5;241;43m=\u001B[39;49m\u001B[43mrequest\u001B[49m\u001B[38;5;241;43m.\u001B[39;49m\u001B[43mmethod\u001B[49m\u001B[43m,\u001B[49m\n\u001B[0;32m    491\u001B[0m \u001B[43m            \u001B[49m\u001B[43murl\u001B[49m\u001B[38;5;241;43m=\u001B[39;49m\u001B[43murl\u001B[49m\u001B[43m,\u001B[49m\n\u001B[0;32m    492\u001B[0m \u001B[43m            \u001B[49m\u001B[43mbody\u001B[49m\u001B[38;5;241;43m=\u001B[39;49m\u001B[43mrequest\u001B[49m\u001B[38;5;241;43m.\u001B[39;49m\u001B[43mbody\u001B[49m\u001B[43m,\u001B[49m\n\u001B[0;32m    493\u001B[0m \u001B[43m            \u001B[49m\u001B[43mheaders\u001B[49m\u001B[38;5;241;43m=\u001B[39;49m\u001B[43mrequest\u001B[49m\u001B[38;5;241;43m.\u001B[39;49m\u001B[43mheaders\u001B[49m\u001B[43m,\u001B[49m\n\u001B[0;32m    494\u001B[0m \u001B[43m            \u001B[49m\u001B[43mredirect\u001B[49m\u001B[38;5;241;43m=\u001B[39;49m\u001B[38;5;28;43;01mFalse\u001B[39;49;00m\u001B[43m,\u001B[49m\n\u001B[0;32m    495\u001B[0m \u001B[43m            \u001B[49m\u001B[43massert_same_host\u001B[49m\u001B[38;5;241;43m=\u001B[39;49m\u001B[38;5;28;43;01mFalse\u001B[39;49;00m\u001B[43m,\u001B[49m\n\u001B[0;32m    496\u001B[0m \u001B[43m            \u001B[49m\u001B[43mpreload_content\u001B[49m\u001B[38;5;241;43m=\u001B[39;49m\u001B[38;5;28;43;01mFalse\u001B[39;49;00m\u001B[43m,\u001B[49m\n\u001B[0;32m    497\u001B[0m \u001B[43m            \u001B[49m\u001B[43mdecode_content\u001B[49m\u001B[38;5;241;43m=\u001B[39;49m\u001B[38;5;28;43;01mFalse\u001B[39;49;00m\u001B[43m,\u001B[49m\n\u001B[0;32m    498\u001B[0m \u001B[43m            \u001B[49m\u001B[43mretries\u001B[49m\u001B[38;5;241;43m=\u001B[39;49m\u001B[38;5;28;43mself\u001B[39;49m\u001B[38;5;241;43m.\u001B[39;49m\u001B[43mmax_retries\u001B[49m\u001B[43m,\u001B[49m\n\u001B[0;32m    499\u001B[0m \u001B[43m            \u001B[49m\u001B[43mtimeout\u001B[49m\u001B[38;5;241;43m=\u001B[39;49m\u001B[43mtimeout\u001B[49m\u001B[43m,\u001B[49m\n\u001B[0;32m    500\u001B[0m \u001B[43m        \u001B[49m\u001B[43m)\u001B[49m\n\u001B[0;32m    502\u001B[0m     \u001B[38;5;66;03m# Send the request.\u001B[39;00m\n\u001B[0;32m    503\u001B[0m     \u001B[38;5;28;01melse\u001B[39;00m:\n\u001B[0;32m    504\u001B[0m         \u001B[38;5;28;01mif\u001B[39;00m \u001B[38;5;28mhasattr\u001B[39m(conn, \u001B[38;5;124m\"\u001B[39m\u001B[38;5;124mproxy_pool\u001B[39m\u001B[38;5;124m\"\u001B[39m):\n",
      "File \u001B[1;32m~\\PycharmProjects\\backup-package\\venv\\lib\\site-packages\\urllib3\\connectionpool.py:703\u001B[0m, in \u001B[0;36mHTTPConnectionPool.urlopen\u001B[1;34m(self, method, url, body, headers, retries, redirect, assert_same_host, timeout, pool_timeout, release_conn, chunked, body_pos, **response_kw)\u001B[0m\n\u001B[0;32m    700\u001B[0m     \u001B[38;5;28mself\u001B[39m\u001B[38;5;241m.\u001B[39m_prepare_proxy(conn)\n\u001B[0;32m    702\u001B[0m \u001B[38;5;66;03m# Make the request on the httplib connection object.\u001B[39;00m\n\u001B[1;32m--> 703\u001B[0m httplib_response \u001B[38;5;241m=\u001B[39m \u001B[38;5;28;43mself\u001B[39;49m\u001B[38;5;241;43m.\u001B[39;49m\u001B[43m_make_request\u001B[49m\u001B[43m(\u001B[49m\n\u001B[0;32m    704\u001B[0m \u001B[43m    \u001B[49m\u001B[43mconn\u001B[49m\u001B[43m,\u001B[49m\n\u001B[0;32m    705\u001B[0m \u001B[43m    \u001B[49m\u001B[43mmethod\u001B[49m\u001B[43m,\u001B[49m\n\u001B[0;32m    706\u001B[0m \u001B[43m    \u001B[49m\u001B[43murl\u001B[49m\u001B[43m,\u001B[49m\n\u001B[0;32m    707\u001B[0m \u001B[43m    \u001B[49m\u001B[43mtimeout\u001B[49m\u001B[38;5;241;43m=\u001B[39;49m\u001B[43mtimeout_obj\u001B[49m\u001B[43m,\u001B[49m\n\u001B[0;32m    708\u001B[0m \u001B[43m    \u001B[49m\u001B[43mbody\u001B[49m\u001B[38;5;241;43m=\u001B[39;49m\u001B[43mbody\u001B[49m\u001B[43m,\u001B[49m\n\u001B[0;32m    709\u001B[0m \u001B[43m    \u001B[49m\u001B[43mheaders\u001B[49m\u001B[38;5;241;43m=\u001B[39;49m\u001B[43mheaders\u001B[49m\u001B[43m,\u001B[49m\n\u001B[0;32m    710\u001B[0m \u001B[43m    \u001B[49m\u001B[43mchunked\u001B[49m\u001B[38;5;241;43m=\u001B[39;49m\u001B[43mchunked\u001B[49m\u001B[43m,\u001B[49m\n\u001B[0;32m    711\u001B[0m \u001B[43m\u001B[49m\u001B[43m)\u001B[49m\n\u001B[0;32m    713\u001B[0m \u001B[38;5;66;03m# If we're going to release the connection in ``finally:``, then\u001B[39;00m\n\u001B[0;32m    714\u001B[0m \u001B[38;5;66;03m# the response doesn't need to know about the connection. Otherwise\u001B[39;00m\n\u001B[0;32m    715\u001B[0m \u001B[38;5;66;03m# it will also try to release it and we'll have a double-release\u001B[39;00m\n\u001B[0;32m    716\u001B[0m \u001B[38;5;66;03m# mess.\u001B[39;00m\n\u001B[0;32m    717\u001B[0m response_conn \u001B[38;5;241m=\u001B[39m conn \u001B[38;5;28;01mif\u001B[39;00m \u001B[38;5;129;01mnot\u001B[39;00m release_conn \u001B[38;5;28;01melse\u001B[39;00m \u001B[38;5;28;01mNone\u001B[39;00m\n",
      "File \u001B[1;32m~\\PycharmProjects\\backup-package\\venv\\lib\\site-packages\\urllib3\\connectionpool.py:449\u001B[0m, in \u001B[0;36mHTTPConnectionPool._make_request\u001B[1;34m(self, conn, method, url, timeout, chunked, **httplib_request_kw)\u001B[0m\n\u001B[0;32m    444\u001B[0m             httplib_response \u001B[38;5;241m=\u001B[39m conn\u001B[38;5;241m.\u001B[39mgetresponse()\n\u001B[0;32m    445\u001B[0m         \u001B[38;5;28;01mexcept\u001B[39;00m \u001B[38;5;167;01mBaseException\u001B[39;00m \u001B[38;5;28;01mas\u001B[39;00m e:\n\u001B[0;32m    446\u001B[0m             \u001B[38;5;66;03m# Remove the TypeError from the exception chain in\u001B[39;00m\n\u001B[0;32m    447\u001B[0m             \u001B[38;5;66;03m# Python 3 (including for exceptions like SystemExit).\u001B[39;00m\n\u001B[0;32m    448\u001B[0m             \u001B[38;5;66;03m# Otherwise it looks like a bug in the code.\u001B[39;00m\n\u001B[1;32m--> 449\u001B[0m             \u001B[43msix\u001B[49m\u001B[38;5;241;43m.\u001B[39;49m\u001B[43mraise_from\u001B[49m\u001B[43m(\u001B[49m\u001B[43me\u001B[49m\u001B[43m,\u001B[49m\u001B[43m \u001B[49m\u001B[38;5;28;43;01mNone\u001B[39;49;00m\u001B[43m)\u001B[49m\n\u001B[0;32m    450\u001B[0m \u001B[38;5;28;01mexcept\u001B[39;00m (SocketTimeout, BaseSSLError, SocketError) \u001B[38;5;28;01mas\u001B[39;00m e:\n\u001B[0;32m    451\u001B[0m     \u001B[38;5;28mself\u001B[39m\u001B[38;5;241m.\u001B[39m_raise_timeout(err\u001B[38;5;241m=\u001B[39me, url\u001B[38;5;241m=\u001B[39murl, timeout_value\u001B[38;5;241m=\u001B[39mread_timeout)\n",
      "File \u001B[1;32m<string>:3\u001B[0m, in \u001B[0;36mraise_from\u001B[1;34m(value, from_value)\u001B[0m\n",
      "File \u001B[1;32m~\\PycharmProjects\\backup-package\\venv\\lib\\site-packages\\urllib3\\connectionpool.py:444\u001B[0m, in \u001B[0;36mHTTPConnectionPool._make_request\u001B[1;34m(self, conn, method, url, timeout, chunked, **httplib_request_kw)\u001B[0m\n\u001B[0;32m    441\u001B[0m \u001B[38;5;28;01mexcept\u001B[39;00m \u001B[38;5;167;01mTypeError\u001B[39;00m:\n\u001B[0;32m    442\u001B[0m     \u001B[38;5;66;03m# Python 3\u001B[39;00m\n\u001B[0;32m    443\u001B[0m     \u001B[38;5;28;01mtry\u001B[39;00m:\n\u001B[1;32m--> 444\u001B[0m         httplib_response \u001B[38;5;241m=\u001B[39m \u001B[43mconn\u001B[49m\u001B[38;5;241;43m.\u001B[39;49m\u001B[43mgetresponse\u001B[49m\u001B[43m(\u001B[49m\u001B[43m)\u001B[49m\n\u001B[0;32m    445\u001B[0m     \u001B[38;5;28;01mexcept\u001B[39;00m \u001B[38;5;167;01mBaseException\u001B[39;00m \u001B[38;5;28;01mas\u001B[39;00m e:\n\u001B[0;32m    446\u001B[0m         \u001B[38;5;66;03m# Remove the TypeError from the exception chain in\u001B[39;00m\n\u001B[0;32m    447\u001B[0m         \u001B[38;5;66;03m# Python 3 (including for exceptions like SystemExit).\u001B[39;00m\n\u001B[0;32m    448\u001B[0m         \u001B[38;5;66;03m# Otherwise it looks like a bug in the code.\u001B[39;00m\n\u001B[0;32m    449\u001B[0m         six\u001B[38;5;241m.\u001B[39mraise_from(e, \u001B[38;5;28;01mNone\u001B[39;00m)\n",
      "File \u001B[1;32m~\\AppData\\Local\\Programs\\Python\\Python310\\lib\\http\\client.py:1374\u001B[0m, in \u001B[0;36mHTTPConnection.getresponse\u001B[1;34m(self)\u001B[0m\n\u001B[0;32m   1372\u001B[0m \u001B[38;5;28;01mtry\u001B[39;00m:\n\u001B[0;32m   1373\u001B[0m     \u001B[38;5;28;01mtry\u001B[39;00m:\n\u001B[1;32m-> 1374\u001B[0m         \u001B[43mresponse\u001B[49m\u001B[38;5;241;43m.\u001B[39;49m\u001B[43mbegin\u001B[49m\u001B[43m(\u001B[49m\u001B[43m)\u001B[49m\n\u001B[0;32m   1375\u001B[0m     \u001B[38;5;28;01mexcept\u001B[39;00m \u001B[38;5;167;01mConnectionError\u001B[39;00m:\n\u001B[0;32m   1376\u001B[0m         \u001B[38;5;28mself\u001B[39m\u001B[38;5;241m.\u001B[39mclose()\n",
      "File \u001B[1;32m~\\AppData\\Local\\Programs\\Python\\Python310\\lib\\http\\client.py:318\u001B[0m, in \u001B[0;36mHTTPResponse.begin\u001B[1;34m(self)\u001B[0m\n\u001B[0;32m    316\u001B[0m \u001B[38;5;66;03m# read until we get a non-100 response\u001B[39;00m\n\u001B[0;32m    317\u001B[0m \u001B[38;5;28;01mwhile\u001B[39;00m \u001B[38;5;28;01mTrue\u001B[39;00m:\n\u001B[1;32m--> 318\u001B[0m     version, status, reason \u001B[38;5;241m=\u001B[39m \u001B[38;5;28;43mself\u001B[39;49m\u001B[38;5;241;43m.\u001B[39;49m\u001B[43m_read_status\u001B[49m\u001B[43m(\u001B[49m\u001B[43m)\u001B[49m\n\u001B[0;32m    319\u001B[0m     \u001B[38;5;28;01mif\u001B[39;00m status \u001B[38;5;241m!=\u001B[39m CONTINUE:\n\u001B[0;32m    320\u001B[0m         \u001B[38;5;28;01mbreak\u001B[39;00m\n",
      "File \u001B[1;32m~\\AppData\\Local\\Programs\\Python\\Python310\\lib\\http\\client.py:279\u001B[0m, in \u001B[0;36mHTTPResponse._read_status\u001B[1;34m(self)\u001B[0m\n\u001B[0;32m    278\u001B[0m \u001B[38;5;28;01mdef\u001B[39;00m \u001B[38;5;21m_read_status\u001B[39m(\u001B[38;5;28mself\u001B[39m):\n\u001B[1;32m--> 279\u001B[0m     line \u001B[38;5;241m=\u001B[39m \u001B[38;5;28mstr\u001B[39m(\u001B[38;5;28;43mself\u001B[39;49m\u001B[38;5;241;43m.\u001B[39;49m\u001B[43mfp\u001B[49m\u001B[38;5;241;43m.\u001B[39;49m\u001B[43mreadline\u001B[49m\u001B[43m(\u001B[49m\u001B[43m_MAXLINE\u001B[49m\u001B[43m \u001B[49m\u001B[38;5;241;43m+\u001B[39;49m\u001B[43m \u001B[49m\u001B[38;5;241;43m1\u001B[39;49m\u001B[43m)\u001B[49m, \u001B[38;5;124m\"\u001B[39m\u001B[38;5;124miso-8859-1\u001B[39m\u001B[38;5;124m\"\u001B[39m)\n\u001B[0;32m    280\u001B[0m     \u001B[38;5;28;01mif\u001B[39;00m \u001B[38;5;28mlen\u001B[39m(line) \u001B[38;5;241m>\u001B[39m _MAXLINE:\n\u001B[0;32m    281\u001B[0m         \u001B[38;5;28;01mraise\u001B[39;00m LineTooLong(\u001B[38;5;124m\"\u001B[39m\u001B[38;5;124mstatus line\u001B[39m\u001B[38;5;124m\"\u001B[39m)\n",
      "File \u001B[1;32m~\\AppData\\Local\\Programs\\Python\\Python310\\lib\\socket.py:705\u001B[0m, in \u001B[0;36mSocketIO.readinto\u001B[1;34m(self, b)\u001B[0m\n\u001B[0;32m    703\u001B[0m \u001B[38;5;28;01mwhile\u001B[39;00m \u001B[38;5;28;01mTrue\u001B[39;00m:\n\u001B[0;32m    704\u001B[0m     \u001B[38;5;28;01mtry\u001B[39;00m:\n\u001B[1;32m--> 705\u001B[0m         \u001B[38;5;28;01mreturn\u001B[39;00m \u001B[38;5;28;43mself\u001B[39;49m\u001B[38;5;241;43m.\u001B[39;49m\u001B[43m_sock\u001B[49m\u001B[38;5;241;43m.\u001B[39;49m\u001B[43mrecv_into\u001B[49m\u001B[43m(\u001B[49m\u001B[43mb\u001B[49m\u001B[43m)\u001B[49m\n\u001B[0;32m    706\u001B[0m     \u001B[38;5;28;01mexcept\u001B[39;00m timeout:\n\u001B[0;32m    707\u001B[0m         \u001B[38;5;28mself\u001B[39m\u001B[38;5;241m.\u001B[39m_timeout_occurred \u001B[38;5;241m=\u001B[39m \u001B[38;5;28;01mTrue\u001B[39;00m\n",
      "File \u001B[1;32m~\\AppData\\Local\\Programs\\Python\\Python310\\lib\\ssl.py:1274\u001B[0m, in \u001B[0;36mSSLSocket.recv_into\u001B[1;34m(self, buffer, nbytes, flags)\u001B[0m\n\u001B[0;32m   1270\u001B[0m     \u001B[38;5;28;01mif\u001B[39;00m flags \u001B[38;5;241m!=\u001B[39m \u001B[38;5;241m0\u001B[39m:\n\u001B[0;32m   1271\u001B[0m         \u001B[38;5;28;01mraise\u001B[39;00m \u001B[38;5;167;01mValueError\u001B[39;00m(\n\u001B[0;32m   1272\u001B[0m           \u001B[38;5;124m\"\u001B[39m\u001B[38;5;124mnon-zero flags not allowed in calls to recv_into() on \u001B[39m\u001B[38;5;132;01m%s\u001B[39;00m\u001B[38;5;124m\"\u001B[39m \u001B[38;5;241m%\u001B[39m\n\u001B[0;32m   1273\u001B[0m           \u001B[38;5;28mself\u001B[39m\u001B[38;5;241m.\u001B[39m\u001B[38;5;18m__class__\u001B[39m)\n\u001B[1;32m-> 1274\u001B[0m     \u001B[38;5;28;01mreturn\u001B[39;00m \u001B[38;5;28;43mself\u001B[39;49m\u001B[38;5;241;43m.\u001B[39;49m\u001B[43mread\u001B[49m\u001B[43m(\u001B[49m\u001B[43mnbytes\u001B[49m\u001B[43m,\u001B[49m\u001B[43m \u001B[49m\u001B[43mbuffer\u001B[49m\u001B[43m)\u001B[49m\n\u001B[0;32m   1275\u001B[0m \u001B[38;5;28;01melse\u001B[39;00m:\n\u001B[0;32m   1276\u001B[0m     \u001B[38;5;28;01mreturn\u001B[39;00m \u001B[38;5;28msuper\u001B[39m()\u001B[38;5;241m.\u001B[39mrecv_into(buffer, nbytes, flags)\n",
      "File \u001B[1;32m~\\AppData\\Local\\Programs\\Python\\Python310\\lib\\ssl.py:1130\u001B[0m, in \u001B[0;36mSSLSocket.read\u001B[1;34m(self, len, buffer)\u001B[0m\n\u001B[0;32m   1128\u001B[0m \u001B[38;5;28;01mtry\u001B[39;00m:\n\u001B[0;32m   1129\u001B[0m     \u001B[38;5;28;01mif\u001B[39;00m buffer \u001B[38;5;129;01mis\u001B[39;00m \u001B[38;5;129;01mnot\u001B[39;00m \u001B[38;5;28;01mNone\u001B[39;00m:\n\u001B[1;32m-> 1130\u001B[0m         \u001B[38;5;28;01mreturn\u001B[39;00m \u001B[38;5;28;43mself\u001B[39;49m\u001B[38;5;241;43m.\u001B[39;49m\u001B[43m_sslobj\u001B[49m\u001B[38;5;241;43m.\u001B[39;49m\u001B[43mread\u001B[49m\u001B[43m(\u001B[49m\u001B[38;5;28;43mlen\u001B[39;49m\u001B[43m,\u001B[49m\u001B[43m \u001B[49m\u001B[43mbuffer\u001B[49m\u001B[43m)\u001B[49m\n\u001B[0;32m   1131\u001B[0m     \u001B[38;5;28;01melse\u001B[39;00m:\n\u001B[0;32m   1132\u001B[0m         \u001B[38;5;28;01mreturn\u001B[39;00m \u001B[38;5;28mself\u001B[39m\u001B[38;5;241m.\u001B[39m_sslobj\u001B[38;5;241m.\u001B[39mread(\u001B[38;5;28mlen\u001B[39m)\n",
      "\u001B[1;31mKeyboardInterrupt\u001B[0m: "
     ]
    }
   ],
   "source": [
    "backup_website()"
   ],
   "metadata": {
    "collapsed": false
   }
  },
  {
   "cell_type": "markdown",
   "source": [],
   "metadata": {
    "collapsed": false
   }
  },
  {
   "cell_type": "markdown",
   "source": [
    "\n",
    "ToDo:\n",
    "- Change classes from recipes to eng words (problem Getränke klasse parsen von ä)\n",
    "- make package faster by reducing requests sendt so website: get value once and use the global variable"
   ],
   "metadata": {
    "collapsed": false
   }
  }
 ],
 "metadata": {
  "kernelspec": {
   "display_name": "Python 3",
   "language": "python",
   "name": "python3"
  },
  "language_info": {
   "codemirror_mode": {
    "name": "ipython",
    "version": 2
   },
   "file_extension": ".py",
   "mimetype": "text/x-python",
   "name": "python",
   "nbconvert_exporter": "python",
   "pygments_lexer": "ipython2",
   "version": "2.7.6"
  }
 },
 "nbformat": 4,
 "nbformat_minor": 0
}
