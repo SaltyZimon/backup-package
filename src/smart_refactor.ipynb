{
 "cells": [
  {
   "cell_type": "code",
   "execution_count": 1,
   "metadata": {
    "collapsed": true
   },
   "outputs": [],
   "source": [
    "from parser import *\n",
    "\n",
    "main_page = get_page_content(\"https://storage.googleapis.com/www.selinaschoice.ch/index.html\")\n",
    "link = \"https://shortcutapp.io/n/OGZmNTk5NTVhNDk3MWVhNDYyZTlhZGY3NTA4YjQ0YTIx\""
   ]
  },
  {
   "cell_type": "code",
   "execution_count": 2,
   "outputs": [],
   "source": [
    "json_object = get_parsed_recipe(main_page, link)"
   ],
   "metadata": {
    "collapsed": false
   }
  },
  {
   "cell_type": "code",
   "execution_count": 3,
   "outputs": [
    {
     "name": "stdout",
     "output_type": "stream",
     "text": [
      "chilli_con_simon.json\n",
      "hauptgang\n",
      "C:\\Users\\u108695\\PycharmProjects\\backup-package\\recipes\\hauptgang\n"
     ]
    }
   ],
   "source": [
    "save_recipe(json_object)"
   ],
   "metadata": {
    "collapsed": false
   }
  },
  {
   "cell_type": "code",
   "execution_count": null,
   "outputs": [],
   "source": [],
   "metadata": {
    "collapsed": false
   }
  }
 ],
 "metadata": {
  "kernelspec": {
   "display_name": "Python 3",
   "language": "python",
   "name": "python3"
  },
  "language_info": {
   "codemirror_mode": {
    "name": "ipython",
    "version": 2
   },
   "file_extension": ".py",
   "mimetype": "text/x-python",
   "name": "python",
   "nbconvert_exporter": "python",
   "pygments_lexer": "ipython2",
   "version": "2.7.6"
  }
 },
 "nbformat": 4,
 "nbformat_minor": 0
}
