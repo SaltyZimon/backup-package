{
 "cells": [
  {
   "cell_type": "code",
   "execution_count": 6,
   "metadata": {
    "collapsed": true
   },
   "outputs": [
    {
     "ename": "ProxyError",
     "evalue": "HTTPSConnectionPool(host='shortcutapp.io', port=443): Max retries exceeded with url: /n/YWI5NWY5MjhhNzUzNTIwYTExNGE5YTdkN2U4ZTBhOGJi (Caused by ProxyError('Cannot connect to proxy.', OSError('Tunnel connection failed: 503 56;')))",
     "output_type": "error",
     "traceback": [
      "\u001B[1;31m---------------------------------------------------------------------------\u001B[0m",
      "\u001B[1;31mOSError\u001B[0m                                   Traceback (most recent call last)",
      "File \u001B[1;32m~\\PycharmProjects\\backup-package\\venv\\Lib\\site-packages\\urllib3\\connectionpool.py:700\u001B[0m, in \u001B[0;36mHTTPConnectionPool.urlopen\u001B[1;34m(self, method, url, body, headers, retries, redirect, assert_same_host, timeout, pool_timeout, release_conn, chunked, body_pos, **response_kw)\u001B[0m\n\u001B[0;32m    699\u001B[0m \u001B[38;5;28;01mif\u001B[39;00m is_new_proxy_conn \u001B[38;5;129;01mand\u001B[39;00m http_tunnel_required:\n\u001B[1;32m--> 700\u001B[0m     \u001B[38;5;28;43mself\u001B[39;49m\u001B[38;5;241;43m.\u001B[39;49m\u001B[43m_prepare_proxy\u001B[49m\u001B[43m(\u001B[49m\u001B[43mconn\u001B[49m\u001B[43m)\u001B[49m\n\u001B[0;32m    702\u001B[0m \u001B[38;5;66;03m# Make the request on the httplib connection object.\u001B[39;00m\n",
      "File \u001B[1;32m~\\PycharmProjects\\backup-package\\venv\\Lib\\site-packages\\urllib3\\connectionpool.py:996\u001B[0m, in \u001B[0;36mHTTPSConnectionPool._prepare_proxy\u001B[1;34m(self, conn)\u001B[0m\n\u001B[0;32m    994\u001B[0m     conn\u001B[38;5;241m.\u001B[39mtls_in_tls_required \u001B[38;5;241m=\u001B[39m \u001B[38;5;28;01mTrue\u001B[39;00m\n\u001B[1;32m--> 996\u001B[0m \u001B[43mconn\u001B[49m\u001B[38;5;241;43m.\u001B[39;49m\u001B[43mconnect\u001B[49m\u001B[43m(\u001B[49m\u001B[43m)\u001B[49m\n",
      "File \u001B[1;32m~\\PycharmProjects\\backup-package\\venv\\Lib\\site-packages\\urllib3\\connection.py:374\u001B[0m, in \u001B[0;36mHTTPSConnection.connect\u001B[1;34m(self)\u001B[0m\n\u001B[0;32m    372\u001B[0m \u001B[38;5;66;03m# Calls self._set_hostport(), so self.host is\u001B[39;00m\n\u001B[0;32m    373\u001B[0m \u001B[38;5;66;03m# self._tunnel_host below.\u001B[39;00m\n\u001B[1;32m--> 374\u001B[0m \u001B[38;5;28;43mself\u001B[39;49m\u001B[38;5;241;43m.\u001B[39;49m\u001B[43m_tunnel\u001B[49m\u001B[43m(\u001B[49m\u001B[43m)\u001B[49m\n\u001B[0;32m    375\u001B[0m \u001B[38;5;66;03m# Mark this connection as not reusable\u001B[39;00m\n",
      "File \u001B[1;32m~\\AppData\\Local\\Programs\\Python\\Python311\\Lib\\http\\client.py:924\u001B[0m, in \u001B[0;36mHTTPConnection._tunnel\u001B[1;34m(self)\u001B[0m\n\u001B[0;32m    923\u001B[0m     \u001B[38;5;28mself\u001B[39m\u001B[38;5;241m.\u001B[39mclose()\n\u001B[1;32m--> 924\u001B[0m     \u001B[38;5;28;01mraise\u001B[39;00m \u001B[38;5;167;01mOSError\u001B[39;00m(\u001B[38;5;124mf\u001B[39m\u001B[38;5;124m\"\u001B[39m\u001B[38;5;124mTunnel connection failed: \u001B[39m\u001B[38;5;132;01m{\u001B[39;00mcode\u001B[38;5;132;01m}\u001B[39;00m\u001B[38;5;124m \u001B[39m\u001B[38;5;132;01m{\u001B[39;00mmessage\u001B[38;5;241m.\u001B[39mstrip()\u001B[38;5;132;01m}\u001B[39;00m\u001B[38;5;124m\"\u001B[39m)\n\u001B[0;32m    925\u001B[0m \u001B[38;5;28;01mwhile\u001B[39;00m \u001B[38;5;28;01mTrue\u001B[39;00m:\n",
      "\u001B[1;31mOSError\u001B[0m: Tunnel connection failed: 503 56;",
      "\nDuring handling of the above exception, another exception occurred:\n",
      "\u001B[1;31mMaxRetryError\u001B[0m                             Traceback (most recent call last)",
      "File \u001B[1;32m~\\PycharmProjects\\backup-package\\venv\\Lib\\site-packages\\requests\\adapters.py:489\u001B[0m, in \u001B[0;36mHTTPAdapter.send\u001B[1;34m(self, request, stream, timeout, verify, cert, proxies)\u001B[0m\n\u001B[0;32m    488\u001B[0m \u001B[38;5;28;01mif\u001B[39;00m \u001B[38;5;129;01mnot\u001B[39;00m chunked:\n\u001B[1;32m--> 489\u001B[0m     resp \u001B[38;5;241m=\u001B[39m \u001B[43mconn\u001B[49m\u001B[38;5;241;43m.\u001B[39;49m\u001B[43murlopen\u001B[49m\u001B[43m(\u001B[49m\n\u001B[0;32m    490\u001B[0m \u001B[43m        \u001B[49m\u001B[43mmethod\u001B[49m\u001B[38;5;241;43m=\u001B[39;49m\u001B[43mrequest\u001B[49m\u001B[38;5;241;43m.\u001B[39;49m\u001B[43mmethod\u001B[49m\u001B[43m,\u001B[49m\n\u001B[0;32m    491\u001B[0m \u001B[43m        \u001B[49m\u001B[43murl\u001B[49m\u001B[38;5;241;43m=\u001B[39;49m\u001B[43murl\u001B[49m\u001B[43m,\u001B[49m\n\u001B[0;32m    492\u001B[0m \u001B[43m        \u001B[49m\u001B[43mbody\u001B[49m\u001B[38;5;241;43m=\u001B[39;49m\u001B[43mrequest\u001B[49m\u001B[38;5;241;43m.\u001B[39;49m\u001B[43mbody\u001B[49m\u001B[43m,\u001B[49m\n\u001B[0;32m    493\u001B[0m \u001B[43m        \u001B[49m\u001B[43mheaders\u001B[49m\u001B[38;5;241;43m=\u001B[39;49m\u001B[43mrequest\u001B[49m\u001B[38;5;241;43m.\u001B[39;49m\u001B[43mheaders\u001B[49m\u001B[43m,\u001B[49m\n\u001B[0;32m    494\u001B[0m \u001B[43m        \u001B[49m\u001B[43mredirect\u001B[49m\u001B[38;5;241;43m=\u001B[39;49m\u001B[38;5;28;43;01mFalse\u001B[39;49;00m\u001B[43m,\u001B[49m\n\u001B[0;32m    495\u001B[0m \u001B[43m        \u001B[49m\u001B[43massert_same_host\u001B[49m\u001B[38;5;241;43m=\u001B[39;49m\u001B[38;5;28;43;01mFalse\u001B[39;49;00m\u001B[43m,\u001B[49m\n\u001B[0;32m    496\u001B[0m \u001B[43m        \u001B[49m\u001B[43mpreload_content\u001B[49m\u001B[38;5;241;43m=\u001B[39;49m\u001B[38;5;28;43;01mFalse\u001B[39;49;00m\u001B[43m,\u001B[49m\n\u001B[0;32m    497\u001B[0m \u001B[43m        \u001B[49m\u001B[43mdecode_content\u001B[49m\u001B[38;5;241;43m=\u001B[39;49m\u001B[38;5;28;43;01mFalse\u001B[39;49;00m\u001B[43m,\u001B[49m\n\u001B[0;32m    498\u001B[0m \u001B[43m        \u001B[49m\u001B[43mretries\u001B[49m\u001B[38;5;241;43m=\u001B[39;49m\u001B[38;5;28;43mself\u001B[39;49m\u001B[38;5;241;43m.\u001B[39;49m\u001B[43mmax_retries\u001B[49m\u001B[43m,\u001B[49m\n\u001B[0;32m    499\u001B[0m \u001B[43m        \u001B[49m\u001B[43mtimeout\u001B[49m\u001B[38;5;241;43m=\u001B[39;49m\u001B[43mtimeout\u001B[49m\u001B[43m,\u001B[49m\n\u001B[0;32m    500\u001B[0m \u001B[43m    \u001B[49m\u001B[43m)\u001B[49m\n\u001B[0;32m    502\u001B[0m \u001B[38;5;66;03m# Send the request.\u001B[39;00m\n\u001B[0;32m    503\u001B[0m \u001B[38;5;28;01melse\u001B[39;00m:\n",
      "File \u001B[1;32m~\\PycharmProjects\\backup-package\\venv\\Lib\\site-packages\\urllib3\\connectionpool.py:787\u001B[0m, in \u001B[0;36mHTTPConnectionPool.urlopen\u001B[1;34m(self, method, url, body, headers, retries, redirect, assert_same_host, timeout, pool_timeout, release_conn, chunked, body_pos, **response_kw)\u001B[0m\n\u001B[0;32m    785\u001B[0m     e \u001B[38;5;241m=\u001B[39m ProtocolError(\u001B[38;5;124m\"\u001B[39m\u001B[38;5;124mConnection aborted.\u001B[39m\u001B[38;5;124m\"\u001B[39m, e)\n\u001B[1;32m--> 787\u001B[0m retries \u001B[38;5;241m=\u001B[39m \u001B[43mretries\u001B[49m\u001B[38;5;241;43m.\u001B[39;49m\u001B[43mincrement\u001B[49m\u001B[43m(\u001B[49m\n\u001B[0;32m    788\u001B[0m \u001B[43m    \u001B[49m\u001B[43mmethod\u001B[49m\u001B[43m,\u001B[49m\u001B[43m \u001B[49m\u001B[43murl\u001B[49m\u001B[43m,\u001B[49m\u001B[43m \u001B[49m\u001B[43merror\u001B[49m\u001B[38;5;241;43m=\u001B[39;49m\u001B[43me\u001B[49m\u001B[43m,\u001B[49m\u001B[43m \u001B[49m\u001B[43m_pool\u001B[49m\u001B[38;5;241;43m=\u001B[39;49m\u001B[38;5;28;43mself\u001B[39;49m\u001B[43m,\u001B[49m\u001B[43m \u001B[49m\u001B[43m_stacktrace\u001B[49m\u001B[38;5;241;43m=\u001B[39;49m\u001B[43msys\u001B[49m\u001B[38;5;241;43m.\u001B[39;49m\u001B[43mexc_info\u001B[49m\u001B[43m(\u001B[49m\u001B[43m)\u001B[49m\u001B[43m[\u001B[49m\u001B[38;5;241;43m2\u001B[39;49m\u001B[43m]\u001B[49m\n\u001B[0;32m    789\u001B[0m \u001B[43m\u001B[49m\u001B[43m)\u001B[49m\n\u001B[0;32m    790\u001B[0m retries\u001B[38;5;241m.\u001B[39msleep()\n",
      "File \u001B[1;32m~\\PycharmProjects\\backup-package\\venv\\Lib\\site-packages\\urllib3\\util\\retry.py:592\u001B[0m, in \u001B[0;36mRetry.increment\u001B[1;34m(self, method, url, response, error, _pool, _stacktrace)\u001B[0m\n\u001B[0;32m    591\u001B[0m \u001B[38;5;28;01mif\u001B[39;00m new_retry\u001B[38;5;241m.\u001B[39mis_exhausted():\n\u001B[1;32m--> 592\u001B[0m     \u001B[38;5;28;01mraise\u001B[39;00m MaxRetryError(_pool, url, error \u001B[38;5;129;01mor\u001B[39;00m ResponseError(cause))\n\u001B[0;32m    594\u001B[0m log\u001B[38;5;241m.\u001B[39mdebug(\u001B[38;5;124m\"\u001B[39m\u001B[38;5;124mIncremented Retry for (url=\u001B[39m\u001B[38;5;124m'\u001B[39m\u001B[38;5;132;01m%s\u001B[39;00m\u001B[38;5;124m'\u001B[39m\u001B[38;5;124m): \u001B[39m\u001B[38;5;132;01m%r\u001B[39;00m\u001B[38;5;124m\"\u001B[39m, url, new_retry)\n",
      "\u001B[1;31mMaxRetryError\u001B[0m: HTTPSConnectionPool(host='shortcutapp.io', port=443): Max retries exceeded with url: /n/YWI5NWY5MjhhNzUzNTIwYTExNGE5YTdkN2U4ZTBhOGJi (Caused by ProxyError('Cannot connect to proxy.', OSError('Tunnel connection failed: 503 56;')))",
      "\nDuring handling of the above exception, another exception occurred:\n",
      "\u001B[1;31mProxyError\u001B[0m                                Traceback (most recent call last)",
      "Cell \u001B[1;32mIn[6], line 48\u001B[0m\n\u001B[0;32m     45\u001B[0m         parsed_homepage \u001B[38;5;241m=\u001B[39m BeautifulSoup(homepage\u001B[38;5;241m.\u001B[39mtext, \u001B[38;5;124m'\u001B[39m\u001B[38;5;124mhtml.parser\u001B[39m\u001B[38;5;124m'\u001B[39m)\n\u001B[0;32m     46\u001B[0m         \u001B[38;5;28;01mreturn\u001B[39;00m parsed_homepage\n\u001B[1;32m---> 48\u001B[0m corrupt_page \u001B[38;5;241m=\u001B[39m \u001B[43mget_page_content\u001B[49m\u001B[43m(\u001B[49m\u001B[38;5;124;43m\"\u001B[39;49m\u001B[38;5;124;43mhttps://shortcutapp.io/n/YWI5NWY5MjhhNzUzNTIwYTExNGE5YTdkN2U4ZTBhOGJi\u001B[39;49m\u001B[38;5;124;43m\"\u001B[39;49m\u001B[43m)\u001B[49m\n\u001B[0;32m     49\u001B[0m main_page \u001B[38;5;241m=\u001B[39m get_page_content(\u001B[38;5;124m'\u001B[39m\u001B[38;5;124mhttps://storage.googleapis.com/www.selinaschoice.ch/index.html\u001B[39m\u001B[38;5;124m'\u001B[39m)\n\u001B[0;32m     50\u001B[0m recipe \u001B[38;5;241m=\u001B[39m get_page_content(\u001B[38;5;124m\"\u001B[39m\u001B[38;5;124mhttps://shortcutapp.io/n/MGEzNzRmYzQ1MjkzYTlhMjY0YTE2NjE4MjgwMGEzOTY5\u001B[39m\u001B[38;5;124m\"\u001B[39m)\n",
      "Cell \u001B[1;32mIn[6], line 24\u001B[0m, in \u001B[0;36mtimeit.<locals>.timeit_wrapper\u001B[1;34m(*args, **kwargs)\u001B[0m\n\u001B[0;32m     21\u001B[0m \u001B[38;5;129m@wraps\u001B[39m(func)\n\u001B[0;32m     22\u001B[0m \u001B[38;5;28;01mdef\u001B[39;00m \u001B[38;5;21mtimeit_wrapper\u001B[39m(\u001B[38;5;241m*\u001B[39margs, \u001B[38;5;241m*\u001B[39m\u001B[38;5;241m*\u001B[39mkwargs):\n\u001B[0;32m     23\u001B[0m     start_time \u001B[38;5;241m=\u001B[39m time\u001B[38;5;241m.\u001B[39mperf_counter()\n\u001B[1;32m---> 24\u001B[0m     result \u001B[38;5;241m=\u001B[39m \u001B[43mfunc\u001B[49m\u001B[43m(\u001B[49m\u001B[38;5;241;43m*\u001B[39;49m\u001B[43margs\u001B[49m\u001B[43m,\u001B[49m\u001B[43m \u001B[49m\u001B[38;5;241;43m*\u001B[39;49m\u001B[38;5;241;43m*\u001B[39;49m\u001B[43mkwargs\u001B[49m\u001B[43m)\u001B[49m\n\u001B[0;32m     25\u001B[0m     end_time \u001B[38;5;241m=\u001B[39m time\u001B[38;5;241m.\u001B[39mperf_counter()\n\u001B[0;32m     26\u001B[0m     total_time \u001B[38;5;241m=\u001B[39m end_time \u001B[38;5;241m-\u001B[39m start_time\n",
      "Cell \u001B[1;32mIn[6], line 40\u001B[0m, in \u001B[0;36mget_page_content\u001B[1;34m(link)\u001B[0m\n\u001B[0;32m     33\u001B[0m \u001B[38;5;129m@timeit\u001B[39m\n\u001B[0;32m     34\u001B[0m \u001B[38;5;28;01mdef\u001B[39;00m \u001B[38;5;21mget_page_content\u001B[39m(link: \u001B[38;5;28mstr\u001B[39m) \u001B[38;5;241m-\u001B[39m\u001B[38;5;241m>\u001B[39m \u001B[38;5;28mstr\u001B[39m:\n\u001B[0;32m     35\u001B[0m \u001B[38;5;250m    \u001B[39m\u001B[38;5;124;03m\"\"\"\u001B[39;00m\n\u001B[0;32m     36\u001B[0m \u001B[38;5;124;03m    Get a Parsed homepage as HTML str.\u001B[39;00m\n\u001B[0;32m     37\u001B[0m \u001B[38;5;124;03m    :param link:\u001B[39;00m\n\u001B[0;32m     38\u001B[0m \u001B[38;5;124;03m    :return: parsed_homepage\u001B[39;00m\n\u001B[0;32m     39\u001B[0m \u001B[38;5;124;03m    \"\"\"\u001B[39;00m\n\u001B[1;32m---> 40\u001B[0m     homepage \u001B[38;5;241m=\u001B[39m \u001B[43mrequests\u001B[49m\u001B[38;5;241;43m.\u001B[39;49m\u001B[43mget\u001B[49m\u001B[43m(\u001B[49m\u001B[43mlink\u001B[49m\u001B[43m)\u001B[49m\n\u001B[0;32m     41\u001B[0m     \u001B[38;5;28;01mif\u001B[39;00m \u001B[38;5;129;01mnot\u001B[39;00m homepage\u001B[38;5;241m.\u001B[39mstatus_code \u001B[38;5;241m==\u001B[39m \u001B[38;5;241m200\u001B[39m:\n\u001B[0;32m     42\u001B[0m         report\u001B[38;5;241m.\u001B[39mappend(\u001B[38;5;124mf\u001B[39m\u001B[38;5;124m\"\u001B[39m\u001B[38;5;124mCan\u001B[39m\u001B[38;5;124m'\u001B[39m\u001B[38;5;124mt reach \u001B[39m\u001B[38;5;132;01m{\u001B[39;00mlink\u001B[38;5;132;01m}\u001B[39;00m\u001B[38;5;124m with status code 200.\u001B[39m\u001B[38;5;124m\"\u001B[39m)\n",
      "File \u001B[1;32m~\\PycharmProjects\\backup-package\\venv\\Lib\\site-packages\\requests\\api.py:73\u001B[0m, in \u001B[0;36mget\u001B[1;34m(url, params, **kwargs)\u001B[0m\n\u001B[0;32m     62\u001B[0m \u001B[38;5;28;01mdef\u001B[39;00m \u001B[38;5;21mget\u001B[39m(url, params\u001B[38;5;241m=\u001B[39m\u001B[38;5;28;01mNone\u001B[39;00m, \u001B[38;5;241m*\u001B[39m\u001B[38;5;241m*\u001B[39mkwargs):\n\u001B[0;32m     63\u001B[0m \u001B[38;5;250m    \u001B[39m\u001B[38;5;124mr\u001B[39m\u001B[38;5;124;03m\"\"\"Sends a GET request.\u001B[39;00m\n\u001B[0;32m     64\u001B[0m \n\u001B[0;32m     65\u001B[0m \u001B[38;5;124;03m    :param url: URL for the new :class:`Request` object.\u001B[39;00m\n\u001B[1;32m   (...)\u001B[0m\n\u001B[0;32m     70\u001B[0m \u001B[38;5;124;03m    :rtype: requests.Response\u001B[39;00m\n\u001B[0;32m     71\u001B[0m \u001B[38;5;124;03m    \"\"\"\u001B[39;00m\n\u001B[1;32m---> 73\u001B[0m     \u001B[38;5;28;01mreturn\u001B[39;00m \u001B[43mrequest\u001B[49m\u001B[43m(\u001B[49m\u001B[38;5;124;43m\"\u001B[39;49m\u001B[38;5;124;43mget\u001B[39;49m\u001B[38;5;124;43m\"\u001B[39;49m\u001B[43m,\u001B[49m\u001B[43m \u001B[49m\u001B[43murl\u001B[49m\u001B[43m,\u001B[49m\u001B[43m \u001B[49m\u001B[43mparams\u001B[49m\u001B[38;5;241;43m=\u001B[39;49m\u001B[43mparams\u001B[49m\u001B[43m,\u001B[49m\u001B[43m \u001B[49m\u001B[38;5;241;43m*\u001B[39;49m\u001B[38;5;241;43m*\u001B[39;49m\u001B[43mkwargs\u001B[49m\u001B[43m)\u001B[49m\n",
      "File \u001B[1;32m~\\PycharmProjects\\backup-package\\venv\\Lib\\site-packages\\requests\\api.py:59\u001B[0m, in \u001B[0;36mrequest\u001B[1;34m(method, url, **kwargs)\u001B[0m\n\u001B[0;32m     55\u001B[0m \u001B[38;5;66;03m# By using the 'with' statement we are sure the session is closed, thus we\u001B[39;00m\n\u001B[0;32m     56\u001B[0m \u001B[38;5;66;03m# avoid leaving sockets open which can trigger a ResourceWarning in some\u001B[39;00m\n\u001B[0;32m     57\u001B[0m \u001B[38;5;66;03m# cases, and look like a memory leak in others.\u001B[39;00m\n\u001B[0;32m     58\u001B[0m \u001B[38;5;28;01mwith\u001B[39;00m sessions\u001B[38;5;241m.\u001B[39mSession() \u001B[38;5;28;01mas\u001B[39;00m session:\n\u001B[1;32m---> 59\u001B[0m     \u001B[38;5;28;01mreturn\u001B[39;00m \u001B[43msession\u001B[49m\u001B[38;5;241;43m.\u001B[39;49m\u001B[43mrequest\u001B[49m\u001B[43m(\u001B[49m\u001B[43mmethod\u001B[49m\u001B[38;5;241;43m=\u001B[39;49m\u001B[43mmethod\u001B[49m\u001B[43m,\u001B[49m\u001B[43m \u001B[49m\u001B[43murl\u001B[49m\u001B[38;5;241;43m=\u001B[39;49m\u001B[43murl\u001B[49m\u001B[43m,\u001B[49m\u001B[43m \u001B[49m\u001B[38;5;241;43m*\u001B[39;49m\u001B[38;5;241;43m*\u001B[39;49m\u001B[43mkwargs\u001B[49m\u001B[43m)\u001B[49m\n",
      "File \u001B[1;32m~\\PycharmProjects\\backup-package\\venv\\Lib\\site-packages\\requests\\sessions.py:587\u001B[0m, in \u001B[0;36mSession.request\u001B[1;34m(self, method, url, params, data, headers, cookies, files, auth, timeout, allow_redirects, proxies, hooks, stream, verify, cert, json)\u001B[0m\n\u001B[0;32m    582\u001B[0m send_kwargs \u001B[38;5;241m=\u001B[39m {\n\u001B[0;32m    583\u001B[0m     \u001B[38;5;124m\"\u001B[39m\u001B[38;5;124mtimeout\u001B[39m\u001B[38;5;124m\"\u001B[39m: timeout,\n\u001B[0;32m    584\u001B[0m     \u001B[38;5;124m\"\u001B[39m\u001B[38;5;124mallow_redirects\u001B[39m\u001B[38;5;124m\"\u001B[39m: allow_redirects,\n\u001B[0;32m    585\u001B[0m }\n\u001B[0;32m    586\u001B[0m send_kwargs\u001B[38;5;241m.\u001B[39mupdate(settings)\n\u001B[1;32m--> 587\u001B[0m resp \u001B[38;5;241m=\u001B[39m \u001B[38;5;28;43mself\u001B[39;49m\u001B[38;5;241;43m.\u001B[39;49m\u001B[43msend\u001B[49m\u001B[43m(\u001B[49m\u001B[43mprep\u001B[49m\u001B[43m,\u001B[49m\u001B[43m \u001B[49m\u001B[38;5;241;43m*\u001B[39;49m\u001B[38;5;241;43m*\u001B[39;49m\u001B[43msend_kwargs\u001B[49m\u001B[43m)\u001B[49m\n\u001B[0;32m    589\u001B[0m \u001B[38;5;28;01mreturn\u001B[39;00m resp\n",
      "File \u001B[1;32m~\\PycharmProjects\\backup-package\\venv\\Lib\\site-packages\\requests\\sessions.py:701\u001B[0m, in \u001B[0;36mSession.send\u001B[1;34m(self, request, **kwargs)\u001B[0m\n\u001B[0;32m    698\u001B[0m start \u001B[38;5;241m=\u001B[39m preferred_clock()\n\u001B[0;32m    700\u001B[0m \u001B[38;5;66;03m# Send the request\u001B[39;00m\n\u001B[1;32m--> 701\u001B[0m r \u001B[38;5;241m=\u001B[39m \u001B[43madapter\u001B[49m\u001B[38;5;241;43m.\u001B[39;49m\u001B[43msend\u001B[49m\u001B[43m(\u001B[49m\u001B[43mrequest\u001B[49m\u001B[43m,\u001B[49m\u001B[43m \u001B[49m\u001B[38;5;241;43m*\u001B[39;49m\u001B[38;5;241;43m*\u001B[39;49m\u001B[43mkwargs\u001B[49m\u001B[43m)\u001B[49m\n\u001B[0;32m    703\u001B[0m \u001B[38;5;66;03m# Total elapsed time of the request (approximately)\u001B[39;00m\n\u001B[0;32m    704\u001B[0m elapsed \u001B[38;5;241m=\u001B[39m preferred_clock() \u001B[38;5;241m-\u001B[39m start\n",
      "File \u001B[1;32m~\\PycharmProjects\\backup-package\\venv\\Lib\\site-packages\\requests\\adapters.py:559\u001B[0m, in \u001B[0;36mHTTPAdapter.send\u001B[1;34m(self, request, stream, timeout, verify, cert, proxies)\u001B[0m\n\u001B[0;32m    556\u001B[0m     \u001B[38;5;28;01mraise\u001B[39;00m RetryError(e, request\u001B[38;5;241m=\u001B[39mrequest)\n\u001B[0;32m    558\u001B[0m \u001B[38;5;28;01mif\u001B[39;00m \u001B[38;5;28misinstance\u001B[39m(e\u001B[38;5;241m.\u001B[39mreason, _ProxyError):\n\u001B[1;32m--> 559\u001B[0m     \u001B[38;5;28;01mraise\u001B[39;00m ProxyError(e, request\u001B[38;5;241m=\u001B[39mrequest)\n\u001B[0;32m    561\u001B[0m \u001B[38;5;28;01mif\u001B[39;00m \u001B[38;5;28misinstance\u001B[39m(e\u001B[38;5;241m.\u001B[39mreason, _SSLError):\n\u001B[0;32m    562\u001B[0m     \u001B[38;5;66;03m# This branch is for urllib3 v1.22 and later.\u001B[39;00m\n\u001B[0;32m    563\u001B[0m     \u001B[38;5;28;01mraise\u001B[39;00m SSLError(e, request\u001B[38;5;241m=\u001B[39mrequest)\n",
      "\u001B[1;31mProxyError\u001B[0m: HTTPSConnectionPool(host='shortcutapp.io', port=443): Max retries exceeded with url: /n/YWI5NWY5MjhhNzUzNTIwYTExNGE5YTdkN2U4ZTBhOGJi (Caused by ProxyError('Cannot connect to proxy.', OSError('Tunnel connection failed: 503 56;')))"
     ]
    }
   ],
   "source": [
    "import json\n",
    "import os\n",
    "import time\n",
    "from datetime import datetime\n",
    "from functools import wraps\n",
    "from typing import List, Dict\n",
    "\n",
    "import requests\n",
    "from bs4 import BeautifulSoup\n",
    "\n",
    "allowed_categories = [\"vorspeise\", \"hauptgang\", \"dessert\", \"fruehstueck\", \"snacks\", \"brote\", \"getraenke\"]\n",
    "report = []\n",
    "\n",
    "\n",
    "def timeit(func):\n",
    "    \"\"\"\n",
    "    Function, to get the runtime from different functions\n",
    "    :param func:\n",
    "    :return: runtime\n",
    "    \"\"\"\n",
    "\n",
    "    @wraps(func)\n",
    "    def timeit_wrapper(*args, **kwargs):\n",
    "        start_time = time.perf_counter()\n",
    "        result = func(*args, **kwargs)\n",
    "        end_time = time.perf_counter()\n",
    "        total_time = end_time - start_time\n",
    "        print(f'Function {func.__name__}{args} {kwargs} Took {total_time:.4f} seconds')\n",
    "        return result\n",
    "\n",
    "    return timeit_wrapper\n",
    "\n",
    "\n",
    "@timeit\n",
    "def get_page_content(link: str) -> str:\n",
    "    \"\"\"\n",
    "    Get a Parsed homepage as HTML str.\n",
    "    :param link:\n",
    "    :return: parsed_homepage\n",
    "    \"\"\"\n",
    "    homepage = requests.get(link)\n",
    "    if not homepage.status_code == 200:\n",
    "        report.append(f\"Can't reach {link} with status code 200.\")\n",
    "        return False\n",
    "    elif homepage.status_code == 200:\n",
    "        parsed_homepage = BeautifulSoup(homepage.text, 'html.parser')\n",
    "        return parsed_homepage\n",
    "\n",
    "\n",
    "corrupt_page = get_page_content(\"https://shortcutapp.io/n/YWI5NWY5MjhhNzUzNTIwYTExNGE5YTdkN2U4ZTBhOGJi\")\n",
    "main_page = get_page_content('https://storage.googleapis.com/www.selinaschoice.ch/index.html')\n",
    "recipe = get_page_content(\"https://shortcutapp.io/n/MGEzNzRmYzQ1MjkzYTlhMjY0YTE2NjE4MjgwMGEzOTY5\")"
   ]
  },
  {
   "cell_type": "code",
   "execution_count": null,
   "outputs": [],
   "source": [
    "@timeit\n",
    "def get_links_from_category(category: List) -> List:\n",
    "    \"\"\"\n",
    "    Get a List recipes acording to the categories\n",
    "    :param category:\n",
    "    :return: recipes\n",
    "    \"\"\"\n",
    "    recipes = []\n",
    "    recipes_by_category = main_page.find_all(\"div\", class_=category)  # a -> div\n",
    "    for tag in recipes_by_category:\n",
    "        recipe = tag.a.get('href', None)\n",
    "        recipes.append(recipe)\n",
    "    return recipes\n",
    "\n",
    "\n",
    "get_links_from_category([\"vorspeise\", \"hauptgang\"])\n",
    "\n",
    "\n",
    "@timeit\n",
    "def get_links_to_scrape(categories=None) -> List:\n",
    "    \"\"\"\n",
    "    Get all or some Recipes by categories. Default is None and will give you all recipies links.\n",
    "    :param categories: None, str oder List\n",
    "    :return: recipes: List\n",
    "    \"\"\"\n",
    "    if categories is None:\n",
    "        recipes = get_links_from_category(allowed_categories)\n",
    "    else:\n",
    "        recipes = get_links_from_category(categories)\n",
    "    return recipes\n",
    "\n",
    "\n",
    "tes = get_links_to_scrape()\n",
    "len(tes)"
   ],
   "metadata": {
    "collapsed": false
   }
  },
  {
   "cell_type": "markdown",
   "source": [
    "# All Link Functions that are now working with a str input"
   ],
   "metadata": {
    "collapsed": false
   }
  },
  {
   "cell_type": "code",
   "execution_count": null,
   "outputs": [],
   "source": [
    "def get_timestamp(recipe: str) -> str:\n",
    "    \"\"\"\n",
    "    Get Timestamp from when the recipe is created.\n",
    "    :param link: str\n",
    "    :return time: str\n",
    "    \"\"\"\n",
    "    recipe.find_all('time')\n",
    "    datetime_str = recipe.find('time')[\"datetime\"]\n",
    "    datetime_object = datetime.strptime(datetime_str, \"%Y-%m-%dT%H:%M:%SZ\")\n",
    "    return (str(datetime_object))\n",
    "\n",
    "\n",
    "get_timestamp(recipe)\n",
    "\n",
    "\n",
    "def get_recipe_title(recipe: str) -> str:\n",
    "    \"\"\"\n",
    "    Get the Title from a recipe with a recipe link.\n",
    "    :param recipe: str\n",
    "    :return: title: str\n",
    "    \"\"\"\n",
    "    title = recipe.h1.text\n",
    "    return title\n",
    "\n",
    "\n",
    "get_recipe_title(recipe)\n",
    "\n",
    "\n",
    "def get_prep_time(recipe: str) -> str:\n",
    "    \"\"\"\n",
    "    Get the preparation time from a recipe.\n",
    "    :param recipe: str\n",
    "    :return prep_time: str\n",
    "    \"\"\"\n",
    "    try:\n",
    "        prep_time = recipe.find('time', itemprop=\"prepTime\").text\n",
    "    except AttributeError as e:\n",
    "        print(f\"Problem with {e}\")\n",
    "        prep_time = recipe.find('time', itemprop=\"performTime\").text\n",
    "    return prep_time\n",
    "\n",
    "\n",
    "get_prep_time(recipe)\n",
    "\n",
    "\n",
    "def get_serves(recipe: str) -> str:\n",
    "    \"\"\"\n",
    "    Get serves from recipe.\n",
    "    :param link: str\n",
    "    :return serves: str\n",
    "    \"\"\"\n",
    "    serves = recipe.find_all('li')[1].text\n",
    "    return serves[8:]  # without index returns \"serves: 4 persons\"\n",
    "\n",
    "\n",
    "get_serves(recipe)\n",
    "\n",
    "\n",
    "def get_difficulty(recipe: str) -> str:\n",
    "    \"\"\"\n",
    "    Get difficulty from recipe.\n",
    "    :param link: str\n",
    "    :return difficulty: str\n",
    "    \"\"\"\n",
    "    difficulty = recipe.find_all('li')[2].text\n",
    "    return difficulty[12:]  # without index returns \"difficulty: easy emoji\"\n",
    "\n",
    "\n",
    "get_difficulty(recipe)\n",
    "\n",
    "\n",
    "def get_ingredients(recipe: str) -> List[Dict]:\n",
    "    \"\"\"\n",
    "    get all ingredients from a recipe.\n",
    "    :param recipe: str\n",
    "    :return ingredientArray: list\n",
    "    \"\"\"\n",
    "    ingredients = recipe.find(\"section\", class_=\"ingredients\")\n",
    "    ingredientArray = []\n",
    "    for li in ingredients.find_all('li'):\n",
    "        quantity = li.find('div', class_='quantity').text\n",
    "        ingredient = li.find('div', class_='name').text\n",
    "        # print(quantity)\n",
    "        # print(ingredient)\n",
    "        ingredientValues = {\n",
    "            \"quantity\": quantity,\n",
    "            \"name\": ingredient,\n",
    "        }\n",
    "        ingredientArray.append(ingredientValues)\n",
    "    return ingredientArray\n",
    "\n",
    "\n",
    "get_ingredients(recipe)\n",
    "\n",
    "\n",
    "def get_instructions(recipe: str) -> List[Dict]:\n",
    "    \"\"\"\n",
    "    Get the instructions from a recipe.\n",
    "    :param recipe: str\n",
    "    :return instructionArray: list\n",
    "    \"\"\"\n",
    "    instruction_array = []\n",
    "    instructions = recipe.find('section', class_='instructions')\n",
    "    for li in instructions.find_all('li'):\n",
    "        stepTitle = li.find('div', class_='details').h3.text\n",
    "        stepInfo = li.find('div', class_='text').text\n",
    "        # print(stepTitle)\n",
    "        # print(stepInfo)\n",
    "        instructionValues = {\n",
    "            \"step\": stepTitle,\n",
    "            \"instruction\": stepInfo,\n",
    "        }\n",
    "        instruction_array.append(instructionValues)\n",
    "    return instruction_array\n",
    "\n",
    "\n",
    "get_instructions(recipe)"
   ],
   "metadata": {
    "collapsed": false
   }
  },
  {
   "cell_type": "markdown",
   "source": [
    "# Functions that need the link to work with"
   ],
   "metadata": {
    "collapsed": false
   }
  },
  {
   "cell_type": "code",
   "execution_count": 5,
   "outputs": [
    {
     "ename": "NameError",
     "evalue": "name 'main_page' is not defined",
     "output_type": "error",
     "traceback": [
      "\u001B[1;31m---------------------------------------------------------------------------\u001B[0m",
      "\u001B[1;31mNameError\u001B[0m                                 Traceback (most recent call last)",
      "Cell \u001B[1;32mIn[5], line 18\u001B[0m\n\u001B[0;32m     14\u001B[0m     \u001B[38;5;28;01melse\u001B[39;00m:\n\u001B[0;32m     15\u001B[0m         \u001B[38;5;28mprint\u001B[39m(\u001B[38;5;124mf\u001B[39m\u001B[38;5;124m\"\u001B[39m\u001B[38;5;124mThe class from recipe: \u001B[39m\u001B[38;5;132;01m{\u001B[39;00mlink\u001B[38;5;132;01m}\u001B[39;00m\u001B[38;5;124m is \u001B[39m\u001B[38;5;132;01m{\u001B[39;00mrecipe_class\u001B[38;5;132;01m}\u001B[39;00m\u001B[38;5;124m and not in \u001B[39m\u001B[38;5;132;01m{\u001B[39;00mallowed_categories\u001B[38;5;132;01m}\u001B[39;00m\u001B[38;5;124m.\u001B[39m\u001B[38;5;124m\"\u001B[39m)\n\u001B[1;32m---> 18\u001B[0m \u001B[43mget_category_from_recipe\u001B[49m\u001B[43m(\u001B[49m\u001B[38;5;124;43m'\u001B[39;49m\u001B[38;5;124;43mhttps://shortcutapp.io/n/MGEzNzRmYzQ1MjkzYTlhMjY0YTE2NjE4MjgwMGEzOTY5\u001B[39;49m\u001B[38;5;124;43m'\u001B[39;49m\u001B[43m)\u001B[49m\n\u001B[0;32m     21\u001B[0m \u001B[38;5;129m@timeit\u001B[39m\n\u001B[0;32m     22\u001B[0m \u001B[38;5;28;01mdef\u001B[39;00m \u001B[38;5;21mget_recipe_img_path\u001B[39m(link: \u001B[38;5;28mstr\u001B[39m) \u001B[38;5;241m-\u001B[39m\u001B[38;5;241m>\u001B[39m \u001B[38;5;28mstr\u001B[39m:\n\u001B[0;32m     23\u001B[0m \u001B[38;5;250m    \u001B[39m\u001B[38;5;124;03m\"\"\"\u001B[39;00m\n\u001B[0;32m     24\u001B[0m \u001B[38;5;124;03m    Get the img path from a recipe with the recipe link.\u001B[39;00m\n\u001B[0;32m     25\u001B[0m \u001B[38;5;124;03m    :param link: str\u001B[39;00m\n\u001B[0;32m     26\u001B[0m \u001B[38;5;124;03m    :return img_path: str\u001B[39;00m\n\u001B[0;32m     27\u001B[0m \u001B[38;5;124;03m    \"\"\"\u001B[39;00m\n",
      "Cell \u001B[1;32mIn[4], line 24\u001B[0m, in \u001B[0;36mtimeit.<locals>.timeit_wrapper\u001B[1;34m(*args, **kwargs)\u001B[0m\n\u001B[0;32m     21\u001B[0m \u001B[38;5;129m@wraps\u001B[39m(func)\n\u001B[0;32m     22\u001B[0m \u001B[38;5;28;01mdef\u001B[39;00m \u001B[38;5;21mtimeit_wrapper\u001B[39m(\u001B[38;5;241m*\u001B[39margs, \u001B[38;5;241m*\u001B[39m\u001B[38;5;241m*\u001B[39mkwargs):\n\u001B[0;32m     23\u001B[0m     start_time \u001B[38;5;241m=\u001B[39m time\u001B[38;5;241m.\u001B[39mperf_counter()\n\u001B[1;32m---> 24\u001B[0m     result \u001B[38;5;241m=\u001B[39m \u001B[43mfunc\u001B[49m\u001B[43m(\u001B[49m\u001B[38;5;241;43m*\u001B[39;49m\u001B[43margs\u001B[49m\u001B[43m,\u001B[49m\u001B[43m \u001B[49m\u001B[38;5;241;43m*\u001B[39;49m\u001B[38;5;241;43m*\u001B[39;49m\u001B[43mkwargs\u001B[49m\u001B[43m)\u001B[49m\n\u001B[0;32m     25\u001B[0m     end_time \u001B[38;5;241m=\u001B[39m time\u001B[38;5;241m.\u001B[39mperf_counter()\n\u001B[0;32m     26\u001B[0m     total_time \u001B[38;5;241m=\u001B[39m end_time \u001B[38;5;241m-\u001B[39m start_time\n",
      "Cell \u001B[1;32mIn[5], line 8\u001B[0m, in \u001B[0;36mget_category_from_recipe\u001B[1;34m(link)\u001B[0m\n\u001B[0;32m      1\u001B[0m \u001B[38;5;129m@timeit\u001B[39m\n\u001B[0;32m      2\u001B[0m \u001B[38;5;28;01mdef\u001B[39;00m \u001B[38;5;21mget_category_from_recipe\u001B[39m(link: \u001B[38;5;28mstr\u001B[39m) \u001B[38;5;241m-\u001B[39m\u001B[38;5;241m>\u001B[39m \u001B[38;5;28mstr\u001B[39m:\n\u001B[0;32m      3\u001B[0m \u001B[38;5;250m    \u001B[39m\u001B[38;5;124;03m\"\"\"\u001B[39;00m\n\u001B[0;32m      4\u001B[0m \u001B[38;5;124;03m    Get the one of allowed classes based on the recipe link.\u001B[39;00m\n\u001B[0;32m      5\u001B[0m \u001B[38;5;124;03m    :param link: str\u001B[39;00m\n\u001B[0;32m      6\u001B[0m \u001B[38;5;124;03m    :return recipe_class: str\u001B[39;00m\n\u001B[0;32m      7\u001B[0m \u001B[38;5;124;03m    \"\"\"\u001B[39;00m\n\u001B[1;32m----> 8\u001B[0m     specific_recipe \u001B[38;5;241m=\u001B[39m \u001B[43mmain_page\u001B[49m\u001B[38;5;241m.\u001B[39mfind(\u001B[38;5;124m\"\u001B[39m\u001B[38;5;124ma\u001B[39m\u001B[38;5;124m\"\u001B[39m, href\u001B[38;5;241m=\u001B[39mlink)\u001B[38;5;241m.\u001B[39mparent\n\u001B[0;32m      9\u001B[0m     \u001B[38;5;28mprint\u001B[39m(specific_recipe)\n\u001B[0;32m     10\u001B[0m     specific_recipe_class \u001B[38;5;241m=\u001B[39m specific_recipe[\u001B[38;5;124m\"\u001B[39m\u001B[38;5;124mclass\u001B[39m\u001B[38;5;124m\"\u001B[39m][\u001B[38;5;241m1\u001B[39m:]\n",
      "\u001B[1;31mNameError\u001B[0m: name 'main_page' is not defined"
     ]
    }
   ],
   "source": [
    "@timeit\n",
    "def get_category_from_recipe(link: str) -> str:\n",
    "    \"\"\"\n",
    "    Get the one of allowed classes based on the recipe link.\n",
    "    :param link: str\n",
    "    :return recipe_class: str\n",
    "    \"\"\"\n",
    "    specific_recipe = main_page.find(\"a\", href=link).parent\n",
    "    print(specific_recipe)\n",
    "    specific_recipe_class = specific_recipe[\"class\"][1:]\n",
    "    recipe_class = \"\".join(specific_recipe_class)\n",
    "    if recipe_class in allowed_categories:\n",
    "        return recipe_class\n",
    "    else:\n",
    "        print(f\"The class from recipe: {link} is {recipe_class} and not in {allowed_categories}.\")\n",
    "\n",
    "\n",
    "get_category_from_recipe('https://shortcutapp.io/n/MGEzNzRmYzQ1MjkzYTlhMjY0YTE2NjE4MjgwMGEzOTY5')\n",
    "\n",
    "\n",
    "@timeit\n",
    "def get_recipe_img_path(link: str) -> str:\n",
    "    \"\"\"\n",
    "    Get the img path from a recipe with the recipe link.\n",
    "    :param link: str\n",
    "    :return img_path: str\n",
    "    \"\"\"\n",
    "    main_page = get_page_content('https://storage.googleapis.com/www.selinaschoice.ch/index.html#hauptgang')\n",
    "    specific_recipe = main_page.find(\"a\", href=link)\n",
    "    img = specific_recipe.find(\"img\")\n",
    "    img_path = img.get(\"src\")\n",
    "    return img_path\n",
    "\n",
    "\n",
    "get_recipe_img_path(\"https://shortcutapp.io/n/MGEzNzRmYzQ1MjkzYTlhMjY0YTE2NjE4MjgwMGEzOTY5\")"
   ],
   "metadata": {
    "collapsed": false
   }
  },
  {
   "cell_type": "markdown",
   "source": [
    "# Validate Recipe"
   ],
   "metadata": {
    "collapsed": false
   }
  },
  {
   "cell_type": "code",
   "execution_count": 6,
   "outputs": [
    {
     "ename": "ProxyError",
     "evalue": "HTTPSConnectionPool(host='shortcutapp.io', port=443): Max retries exceeded with url: /n/YWI5NWY5MjhhNzUzNTIwYTExNGE5YTdkN2U4ZTBhOGJi (Caused by ProxyError('Cannot connect to proxy.', RemoteDisconnected('Remote end closed connection without response')))",
     "output_type": "error",
     "traceback": [
      "\u001B[1;31m---------------------------------------------------------------------------\u001B[0m",
      "\u001B[1;31mRemoteDisconnected\u001B[0m                        Traceback (most recent call last)",
      "File \u001B[1;32m~\\PycharmProjects\\backup-package\\venv\\Lib\\site-packages\\urllib3\\connectionpool.py:700\u001B[0m, in \u001B[0;36mHTTPConnectionPool.urlopen\u001B[1;34m(self, method, url, body, headers, retries, redirect, assert_same_host, timeout, pool_timeout, release_conn, chunked, body_pos, **response_kw)\u001B[0m\n\u001B[0;32m    699\u001B[0m \u001B[38;5;28;01mif\u001B[39;00m is_new_proxy_conn \u001B[38;5;129;01mand\u001B[39;00m http_tunnel_required:\n\u001B[1;32m--> 700\u001B[0m     \u001B[38;5;28;43mself\u001B[39;49m\u001B[38;5;241;43m.\u001B[39;49m\u001B[43m_prepare_proxy\u001B[49m\u001B[43m(\u001B[49m\u001B[43mconn\u001B[49m\u001B[43m)\u001B[49m\n\u001B[0;32m    702\u001B[0m \u001B[38;5;66;03m# Make the request on the httplib connection object.\u001B[39;00m\n",
      "File \u001B[1;32m~\\PycharmProjects\\backup-package\\venv\\Lib\\site-packages\\urllib3\\connectionpool.py:996\u001B[0m, in \u001B[0;36mHTTPSConnectionPool._prepare_proxy\u001B[1;34m(self, conn)\u001B[0m\n\u001B[0;32m    994\u001B[0m     conn\u001B[38;5;241m.\u001B[39mtls_in_tls_required \u001B[38;5;241m=\u001B[39m \u001B[38;5;28;01mTrue\u001B[39;00m\n\u001B[1;32m--> 996\u001B[0m \u001B[43mconn\u001B[49m\u001B[38;5;241;43m.\u001B[39;49m\u001B[43mconnect\u001B[49m\u001B[43m(\u001B[49m\u001B[43m)\u001B[49m\n",
      "File \u001B[1;32m~\\PycharmProjects\\backup-package\\venv\\Lib\\site-packages\\urllib3\\connection.py:374\u001B[0m, in \u001B[0;36mHTTPSConnection.connect\u001B[1;34m(self)\u001B[0m\n\u001B[0;32m    372\u001B[0m \u001B[38;5;66;03m# Calls self._set_hostport(), so self.host is\u001B[39;00m\n\u001B[0;32m    373\u001B[0m \u001B[38;5;66;03m# self._tunnel_host below.\u001B[39;00m\n\u001B[1;32m--> 374\u001B[0m \u001B[38;5;28;43mself\u001B[39;49m\u001B[38;5;241;43m.\u001B[39;49m\u001B[43m_tunnel\u001B[49m\u001B[43m(\u001B[49m\u001B[43m)\u001B[49m\n\u001B[0;32m    375\u001B[0m \u001B[38;5;66;03m# Mark this connection as not reusable\u001B[39;00m\n",
      "File \u001B[1;32m~\\AppData\\Local\\Programs\\Python\\Python311\\Lib\\http\\client.py:920\u001B[0m, in \u001B[0;36mHTTPConnection._tunnel\u001B[1;34m(self)\u001B[0m\n\u001B[0;32m    919\u001B[0m response \u001B[38;5;241m=\u001B[39m \u001B[38;5;28mself\u001B[39m\u001B[38;5;241m.\u001B[39mresponse_class(\u001B[38;5;28mself\u001B[39m\u001B[38;5;241m.\u001B[39msock, method\u001B[38;5;241m=\u001B[39m\u001B[38;5;28mself\u001B[39m\u001B[38;5;241m.\u001B[39m_method)\n\u001B[1;32m--> 920\u001B[0m (version, code, message) \u001B[38;5;241m=\u001B[39m \u001B[43mresponse\u001B[49m\u001B[38;5;241;43m.\u001B[39;49m\u001B[43m_read_status\u001B[49m\u001B[43m(\u001B[49m\u001B[43m)\u001B[49m\n\u001B[0;32m    922\u001B[0m \u001B[38;5;28;01mif\u001B[39;00m code \u001B[38;5;241m!=\u001B[39m http\u001B[38;5;241m.\u001B[39mHTTPStatus\u001B[38;5;241m.\u001B[39mOK:\n",
      "File \u001B[1;32m~\\AppData\\Local\\Programs\\Python\\Python311\\Lib\\http\\client.py:287\u001B[0m, in \u001B[0;36mHTTPResponse._read_status\u001B[1;34m(self)\u001B[0m\n\u001B[0;32m    284\u001B[0m \u001B[38;5;28;01mif\u001B[39;00m \u001B[38;5;129;01mnot\u001B[39;00m line:\n\u001B[0;32m    285\u001B[0m     \u001B[38;5;66;03m# Presumably, the server closed the connection before\u001B[39;00m\n\u001B[0;32m    286\u001B[0m     \u001B[38;5;66;03m# sending a valid response.\u001B[39;00m\n\u001B[1;32m--> 287\u001B[0m     \u001B[38;5;28;01mraise\u001B[39;00m RemoteDisconnected(\u001B[38;5;124m\"\u001B[39m\u001B[38;5;124mRemote end closed connection without\u001B[39m\u001B[38;5;124m\"\u001B[39m\n\u001B[0;32m    288\u001B[0m                              \u001B[38;5;124m\"\u001B[39m\u001B[38;5;124m response\u001B[39m\u001B[38;5;124m\"\u001B[39m)\n\u001B[0;32m    289\u001B[0m \u001B[38;5;28;01mtry\u001B[39;00m:\n",
      "\u001B[1;31mRemoteDisconnected\u001B[0m: Remote end closed connection without response",
      "\nDuring handling of the above exception, another exception occurred:\n",
      "\u001B[1;31mMaxRetryError\u001B[0m                             Traceback (most recent call last)",
      "File \u001B[1;32m~\\PycharmProjects\\backup-package\\venv\\Lib\\site-packages\\requests\\adapters.py:489\u001B[0m, in \u001B[0;36mHTTPAdapter.send\u001B[1;34m(self, request, stream, timeout, verify, cert, proxies)\u001B[0m\n\u001B[0;32m    488\u001B[0m \u001B[38;5;28;01mif\u001B[39;00m \u001B[38;5;129;01mnot\u001B[39;00m chunked:\n\u001B[1;32m--> 489\u001B[0m     resp \u001B[38;5;241m=\u001B[39m \u001B[43mconn\u001B[49m\u001B[38;5;241;43m.\u001B[39;49m\u001B[43murlopen\u001B[49m\u001B[43m(\u001B[49m\n\u001B[0;32m    490\u001B[0m \u001B[43m        \u001B[49m\u001B[43mmethod\u001B[49m\u001B[38;5;241;43m=\u001B[39;49m\u001B[43mrequest\u001B[49m\u001B[38;5;241;43m.\u001B[39;49m\u001B[43mmethod\u001B[49m\u001B[43m,\u001B[49m\n\u001B[0;32m    491\u001B[0m \u001B[43m        \u001B[49m\u001B[43murl\u001B[49m\u001B[38;5;241;43m=\u001B[39;49m\u001B[43murl\u001B[49m\u001B[43m,\u001B[49m\n\u001B[0;32m    492\u001B[0m \u001B[43m        \u001B[49m\u001B[43mbody\u001B[49m\u001B[38;5;241;43m=\u001B[39;49m\u001B[43mrequest\u001B[49m\u001B[38;5;241;43m.\u001B[39;49m\u001B[43mbody\u001B[49m\u001B[43m,\u001B[49m\n\u001B[0;32m    493\u001B[0m \u001B[43m        \u001B[49m\u001B[43mheaders\u001B[49m\u001B[38;5;241;43m=\u001B[39;49m\u001B[43mrequest\u001B[49m\u001B[38;5;241;43m.\u001B[39;49m\u001B[43mheaders\u001B[49m\u001B[43m,\u001B[49m\n\u001B[0;32m    494\u001B[0m \u001B[43m        \u001B[49m\u001B[43mredirect\u001B[49m\u001B[38;5;241;43m=\u001B[39;49m\u001B[38;5;28;43;01mFalse\u001B[39;49;00m\u001B[43m,\u001B[49m\n\u001B[0;32m    495\u001B[0m \u001B[43m        \u001B[49m\u001B[43massert_same_host\u001B[49m\u001B[38;5;241;43m=\u001B[39;49m\u001B[38;5;28;43;01mFalse\u001B[39;49;00m\u001B[43m,\u001B[49m\n\u001B[0;32m    496\u001B[0m \u001B[43m        \u001B[49m\u001B[43mpreload_content\u001B[49m\u001B[38;5;241;43m=\u001B[39;49m\u001B[38;5;28;43;01mFalse\u001B[39;49;00m\u001B[43m,\u001B[49m\n\u001B[0;32m    497\u001B[0m \u001B[43m        \u001B[49m\u001B[43mdecode_content\u001B[49m\u001B[38;5;241;43m=\u001B[39;49m\u001B[38;5;28;43;01mFalse\u001B[39;49;00m\u001B[43m,\u001B[49m\n\u001B[0;32m    498\u001B[0m \u001B[43m        \u001B[49m\u001B[43mretries\u001B[49m\u001B[38;5;241;43m=\u001B[39;49m\u001B[38;5;28;43mself\u001B[39;49m\u001B[38;5;241;43m.\u001B[39;49m\u001B[43mmax_retries\u001B[49m\u001B[43m,\u001B[49m\n\u001B[0;32m    499\u001B[0m \u001B[43m        \u001B[49m\u001B[43mtimeout\u001B[49m\u001B[38;5;241;43m=\u001B[39;49m\u001B[43mtimeout\u001B[49m\u001B[43m,\u001B[49m\n\u001B[0;32m    500\u001B[0m \u001B[43m    \u001B[49m\u001B[43m)\u001B[49m\n\u001B[0;32m    502\u001B[0m \u001B[38;5;66;03m# Send the request.\u001B[39;00m\n\u001B[0;32m    503\u001B[0m \u001B[38;5;28;01melse\u001B[39;00m:\n",
      "File \u001B[1;32m~\\PycharmProjects\\backup-package\\venv\\Lib\\site-packages\\urllib3\\connectionpool.py:787\u001B[0m, in \u001B[0;36mHTTPConnectionPool.urlopen\u001B[1;34m(self, method, url, body, headers, retries, redirect, assert_same_host, timeout, pool_timeout, release_conn, chunked, body_pos, **response_kw)\u001B[0m\n\u001B[0;32m    785\u001B[0m     e \u001B[38;5;241m=\u001B[39m ProtocolError(\u001B[38;5;124m\"\u001B[39m\u001B[38;5;124mConnection aborted.\u001B[39m\u001B[38;5;124m\"\u001B[39m, e)\n\u001B[1;32m--> 787\u001B[0m retries \u001B[38;5;241m=\u001B[39m \u001B[43mretries\u001B[49m\u001B[38;5;241;43m.\u001B[39;49m\u001B[43mincrement\u001B[49m\u001B[43m(\u001B[49m\n\u001B[0;32m    788\u001B[0m \u001B[43m    \u001B[49m\u001B[43mmethod\u001B[49m\u001B[43m,\u001B[49m\u001B[43m \u001B[49m\u001B[43murl\u001B[49m\u001B[43m,\u001B[49m\u001B[43m \u001B[49m\u001B[43merror\u001B[49m\u001B[38;5;241;43m=\u001B[39;49m\u001B[43me\u001B[49m\u001B[43m,\u001B[49m\u001B[43m \u001B[49m\u001B[43m_pool\u001B[49m\u001B[38;5;241;43m=\u001B[39;49m\u001B[38;5;28;43mself\u001B[39;49m\u001B[43m,\u001B[49m\u001B[43m \u001B[49m\u001B[43m_stacktrace\u001B[49m\u001B[38;5;241;43m=\u001B[39;49m\u001B[43msys\u001B[49m\u001B[38;5;241;43m.\u001B[39;49m\u001B[43mexc_info\u001B[49m\u001B[43m(\u001B[49m\u001B[43m)\u001B[49m\u001B[43m[\u001B[49m\u001B[38;5;241;43m2\u001B[39;49m\u001B[43m]\u001B[49m\n\u001B[0;32m    789\u001B[0m \u001B[43m\u001B[49m\u001B[43m)\u001B[49m\n\u001B[0;32m    790\u001B[0m retries\u001B[38;5;241m.\u001B[39msleep()\n",
      "File \u001B[1;32m~\\PycharmProjects\\backup-package\\venv\\Lib\\site-packages\\urllib3\\util\\retry.py:592\u001B[0m, in \u001B[0;36mRetry.increment\u001B[1;34m(self, method, url, response, error, _pool, _stacktrace)\u001B[0m\n\u001B[0;32m    591\u001B[0m \u001B[38;5;28;01mif\u001B[39;00m new_retry\u001B[38;5;241m.\u001B[39mis_exhausted():\n\u001B[1;32m--> 592\u001B[0m     \u001B[38;5;28;01mraise\u001B[39;00m MaxRetryError(_pool, url, error \u001B[38;5;129;01mor\u001B[39;00m ResponseError(cause))\n\u001B[0;32m    594\u001B[0m log\u001B[38;5;241m.\u001B[39mdebug(\u001B[38;5;124m\"\u001B[39m\u001B[38;5;124mIncremented Retry for (url=\u001B[39m\u001B[38;5;124m'\u001B[39m\u001B[38;5;132;01m%s\u001B[39;00m\u001B[38;5;124m'\u001B[39m\u001B[38;5;124m): \u001B[39m\u001B[38;5;132;01m%r\u001B[39;00m\u001B[38;5;124m\"\u001B[39m, url, new_retry)\n",
      "\u001B[1;31mMaxRetryError\u001B[0m: HTTPSConnectionPool(host='shortcutapp.io', port=443): Max retries exceeded with url: /n/YWI5NWY5MjhhNzUzNTIwYTExNGE5YTdkN2U4ZTBhOGJi (Caused by ProxyError('Cannot connect to proxy.', RemoteDisconnected('Remote end closed connection without response')))",
      "\nDuring handling of the above exception, another exception occurred:\n",
      "\u001B[1;31mProxyError\u001B[0m                                Traceback (most recent call last)",
      "Cell \u001B[1;32mIn[6], line 9\u001B[0m\n\u001B[0;32m      6\u001B[0m     \u001B[38;5;28;01melse\u001B[39;00m:\n\u001B[0;32m      7\u001B[0m         \u001B[38;5;28;01mreturn\u001B[39;00m \u001B[38;5;28;01mTrue\u001B[39;00m\n\u001B[1;32m----> 9\u001B[0m recipe \u001B[38;5;241m=\u001B[39m \u001B[43mget_page_content\u001B[49m\u001B[43m(\u001B[49m\u001B[38;5;124;43m\"\u001B[39;49m\u001B[38;5;124;43mhttps://shortcutapp.io/n/YWI5NWY5MjhhNzUzNTIwYTExNGE5YTdkN2U4ZTBhOGJi\u001B[39;49m\u001B[38;5;124;43m\"\u001B[39;49m\u001B[43m)\u001B[49m\n\u001B[0;32m     10\u001B[0m validate_recipe(recipe)\n\u001B[0;32m     11\u001B[0m \u001B[38;5;28mprint\u001B[39m(report)\n",
      "Cell \u001B[1;32mIn[4], line 24\u001B[0m, in \u001B[0;36mtimeit.<locals>.timeit_wrapper\u001B[1;34m(*args, **kwargs)\u001B[0m\n\u001B[0;32m     21\u001B[0m \u001B[38;5;129m@wraps\u001B[39m(func)\n\u001B[0;32m     22\u001B[0m \u001B[38;5;28;01mdef\u001B[39;00m \u001B[38;5;21mtimeit_wrapper\u001B[39m(\u001B[38;5;241m*\u001B[39margs, \u001B[38;5;241m*\u001B[39m\u001B[38;5;241m*\u001B[39mkwargs):\n\u001B[0;32m     23\u001B[0m     start_time \u001B[38;5;241m=\u001B[39m time\u001B[38;5;241m.\u001B[39mperf_counter()\n\u001B[1;32m---> 24\u001B[0m     result \u001B[38;5;241m=\u001B[39m \u001B[43mfunc\u001B[49m\u001B[43m(\u001B[49m\u001B[38;5;241;43m*\u001B[39;49m\u001B[43margs\u001B[49m\u001B[43m,\u001B[49m\u001B[43m \u001B[49m\u001B[38;5;241;43m*\u001B[39;49m\u001B[38;5;241;43m*\u001B[39;49m\u001B[43mkwargs\u001B[49m\u001B[43m)\u001B[49m\n\u001B[0;32m     25\u001B[0m     end_time \u001B[38;5;241m=\u001B[39m time\u001B[38;5;241m.\u001B[39mperf_counter()\n\u001B[0;32m     26\u001B[0m     total_time \u001B[38;5;241m=\u001B[39m end_time \u001B[38;5;241m-\u001B[39m start_time\n",
      "Cell \u001B[1;32mIn[4], line 40\u001B[0m, in \u001B[0;36mget_page_content\u001B[1;34m(link)\u001B[0m\n\u001B[0;32m     33\u001B[0m \u001B[38;5;129m@timeit\u001B[39m\n\u001B[0;32m     34\u001B[0m \u001B[38;5;28;01mdef\u001B[39;00m \u001B[38;5;21mget_page_content\u001B[39m(link: \u001B[38;5;28mstr\u001B[39m) \u001B[38;5;241m-\u001B[39m\u001B[38;5;241m>\u001B[39m \u001B[38;5;28mstr\u001B[39m:\n\u001B[0;32m     35\u001B[0m \u001B[38;5;250m    \u001B[39m\u001B[38;5;124;03m\"\"\"\u001B[39;00m\n\u001B[0;32m     36\u001B[0m \u001B[38;5;124;03m    Get a Parsed homepage as HTML str.\u001B[39;00m\n\u001B[0;32m     37\u001B[0m \u001B[38;5;124;03m    :param link:\u001B[39;00m\n\u001B[0;32m     38\u001B[0m \u001B[38;5;124;03m    :return: parsed_homepage\u001B[39;00m\n\u001B[0;32m     39\u001B[0m \u001B[38;5;124;03m    \"\"\"\u001B[39;00m\n\u001B[1;32m---> 40\u001B[0m     homepage \u001B[38;5;241m=\u001B[39m \u001B[43mrequests\u001B[49m\u001B[38;5;241;43m.\u001B[39;49m\u001B[43mget\u001B[49m\u001B[43m(\u001B[49m\u001B[43mlink\u001B[49m\u001B[43m)\u001B[49m\n\u001B[0;32m     41\u001B[0m     \u001B[38;5;28;01mif\u001B[39;00m \u001B[38;5;129;01mnot\u001B[39;00m homepage\u001B[38;5;241m.\u001B[39mstatus_code \u001B[38;5;241m==\u001B[39m \u001B[38;5;241m200\u001B[39m:\n\u001B[0;32m     42\u001B[0m         report\u001B[38;5;241m.\u001B[39mappend(\u001B[38;5;124mf\u001B[39m\u001B[38;5;124m\"\u001B[39m\u001B[38;5;124mCan\u001B[39m\u001B[38;5;124m'\u001B[39m\u001B[38;5;124mt reach \u001B[39m\u001B[38;5;132;01m{\u001B[39;00mlink\u001B[38;5;132;01m}\u001B[39;00m\u001B[38;5;124m with status code 200.\u001B[39m\u001B[38;5;124m\"\u001B[39m)\n",
      "File \u001B[1;32m~\\PycharmProjects\\backup-package\\venv\\Lib\\site-packages\\requests\\api.py:73\u001B[0m, in \u001B[0;36mget\u001B[1;34m(url, params, **kwargs)\u001B[0m\n\u001B[0;32m     62\u001B[0m \u001B[38;5;28;01mdef\u001B[39;00m \u001B[38;5;21mget\u001B[39m(url, params\u001B[38;5;241m=\u001B[39m\u001B[38;5;28;01mNone\u001B[39;00m, \u001B[38;5;241m*\u001B[39m\u001B[38;5;241m*\u001B[39mkwargs):\n\u001B[0;32m     63\u001B[0m \u001B[38;5;250m    \u001B[39m\u001B[38;5;124mr\u001B[39m\u001B[38;5;124;03m\"\"\"Sends a GET request.\u001B[39;00m\n\u001B[0;32m     64\u001B[0m \n\u001B[0;32m     65\u001B[0m \u001B[38;5;124;03m    :param url: URL for the new :class:`Request` object.\u001B[39;00m\n\u001B[1;32m   (...)\u001B[0m\n\u001B[0;32m     70\u001B[0m \u001B[38;5;124;03m    :rtype: requests.Response\u001B[39;00m\n\u001B[0;32m     71\u001B[0m \u001B[38;5;124;03m    \"\"\"\u001B[39;00m\n\u001B[1;32m---> 73\u001B[0m     \u001B[38;5;28;01mreturn\u001B[39;00m \u001B[43mrequest\u001B[49m\u001B[43m(\u001B[49m\u001B[38;5;124;43m\"\u001B[39;49m\u001B[38;5;124;43mget\u001B[39;49m\u001B[38;5;124;43m\"\u001B[39;49m\u001B[43m,\u001B[49m\u001B[43m \u001B[49m\u001B[43murl\u001B[49m\u001B[43m,\u001B[49m\u001B[43m \u001B[49m\u001B[43mparams\u001B[49m\u001B[38;5;241;43m=\u001B[39;49m\u001B[43mparams\u001B[49m\u001B[43m,\u001B[49m\u001B[43m \u001B[49m\u001B[38;5;241;43m*\u001B[39;49m\u001B[38;5;241;43m*\u001B[39;49m\u001B[43mkwargs\u001B[49m\u001B[43m)\u001B[49m\n",
      "File \u001B[1;32m~\\PycharmProjects\\backup-package\\venv\\Lib\\site-packages\\requests\\api.py:59\u001B[0m, in \u001B[0;36mrequest\u001B[1;34m(method, url, **kwargs)\u001B[0m\n\u001B[0;32m     55\u001B[0m \u001B[38;5;66;03m# By using the 'with' statement we are sure the session is closed, thus we\u001B[39;00m\n\u001B[0;32m     56\u001B[0m \u001B[38;5;66;03m# avoid leaving sockets open which can trigger a ResourceWarning in some\u001B[39;00m\n\u001B[0;32m     57\u001B[0m \u001B[38;5;66;03m# cases, and look like a memory leak in others.\u001B[39;00m\n\u001B[0;32m     58\u001B[0m \u001B[38;5;28;01mwith\u001B[39;00m sessions\u001B[38;5;241m.\u001B[39mSession() \u001B[38;5;28;01mas\u001B[39;00m session:\n\u001B[1;32m---> 59\u001B[0m     \u001B[38;5;28;01mreturn\u001B[39;00m \u001B[43msession\u001B[49m\u001B[38;5;241;43m.\u001B[39;49m\u001B[43mrequest\u001B[49m\u001B[43m(\u001B[49m\u001B[43mmethod\u001B[49m\u001B[38;5;241;43m=\u001B[39;49m\u001B[43mmethod\u001B[49m\u001B[43m,\u001B[49m\u001B[43m \u001B[49m\u001B[43murl\u001B[49m\u001B[38;5;241;43m=\u001B[39;49m\u001B[43murl\u001B[49m\u001B[43m,\u001B[49m\u001B[43m \u001B[49m\u001B[38;5;241;43m*\u001B[39;49m\u001B[38;5;241;43m*\u001B[39;49m\u001B[43mkwargs\u001B[49m\u001B[43m)\u001B[49m\n",
      "File \u001B[1;32m~\\PycharmProjects\\backup-package\\venv\\Lib\\site-packages\\requests\\sessions.py:587\u001B[0m, in \u001B[0;36mSession.request\u001B[1;34m(self, method, url, params, data, headers, cookies, files, auth, timeout, allow_redirects, proxies, hooks, stream, verify, cert, json)\u001B[0m\n\u001B[0;32m    582\u001B[0m send_kwargs \u001B[38;5;241m=\u001B[39m {\n\u001B[0;32m    583\u001B[0m     \u001B[38;5;124m\"\u001B[39m\u001B[38;5;124mtimeout\u001B[39m\u001B[38;5;124m\"\u001B[39m: timeout,\n\u001B[0;32m    584\u001B[0m     \u001B[38;5;124m\"\u001B[39m\u001B[38;5;124mallow_redirects\u001B[39m\u001B[38;5;124m\"\u001B[39m: allow_redirects,\n\u001B[0;32m    585\u001B[0m }\n\u001B[0;32m    586\u001B[0m send_kwargs\u001B[38;5;241m.\u001B[39mupdate(settings)\n\u001B[1;32m--> 587\u001B[0m resp \u001B[38;5;241m=\u001B[39m \u001B[38;5;28;43mself\u001B[39;49m\u001B[38;5;241;43m.\u001B[39;49m\u001B[43msend\u001B[49m\u001B[43m(\u001B[49m\u001B[43mprep\u001B[49m\u001B[43m,\u001B[49m\u001B[43m \u001B[49m\u001B[38;5;241;43m*\u001B[39;49m\u001B[38;5;241;43m*\u001B[39;49m\u001B[43msend_kwargs\u001B[49m\u001B[43m)\u001B[49m\n\u001B[0;32m    589\u001B[0m \u001B[38;5;28;01mreturn\u001B[39;00m resp\n",
      "File \u001B[1;32m~\\PycharmProjects\\backup-package\\venv\\Lib\\site-packages\\requests\\sessions.py:701\u001B[0m, in \u001B[0;36mSession.send\u001B[1;34m(self, request, **kwargs)\u001B[0m\n\u001B[0;32m    698\u001B[0m start \u001B[38;5;241m=\u001B[39m preferred_clock()\n\u001B[0;32m    700\u001B[0m \u001B[38;5;66;03m# Send the request\u001B[39;00m\n\u001B[1;32m--> 701\u001B[0m r \u001B[38;5;241m=\u001B[39m \u001B[43madapter\u001B[49m\u001B[38;5;241;43m.\u001B[39;49m\u001B[43msend\u001B[49m\u001B[43m(\u001B[49m\u001B[43mrequest\u001B[49m\u001B[43m,\u001B[49m\u001B[43m \u001B[49m\u001B[38;5;241;43m*\u001B[39;49m\u001B[38;5;241;43m*\u001B[39;49m\u001B[43mkwargs\u001B[49m\u001B[43m)\u001B[49m\n\u001B[0;32m    703\u001B[0m \u001B[38;5;66;03m# Total elapsed time of the request (approximately)\u001B[39;00m\n\u001B[0;32m    704\u001B[0m elapsed \u001B[38;5;241m=\u001B[39m preferred_clock() \u001B[38;5;241m-\u001B[39m start\n",
      "File \u001B[1;32m~\\PycharmProjects\\backup-package\\venv\\Lib\\site-packages\\requests\\adapters.py:559\u001B[0m, in \u001B[0;36mHTTPAdapter.send\u001B[1;34m(self, request, stream, timeout, verify, cert, proxies)\u001B[0m\n\u001B[0;32m    556\u001B[0m     \u001B[38;5;28;01mraise\u001B[39;00m RetryError(e, request\u001B[38;5;241m=\u001B[39mrequest)\n\u001B[0;32m    558\u001B[0m \u001B[38;5;28;01mif\u001B[39;00m \u001B[38;5;28misinstance\u001B[39m(e\u001B[38;5;241m.\u001B[39mreason, _ProxyError):\n\u001B[1;32m--> 559\u001B[0m     \u001B[38;5;28;01mraise\u001B[39;00m ProxyError(e, request\u001B[38;5;241m=\u001B[39mrequest)\n\u001B[0;32m    561\u001B[0m \u001B[38;5;28;01mif\u001B[39;00m \u001B[38;5;28misinstance\u001B[39m(e\u001B[38;5;241m.\u001B[39mreason, _SSLError):\n\u001B[0;32m    562\u001B[0m     \u001B[38;5;66;03m# This branch is for urllib3 v1.22 and later.\u001B[39;00m\n\u001B[0;32m    563\u001B[0m     \u001B[38;5;28;01mraise\u001B[39;00m SSLError(e, request\u001B[38;5;241m=\u001B[39mrequest)\n",
      "\u001B[1;31mProxyError\u001B[0m: HTTPSConnectionPool(host='shortcutapp.io', port=443): Max retries exceeded with url: /n/YWI5NWY5MjhhNzUzNTIwYTExNGE5YTdkN2U4ZTBhOGJi (Caused by ProxyError('Cannot connect to proxy.', RemoteDisconnected('Remote end closed connection without response')))"
     ]
    }
   ],
   "source": [
    "def validate_recipe(recipe: str):\n",
    "    rapport = []\n",
    "    if not get_page_content:\n",
    "        rapport.append(recipe)\n",
    "        return False\n",
    "    else:\n",
    "        return True\n",
    "\n",
    "\n",
    "recipe = get_page_content(\"https://shortcutapp.io/n/YWI5NWY5MjhhNzUzNTIwYTExNGE5YTdkN2U4ZTBhOGJi\")\n",
    "validate_recipe(recipe)\n",
    "print(report)"
   ],
   "metadata": {
    "collapsed": false
   }
  },
  {
   "cell_type": "markdown",
   "source": [
    "# Parse and Backup Recipe"
   ],
   "metadata": {
    "collapsed": false
   }
  },
  {
   "cell_type": "code",
   "execution_count": 10,
   "outputs": [],
   "source": [
    "@timeit\n",
    "def get_parsed_recipe(link: str) -> Dict:\n",
    "    if not get_page_content(link):\n",
    "        print(f\"{link} is corrupt\")\n",
    "    else:\n",
    "        recipe = get_page_content(link)\n",
    "        title = get_recipe_title(recipe)\n",
    "        recipe_class = get_category_from_recipe(link)\n",
    "        time_stamp = get_timestamp(recipe)\n",
    "        img = get_recipe_img_path(link)\n",
    "        prep_time = get_prep_time(recipe)\n",
    "        serves = get_serves(recipe)\n",
    "        difficulty = get_difficulty(recipe)\n",
    "        ingredients = get_ingredients(recipe)\n",
    "        instructions = get_instructions(recipe)\n",
    "\n",
    "        recipe_dict = {\n",
    "            \"title\": title,\n",
    "            \"recipe_class\": recipe_class,\n",
    "            \"time\": time_stamp,\n",
    "            \"img_path\": img,\n",
    "            \"prep_time\": prep_time,\n",
    "            \"serves\": serves,\n",
    "            \"difficulty\": difficulty,\n",
    "            \"ingredients\": ingredients,\n",
    "            \"instructions\": instructions,\n",
    "        }\n",
    "        return recipe_dict"
   ],
   "metadata": {
    "collapsed": false
   }
  },
  {
   "cell_type": "code",
   "execution_count": 11,
   "outputs": [
    {
     "name": "stdout",
     "output_type": "stream",
     "text": [
      "Function get_page_content('https://shortcutapp.io/n/ZTg2YzQ0NjM4Y2VkMjFmOGZiNzM3NTY5YTU3NmE5MDYx',) {} Took 2.3025 seconds\n",
      "Function get_page_content('https://shortcutapp.io/n/ZTg2YzQ0NjM4Y2VkMjFmOGZiNzM3NTY5YTU3NmE5MDYx',) {} Took 2.2931 seconds\n",
      "<div class=\"rezept dessert\">\n",
      "<a href=\"https://shortcutapp.io/n/ZTg2YzQ0NjM4Y2VkMjFmOGZiNzM3NTY5YTU3NmE5MDYx\">\n",
      "<img alt=\"Rezeptname\" src=\"img\\dessert\\schokokuchen.jpg\"/>\n",
      "<h3 class=\"rezeptname\">Schokoladenkuchen</h3>\n",
      "</a>\n",
      "</div>\n",
      "Function get_category_from_recipe('https://shortcutapp.io/n/ZTg2YzQ0NjM4Y2VkMjFmOGZiNzM3NTY5YTU3NmE5MDYx',) {} Took 0.0004 seconds\n",
      "Function get_page_content('https://storage.googleapis.com/www.selinaschoice.ch/index.html#hauptgang',) {} Took 2.1676 seconds\n",
      "Function get_recipe_img_path('https://shortcutapp.io/n/ZTg2YzQ0NjM4Y2VkMjFmOGZiNzM3NTY5YTU3NmE5MDYx',) {} Took 2.1681 seconds\n",
      "Problem with 'NoneType' object has no attribute 'text'\n",
      "Function get_parsed_recipe('https://shortcutapp.io/n/ZTg2YzQ0NjM4Y2VkMjFmOGZiNzM3NTY5YTU3NmE5MDYx',) {} Took 6.7655 seconds\n"
     ]
    },
    {
     "data": {
      "text/plain": "{'title': 'Schokoladekuchen',\n 'recipe_class': 'dessert',\n 'time': '2021-10-18 08:59:55',\n 'img_path': 'img\\\\dessert\\\\schokokuchen.jpg',\n 'prep_time': '20 minutes',\n 'serves': '8 persons',\n 'difficulty': ' weich',\n 'ingredients': [{'quantity': '150 g', 'name': 'Butter, weich'},\n  {'quantity': '300 g', 'name': 'Zucker'},\n  {'quantity': '1 Packung', 'name': 'Vanillezucker'},\n  {'quantity': '1 Prise', 'name': 'Salz'},\n  {'quantity': '3', 'name': 'Eier'},\n  {'quantity': '300 g', 'name': 'Mehl'},\n  {'quantity': '½ Packung', 'name': 'Backpulver'},\n  {'quantity': '100 g', 'name': 'Schokoladepulver'},\n  {'quantity': '75 g', 'name': 'gemahlene Haselnüsse'},\n  {'quantity': '1 ½ dl', 'name': 'Milch'},\n  {'quantity': '100 g', 'name': 'Schokostückchen'}],\n 'instructions': [{'step': 'Step 1',\n   'instruction': 'Ofen auf 180 Grad vorheizen.Butter in eine Schüssel geben, Zucker, Vanillezucker und Salz darunterrühren. Ein Ei nach dem andern darunterrühren, weiterrühren, bis die Masse heller ist.'},\n  {'step': 'Step 2',\n   'instruction': 'Mehl, Backpulver, Schokoladepulver und Nüsse mischen, mit der Milch unter die Masse rühren. \\nDen Teig in die vorbereitete runde Form füllen.'},\n  {'step': 'Step 3',\n   'instruction': 'Backen: ca. 40\\xa0Min. in der unteren Hälfte des Ofens. Herausnehmen, etwas abkühlen, Formenrand entfernen, Kuchen auf ein Gitter schieben, auskühlen. Puderzucker darüberstäuben.'}]}"
     },
     "execution_count": 11,
     "metadata": {},
     "output_type": "execute_result"
    }
   ],
   "source": [
    "get_parsed_recipe(\"https://shortcutapp.io/n/ZTg2YzQ0NjM4Y2VkMjFmOGZiNzM3NTY5YTU3NmE5MDYx\")"
   ],
   "metadata": {
    "collapsed": false
   }
  },
  {
   "cell_type": "code",
   "execution_count": 14,
   "outputs": [],
   "source": [
    "@timeit\n",
    "def save_recipe(recipe=Dict) -> json:\n",
    "    filename = recipe[\"title\"] + \".json\"\n",
    "    folder = recipe[\"recipe_class\"]\n",
    "    os.chdir(f\"../recipes/{folder}\")\n",
    "    json_object = json.dumps(recipe, indent=4, ensure_ascii=False)\n",
    "    with open(filename, \"w\", encoding=\"utf-8\") as outfile:\n",
    "        outfile.write(json_object)\n",
    "    os.chdir(\"../../src\")"
   ],
   "metadata": {
    "collapsed": false
   }
  },
  {
   "cell_type": "code",
   "execution_count": 15,
   "outputs": [
    {
     "name": "stdout",
     "output_type": "stream",
     "text": [
      "Function get_page_content('https://shortcutapp.io/n/YWI5NWY5MjhhNzUzNTIwYTExNGE5YTdkN2U4ZTBhOGJi',) {} Took 2.2807 seconds\n",
      "https://shortcutapp.io/n/YWI5NWY5MjhhNzUzNTIwYTExNGE5YTdkN2U4ZTBhOGJi is corrupt\n",
      "Function get_parsed_recipe('https://shortcutapp.io/n/YWI5NWY5MjhhNzUzNTIwYTExNGE5YTdkN2U4ZTBhOGJi',) {} Took 2.2810 seconds\n",
      "None\n"
     ]
    },
    {
     "ename": "TypeError",
     "evalue": "'NoneType' object is not subscriptable",
     "output_type": "error",
     "traceback": [
      "\u001B[1;31m---------------------------------------------------------------------------\u001B[0m",
      "\u001B[1;31mTypeError\u001B[0m                                 Traceback (most recent call last)",
      "Cell \u001B[1;32mIn[15], line 3\u001B[0m\n\u001B[0;32m      1\u001B[0m recipe \u001B[38;5;241m=\u001B[39m get_parsed_recipe(\u001B[38;5;124m\"\u001B[39m\u001B[38;5;124mhttps://shortcutapp.io/n/YWI5NWY5MjhhNzUzNTIwYTExNGE5YTdkN2U4ZTBhOGJi\u001B[39m\u001B[38;5;124m\"\u001B[39m)\n\u001B[0;32m      2\u001B[0m \u001B[38;5;28mprint\u001B[39m(recipe)\n\u001B[1;32m----> 3\u001B[0m \u001B[43msave_recipe\u001B[49m\u001B[43m(\u001B[49m\u001B[43mrecipe\u001B[49m\u001B[43m)\u001B[49m\n",
      "Cell \u001B[1;32mIn[5], line 24\u001B[0m, in \u001B[0;36mtimeit.<locals>.timeit_wrapper\u001B[1;34m(*args, **kwargs)\u001B[0m\n\u001B[0;32m     21\u001B[0m \u001B[38;5;129m@wraps\u001B[39m(func)\n\u001B[0;32m     22\u001B[0m \u001B[38;5;28;01mdef\u001B[39;00m \u001B[38;5;21mtimeit_wrapper\u001B[39m(\u001B[38;5;241m*\u001B[39margs, \u001B[38;5;241m*\u001B[39m\u001B[38;5;241m*\u001B[39mkwargs):\n\u001B[0;32m     23\u001B[0m     start_time \u001B[38;5;241m=\u001B[39m time\u001B[38;5;241m.\u001B[39mperf_counter()\n\u001B[1;32m---> 24\u001B[0m     result \u001B[38;5;241m=\u001B[39m func(\u001B[38;5;241m*\u001B[39margs, \u001B[38;5;241m*\u001B[39m\u001B[38;5;241m*\u001B[39mkwargs)\n\u001B[0;32m     25\u001B[0m     end_time \u001B[38;5;241m=\u001B[39m time\u001B[38;5;241m.\u001B[39mperf_counter()\n\u001B[0;32m     26\u001B[0m     total_time \u001B[38;5;241m=\u001B[39m end_time \u001B[38;5;241m-\u001B[39m start_time\n",
      "Cell \u001B[1;32mIn[14], line 3\u001B[0m, in \u001B[0;36msave_recipe\u001B[1;34m(recipe)\u001B[0m\n\u001B[0;32m      1\u001B[0m \u001B[38;5;129m@timeit\u001B[39m\n\u001B[0;32m      2\u001B[0m \u001B[38;5;28;01mdef\u001B[39;00m \u001B[38;5;21msave_recipe\u001B[39m(recipe\u001B[38;5;241m=\u001B[39mDict) \u001B[38;5;241m-\u001B[39m\u001B[38;5;241m>\u001B[39m json:\n\u001B[1;32m----> 3\u001B[0m     filename \u001B[38;5;241m=\u001B[39m \u001B[43mrecipe\u001B[49m\u001B[43m[\u001B[49m\u001B[38;5;124;43m\"\u001B[39;49m\u001B[38;5;124;43mtitle\u001B[39;49m\u001B[38;5;124;43m\"\u001B[39;49m\u001B[43m]\u001B[49m \u001B[38;5;241m+\u001B[39m \u001B[38;5;124m\"\u001B[39m\u001B[38;5;124m.json\u001B[39m\u001B[38;5;124m\"\u001B[39m\n\u001B[0;32m      4\u001B[0m     folder \u001B[38;5;241m=\u001B[39m recipe[\u001B[38;5;124m\"\u001B[39m\u001B[38;5;124mrecipe_class\u001B[39m\u001B[38;5;124m\"\u001B[39m]\n\u001B[0;32m      5\u001B[0m     os\u001B[38;5;241m.\u001B[39mchdir(\u001B[38;5;124mf\u001B[39m\u001B[38;5;124m\"\u001B[39m\u001B[38;5;124m../recipes/\u001B[39m\u001B[38;5;132;01m{\u001B[39;00mfolder\u001B[38;5;132;01m}\u001B[39;00m\u001B[38;5;124m\"\u001B[39m)\n",
      "\u001B[1;31mTypeError\u001B[0m: 'NoneType' object is not subscriptable"
     ]
    }
   ],
   "source": [
    "recipe = get_parsed_recipe(\"https://shortcutapp.io/n/YWI5NWY5MjhhNzUzNTIwYTExNGE5YTdkN2U4ZTBhOGJi\")\n",
    "print(recipe)\n",
    "save_recipe(recipe)"
   ],
   "metadata": {
    "collapsed": false
   }
  },
  {
   "cell_type": "markdown",
   "source": [
    "# To-Do"
   ],
   "metadata": {
    "collapsed": false
   }
  },
  {
   "cell_type": "code",
   "execution_count": 18,
   "outputs": [],
   "source": [
    "@timeit\n",
    "def backup_recipe(link: str):\n",
    "    if not get_page_content(link):\n",
    "        print(f\"{link} is corrupt\")\n",
    "    else:\n",
    "        os.chdir(\"../recipes\")\n",
    "        dirName = get_category_from_recipe(link)\n",
    "        recipe = get_parsed_recipe(link)\n",
    "        try:\n",
    "            # Create target Directory\n",
    "            os.mkdir(dirName)\n",
    "        except FileExistsError:\n",
    "            print(\"Directory \", dirName, \" already exists\")\n",
    "        save_recipe(recipe)"
   ],
   "metadata": {
    "collapsed": false
   }
  },
  {
   "cell_type": "code",
   "execution_count": 19,
   "outputs": [
    {
     "name": "stdout",
     "output_type": "stream",
     "text": [
      "Function get_page_content('https://shortcutapp.io/n/ZjY0YThmNGY2ZGZhNGUyMTU3NTMyNWFjZGUyNzA3OTBh',) {} Took 2.3163 seconds\n",
      "<div class=\"rezept brote\">\n",
      "<a href=\"https://shortcutapp.io/n/ZjY0YThmNGY2ZGZhNGUyMTU3NTMyNWFjZGUyNzA3OTBh\">\n",
      "<img alt=\"Rezeptname\" src=\"img\\brote\\bazlama.jpg\"/>\n",
      "<h3 class=\"rezeptname\">Bazlama Fladenbrot</h3>\n",
      "</a>\n",
      "</div>\n",
      "Function get_category_from_recipe('https://shortcutapp.io/n/ZjY0YThmNGY2ZGZhNGUyMTU3NTMyNWFjZGUyNzA3OTBh',) {} Took 0.0008 seconds\n",
      "Function get_page_content('https://shortcutapp.io/n/ZjY0YThmNGY2ZGZhNGUyMTU3NTMyNWFjZGUyNzA3OTBh',) {} Took 2.3166 seconds\n",
      "Function get_page_content('https://shortcutapp.io/n/ZjY0YThmNGY2ZGZhNGUyMTU3NTMyNWFjZGUyNzA3OTBh',) {} Took 2.2915 seconds\n",
      "<div class=\"rezept brote\">\n",
      "<a href=\"https://shortcutapp.io/n/ZjY0YThmNGY2ZGZhNGUyMTU3NTMyNWFjZGUyNzA3OTBh\">\n",
      "<img alt=\"Rezeptname\" src=\"img\\brote\\bazlama.jpg\"/>\n",
      "<h3 class=\"rezeptname\">Bazlama Fladenbrot</h3>\n",
      "</a>\n",
      "</div>\n",
      "Function get_category_from_recipe('https://shortcutapp.io/n/ZjY0YThmNGY2ZGZhNGUyMTU3NTMyNWFjZGUyNzA3OTBh',) {} Took 0.0010 seconds\n",
      "Function get_page_content('https://storage.googleapis.com/www.selinaschoice.ch/index.html#hauptgang',) {} Took 2.2280 seconds\n",
      "Function get_recipe_img_path('https://shortcutapp.io/n/ZjY0YThmNGY2ZGZhNGUyMTU3NTMyNWFjZGUyNzA3OTBh',) {} Took 2.2293 seconds\n",
      "Function get_parsed_recipe('https://shortcutapp.io/n/ZjY0YThmNGY2ZGZhNGUyMTU3NTMyNWFjZGUyNzA3OTBh',) {} Took 6.8399 seconds\n",
      "Directory  brote  already exists\n",
      "Function save_recipe({'title': 'Bazlama - türkisches Fladenbrot', 'recipe_class': 'brote', 'time': '2021-07-04 08:57:54', 'img_path': 'img\\\\brote\\\\bazlama.jpg', 'prep_time': '30 minutes', 'serves': '4 persons', 'difficulty': '', 'ingredients': [{'quantity': '500 g', 'name': 'Mehl'}, {'quantity': '2 EL', 'name': 'Olivenöl'}, {'quantity': '2 EL', 'name': 'Milch'}, {'quantity': '1 EL', 'name': 'Salz'}, {'quantity': '1 Beutel', 'name': 'Trockenhefe oder 25gr frische Hefe'}, {'quantity': '225 ml', 'name': 'Wasser'}, {'quantity': '', 'name': 'Optional: 1/2 Ei'}], 'instructions': [{'step': 'Step 1', 'instruction': 'Alle Zutaten zusammen in eine Schüssel geben und anschliessend mit der Küchenmaschine kneten bis ein glatter Teig entsteht.'}, {'step': 'Step 2', 'instruction': 'Danach den Teig zugedeckt 30-60min ruhen lassen. Anschliessend ca. 8 Kugeln aus dem Teig formen und zu einer kleinen Tellergrösse auswallen. Die Fladenbrote so nochmals 15min ruhen lassen.'}, {'step': 'Step 3', 'instruction': 'Eine beschichtete Bratpfanne erhitzen und die Fladenbrote darin einzel auf mittlerer Hitze 2-3 Minuten backen (ohne Öl) und warm servieren.'}]},) {} Took 0.0101 seconds\n",
      "Function backup_recipe('https://shortcutapp.io/n/ZjY0YThmNGY2ZGZhNGUyMTU3NTMyNWFjZGUyNzA3OTBh',) {} Took 9.1678 seconds\n"
     ]
    }
   ],
   "source": [
    "backup_recipe(\"https://shortcutapp.io/n/ZjY0YThmNGY2ZGZhNGUyMTU3NTMyNWFjZGUyNzA3OTBh\")"
   ],
   "metadata": {
    "collapsed": false
   }
  },
  {
   "cell_type": "code",
   "execution_count": 24,
   "outputs": [],
   "source": [
    "@timeit\n",
    "def backup_website(category: List):\n",
    "    raw_recipes = get_links_to_scrape(category)\n",
    "    print(raw_recipes)\n",
    "    for recipe in raw_recipes:\n",
    "        backup_recipe(recipe)"
   ],
   "metadata": {
    "collapsed": false
   }
  },
  {
   "cell_type": "code",
   "execution_count": 25,
   "outputs": [
    {
     "name": "stdout",
     "output_type": "stream",
     "text": [
      "Function get_links_from_category(['brote', 'snacks'],) {} Took 0.0017 seconds\n",
      "Function get_links_to_scrape(['brote', 'snacks'],) {} Took 0.0020 seconds\n",
      "['https://shortcutapp.io/n/YjNhNTQxOWNjNWRkNjY3NDI0NWExYjZiODllYzRiNWVk', 'https://shortcutapp.io/n/MjJmNmNjMWY5MWU2ZWQ5MDEwNWEzYzU5MzI1MmIxOGRi', 'https://shortcutapp.io/n/ODBhYzMyYmVkOTJjOWE2NjNjOTgxNjBkMTViMzE2NjFh', 'https://shortcutapp.io/n/ZDc4MGIyOGJkMzJlY2RkY2Y1MTFjNGJjZjhkYTViZDM1', 'https://shortcutapp.io/n/ODQyODU2NzE4YjVkZDFkN2FiNTc2ODAzODI4YTRjNzBh', 'https://shortcutapp.io/n/NDJlNzE0NGIyMTUwYzcwYjliMzcxZTEyYWMyZTk2YzE4', 'https://shortcutapp.io/n/ZjY0YThmNGY2ZGZhNGUyMTU3NTMyNWFjZGUyNzA3OTBh', 'https://shortcutapp.io/n/NDc0ZTFhZGYzMTBiOWRmY2U2NTkyNjU4ZWMyNzY4ODQ2', 'https://shortcutapp.io/n/MzdhOWE0OWMwYTgwZjUxYjZmOWRjZGMxYjAzYzNhYzMw']\n",
      "Function get_page_content('https://shortcutapp.io/n/YjNhNTQxOWNjNWRkNjY3NDI0NWExYjZiODllYzRiNWVk',) {} Took 2.3318 seconds\n",
      "<div class=\"rezept snacks\">\n",
      "<a href=\"https://shortcutapp.io/n/YjNhNTQxOWNjNWRkNjY3NDI0NWExYjZiODllYzRiNWVk\">\n",
      "<img alt=\"Rezeptname\" src=\"img\\snacks\\knuspernuesse.jpeg\"/>\n",
      "<h3 class=\"rezeptname\">KnuspernÃ¼sse</h3>\n",
      "</a>\n",
      "</div>\n",
      "Function get_category_from_recipe('https://shortcutapp.io/n/YjNhNTQxOWNjNWRkNjY3NDI0NWExYjZiODllYzRiNWVk',) {} Took 0.0006 seconds\n",
      "Function get_page_content('https://shortcutapp.io/n/YjNhNTQxOWNjNWRkNjY3NDI0NWExYjZiODllYzRiNWVk',) {} Took 2.3920 seconds\n",
      "Function get_page_content('https://shortcutapp.io/n/YjNhNTQxOWNjNWRkNjY3NDI0NWExYjZiODllYzRiNWVk',) {} Took 2.3643 seconds\n",
      "<div class=\"rezept snacks\">\n",
      "<a href=\"https://shortcutapp.io/n/YjNhNTQxOWNjNWRkNjY3NDI0NWExYjZiODllYzRiNWVk\">\n",
      "<img alt=\"Rezeptname\" src=\"img\\snacks\\knuspernuesse.jpeg\"/>\n",
      "<h3 class=\"rezeptname\">KnuspernÃ¼sse</h3>\n",
      "</a>\n",
      "</div>\n",
      "Function get_category_from_recipe('https://shortcutapp.io/n/YjNhNTQxOWNjNWRkNjY3NDI0NWExYjZiODllYzRiNWVk',) {} Took 0.0009 seconds\n"
     ]
    },
    {
     "ename": "ProxyError",
     "evalue": "HTTPSConnectionPool(host='storage.googleapis.com', port=443): Max retries exceeded with url: /www.selinaschoice.ch/index.html (Caused by ProxyError('Cannot connect to proxy.', OSError('Tunnel connection failed: 401 Proxy server authentication failed: dmz-gate.zrh.local:8080')))",
     "output_type": "error",
     "traceback": [
      "\u001B[1;31m---------------------------------------------------------------------------\u001B[0m",
      "\u001B[1;31mOSError\u001B[0m                                   Traceback (most recent call last)",
      "File \u001B[1;32m~\\PycharmProjects\\backup-package\\venv\\lib\\site-packages\\urllib3\\connectionpool.py:700\u001B[0m, in \u001B[0;36mHTTPConnectionPool.urlopen\u001B[1;34m(self, method, url, body, headers, retries, redirect, assert_same_host, timeout, pool_timeout, release_conn, chunked, body_pos, **response_kw)\u001B[0m\n\u001B[0;32m    699\u001B[0m \u001B[38;5;28;01mif\u001B[39;00m is_new_proxy_conn \u001B[38;5;129;01mand\u001B[39;00m http_tunnel_required:\n\u001B[1;32m--> 700\u001B[0m     \u001B[38;5;28;43mself\u001B[39;49m\u001B[38;5;241;43m.\u001B[39;49m\u001B[43m_prepare_proxy\u001B[49m\u001B[43m(\u001B[49m\u001B[43mconn\u001B[49m\u001B[43m)\u001B[49m\n\u001B[0;32m    702\u001B[0m \u001B[38;5;66;03m# Make the request on the httplib connection object.\u001B[39;00m\n",
      "File \u001B[1;32m~\\PycharmProjects\\backup-package\\venv\\lib\\site-packages\\urllib3\\connectionpool.py:996\u001B[0m, in \u001B[0;36mHTTPSConnectionPool._prepare_proxy\u001B[1;34m(self, conn)\u001B[0m\n\u001B[0;32m    994\u001B[0m     conn\u001B[38;5;241m.\u001B[39mtls_in_tls_required \u001B[38;5;241m=\u001B[39m \u001B[38;5;28;01mTrue\u001B[39;00m\n\u001B[1;32m--> 996\u001B[0m \u001B[43mconn\u001B[49m\u001B[38;5;241;43m.\u001B[39;49m\u001B[43mconnect\u001B[49m\u001B[43m(\u001B[49m\u001B[43m)\u001B[49m\n",
      "File \u001B[1;32m~\\PycharmProjects\\backup-package\\venv\\lib\\site-packages\\urllib3\\connection.py:374\u001B[0m, in \u001B[0;36mHTTPSConnection.connect\u001B[1;34m(self)\u001B[0m\n\u001B[0;32m    372\u001B[0m \u001B[38;5;66;03m# Calls self._set_hostport(), so self.host is\u001B[39;00m\n\u001B[0;32m    373\u001B[0m \u001B[38;5;66;03m# self._tunnel_host below.\u001B[39;00m\n\u001B[1;32m--> 374\u001B[0m \u001B[38;5;28;43mself\u001B[39;49m\u001B[38;5;241;43m.\u001B[39;49m\u001B[43m_tunnel\u001B[49m\u001B[43m(\u001B[49m\u001B[43m)\u001B[49m\n\u001B[0;32m    375\u001B[0m \u001B[38;5;66;03m# Mark this connection as not reusable\u001B[39;00m\n",
      "File \u001B[1;32m~\\AppData\\Local\\Programs\\Python\\Python310\\lib\\http\\client.py:924\u001B[0m, in \u001B[0;36mHTTPConnection._tunnel\u001B[1;34m(self)\u001B[0m\n\u001B[0;32m    923\u001B[0m     \u001B[38;5;28mself\u001B[39m\u001B[38;5;241m.\u001B[39mclose()\n\u001B[1;32m--> 924\u001B[0m     \u001B[38;5;28;01mraise\u001B[39;00m \u001B[38;5;167;01mOSError\u001B[39;00m(\u001B[38;5;124mf\u001B[39m\u001B[38;5;124m\"\u001B[39m\u001B[38;5;124mTunnel connection failed: \u001B[39m\u001B[38;5;132;01m{\u001B[39;00mcode\u001B[38;5;132;01m}\u001B[39;00m\u001B[38;5;124m \u001B[39m\u001B[38;5;132;01m{\u001B[39;00mmessage\u001B[38;5;241m.\u001B[39mstrip()\u001B[38;5;132;01m}\u001B[39;00m\u001B[38;5;124m\"\u001B[39m)\n\u001B[0;32m    925\u001B[0m \u001B[38;5;28;01mwhile\u001B[39;00m \u001B[38;5;28;01mTrue\u001B[39;00m:\n",
      "\u001B[1;31mOSError\u001B[0m: Tunnel connection failed: 401 Proxy server authentication failed: dmz-gate.zrh.local:8080",
      "\nDuring handling of the above exception, another exception occurred:\n",
      "\u001B[1;31mMaxRetryError\u001B[0m                             Traceback (most recent call last)",
      "File \u001B[1;32m~\\PycharmProjects\\backup-package\\venv\\lib\\site-packages\\requests\\adapters.py:489\u001B[0m, in \u001B[0;36mHTTPAdapter.send\u001B[1;34m(self, request, stream, timeout, verify, cert, proxies)\u001B[0m\n\u001B[0;32m    488\u001B[0m \u001B[38;5;28;01mif\u001B[39;00m \u001B[38;5;129;01mnot\u001B[39;00m chunked:\n\u001B[1;32m--> 489\u001B[0m     resp \u001B[38;5;241m=\u001B[39m \u001B[43mconn\u001B[49m\u001B[38;5;241;43m.\u001B[39;49m\u001B[43murlopen\u001B[49m\u001B[43m(\u001B[49m\n\u001B[0;32m    490\u001B[0m \u001B[43m        \u001B[49m\u001B[43mmethod\u001B[49m\u001B[38;5;241;43m=\u001B[39;49m\u001B[43mrequest\u001B[49m\u001B[38;5;241;43m.\u001B[39;49m\u001B[43mmethod\u001B[49m\u001B[43m,\u001B[49m\n\u001B[0;32m    491\u001B[0m \u001B[43m        \u001B[49m\u001B[43murl\u001B[49m\u001B[38;5;241;43m=\u001B[39;49m\u001B[43murl\u001B[49m\u001B[43m,\u001B[49m\n\u001B[0;32m    492\u001B[0m \u001B[43m        \u001B[49m\u001B[43mbody\u001B[49m\u001B[38;5;241;43m=\u001B[39;49m\u001B[43mrequest\u001B[49m\u001B[38;5;241;43m.\u001B[39;49m\u001B[43mbody\u001B[49m\u001B[43m,\u001B[49m\n\u001B[0;32m    493\u001B[0m \u001B[43m        \u001B[49m\u001B[43mheaders\u001B[49m\u001B[38;5;241;43m=\u001B[39;49m\u001B[43mrequest\u001B[49m\u001B[38;5;241;43m.\u001B[39;49m\u001B[43mheaders\u001B[49m\u001B[43m,\u001B[49m\n\u001B[0;32m    494\u001B[0m \u001B[43m        \u001B[49m\u001B[43mredirect\u001B[49m\u001B[38;5;241;43m=\u001B[39;49m\u001B[38;5;28;43;01mFalse\u001B[39;49;00m\u001B[43m,\u001B[49m\n\u001B[0;32m    495\u001B[0m \u001B[43m        \u001B[49m\u001B[43massert_same_host\u001B[49m\u001B[38;5;241;43m=\u001B[39;49m\u001B[38;5;28;43;01mFalse\u001B[39;49;00m\u001B[43m,\u001B[49m\n\u001B[0;32m    496\u001B[0m \u001B[43m        \u001B[49m\u001B[43mpreload_content\u001B[49m\u001B[38;5;241;43m=\u001B[39;49m\u001B[38;5;28;43;01mFalse\u001B[39;49;00m\u001B[43m,\u001B[49m\n\u001B[0;32m    497\u001B[0m \u001B[43m        \u001B[49m\u001B[43mdecode_content\u001B[49m\u001B[38;5;241;43m=\u001B[39;49m\u001B[38;5;28;43;01mFalse\u001B[39;49;00m\u001B[43m,\u001B[49m\n\u001B[0;32m    498\u001B[0m \u001B[43m        \u001B[49m\u001B[43mretries\u001B[49m\u001B[38;5;241;43m=\u001B[39;49m\u001B[38;5;28;43mself\u001B[39;49m\u001B[38;5;241;43m.\u001B[39;49m\u001B[43mmax_retries\u001B[49m\u001B[43m,\u001B[49m\n\u001B[0;32m    499\u001B[0m \u001B[43m        \u001B[49m\u001B[43mtimeout\u001B[49m\u001B[38;5;241;43m=\u001B[39;49m\u001B[43mtimeout\u001B[49m\u001B[43m,\u001B[49m\n\u001B[0;32m    500\u001B[0m \u001B[43m    \u001B[49m\u001B[43m)\u001B[49m\n\u001B[0;32m    502\u001B[0m \u001B[38;5;66;03m# Send the request.\u001B[39;00m\n\u001B[0;32m    503\u001B[0m \u001B[38;5;28;01melse\u001B[39;00m:\n",
      "File \u001B[1;32m~\\PycharmProjects\\backup-package\\venv\\lib\\site-packages\\urllib3\\connectionpool.py:787\u001B[0m, in \u001B[0;36mHTTPConnectionPool.urlopen\u001B[1;34m(self, method, url, body, headers, retries, redirect, assert_same_host, timeout, pool_timeout, release_conn, chunked, body_pos, **response_kw)\u001B[0m\n\u001B[0;32m    785\u001B[0m     e \u001B[38;5;241m=\u001B[39m ProtocolError(\u001B[38;5;124m\"\u001B[39m\u001B[38;5;124mConnection aborted.\u001B[39m\u001B[38;5;124m\"\u001B[39m, e)\n\u001B[1;32m--> 787\u001B[0m retries \u001B[38;5;241m=\u001B[39m \u001B[43mretries\u001B[49m\u001B[38;5;241;43m.\u001B[39;49m\u001B[43mincrement\u001B[49m\u001B[43m(\u001B[49m\n\u001B[0;32m    788\u001B[0m \u001B[43m    \u001B[49m\u001B[43mmethod\u001B[49m\u001B[43m,\u001B[49m\u001B[43m \u001B[49m\u001B[43murl\u001B[49m\u001B[43m,\u001B[49m\u001B[43m \u001B[49m\u001B[43merror\u001B[49m\u001B[38;5;241;43m=\u001B[39;49m\u001B[43me\u001B[49m\u001B[43m,\u001B[49m\u001B[43m \u001B[49m\u001B[43m_pool\u001B[49m\u001B[38;5;241;43m=\u001B[39;49m\u001B[38;5;28;43mself\u001B[39;49m\u001B[43m,\u001B[49m\u001B[43m \u001B[49m\u001B[43m_stacktrace\u001B[49m\u001B[38;5;241;43m=\u001B[39;49m\u001B[43msys\u001B[49m\u001B[38;5;241;43m.\u001B[39;49m\u001B[43mexc_info\u001B[49m\u001B[43m(\u001B[49m\u001B[43m)\u001B[49m\u001B[43m[\u001B[49m\u001B[38;5;241;43m2\u001B[39;49m\u001B[43m]\u001B[49m\n\u001B[0;32m    789\u001B[0m \u001B[43m\u001B[49m\u001B[43m)\u001B[49m\n\u001B[0;32m    790\u001B[0m retries\u001B[38;5;241m.\u001B[39msleep()\n",
      "File \u001B[1;32m~\\PycharmProjects\\backup-package\\venv\\lib\\site-packages\\urllib3\\util\\retry.py:592\u001B[0m, in \u001B[0;36mRetry.increment\u001B[1;34m(self, method, url, response, error, _pool, _stacktrace)\u001B[0m\n\u001B[0;32m    591\u001B[0m \u001B[38;5;28;01mif\u001B[39;00m new_retry\u001B[38;5;241m.\u001B[39mis_exhausted():\n\u001B[1;32m--> 592\u001B[0m     \u001B[38;5;28;01mraise\u001B[39;00m MaxRetryError(_pool, url, error \u001B[38;5;129;01mor\u001B[39;00m ResponseError(cause))\n\u001B[0;32m    594\u001B[0m log\u001B[38;5;241m.\u001B[39mdebug(\u001B[38;5;124m\"\u001B[39m\u001B[38;5;124mIncremented Retry for (url=\u001B[39m\u001B[38;5;124m'\u001B[39m\u001B[38;5;132;01m%s\u001B[39;00m\u001B[38;5;124m'\u001B[39m\u001B[38;5;124m): \u001B[39m\u001B[38;5;132;01m%r\u001B[39;00m\u001B[38;5;124m\"\u001B[39m, url, new_retry)\n",
      "\u001B[1;31mMaxRetryError\u001B[0m: HTTPSConnectionPool(host='storage.googleapis.com', port=443): Max retries exceeded with url: /www.selinaschoice.ch/index.html (Caused by ProxyError('Cannot connect to proxy.', OSError('Tunnel connection failed: 401 Proxy server authentication failed: dmz-gate.zrh.local:8080')))",
      "\nDuring handling of the above exception, another exception occurred:\n",
      "\u001B[1;31mProxyError\u001B[0m                                Traceback (most recent call last)",
      "Cell \u001B[1;32mIn[25], line 1\u001B[0m\n\u001B[1;32m----> 1\u001B[0m \u001B[43mbackup_website\u001B[49m\u001B[43m(\u001B[49m\u001B[43m[\u001B[49m\u001B[38;5;124;43m\"\u001B[39;49m\u001B[38;5;124;43mbrote\u001B[39;49m\u001B[38;5;124;43m\"\u001B[39;49m\u001B[43m,\u001B[49m\u001B[43m \u001B[49m\u001B[38;5;124;43m\"\u001B[39;49m\u001B[38;5;124;43msnacks\u001B[39;49m\u001B[38;5;124;43m\"\u001B[39;49m\u001B[43m]\u001B[49m\u001B[43m)\u001B[49m\n\u001B[0;32m      2\u001B[0m \u001B[38;5;28mprint\u001B[39m(report)\n",
      "Cell \u001B[1;32mIn[5], line 24\u001B[0m, in \u001B[0;36mtimeit.<locals>.timeit_wrapper\u001B[1;34m(*args, **kwargs)\u001B[0m\n\u001B[0;32m     21\u001B[0m \u001B[38;5;129m@wraps\u001B[39m(func)\n\u001B[0;32m     22\u001B[0m \u001B[38;5;28;01mdef\u001B[39;00m \u001B[38;5;21mtimeit_wrapper\u001B[39m(\u001B[38;5;241m*\u001B[39margs, \u001B[38;5;241m*\u001B[39m\u001B[38;5;241m*\u001B[39mkwargs):\n\u001B[0;32m     23\u001B[0m     start_time \u001B[38;5;241m=\u001B[39m time\u001B[38;5;241m.\u001B[39mperf_counter()\n\u001B[1;32m---> 24\u001B[0m     result \u001B[38;5;241m=\u001B[39m func(\u001B[38;5;241m*\u001B[39margs, \u001B[38;5;241m*\u001B[39m\u001B[38;5;241m*\u001B[39mkwargs)\n\u001B[0;32m     25\u001B[0m     end_time \u001B[38;5;241m=\u001B[39m time\u001B[38;5;241m.\u001B[39mperf_counter()\n\u001B[0;32m     26\u001B[0m     total_time \u001B[38;5;241m=\u001B[39m end_time \u001B[38;5;241m-\u001B[39m start_time\n",
      "Cell \u001B[1;32mIn[24], line 6\u001B[0m, in \u001B[0;36mbackup_website\u001B[1;34m(category)\u001B[0m\n\u001B[0;32m      4\u001B[0m \u001B[38;5;28mprint\u001B[39m(raw_recipes)\n\u001B[0;32m      5\u001B[0m \u001B[38;5;28;01mfor\u001B[39;00m recipe \u001B[38;5;129;01min\u001B[39;00m raw_recipes:\n\u001B[1;32m----> 6\u001B[0m     \u001B[43mbackup_recipe\u001B[49m\u001B[43m(\u001B[49m\u001B[43mrecipe\u001B[49m\u001B[43m)\u001B[49m\n",
      "Cell \u001B[1;32mIn[5], line 24\u001B[0m, in \u001B[0;36mtimeit.<locals>.timeit_wrapper\u001B[1;34m(*args, **kwargs)\u001B[0m\n\u001B[0;32m     21\u001B[0m \u001B[38;5;129m@wraps\u001B[39m(func)\n\u001B[0;32m     22\u001B[0m \u001B[38;5;28;01mdef\u001B[39;00m \u001B[38;5;21mtimeit_wrapper\u001B[39m(\u001B[38;5;241m*\u001B[39margs, \u001B[38;5;241m*\u001B[39m\u001B[38;5;241m*\u001B[39mkwargs):\n\u001B[0;32m     23\u001B[0m     start_time \u001B[38;5;241m=\u001B[39m time\u001B[38;5;241m.\u001B[39mperf_counter()\n\u001B[1;32m---> 24\u001B[0m     result \u001B[38;5;241m=\u001B[39m func(\u001B[38;5;241m*\u001B[39margs, \u001B[38;5;241m*\u001B[39m\u001B[38;5;241m*\u001B[39mkwargs)\n\u001B[0;32m     25\u001B[0m     end_time \u001B[38;5;241m=\u001B[39m time\u001B[38;5;241m.\u001B[39mperf_counter()\n\u001B[0;32m     26\u001B[0m     total_time \u001B[38;5;241m=\u001B[39m end_time \u001B[38;5;241m-\u001B[39m start_time\n",
      "Cell \u001B[1;32mIn[18], line 8\u001B[0m, in \u001B[0;36mbackup_recipe\u001B[1;34m(link)\u001B[0m\n\u001B[0;32m      6\u001B[0m os\u001B[38;5;241m.\u001B[39mchdir(\u001B[38;5;124m\"\u001B[39m\u001B[38;5;124m../recipes\u001B[39m\u001B[38;5;124m\"\u001B[39m)\n\u001B[0;32m      7\u001B[0m dirName \u001B[38;5;241m=\u001B[39m get_category_from_recipe(link)\n\u001B[1;32m----> 8\u001B[0m recipe \u001B[38;5;241m=\u001B[39m \u001B[43mget_parsed_recipe\u001B[49m\u001B[43m(\u001B[49m\u001B[43mlink\u001B[49m\u001B[43m)\u001B[49m\n\u001B[0;32m      9\u001B[0m \u001B[38;5;28;01mtry\u001B[39;00m:\n\u001B[0;32m     10\u001B[0m     \u001B[38;5;66;03m# Create target Directory\u001B[39;00m\n\u001B[0;32m     11\u001B[0m     os\u001B[38;5;241m.\u001B[39mmkdir(dirName)\n",
      "Cell \u001B[1;32mIn[5], line 24\u001B[0m, in \u001B[0;36mtimeit.<locals>.timeit_wrapper\u001B[1;34m(*args, **kwargs)\u001B[0m\n\u001B[0;32m     21\u001B[0m \u001B[38;5;129m@wraps\u001B[39m(func)\n\u001B[0;32m     22\u001B[0m \u001B[38;5;28;01mdef\u001B[39;00m \u001B[38;5;21mtimeit_wrapper\u001B[39m(\u001B[38;5;241m*\u001B[39margs, \u001B[38;5;241m*\u001B[39m\u001B[38;5;241m*\u001B[39mkwargs):\n\u001B[0;32m     23\u001B[0m     start_time \u001B[38;5;241m=\u001B[39m time\u001B[38;5;241m.\u001B[39mperf_counter()\n\u001B[1;32m---> 24\u001B[0m     result \u001B[38;5;241m=\u001B[39m func(\u001B[38;5;241m*\u001B[39margs, \u001B[38;5;241m*\u001B[39m\u001B[38;5;241m*\u001B[39mkwargs)\n\u001B[0;32m     25\u001B[0m     end_time \u001B[38;5;241m=\u001B[39m time\u001B[38;5;241m.\u001B[39mperf_counter()\n\u001B[0;32m     26\u001B[0m     total_time \u001B[38;5;241m=\u001B[39m end_time \u001B[38;5;241m-\u001B[39m start_time\n",
      "Cell \u001B[1;32mIn[10], line 10\u001B[0m, in \u001B[0;36mget_parsed_recipe\u001B[1;34m(link)\u001B[0m\n\u001B[0;32m      8\u001B[0m recipe_class \u001B[38;5;241m=\u001B[39m get_category_from_recipe(link)\n\u001B[0;32m      9\u001B[0m time_stamp \u001B[38;5;241m=\u001B[39m get_timestamp(recipe)\n\u001B[1;32m---> 10\u001B[0m img \u001B[38;5;241m=\u001B[39m \u001B[43mget_recipe_img_path\u001B[49m\u001B[43m(\u001B[49m\u001B[43mlink\u001B[49m\u001B[43m)\u001B[49m\n\u001B[0;32m     11\u001B[0m prep_time \u001B[38;5;241m=\u001B[39m get_prep_time(recipe)\n\u001B[0;32m     12\u001B[0m serves \u001B[38;5;241m=\u001B[39m get_serves(recipe)\n",
      "Cell \u001B[1;32mIn[5], line 24\u001B[0m, in \u001B[0;36mtimeit.<locals>.timeit_wrapper\u001B[1;34m(*args, **kwargs)\u001B[0m\n\u001B[0;32m     21\u001B[0m \u001B[38;5;129m@wraps\u001B[39m(func)\n\u001B[0;32m     22\u001B[0m \u001B[38;5;28;01mdef\u001B[39;00m \u001B[38;5;21mtimeit_wrapper\u001B[39m(\u001B[38;5;241m*\u001B[39margs, \u001B[38;5;241m*\u001B[39m\u001B[38;5;241m*\u001B[39mkwargs):\n\u001B[0;32m     23\u001B[0m     start_time \u001B[38;5;241m=\u001B[39m time\u001B[38;5;241m.\u001B[39mperf_counter()\n\u001B[1;32m---> 24\u001B[0m     result \u001B[38;5;241m=\u001B[39m func(\u001B[38;5;241m*\u001B[39margs, \u001B[38;5;241m*\u001B[39m\u001B[38;5;241m*\u001B[39mkwargs)\n\u001B[0;32m     25\u001B[0m     end_time \u001B[38;5;241m=\u001B[39m time\u001B[38;5;241m.\u001B[39mperf_counter()\n\u001B[0;32m     26\u001B[0m     total_time \u001B[38;5;241m=\u001B[39m end_time \u001B[38;5;241m-\u001B[39m start_time\n",
      "Cell \u001B[1;32mIn[8], line 28\u001B[0m, in \u001B[0;36mget_recipe_img_path\u001B[1;34m(link)\u001B[0m\n\u001B[0;32m     21\u001B[0m \u001B[38;5;129m@timeit\u001B[39m\n\u001B[0;32m     22\u001B[0m \u001B[38;5;28;01mdef\u001B[39;00m \u001B[38;5;21mget_recipe_img_path\u001B[39m(link: \u001B[38;5;28mstr\u001B[39m) \u001B[38;5;241m-\u001B[39m\u001B[38;5;241m>\u001B[39m \u001B[38;5;28mstr\u001B[39m:\n\u001B[0;32m     23\u001B[0m \u001B[38;5;250m    \u001B[39m\u001B[38;5;124;03m\"\"\"\u001B[39;00m\n\u001B[0;32m     24\u001B[0m \u001B[38;5;124;03m    Get the img path from a recipe with the recipe link.\u001B[39;00m\n\u001B[0;32m     25\u001B[0m \u001B[38;5;124;03m    :param link: str\u001B[39;00m\n\u001B[0;32m     26\u001B[0m \u001B[38;5;124;03m    :return img_path: str\u001B[39;00m\n\u001B[0;32m     27\u001B[0m \u001B[38;5;124;03m    \"\"\"\u001B[39;00m\n\u001B[1;32m---> 28\u001B[0m     main_page \u001B[38;5;241m=\u001B[39m \u001B[43mget_page_content\u001B[49m\u001B[43m(\u001B[49m\u001B[38;5;124;43m'\u001B[39;49m\u001B[38;5;124;43mhttps://storage.googleapis.com/www.selinaschoice.ch/index.html#hauptgang\u001B[39;49m\u001B[38;5;124;43m'\u001B[39;49m\u001B[43m)\u001B[49m\n\u001B[0;32m     29\u001B[0m     specific_recipe \u001B[38;5;241m=\u001B[39m main_page\u001B[38;5;241m.\u001B[39mfind(\u001B[38;5;124m\"\u001B[39m\u001B[38;5;124ma\u001B[39m\u001B[38;5;124m\"\u001B[39m, href\u001B[38;5;241m=\u001B[39mlink)\n\u001B[0;32m     30\u001B[0m     img \u001B[38;5;241m=\u001B[39m specific_recipe\u001B[38;5;241m.\u001B[39mfind(\u001B[38;5;124m\"\u001B[39m\u001B[38;5;124mimg\u001B[39m\u001B[38;5;124m\"\u001B[39m)\n",
      "Cell \u001B[1;32mIn[5], line 24\u001B[0m, in \u001B[0;36mtimeit.<locals>.timeit_wrapper\u001B[1;34m(*args, **kwargs)\u001B[0m\n\u001B[0;32m     21\u001B[0m \u001B[38;5;129m@wraps\u001B[39m(func)\n\u001B[0;32m     22\u001B[0m \u001B[38;5;28;01mdef\u001B[39;00m \u001B[38;5;21mtimeit_wrapper\u001B[39m(\u001B[38;5;241m*\u001B[39margs, \u001B[38;5;241m*\u001B[39m\u001B[38;5;241m*\u001B[39mkwargs):\n\u001B[0;32m     23\u001B[0m     start_time \u001B[38;5;241m=\u001B[39m time\u001B[38;5;241m.\u001B[39mperf_counter()\n\u001B[1;32m---> 24\u001B[0m     result \u001B[38;5;241m=\u001B[39m func(\u001B[38;5;241m*\u001B[39margs, \u001B[38;5;241m*\u001B[39m\u001B[38;5;241m*\u001B[39mkwargs)\n\u001B[0;32m     25\u001B[0m     end_time \u001B[38;5;241m=\u001B[39m time\u001B[38;5;241m.\u001B[39mperf_counter()\n\u001B[0;32m     26\u001B[0m     total_time \u001B[38;5;241m=\u001B[39m end_time \u001B[38;5;241m-\u001B[39m start_time\n",
      "Cell \u001B[1;32mIn[5], line 40\u001B[0m, in \u001B[0;36mget_page_content\u001B[1;34m(link)\u001B[0m\n\u001B[0;32m     33\u001B[0m \u001B[38;5;129m@timeit\u001B[39m\n\u001B[0;32m     34\u001B[0m \u001B[38;5;28;01mdef\u001B[39;00m \u001B[38;5;21mget_page_content\u001B[39m(link: \u001B[38;5;28mstr\u001B[39m) \u001B[38;5;241m-\u001B[39m\u001B[38;5;241m>\u001B[39m \u001B[38;5;28mstr\u001B[39m:\n\u001B[0;32m     35\u001B[0m \u001B[38;5;250m    \u001B[39m\u001B[38;5;124;03m\"\"\"\u001B[39;00m\n\u001B[0;32m     36\u001B[0m \u001B[38;5;124;03m    Get a Parsed homepage as HTML str.\u001B[39;00m\n\u001B[0;32m     37\u001B[0m \u001B[38;5;124;03m    :param link:\u001B[39;00m\n\u001B[0;32m     38\u001B[0m \u001B[38;5;124;03m    :return: parsed_homepage\u001B[39;00m\n\u001B[0;32m     39\u001B[0m \u001B[38;5;124;03m    \"\"\"\u001B[39;00m\n\u001B[1;32m---> 40\u001B[0m     homepage \u001B[38;5;241m=\u001B[39m \u001B[43mrequests\u001B[49m\u001B[38;5;241;43m.\u001B[39;49m\u001B[43mget\u001B[49m\u001B[43m(\u001B[49m\u001B[43mlink\u001B[49m\u001B[43m)\u001B[49m\n\u001B[0;32m     41\u001B[0m     \u001B[38;5;28;01mif\u001B[39;00m \u001B[38;5;129;01mnot\u001B[39;00m homepage\u001B[38;5;241m.\u001B[39mstatus_code \u001B[38;5;241m==\u001B[39m \u001B[38;5;241m200\u001B[39m:\n\u001B[0;32m     42\u001B[0m         report\u001B[38;5;241m.\u001B[39mappend(\u001B[38;5;124mf\u001B[39m\u001B[38;5;124m\"\u001B[39m\u001B[38;5;124mCan\u001B[39m\u001B[38;5;124m'\u001B[39m\u001B[38;5;124mt reach \u001B[39m\u001B[38;5;132;01m{\u001B[39;00mlink\u001B[38;5;132;01m}\u001B[39;00m\u001B[38;5;124m with status code 200.\u001B[39m\u001B[38;5;124m\"\u001B[39m)\n",
      "File \u001B[1;32m~\\PycharmProjects\\backup-package\\venv\\lib\\site-packages\\requests\\api.py:73\u001B[0m, in \u001B[0;36mget\u001B[1;34m(url, params, **kwargs)\u001B[0m\n\u001B[0;32m     62\u001B[0m \u001B[38;5;28;01mdef\u001B[39;00m \u001B[38;5;21mget\u001B[39m(url, params\u001B[38;5;241m=\u001B[39m\u001B[38;5;28;01mNone\u001B[39;00m, \u001B[38;5;241m*\u001B[39m\u001B[38;5;241m*\u001B[39mkwargs):\n\u001B[0;32m     63\u001B[0m \u001B[38;5;250m    \u001B[39m\u001B[38;5;124mr\u001B[39m\u001B[38;5;124;03m\"\"\"Sends a GET request.\u001B[39;00m\n\u001B[0;32m     64\u001B[0m \n\u001B[0;32m     65\u001B[0m \u001B[38;5;124;03m    :param url: URL for the new :class:`Request` object.\u001B[39;00m\n\u001B[1;32m   (...)\u001B[0m\n\u001B[0;32m     70\u001B[0m \u001B[38;5;124;03m    :rtype: requests.Response\u001B[39;00m\n\u001B[0;32m     71\u001B[0m \u001B[38;5;124;03m    \"\"\"\u001B[39;00m\n\u001B[1;32m---> 73\u001B[0m     \u001B[38;5;28;01mreturn\u001B[39;00m request(\u001B[38;5;124m\"\u001B[39m\u001B[38;5;124mget\u001B[39m\u001B[38;5;124m\"\u001B[39m, url, params\u001B[38;5;241m=\u001B[39mparams, \u001B[38;5;241m*\u001B[39m\u001B[38;5;241m*\u001B[39mkwargs)\n",
      "File \u001B[1;32m~\\PycharmProjects\\backup-package\\venv\\lib\\site-packages\\requests\\api.py:59\u001B[0m, in \u001B[0;36mrequest\u001B[1;34m(method, url, **kwargs)\u001B[0m\n\u001B[0;32m     55\u001B[0m \u001B[38;5;66;03m# By using the 'with' statement we are sure the session is closed, thus we\u001B[39;00m\n\u001B[0;32m     56\u001B[0m \u001B[38;5;66;03m# avoid leaving sockets open which can trigger a ResourceWarning in some\u001B[39;00m\n\u001B[0;32m     57\u001B[0m \u001B[38;5;66;03m# cases, and look like a memory leak in others.\u001B[39;00m\n\u001B[0;32m     58\u001B[0m \u001B[38;5;28;01mwith\u001B[39;00m sessions\u001B[38;5;241m.\u001B[39mSession() \u001B[38;5;28;01mas\u001B[39;00m session:\n\u001B[1;32m---> 59\u001B[0m     \u001B[38;5;28;01mreturn\u001B[39;00m session\u001B[38;5;241m.\u001B[39mrequest(method\u001B[38;5;241m=\u001B[39mmethod, url\u001B[38;5;241m=\u001B[39murl, \u001B[38;5;241m*\u001B[39m\u001B[38;5;241m*\u001B[39mkwargs)\n",
      "File \u001B[1;32m~\\PycharmProjects\\backup-package\\venv\\lib\\site-packages\\requests\\sessions.py:587\u001B[0m, in \u001B[0;36mSession.request\u001B[1;34m(self, method, url, params, data, headers, cookies, files, auth, timeout, allow_redirects, proxies, hooks, stream, verify, cert, json)\u001B[0m\n\u001B[0;32m    582\u001B[0m send_kwargs \u001B[38;5;241m=\u001B[39m {\n\u001B[0;32m    583\u001B[0m     \u001B[38;5;124m\"\u001B[39m\u001B[38;5;124mtimeout\u001B[39m\u001B[38;5;124m\"\u001B[39m: timeout,\n\u001B[0;32m    584\u001B[0m     \u001B[38;5;124m\"\u001B[39m\u001B[38;5;124mallow_redirects\u001B[39m\u001B[38;5;124m\"\u001B[39m: allow_redirects,\n\u001B[0;32m    585\u001B[0m }\n\u001B[0;32m    586\u001B[0m send_kwargs\u001B[38;5;241m.\u001B[39mupdate(settings)\n\u001B[1;32m--> 587\u001B[0m resp \u001B[38;5;241m=\u001B[39m \u001B[38;5;28mself\u001B[39m\u001B[38;5;241m.\u001B[39msend(prep, \u001B[38;5;241m*\u001B[39m\u001B[38;5;241m*\u001B[39msend_kwargs)\n\u001B[0;32m    589\u001B[0m \u001B[38;5;28;01mreturn\u001B[39;00m resp\n",
      "File \u001B[1;32m~\\PycharmProjects\\backup-package\\venv\\lib\\site-packages\\requests\\sessions.py:701\u001B[0m, in \u001B[0;36mSession.send\u001B[1;34m(self, request, **kwargs)\u001B[0m\n\u001B[0;32m    698\u001B[0m start \u001B[38;5;241m=\u001B[39m preferred_clock()\n\u001B[0;32m    700\u001B[0m \u001B[38;5;66;03m# Send the request\u001B[39;00m\n\u001B[1;32m--> 701\u001B[0m r \u001B[38;5;241m=\u001B[39m adapter\u001B[38;5;241m.\u001B[39msend(request, \u001B[38;5;241m*\u001B[39m\u001B[38;5;241m*\u001B[39mkwargs)\n\u001B[0;32m    703\u001B[0m \u001B[38;5;66;03m# Total elapsed time of the request (approximately)\u001B[39;00m\n\u001B[0;32m    704\u001B[0m elapsed \u001B[38;5;241m=\u001B[39m preferred_clock() \u001B[38;5;241m-\u001B[39m start\n",
      "File \u001B[1;32m~\\PycharmProjects\\backup-package\\venv\\lib\\site-packages\\requests\\adapters.py:559\u001B[0m, in \u001B[0;36mHTTPAdapter.send\u001B[1;34m(self, request, stream, timeout, verify, cert, proxies)\u001B[0m\n\u001B[0;32m    556\u001B[0m     \u001B[38;5;28;01mraise\u001B[39;00m RetryError(e, request\u001B[38;5;241m=\u001B[39mrequest)\n\u001B[0;32m    558\u001B[0m \u001B[38;5;28;01mif\u001B[39;00m \u001B[38;5;28misinstance\u001B[39m(e\u001B[38;5;241m.\u001B[39mreason, _ProxyError):\n\u001B[1;32m--> 559\u001B[0m     \u001B[38;5;28;01mraise\u001B[39;00m ProxyError(e, request\u001B[38;5;241m=\u001B[39mrequest)\n\u001B[0;32m    561\u001B[0m \u001B[38;5;28;01mif\u001B[39;00m \u001B[38;5;28misinstance\u001B[39m(e\u001B[38;5;241m.\u001B[39mreason, _SSLError):\n\u001B[0;32m    562\u001B[0m     \u001B[38;5;66;03m# This branch is for urllib3 v1.22 and later.\u001B[39;00m\n\u001B[0;32m    563\u001B[0m     \u001B[38;5;28;01mraise\u001B[39;00m SSLError(e, request\u001B[38;5;241m=\u001B[39mrequest)\n",
      "\u001B[1;31mProxyError\u001B[0m: HTTPSConnectionPool(host='storage.googleapis.com', port=443): Max retries exceeded with url: /www.selinaschoice.ch/index.html (Caused by ProxyError('Cannot connect to proxy.', OSError('Tunnel connection failed: 401 Proxy server authentication failed: dmz-gate.zrh.local:8080')))"
     ]
    }
   ],
   "source": [
    "backup_website([\"brote\", \"snacks\"])\n",
    "print(report)"
   ],
   "metadata": {
    "collapsed": false
   }
  },
  {
   "cell_type": "markdown",
   "source": [],
   "metadata": {
    "collapsed": false
   }
  },
  {
   "cell_type": "markdown",
   "source": [
    "\n",
    "ToDo:\n",
    "- Automate creation from recipe folder\n",
    "- Create Function to backup img\n",
    "- make Function if the recipe link fails like the one from Erdbeer Clafoutis - https://shortcutapp.io/n/YWI5NWY5MjhhNzUzNTIwYTExNGE5YTdkN2U4ZTBhOGJi\n",
    "- make sure dataquality is good with None Vlaue handling.\n",
    "- Move package out to create Tests"
   ],
   "metadata": {
    "collapsed": false
   }
  },
  {
   "cell_type": "code",
   "execution_count": 9,
   "outputs": [
    {
     "name": "stdout",
     "output_type": "stream",
     "text": [
      "it works s\n"
     ]
    }
   ],
   "source": [
    "# Test Zone\n",
    "allowed_categories = [\"vorspeise\", \"hauptgang\", \"dessert\", \"fruehstueck\", \"snacks\", \"brote\", \"getraenke\"]\n",
    "\n",
    "selected_categories = [\"vorspeise\", \"hauptgang\", \"dessert\", \"fruehstueck\", \"snacks\", \"brote\", \"getraenke\"]\n",
    "\n",
    "if set(selected_categories).issubset(set(allowed_categories)):\n",
    "    print(\"it works s\")\n",
    "else:\n",
    "    print(\"No work\")"
   ],
   "metadata": {
    "collapsed": false
   }
  },
  {
   "cell_type": "markdown",
   "source": [],
   "metadata": {
    "collapsed": false
   }
  },
  {
   "cell_type": "code",
   "execution_count": 16,
   "outputs": [
    {
     "ename": "MissingSchema",
     "evalue": "Invalid URL 'img\\\\brand.png': No scheme supplied. Perhaps you meant https://img\\brand.png?",
     "output_type": "error",
     "traceback": [
      "\u001B[1;31m---------------------------------------------------------------------------\u001B[0m",
      "\u001B[1;31mMissingSchema\u001B[0m                             Traceback (most recent call last)",
      "Cell \u001B[1;32mIn[16], line 15\u001B[0m\n\u001B[0;32m     11\u001B[0m image \u001B[38;5;241m=\u001B[39m soup\u001B[38;5;241m.\u001B[39mfind(\u001B[38;5;124m'\u001B[39m\u001B[38;5;124mimg\u001B[39m\u001B[38;5;124m'\u001B[39m)\n\u001B[0;32m     12\u001B[0m image_url \u001B[38;5;241m=\u001B[39m image[\u001B[38;5;124m'\u001B[39m\u001B[38;5;124msrc\u001B[39m\u001B[38;5;124m'\u001B[39m]\n\u001B[1;32m---> 15\u001B[0m img \u001B[38;5;241m=\u001B[39m Image\u001B[38;5;241m.\u001B[39mopen(\u001B[43mrequests\u001B[49m\u001B[38;5;241;43m.\u001B[39;49m\u001B[43mget\u001B[49m\u001B[43m(\u001B[49m\u001B[43mimage_url\u001B[49m\u001B[43m,\u001B[49m\u001B[43m \u001B[49m\u001B[43mstream\u001B[49m\u001B[43m \u001B[49m\u001B[38;5;241;43m=\u001B[39;49m\u001B[43m \u001B[49m\u001B[38;5;28;43;01mTrue\u001B[39;49;00m\u001B[43m)\u001B[49m\u001B[38;5;241m.\u001B[39mraw)\n\u001B[0;32m     17\u001B[0m img\u001B[38;5;241m.\u001B[39msave(\u001B[38;5;124m'\u001B[39m\u001B[38;5;124mimage.jpg\u001B[39m\u001B[38;5;124m'\u001B[39m)\n",
      "File \u001B[1;32m~\\PycharmProjects\\backup-package\\venv\\Lib\\site-packages\\requests\\api.py:73\u001B[0m, in \u001B[0;36mget\u001B[1;34m(url, params, **kwargs)\u001B[0m\n\u001B[0;32m     62\u001B[0m \u001B[38;5;28;01mdef\u001B[39;00m \u001B[38;5;21mget\u001B[39m(url, params\u001B[38;5;241m=\u001B[39m\u001B[38;5;28;01mNone\u001B[39;00m, \u001B[38;5;241m*\u001B[39m\u001B[38;5;241m*\u001B[39mkwargs):\n\u001B[0;32m     63\u001B[0m \u001B[38;5;250m    \u001B[39m\u001B[38;5;124mr\u001B[39m\u001B[38;5;124;03m\"\"\"Sends a GET request.\u001B[39;00m\n\u001B[0;32m     64\u001B[0m \n\u001B[0;32m     65\u001B[0m \u001B[38;5;124;03m    :param url: URL for the new :class:`Request` object.\u001B[39;00m\n\u001B[1;32m   (...)\u001B[0m\n\u001B[0;32m     70\u001B[0m \u001B[38;5;124;03m    :rtype: requests.Response\u001B[39;00m\n\u001B[0;32m     71\u001B[0m \u001B[38;5;124;03m    \"\"\"\u001B[39;00m\n\u001B[1;32m---> 73\u001B[0m     \u001B[38;5;28;01mreturn\u001B[39;00m \u001B[43mrequest\u001B[49m\u001B[43m(\u001B[49m\u001B[38;5;124;43m\"\u001B[39;49m\u001B[38;5;124;43mget\u001B[39;49m\u001B[38;5;124;43m\"\u001B[39;49m\u001B[43m,\u001B[49m\u001B[43m \u001B[49m\u001B[43murl\u001B[49m\u001B[43m,\u001B[49m\u001B[43m \u001B[49m\u001B[43mparams\u001B[49m\u001B[38;5;241;43m=\u001B[39;49m\u001B[43mparams\u001B[49m\u001B[43m,\u001B[49m\u001B[43m \u001B[49m\u001B[38;5;241;43m*\u001B[39;49m\u001B[38;5;241;43m*\u001B[39;49m\u001B[43mkwargs\u001B[49m\u001B[43m)\u001B[49m\n",
      "File \u001B[1;32m~\\PycharmProjects\\backup-package\\venv\\Lib\\site-packages\\requests\\api.py:59\u001B[0m, in \u001B[0;36mrequest\u001B[1;34m(method, url, **kwargs)\u001B[0m\n\u001B[0;32m     55\u001B[0m \u001B[38;5;66;03m# By using the 'with' statement we are sure the session is closed, thus we\u001B[39;00m\n\u001B[0;32m     56\u001B[0m \u001B[38;5;66;03m# avoid leaving sockets open which can trigger a ResourceWarning in some\u001B[39;00m\n\u001B[0;32m     57\u001B[0m \u001B[38;5;66;03m# cases, and look like a memory leak in others.\u001B[39;00m\n\u001B[0;32m     58\u001B[0m \u001B[38;5;28;01mwith\u001B[39;00m sessions\u001B[38;5;241m.\u001B[39mSession() \u001B[38;5;28;01mas\u001B[39;00m session:\n\u001B[1;32m---> 59\u001B[0m     \u001B[38;5;28;01mreturn\u001B[39;00m \u001B[43msession\u001B[49m\u001B[38;5;241;43m.\u001B[39;49m\u001B[43mrequest\u001B[49m\u001B[43m(\u001B[49m\u001B[43mmethod\u001B[49m\u001B[38;5;241;43m=\u001B[39;49m\u001B[43mmethod\u001B[49m\u001B[43m,\u001B[49m\u001B[43m \u001B[49m\u001B[43murl\u001B[49m\u001B[38;5;241;43m=\u001B[39;49m\u001B[43murl\u001B[49m\u001B[43m,\u001B[49m\u001B[43m \u001B[49m\u001B[38;5;241;43m*\u001B[39;49m\u001B[38;5;241;43m*\u001B[39;49m\u001B[43mkwargs\u001B[49m\u001B[43m)\u001B[49m\n",
      "File \u001B[1;32m~\\PycharmProjects\\backup-package\\venv\\Lib\\site-packages\\requests\\sessions.py:573\u001B[0m, in \u001B[0;36mSession.request\u001B[1;34m(self, method, url, params, data, headers, cookies, files, auth, timeout, allow_redirects, proxies, hooks, stream, verify, cert, json)\u001B[0m\n\u001B[0;32m    560\u001B[0m \u001B[38;5;66;03m# Create the Request.\u001B[39;00m\n\u001B[0;32m    561\u001B[0m req \u001B[38;5;241m=\u001B[39m Request(\n\u001B[0;32m    562\u001B[0m     method\u001B[38;5;241m=\u001B[39mmethod\u001B[38;5;241m.\u001B[39mupper(),\n\u001B[0;32m    563\u001B[0m     url\u001B[38;5;241m=\u001B[39murl,\n\u001B[1;32m   (...)\u001B[0m\n\u001B[0;32m    571\u001B[0m     hooks\u001B[38;5;241m=\u001B[39mhooks,\n\u001B[0;32m    572\u001B[0m )\n\u001B[1;32m--> 573\u001B[0m prep \u001B[38;5;241m=\u001B[39m \u001B[38;5;28;43mself\u001B[39;49m\u001B[38;5;241;43m.\u001B[39;49m\u001B[43mprepare_request\u001B[49m\u001B[43m(\u001B[49m\u001B[43mreq\u001B[49m\u001B[43m)\u001B[49m\n\u001B[0;32m    575\u001B[0m proxies \u001B[38;5;241m=\u001B[39m proxies \u001B[38;5;129;01mor\u001B[39;00m {}\n\u001B[0;32m    577\u001B[0m settings \u001B[38;5;241m=\u001B[39m \u001B[38;5;28mself\u001B[39m\u001B[38;5;241m.\u001B[39mmerge_environment_settings(\n\u001B[0;32m    578\u001B[0m     prep\u001B[38;5;241m.\u001B[39murl, proxies, stream, verify, cert\n\u001B[0;32m    579\u001B[0m )\n",
      "File \u001B[1;32m~\\PycharmProjects\\backup-package\\venv\\Lib\\site-packages\\requests\\sessions.py:484\u001B[0m, in \u001B[0;36mSession.prepare_request\u001B[1;34m(self, request)\u001B[0m\n\u001B[0;32m    481\u001B[0m     auth \u001B[38;5;241m=\u001B[39m get_netrc_auth(request\u001B[38;5;241m.\u001B[39murl)\n\u001B[0;32m    483\u001B[0m p \u001B[38;5;241m=\u001B[39m PreparedRequest()\n\u001B[1;32m--> 484\u001B[0m \u001B[43mp\u001B[49m\u001B[38;5;241;43m.\u001B[39;49m\u001B[43mprepare\u001B[49m\u001B[43m(\u001B[49m\n\u001B[0;32m    485\u001B[0m \u001B[43m    \u001B[49m\u001B[43mmethod\u001B[49m\u001B[38;5;241;43m=\u001B[39;49m\u001B[43mrequest\u001B[49m\u001B[38;5;241;43m.\u001B[39;49m\u001B[43mmethod\u001B[49m\u001B[38;5;241;43m.\u001B[39;49m\u001B[43mupper\u001B[49m\u001B[43m(\u001B[49m\u001B[43m)\u001B[49m\u001B[43m,\u001B[49m\n\u001B[0;32m    486\u001B[0m \u001B[43m    \u001B[49m\u001B[43murl\u001B[49m\u001B[38;5;241;43m=\u001B[39;49m\u001B[43mrequest\u001B[49m\u001B[38;5;241;43m.\u001B[39;49m\u001B[43murl\u001B[49m\u001B[43m,\u001B[49m\n\u001B[0;32m    487\u001B[0m \u001B[43m    \u001B[49m\u001B[43mfiles\u001B[49m\u001B[38;5;241;43m=\u001B[39;49m\u001B[43mrequest\u001B[49m\u001B[38;5;241;43m.\u001B[39;49m\u001B[43mfiles\u001B[49m\u001B[43m,\u001B[49m\n\u001B[0;32m    488\u001B[0m \u001B[43m    \u001B[49m\u001B[43mdata\u001B[49m\u001B[38;5;241;43m=\u001B[39;49m\u001B[43mrequest\u001B[49m\u001B[38;5;241;43m.\u001B[39;49m\u001B[43mdata\u001B[49m\u001B[43m,\u001B[49m\n\u001B[0;32m    489\u001B[0m \u001B[43m    \u001B[49m\u001B[43mjson\u001B[49m\u001B[38;5;241;43m=\u001B[39;49m\u001B[43mrequest\u001B[49m\u001B[38;5;241;43m.\u001B[39;49m\u001B[43mjson\u001B[49m\u001B[43m,\u001B[49m\n\u001B[0;32m    490\u001B[0m \u001B[43m    \u001B[49m\u001B[43mheaders\u001B[49m\u001B[38;5;241;43m=\u001B[39;49m\u001B[43mmerge_setting\u001B[49m\u001B[43m(\u001B[49m\n\u001B[0;32m    491\u001B[0m \u001B[43m        \u001B[49m\u001B[43mrequest\u001B[49m\u001B[38;5;241;43m.\u001B[39;49m\u001B[43mheaders\u001B[49m\u001B[43m,\u001B[49m\u001B[43m \u001B[49m\u001B[38;5;28;43mself\u001B[39;49m\u001B[38;5;241;43m.\u001B[39;49m\u001B[43mheaders\u001B[49m\u001B[43m,\u001B[49m\u001B[43m \u001B[49m\u001B[43mdict_class\u001B[49m\u001B[38;5;241;43m=\u001B[39;49m\u001B[43mCaseInsensitiveDict\u001B[49m\n\u001B[0;32m    492\u001B[0m \u001B[43m    \u001B[49m\u001B[43m)\u001B[49m\u001B[43m,\u001B[49m\n\u001B[0;32m    493\u001B[0m \u001B[43m    \u001B[49m\u001B[43mparams\u001B[49m\u001B[38;5;241;43m=\u001B[39;49m\u001B[43mmerge_setting\u001B[49m\u001B[43m(\u001B[49m\u001B[43mrequest\u001B[49m\u001B[38;5;241;43m.\u001B[39;49m\u001B[43mparams\u001B[49m\u001B[43m,\u001B[49m\u001B[43m \u001B[49m\u001B[38;5;28;43mself\u001B[39;49m\u001B[38;5;241;43m.\u001B[39;49m\u001B[43mparams\u001B[49m\u001B[43m)\u001B[49m\u001B[43m,\u001B[49m\n\u001B[0;32m    494\u001B[0m \u001B[43m    \u001B[49m\u001B[43mauth\u001B[49m\u001B[38;5;241;43m=\u001B[39;49m\u001B[43mmerge_setting\u001B[49m\u001B[43m(\u001B[49m\u001B[43mauth\u001B[49m\u001B[43m,\u001B[49m\u001B[43m \u001B[49m\u001B[38;5;28;43mself\u001B[39;49m\u001B[38;5;241;43m.\u001B[39;49m\u001B[43mauth\u001B[49m\u001B[43m)\u001B[49m\u001B[43m,\u001B[49m\n\u001B[0;32m    495\u001B[0m \u001B[43m    \u001B[49m\u001B[43mcookies\u001B[49m\u001B[38;5;241;43m=\u001B[39;49m\u001B[43mmerged_cookies\u001B[49m\u001B[43m,\u001B[49m\n\u001B[0;32m    496\u001B[0m \u001B[43m    \u001B[49m\u001B[43mhooks\u001B[49m\u001B[38;5;241;43m=\u001B[39;49m\u001B[43mmerge_hooks\u001B[49m\u001B[43m(\u001B[49m\u001B[43mrequest\u001B[49m\u001B[38;5;241;43m.\u001B[39;49m\u001B[43mhooks\u001B[49m\u001B[43m,\u001B[49m\u001B[43m \u001B[49m\u001B[38;5;28;43mself\u001B[39;49m\u001B[38;5;241;43m.\u001B[39;49m\u001B[43mhooks\u001B[49m\u001B[43m)\u001B[49m\u001B[43m,\u001B[49m\n\u001B[0;32m    497\u001B[0m \u001B[43m\u001B[49m\u001B[43m)\u001B[49m\n\u001B[0;32m    498\u001B[0m \u001B[38;5;28;01mreturn\u001B[39;00m p\n",
      "File \u001B[1;32m~\\PycharmProjects\\backup-package\\venv\\Lib\\site-packages\\requests\\models.py:368\u001B[0m, in \u001B[0;36mPreparedRequest.prepare\u001B[1;34m(self, method, url, headers, files, data, params, auth, cookies, hooks, json)\u001B[0m\n\u001B[0;32m    365\u001B[0m \u001B[38;5;250m\u001B[39m\u001B[38;5;124;03m\"\"\"Prepares the entire request with the given parameters.\"\"\"\u001B[39;00m\n\u001B[0;32m    367\u001B[0m \u001B[38;5;28mself\u001B[39m\u001B[38;5;241m.\u001B[39mprepare_method(method)\n\u001B[1;32m--> 368\u001B[0m \u001B[38;5;28;43mself\u001B[39;49m\u001B[38;5;241;43m.\u001B[39;49m\u001B[43mprepare_url\u001B[49m\u001B[43m(\u001B[49m\u001B[43murl\u001B[49m\u001B[43m,\u001B[49m\u001B[43m \u001B[49m\u001B[43mparams\u001B[49m\u001B[43m)\u001B[49m\n\u001B[0;32m    369\u001B[0m \u001B[38;5;28mself\u001B[39m\u001B[38;5;241m.\u001B[39mprepare_headers(headers)\n\u001B[0;32m    370\u001B[0m \u001B[38;5;28mself\u001B[39m\u001B[38;5;241m.\u001B[39mprepare_cookies(cookies)\n",
      "File \u001B[1;32m~\\PycharmProjects\\backup-package\\venv\\Lib\\site-packages\\requests\\models.py:439\u001B[0m, in \u001B[0;36mPreparedRequest.prepare_url\u001B[1;34m(self, url, params)\u001B[0m\n\u001B[0;32m    436\u001B[0m     \u001B[38;5;28;01mraise\u001B[39;00m InvalidURL(\u001B[38;5;241m*\u001B[39me\u001B[38;5;241m.\u001B[39margs)\n\u001B[0;32m    438\u001B[0m \u001B[38;5;28;01mif\u001B[39;00m \u001B[38;5;129;01mnot\u001B[39;00m scheme:\n\u001B[1;32m--> 439\u001B[0m     \u001B[38;5;28;01mraise\u001B[39;00m MissingSchema(\n\u001B[0;32m    440\u001B[0m         \u001B[38;5;124mf\u001B[39m\u001B[38;5;124m\"\u001B[39m\u001B[38;5;124mInvalid URL \u001B[39m\u001B[38;5;132;01m{\u001B[39;00murl\u001B[38;5;132;01m!r}\u001B[39;00m\u001B[38;5;124m: No scheme supplied. \u001B[39m\u001B[38;5;124m\"\u001B[39m\n\u001B[0;32m    441\u001B[0m         \u001B[38;5;124mf\u001B[39m\u001B[38;5;124m\"\u001B[39m\u001B[38;5;124mPerhaps you meant https://\u001B[39m\u001B[38;5;132;01m{\u001B[39;00murl\u001B[38;5;132;01m}\u001B[39;00m\u001B[38;5;124m?\u001B[39m\u001B[38;5;124m\"\u001B[39m\n\u001B[0;32m    442\u001B[0m     )\n\u001B[0;32m    444\u001B[0m \u001B[38;5;28;01mif\u001B[39;00m \u001B[38;5;129;01mnot\u001B[39;00m host:\n\u001B[0;32m    445\u001B[0m     \u001B[38;5;28;01mraise\u001B[39;00m InvalidURL(\u001B[38;5;124mf\u001B[39m\u001B[38;5;124m\"\u001B[39m\u001B[38;5;124mInvalid URL \u001B[39m\u001B[38;5;132;01m{\u001B[39;00murl\u001B[38;5;132;01m!r}\u001B[39;00m\u001B[38;5;124m: No host supplied\u001B[39m\u001B[38;5;124m\"\u001B[39m)\n",
      "\u001B[1;31mMissingSchema\u001B[0m: Invalid URL 'img\\\\brand.png': No scheme supplied. Perhaps you meant https://img\\brand.png?"
     ]
    }
   ],
   "source": [
    "from PIL import Image\n",
    "import requests\n",
    "import bs4\n",
    "\n",
    "url = \"https://storage.googleapis.com/www.selinaschoice.ch/index.html\"\n",
    "\n",
    "response = requests.get(url)\n",
    "\n",
    "soup = bs4.BeautifulSoup(response.text, 'html.parser')\n",
    "\n",
    "image = soup.find('img')\n",
    "image_url = image['src']\n",
    "\n",
    "img = Image.open(requests.get(image_url, stream=True).raw)\n",
    "\n",
    "img.save('image.jpg')"
   ],
   "metadata": {
    "collapsed": false
   }
  },
  {
   "cell_type": "code",
   "execution_count": 7,
   "outputs": [],
   "source": [
    "def get_page_content(link: str) -> str:\n",
    "    \"\"\"\n",
    "    Get a Parsed HTML-Page as str.\n",
    "    :param link:\n",
    "    :return: parsed_page\n",
    "    \"\"\"\n",
    "    homepage = requests.get(link)\n",
    "    if not homepage.status_code == 200:\n",
    "        report.append(f\"Can't reach {link} with status code 200.\")\n",
    "        return False\n",
    "    elif homepage.status_code == 200:\n",
    "        parsed_page = BeautifulSoup(homepage.text, 'html.parser')\n",
    "        return parsed_page\n",
    "\n",
    "\n",
    "def get_recipe_img_path(main_page: str, link: str) -> str:\n",
    "    \"\"\"\n",
    "    Get the img path from a recipe with the recipe link.\n",
    "    :param main_page: str\n",
    "    :param link: str\n",
    "    :return img_path: str\n",
    "    \"\"\"\n",
    "    specific_recipe = main_page.find(\"a\", href=link)\n",
    "    img = specific_recipe.find(\"img\")\n",
    "    img_path_raw = img.get(\"src\")\n",
    "    img_path = img_path_raw.replace(\"\\\\\", \"/\")\n",
    "    return img_path\n",
    "\n",
    "\n",
    "def get_category_from_recipe(main_page, link: str) -> str:\n",
    "    \"\"\"\n",
    "    Get the one of allowed classes based on the recipe link.\n",
    "    :param link: str\n",
    "    :return recipe_class: str\n",
    "    \"\"\"\n",
    "    specific_recipe = main_page.find(\"a\", href=link).parent\n",
    "    specific_recipe_class = specific_recipe[\"class\"][1:]\n",
    "    recipe_class = \"\".join(specific_recipe_class)\n",
    "    if recipe_class in allowed_categories:\n",
    "        return recipe_class\n",
    "    else:\n",
    "        print(f\"The class from recipe: {link} is {recipe_class} and not in {allowed_categories}.\")"
   ],
   "metadata": {
    "collapsed": false
   }
  },
  {
   "cell_type": "code",
   "execution_count": 12,
   "outputs": [],
   "source": [
    "page = get_page_content(\"https://storage.googleapis.com/www.selinaschoice.ch/index.html\")\n",
    "recipe = \"https://shortcutapp.io/n/ZjY0YThmNGY2ZGZhNGUyMTU3NTMyNWFjZGUyNzA3OTBh\"\n",
    "\n",
    "\n",
    "def save_recipe_img(main_page: str, link: str):\n",
    "    \"\"\"\n",
    "    Saves the img from a recipe to the correct folder.\n",
    "    :param main_page: str\n",
    "    :param link: str\n",
    "    :return:\n",
    "    \"\"\"\n",
    "    # Get img data\n",
    "    additional_path = get_recipe_img_path(main_page, link)\n",
    "    img_url = f\"https://storage.googleapis.com/www.selinaschoice.ch/{additional_path}\"\n",
    "    img_data = requests.get(img_url).content\n",
    "    # Handle dir changes\n",
    "    # ToDo Handle dir changes for different img's\n",
    "    category = get_category_from_recipe(main_page, link)\n",
    "    recipe_name = get_recipe_title()\n",
    "    os.chdir(f\"../img/{category}\")\n",
    "    print(os.getcwd())\n",
    "    with open('test.jpg', 'wb') as handler:\n",
    "        handler.write(img_data)\n",
    "\n",
    "\n",
    "save_recipe_img(page, recipe)"
   ],
   "metadata": {
    "collapsed": false
   }
  },
  {
   "cell_type": "code",
   "execution_count": null,
   "outputs": [],
   "source": [
    "# Save a img\n",
    "soup = get_page_content(\"https://storage.googleapis.com/www.selinaschoice.ch/index.html\")\n",
    "\n",
    "images = soup.select('img')\n",
    "\n",
    "images_url = images[5]['src']\n",
    "\n",
    "new_url = images_url.replace(\"\\\\\", \"/\")\n",
    "\n",
    "full_url = f\"https://storage.googleapis.com/www.selinaschoice.ch/{new_url}\"\n",
    "\n",
    "print(full_url)\n",
    "\n",
    "img_data = requests.get(full_url).content\n",
    "\n",
    "with open('netflix.jpg', 'wb') as handler:\n",
    "    handler.write(img_data)"
   ],
   "metadata": {
    "collapsed": false
   }
  },
  {
   "cell_type": "code",
   "execution_count": null,
   "outputs": [],
   "source": [
    "from re import sub\n",
    "from parser import *\n",
    "\n",
    "url = \"https://storage.googleapis.com/www.selinaschoice.ch/index.html\"\n",
    "response = requests.get(url)\n",
    "\n",
    "main_page = get_page_content(\"https://storage.googleapis.com/www.selinaschoice.ch/index.html\")\n",
    "link = \"https://shortcutapp.io/n/ZjY0YThmNGY2ZGZhNGUyMTU3NTMyNWFjZGUyNzA3OTBh\"\n",
    "\n",
    "image_url = get_recipe_img_path(main_page, link)\n",
    "full_url = f\"https://storage.googleapis.com/www.selinaschoice.ch/{image_url}\"\n",
    "\n",
    "# Save Function\n",
    "recipe = get_page_content(link)\n",
    "recipe_name = get_recipe_title(recipe)\n",
    "\n",
    "img_data = requests.get(full_url).content\n",
    "new_name = '_'.join(\n",
    "    sub('([A-Z][a-z]+)', r' \\1', sub('([A-Z]+)', r' \\1', recipe_name.replace('-', ' '))).split()).lower()\n",
    "\n",
    "with open(f\"{new_name}.jpg\", 'wb') as handler:\n",
    "    handler.write(img_data)"
   ],
   "metadata": {
    "collapsed": false
   }
  },
  {
   "cell_type": "code",
   "execution_count": 1,
   "outputs": [
    {
     "name": "stdout",
     "output_type": "stream",
     "text": [
      "{'title': 'Bazlama - türkisches Fladenbrot', 'recipe_class': 'brote', 'time': '2021-07-04 08:57:54', 'img_path': 'img/brote/bazlama.jpg', 'prep_time': '30 minutes', 'serves': '4 persons', 'difficulty': 'easy', 'ingredients': [{'quantity': '500 g', 'name': 'Mehl'}, {'quantity': '2 EL', 'name': 'Olivenöl'}, {'quantity': '2 EL', 'name': 'Milch'}, {'quantity': '1 EL', 'name': 'Salz'}, {'quantity': '1 Beutel', 'name': 'Trockenhefe oder 25gr frische Hefe'}, {'quantity': '225 ml', 'name': 'Wasser'}, {'quantity': '', 'name': 'Optional: 1/2 Ei'}], 'instructions': [{'step': 'Step 1', 'instruction': 'Alle Zutaten zusammen in eine Schüssel geben und anschliessend mit der Küchenmaschine kneten bis ein glatter Teig entsteht.'}, {'step': 'Step 2', 'instruction': 'Danach den Teig zugedeckt 30-60min ruhen lassen. Anschliessend ca. 8 Kugeln aus dem Teig formen und zu einer kleinen Tellergrösse auswallen. Die Fladenbrote so nochmals 15min ruhen lassen.'}, {'step': 'Step 3', 'instruction': 'Eine beschichtete Bratpfanne erhitzen und die Fladenbrote darin einzel auf mittlerer Hitze 2-3 Minuten backen (ohne Öl) und warm servieren.'}]}\n"
     ]
    }
   ],
   "source": [
    "from re import sub\n",
    "from parser import *\n",
    "\n",
    "link = \"https://shortcutapp.io/n/ZjY0YThmNGY2ZGZhNGUyMTU3NTMyNWFjZGUyNzA3OTBh\"\n",
    "main_page = get_page_content(\"https://storage.googleapis.com/www.selinaschoice.ch/index.html\")\n",
    "recipe = get_parsed_recipe(link, main_page)\n",
    "print(recipe)"
   ],
   "metadata": {
    "collapsed": false
   }
  },
  {
   "cell_type": "code",
   "execution_count": 2,
   "outputs": [],
   "source": [
    "def save_img(recipe: Dict):\n",
    "    \"\"\"\n",
    "    Saves the img from a recipe automatically to the right folder and renames it right.\n",
    "    :param recipe: Dict\n",
    "    :return:\n",
    "    \"\"\"\n",
    "    image_url = recipe[\"img_path\"]\n",
    "    recipe_name = recipe[\"title\"]\n",
    "    category = recipe[\"recipe_class\"]\n",
    "\n",
    "    full_url = f\"https://storage.googleapis.com/www.selinaschoice.ch/{image_url}\"\n",
    "\n",
    "    img_data = requests.get(full_url).content\n",
    "    img_sub_name = '_'.join(\n",
    "        sub('([A-Z][a-z]+)', r' \\1', sub('([A-Z]+)', r' \\1', recipe_name.replace('-', ' '))).split()).lower()\n",
    "    os.chdir(f\"../img/{category}\")\n",
    "    with open(f\"{img_sub_name}.jpg\", 'wb') as handler:\n",
    "        handler.write(img_data)\n",
    "    os.chdir(\"../../src\")"
   ],
   "metadata": {
    "collapsed": false
   }
  },
  {
   "cell_type": "code",
   "execution_count": 3,
   "outputs": [
    {
     "name": "stdout",
     "output_type": "stream",
     "text": [
      "C:\\Users\\u108695\\PycharmProjects\\backup-package\\img\\brote\n",
      "C:\\Users\\u108695\\PycharmProjects\\backup-package\\src\n"
     ]
    }
   ],
   "source": [
    "save_img(recipe)"
   ],
   "metadata": {
    "collapsed": false
   }
  },
  {
   "cell_type": "code",
   "execution_count": null,
   "outputs": [],
   "source": [
    "# def save_recipe(recipe=Dict) -> json:\n",
    "#     filename = recipe[\"title\"] + \".json\"\n",
    "#     folder = recipe[\"recipe_class\"]\n",
    "#     os.chdir(f\"../recipes/{folder}\")\n",
    "#     json_object = json.dumps(recipe, indent=4, ensure_ascii=False)\n",
    "#     with open(filename, \"w\", encoding=\"utf-8\") as outfile:\n",
    "#         outfile.write(json_object)\n",
    "#     os.chdir(\"../../src\")"
   ],
   "metadata": {
    "collapsed": false
   }
  },
  {
   "cell_type": "code",
   "execution_count": 7,
   "outputs": [],
   "source": [
    "def save_recipe(recipe: Dict):\n",
    "    recipe_title = recipe[\"title\"]\n",
    "    file_sub_name = '_'.join(sub('([A-Z][a-z]+)', r' \\1', sub('([A-Z]+)', r' \\1', recipe_title.replace('-', ' '))).split()).lower()\n",
    "    filename = file_sub_name + \".json\"\n",
    "    category = recipe[\"recipe_class\"]\n",
    "\n",
    "    os.chdir(f\"../recipes/{category}\")\n",
    "    json_object = json.dumps(recipe, indent=4, ensure_ascii=False)\n",
    "    with open(filename, \"w\", encoding=\"utf-8\") as outfile:\n",
    "         outfile.write(json_object)\n",
    "    os.chdir(\"../../src\")"
   ],
   "metadata": {
    "collapsed": false
   }
  },
  {
   "cell_type": "code",
   "execution_count": 8,
   "outputs": [],
   "source": [
    "save_recipe(recipe)"
   ],
   "metadata": {
    "collapsed": false
   }
  },
  {
   "cell_type": "code",
   "execution_count": null,
   "outputs": [],
   "source": [],
   "metadata": {
    "collapsed": false
   }
  }
 ],
 "metadata": {
  "kernelspec": {
   "display_name": "Python 3",
   "language": "python",
   "name": "python3"
  },
  "language_info": {
   "codemirror_mode": {
    "name": "ipython",
    "version": 2
   },
   "file_extension": ".py",
   "mimetype": "text/x-python",
   "name": "python",
   "nbconvert_exporter": "python",
   "pygments_lexer": "ipython2",
   "version": "2.7.6"
  }
 },
 "nbformat": 4,
 "nbformat_minor": 0
}
