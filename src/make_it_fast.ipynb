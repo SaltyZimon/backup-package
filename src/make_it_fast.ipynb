{
 "cells": [
  {
   "cell_type": "code",
   "execution_count": 6,
   "metadata": {
    "collapsed": true
   },
   "outputs": [
    {
     "ename": "ProxyError",
     "evalue": "HTTPSConnectionPool(host='shortcutapp.io', port=443): Max retries exceeded with url: /n/YWI5NWY5MjhhNzUzNTIwYTExNGE5YTdkN2U4ZTBhOGJi (Caused by ProxyError('Cannot connect to proxy.', OSError('Tunnel connection failed: 503 56;')))",
     "output_type": "error",
     "traceback": [
      "\u001B[1;31m---------------------------------------------------------------------------\u001B[0m",
      "\u001B[1;31mOSError\u001B[0m                                   Traceback (most recent call last)",
      "File \u001B[1;32m~\\PycharmProjects\\backup-package\\venv\\Lib\\site-packages\\urllib3\\connectionpool.py:700\u001B[0m, in \u001B[0;36mHTTPConnectionPool.urlopen\u001B[1;34m(self, method, url, body, headers, retries, redirect, assert_same_host, timeout, pool_timeout, release_conn, chunked, body_pos, **response_kw)\u001B[0m\n\u001B[0;32m    699\u001B[0m \u001B[38;5;28;01mif\u001B[39;00m is_new_proxy_conn \u001B[38;5;129;01mand\u001B[39;00m http_tunnel_required:\n\u001B[1;32m--> 700\u001B[0m     \u001B[38;5;28;43mself\u001B[39;49m\u001B[38;5;241;43m.\u001B[39;49m\u001B[43m_prepare_proxy\u001B[49m\u001B[43m(\u001B[49m\u001B[43mconn\u001B[49m\u001B[43m)\u001B[49m\n\u001B[0;32m    702\u001B[0m \u001B[38;5;66;03m# Make the request on the httplib connection object.\u001B[39;00m\n",
      "File \u001B[1;32m~\\PycharmProjects\\backup-package\\venv\\Lib\\site-packages\\urllib3\\connectionpool.py:996\u001B[0m, in \u001B[0;36mHTTPSConnectionPool._prepare_proxy\u001B[1;34m(self, conn)\u001B[0m\n\u001B[0;32m    994\u001B[0m     conn\u001B[38;5;241m.\u001B[39mtls_in_tls_required \u001B[38;5;241m=\u001B[39m \u001B[38;5;28;01mTrue\u001B[39;00m\n\u001B[1;32m--> 996\u001B[0m \u001B[43mconn\u001B[49m\u001B[38;5;241;43m.\u001B[39;49m\u001B[43mconnect\u001B[49m\u001B[43m(\u001B[49m\u001B[43m)\u001B[49m\n",
      "File \u001B[1;32m~\\PycharmProjects\\backup-package\\venv\\Lib\\site-packages\\urllib3\\connection.py:374\u001B[0m, in \u001B[0;36mHTTPSConnection.connect\u001B[1;34m(self)\u001B[0m\n\u001B[0;32m    372\u001B[0m \u001B[38;5;66;03m# Calls self._set_hostport(), so self.host is\u001B[39;00m\n\u001B[0;32m    373\u001B[0m \u001B[38;5;66;03m# self._tunnel_host below.\u001B[39;00m\n\u001B[1;32m--> 374\u001B[0m \u001B[38;5;28;43mself\u001B[39;49m\u001B[38;5;241;43m.\u001B[39;49m\u001B[43m_tunnel\u001B[49m\u001B[43m(\u001B[49m\u001B[43m)\u001B[49m\n\u001B[0;32m    375\u001B[0m \u001B[38;5;66;03m# Mark this connection as not reusable\u001B[39;00m\n",
      "File \u001B[1;32m~\\AppData\\Local\\Programs\\Python\\Python311\\Lib\\http\\client.py:924\u001B[0m, in \u001B[0;36mHTTPConnection._tunnel\u001B[1;34m(self)\u001B[0m\n\u001B[0;32m    923\u001B[0m     \u001B[38;5;28mself\u001B[39m\u001B[38;5;241m.\u001B[39mclose()\n\u001B[1;32m--> 924\u001B[0m     \u001B[38;5;28;01mraise\u001B[39;00m \u001B[38;5;167;01mOSError\u001B[39;00m(\u001B[38;5;124mf\u001B[39m\u001B[38;5;124m\"\u001B[39m\u001B[38;5;124mTunnel connection failed: \u001B[39m\u001B[38;5;132;01m{\u001B[39;00mcode\u001B[38;5;132;01m}\u001B[39;00m\u001B[38;5;124m \u001B[39m\u001B[38;5;132;01m{\u001B[39;00mmessage\u001B[38;5;241m.\u001B[39mstrip()\u001B[38;5;132;01m}\u001B[39;00m\u001B[38;5;124m\"\u001B[39m)\n\u001B[0;32m    925\u001B[0m \u001B[38;5;28;01mwhile\u001B[39;00m \u001B[38;5;28;01mTrue\u001B[39;00m:\n",
      "\u001B[1;31mOSError\u001B[0m: Tunnel connection failed: 503 56;",
      "\nDuring handling of the above exception, another exception occurred:\n",
      "\u001B[1;31mMaxRetryError\u001B[0m                             Traceback (most recent call last)",
      "File \u001B[1;32m~\\PycharmProjects\\backup-package\\venv\\Lib\\site-packages\\requests\\adapters.py:489\u001B[0m, in \u001B[0;36mHTTPAdapter.send\u001B[1;34m(self, request, stream, timeout, verify, cert, proxies)\u001B[0m\n\u001B[0;32m    488\u001B[0m \u001B[38;5;28;01mif\u001B[39;00m \u001B[38;5;129;01mnot\u001B[39;00m chunked:\n\u001B[1;32m--> 489\u001B[0m     resp \u001B[38;5;241m=\u001B[39m \u001B[43mconn\u001B[49m\u001B[38;5;241;43m.\u001B[39;49m\u001B[43murlopen\u001B[49m\u001B[43m(\u001B[49m\n\u001B[0;32m    490\u001B[0m \u001B[43m        \u001B[49m\u001B[43mmethod\u001B[49m\u001B[38;5;241;43m=\u001B[39;49m\u001B[43mrequest\u001B[49m\u001B[38;5;241;43m.\u001B[39;49m\u001B[43mmethod\u001B[49m\u001B[43m,\u001B[49m\n\u001B[0;32m    491\u001B[0m \u001B[43m        \u001B[49m\u001B[43murl\u001B[49m\u001B[38;5;241;43m=\u001B[39;49m\u001B[43murl\u001B[49m\u001B[43m,\u001B[49m\n\u001B[0;32m    492\u001B[0m \u001B[43m        \u001B[49m\u001B[43mbody\u001B[49m\u001B[38;5;241;43m=\u001B[39;49m\u001B[43mrequest\u001B[49m\u001B[38;5;241;43m.\u001B[39;49m\u001B[43mbody\u001B[49m\u001B[43m,\u001B[49m\n\u001B[0;32m    493\u001B[0m \u001B[43m        \u001B[49m\u001B[43mheaders\u001B[49m\u001B[38;5;241;43m=\u001B[39;49m\u001B[43mrequest\u001B[49m\u001B[38;5;241;43m.\u001B[39;49m\u001B[43mheaders\u001B[49m\u001B[43m,\u001B[49m\n\u001B[0;32m    494\u001B[0m \u001B[43m        \u001B[49m\u001B[43mredirect\u001B[49m\u001B[38;5;241;43m=\u001B[39;49m\u001B[38;5;28;43;01mFalse\u001B[39;49;00m\u001B[43m,\u001B[49m\n\u001B[0;32m    495\u001B[0m \u001B[43m        \u001B[49m\u001B[43massert_same_host\u001B[49m\u001B[38;5;241;43m=\u001B[39;49m\u001B[38;5;28;43;01mFalse\u001B[39;49;00m\u001B[43m,\u001B[49m\n\u001B[0;32m    496\u001B[0m \u001B[43m        \u001B[49m\u001B[43mpreload_content\u001B[49m\u001B[38;5;241;43m=\u001B[39;49m\u001B[38;5;28;43;01mFalse\u001B[39;49;00m\u001B[43m,\u001B[49m\n\u001B[0;32m    497\u001B[0m \u001B[43m        \u001B[49m\u001B[43mdecode_content\u001B[49m\u001B[38;5;241;43m=\u001B[39;49m\u001B[38;5;28;43;01mFalse\u001B[39;49;00m\u001B[43m,\u001B[49m\n\u001B[0;32m    498\u001B[0m \u001B[43m        \u001B[49m\u001B[43mretries\u001B[49m\u001B[38;5;241;43m=\u001B[39;49m\u001B[38;5;28;43mself\u001B[39;49m\u001B[38;5;241;43m.\u001B[39;49m\u001B[43mmax_retries\u001B[49m\u001B[43m,\u001B[49m\n\u001B[0;32m    499\u001B[0m \u001B[43m        \u001B[49m\u001B[43mtimeout\u001B[49m\u001B[38;5;241;43m=\u001B[39;49m\u001B[43mtimeout\u001B[49m\u001B[43m,\u001B[49m\n\u001B[0;32m    500\u001B[0m \u001B[43m    \u001B[49m\u001B[43m)\u001B[49m\n\u001B[0;32m    502\u001B[0m \u001B[38;5;66;03m# Send the request.\u001B[39;00m\n\u001B[0;32m    503\u001B[0m \u001B[38;5;28;01melse\u001B[39;00m:\n",
      "File \u001B[1;32m~\\PycharmProjects\\backup-package\\venv\\Lib\\site-packages\\urllib3\\connectionpool.py:787\u001B[0m, in \u001B[0;36mHTTPConnectionPool.urlopen\u001B[1;34m(self, method, url, body, headers, retries, redirect, assert_same_host, timeout, pool_timeout, release_conn, chunked, body_pos, **response_kw)\u001B[0m\n\u001B[0;32m    785\u001B[0m     e \u001B[38;5;241m=\u001B[39m ProtocolError(\u001B[38;5;124m\"\u001B[39m\u001B[38;5;124mConnection aborted.\u001B[39m\u001B[38;5;124m\"\u001B[39m, e)\n\u001B[1;32m--> 787\u001B[0m retries \u001B[38;5;241m=\u001B[39m \u001B[43mretries\u001B[49m\u001B[38;5;241;43m.\u001B[39;49m\u001B[43mincrement\u001B[49m\u001B[43m(\u001B[49m\n\u001B[0;32m    788\u001B[0m \u001B[43m    \u001B[49m\u001B[43mmethod\u001B[49m\u001B[43m,\u001B[49m\u001B[43m \u001B[49m\u001B[43murl\u001B[49m\u001B[43m,\u001B[49m\u001B[43m \u001B[49m\u001B[43merror\u001B[49m\u001B[38;5;241;43m=\u001B[39;49m\u001B[43me\u001B[49m\u001B[43m,\u001B[49m\u001B[43m \u001B[49m\u001B[43m_pool\u001B[49m\u001B[38;5;241;43m=\u001B[39;49m\u001B[38;5;28;43mself\u001B[39;49m\u001B[43m,\u001B[49m\u001B[43m \u001B[49m\u001B[43m_stacktrace\u001B[49m\u001B[38;5;241;43m=\u001B[39;49m\u001B[43msys\u001B[49m\u001B[38;5;241;43m.\u001B[39;49m\u001B[43mexc_info\u001B[49m\u001B[43m(\u001B[49m\u001B[43m)\u001B[49m\u001B[43m[\u001B[49m\u001B[38;5;241;43m2\u001B[39;49m\u001B[43m]\u001B[49m\n\u001B[0;32m    789\u001B[0m \u001B[43m\u001B[49m\u001B[43m)\u001B[49m\n\u001B[0;32m    790\u001B[0m retries\u001B[38;5;241m.\u001B[39msleep()\n",
      "File \u001B[1;32m~\\PycharmProjects\\backup-package\\venv\\Lib\\site-packages\\urllib3\\util\\retry.py:592\u001B[0m, in \u001B[0;36mRetry.increment\u001B[1;34m(self, method, url, response, error, _pool, _stacktrace)\u001B[0m\n\u001B[0;32m    591\u001B[0m \u001B[38;5;28;01mif\u001B[39;00m new_retry\u001B[38;5;241m.\u001B[39mis_exhausted():\n\u001B[1;32m--> 592\u001B[0m     \u001B[38;5;28;01mraise\u001B[39;00m MaxRetryError(_pool, url, error \u001B[38;5;129;01mor\u001B[39;00m ResponseError(cause))\n\u001B[0;32m    594\u001B[0m log\u001B[38;5;241m.\u001B[39mdebug(\u001B[38;5;124m\"\u001B[39m\u001B[38;5;124mIncremented Retry for (url=\u001B[39m\u001B[38;5;124m'\u001B[39m\u001B[38;5;132;01m%s\u001B[39;00m\u001B[38;5;124m'\u001B[39m\u001B[38;5;124m): \u001B[39m\u001B[38;5;132;01m%r\u001B[39;00m\u001B[38;5;124m\"\u001B[39m, url, new_retry)\n",
      "\u001B[1;31mMaxRetryError\u001B[0m: HTTPSConnectionPool(host='shortcutapp.io', port=443): Max retries exceeded with url: /n/YWI5NWY5MjhhNzUzNTIwYTExNGE5YTdkN2U4ZTBhOGJi (Caused by ProxyError('Cannot connect to proxy.', OSError('Tunnel connection failed: 503 56;')))",
      "\nDuring handling of the above exception, another exception occurred:\n",
      "\u001B[1;31mProxyError\u001B[0m                                Traceback (most recent call last)",
      "Cell \u001B[1;32mIn[6], line 48\u001B[0m\n\u001B[0;32m     45\u001B[0m         parsed_homepage \u001B[38;5;241m=\u001B[39m BeautifulSoup(homepage\u001B[38;5;241m.\u001B[39mtext, \u001B[38;5;124m'\u001B[39m\u001B[38;5;124mhtml.parser\u001B[39m\u001B[38;5;124m'\u001B[39m)\n\u001B[0;32m     46\u001B[0m         \u001B[38;5;28;01mreturn\u001B[39;00m parsed_homepage\n\u001B[1;32m---> 48\u001B[0m corrupt_page \u001B[38;5;241m=\u001B[39m \u001B[43mget_page_content\u001B[49m\u001B[43m(\u001B[49m\u001B[38;5;124;43m\"\u001B[39;49m\u001B[38;5;124;43mhttps://shortcutapp.io/n/YWI5NWY5MjhhNzUzNTIwYTExNGE5YTdkN2U4ZTBhOGJi\u001B[39;49m\u001B[38;5;124;43m\"\u001B[39;49m\u001B[43m)\u001B[49m\n\u001B[0;32m     49\u001B[0m main_page \u001B[38;5;241m=\u001B[39m get_page_content(\u001B[38;5;124m'\u001B[39m\u001B[38;5;124mhttps://storage.googleapis.com/www.selinaschoice.ch/index.html\u001B[39m\u001B[38;5;124m'\u001B[39m)\n\u001B[0;32m     50\u001B[0m recipe \u001B[38;5;241m=\u001B[39m get_page_content(\u001B[38;5;124m\"\u001B[39m\u001B[38;5;124mhttps://shortcutapp.io/n/MGEzNzRmYzQ1MjkzYTlhMjY0YTE2NjE4MjgwMGEzOTY5\u001B[39m\u001B[38;5;124m\"\u001B[39m)\n",
      "Cell \u001B[1;32mIn[6], line 24\u001B[0m, in \u001B[0;36mtimeit.<locals>.timeit_wrapper\u001B[1;34m(*args, **kwargs)\u001B[0m\n\u001B[0;32m     21\u001B[0m \u001B[38;5;129m@wraps\u001B[39m(func)\n\u001B[0;32m     22\u001B[0m \u001B[38;5;28;01mdef\u001B[39;00m \u001B[38;5;21mtimeit_wrapper\u001B[39m(\u001B[38;5;241m*\u001B[39margs, \u001B[38;5;241m*\u001B[39m\u001B[38;5;241m*\u001B[39mkwargs):\n\u001B[0;32m     23\u001B[0m     start_time \u001B[38;5;241m=\u001B[39m time\u001B[38;5;241m.\u001B[39mperf_counter()\n\u001B[1;32m---> 24\u001B[0m     result \u001B[38;5;241m=\u001B[39m \u001B[43mfunc\u001B[49m\u001B[43m(\u001B[49m\u001B[38;5;241;43m*\u001B[39;49m\u001B[43margs\u001B[49m\u001B[43m,\u001B[49m\u001B[43m \u001B[49m\u001B[38;5;241;43m*\u001B[39;49m\u001B[38;5;241;43m*\u001B[39;49m\u001B[43mkwargs\u001B[49m\u001B[43m)\u001B[49m\n\u001B[0;32m     25\u001B[0m     end_time \u001B[38;5;241m=\u001B[39m time\u001B[38;5;241m.\u001B[39mperf_counter()\n\u001B[0;32m     26\u001B[0m     total_time \u001B[38;5;241m=\u001B[39m end_time \u001B[38;5;241m-\u001B[39m start_time\n",
      "Cell \u001B[1;32mIn[6], line 40\u001B[0m, in \u001B[0;36mget_page_content\u001B[1;34m(link)\u001B[0m\n\u001B[0;32m     33\u001B[0m \u001B[38;5;129m@timeit\u001B[39m\n\u001B[0;32m     34\u001B[0m \u001B[38;5;28;01mdef\u001B[39;00m \u001B[38;5;21mget_page_content\u001B[39m(link: \u001B[38;5;28mstr\u001B[39m) \u001B[38;5;241m-\u001B[39m\u001B[38;5;241m>\u001B[39m \u001B[38;5;28mstr\u001B[39m:\n\u001B[0;32m     35\u001B[0m \u001B[38;5;250m    \u001B[39m\u001B[38;5;124;03m\"\"\"\u001B[39;00m\n\u001B[0;32m     36\u001B[0m \u001B[38;5;124;03m    Get a Parsed homepage as HTML str.\u001B[39;00m\n\u001B[0;32m     37\u001B[0m \u001B[38;5;124;03m    :param link:\u001B[39;00m\n\u001B[0;32m     38\u001B[0m \u001B[38;5;124;03m    :return: parsed_homepage\u001B[39;00m\n\u001B[0;32m     39\u001B[0m \u001B[38;5;124;03m    \"\"\"\u001B[39;00m\n\u001B[1;32m---> 40\u001B[0m     homepage \u001B[38;5;241m=\u001B[39m \u001B[43mrequests\u001B[49m\u001B[38;5;241;43m.\u001B[39;49m\u001B[43mget\u001B[49m\u001B[43m(\u001B[49m\u001B[43mlink\u001B[49m\u001B[43m)\u001B[49m\n\u001B[0;32m     41\u001B[0m     \u001B[38;5;28;01mif\u001B[39;00m \u001B[38;5;129;01mnot\u001B[39;00m homepage\u001B[38;5;241m.\u001B[39mstatus_code \u001B[38;5;241m==\u001B[39m \u001B[38;5;241m200\u001B[39m:\n\u001B[0;32m     42\u001B[0m         report\u001B[38;5;241m.\u001B[39mappend(\u001B[38;5;124mf\u001B[39m\u001B[38;5;124m\"\u001B[39m\u001B[38;5;124mCan\u001B[39m\u001B[38;5;124m'\u001B[39m\u001B[38;5;124mt reach \u001B[39m\u001B[38;5;132;01m{\u001B[39;00mlink\u001B[38;5;132;01m}\u001B[39;00m\u001B[38;5;124m with status code 200.\u001B[39m\u001B[38;5;124m\"\u001B[39m)\n",
      "File \u001B[1;32m~\\PycharmProjects\\backup-package\\venv\\Lib\\site-packages\\requests\\api.py:73\u001B[0m, in \u001B[0;36mget\u001B[1;34m(url, params, **kwargs)\u001B[0m\n\u001B[0;32m     62\u001B[0m \u001B[38;5;28;01mdef\u001B[39;00m \u001B[38;5;21mget\u001B[39m(url, params\u001B[38;5;241m=\u001B[39m\u001B[38;5;28;01mNone\u001B[39;00m, \u001B[38;5;241m*\u001B[39m\u001B[38;5;241m*\u001B[39mkwargs):\n\u001B[0;32m     63\u001B[0m \u001B[38;5;250m    \u001B[39m\u001B[38;5;124mr\u001B[39m\u001B[38;5;124;03m\"\"\"Sends a GET request.\u001B[39;00m\n\u001B[0;32m     64\u001B[0m \n\u001B[0;32m     65\u001B[0m \u001B[38;5;124;03m    :param url: URL for the new :class:`Request` object.\u001B[39;00m\n\u001B[1;32m   (...)\u001B[0m\n\u001B[0;32m     70\u001B[0m \u001B[38;5;124;03m    :rtype: requests.Response\u001B[39;00m\n\u001B[0;32m     71\u001B[0m \u001B[38;5;124;03m    \"\"\"\u001B[39;00m\n\u001B[1;32m---> 73\u001B[0m     \u001B[38;5;28;01mreturn\u001B[39;00m \u001B[43mrequest\u001B[49m\u001B[43m(\u001B[49m\u001B[38;5;124;43m\"\u001B[39;49m\u001B[38;5;124;43mget\u001B[39;49m\u001B[38;5;124;43m\"\u001B[39;49m\u001B[43m,\u001B[49m\u001B[43m \u001B[49m\u001B[43murl\u001B[49m\u001B[43m,\u001B[49m\u001B[43m \u001B[49m\u001B[43mparams\u001B[49m\u001B[38;5;241;43m=\u001B[39;49m\u001B[43mparams\u001B[49m\u001B[43m,\u001B[49m\u001B[43m \u001B[49m\u001B[38;5;241;43m*\u001B[39;49m\u001B[38;5;241;43m*\u001B[39;49m\u001B[43mkwargs\u001B[49m\u001B[43m)\u001B[49m\n",
      "File \u001B[1;32m~\\PycharmProjects\\backup-package\\venv\\Lib\\site-packages\\requests\\api.py:59\u001B[0m, in \u001B[0;36mrequest\u001B[1;34m(method, url, **kwargs)\u001B[0m\n\u001B[0;32m     55\u001B[0m \u001B[38;5;66;03m# By using the 'with' statement we are sure the session is closed, thus we\u001B[39;00m\n\u001B[0;32m     56\u001B[0m \u001B[38;5;66;03m# avoid leaving sockets open which can trigger a ResourceWarning in some\u001B[39;00m\n\u001B[0;32m     57\u001B[0m \u001B[38;5;66;03m# cases, and look like a memory leak in others.\u001B[39;00m\n\u001B[0;32m     58\u001B[0m \u001B[38;5;28;01mwith\u001B[39;00m sessions\u001B[38;5;241m.\u001B[39mSession() \u001B[38;5;28;01mas\u001B[39;00m session:\n\u001B[1;32m---> 59\u001B[0m     \u001B[38;5;28;01mreturn\u001B[39;00m \u001B[43msession\u001B[49m\u001B[38;5;241;43m.\u001B[39;49m\u001B[43mrequest\u001B[49m\u001B[43m(\u001B[49m\u001B[43mmethod\u001B[49m\u001B[38;5;241;43m=\u001B[39;49m\u001B[43mmethod\u001B[49m\u001B[43m,\u001B[49m\u001B[43m \u001B[49m\u001B[43murl\u001B[49m\u001B[38;5;241;43m=\u001B[39;49m\u001B[43murl\u001B[49m\u001B[43m,\u001B[49m\u001B[43m \u001B[49m\u001B[38;5;241;43m*\u001B[39;49m\u001B[38;5;241;43m*\u001B[39;49m\u001B[43mkwargs\u001B[49m\u001B[43m)\u001B[49m\n",
      "File \u001B[1;32m~\\PycharmProjects\\backup-package\\venv\\Lib\\site-packages\\requests\\sessions.py:587\u001B[0m, in \u001B[0;36mSession.request\u001B[1;34m(self, method, url, params, data, headers, cookies, files, auth, timeout, allow_redirects, proxies, hooks, stream, verify, cert, json)\u001B[0m\n\u001B[0;32m    582\u001B[0m send_kwargs \u001B[38;5;241m=\u001B[39m {\n\u001B[0;32m    583\u001B[0m     \u001B[38;5;124m\"\u001B[39m\u001B[38;5;124mtimeout\u001B[39m\u001B[38;5;124m\"\u001B[39m: timeout,\n\u001B[0;32m    584\u001B[0m     \u001B[38;5;124m\"\u001B[39m\u001B[38;5;124mallow_redirects\u001B[39m\u001B[38;5;124m\"\u001B[39m: allow_redirects,\n\u001B[0;32m    585\u001B[0m }\n\u001B[0;32m    586\u001B[0m send_kwargs\u001B[38;5;241m.\u001B[39mupdate(settings)\n\u001B[1;32m--> 587\u001B[0m resp \u001B[38;5;241m=\u001B[39m \u001B[38;5;28;43mself\u001B[39;49m\u001B[38;5;241;43m.\u001B[39;49m\u001B[43msend\u001B[49m\u001B[43m(\u001B[49m\u001B[43mprep\u001B[49m\u001B[43m,\u001B[49m\u001B[43m \u001B[49m\u001B[38;5;241;43m*\u001B[39;49m\u001B[38;5;241;43m*\u001B[39;49m\u001B[43msend_kwargs\u001B[49m\u001B[43m)\u001B[49m\n\u001B[0;32m    589\u001B[0m \u001B[38;5;28;01mreturn\u001B[39;00m resp\n",
      "File \u001B[1;32m~\\PycharmProjects\\backup-package\\venv\\Lib\\site-packages\\requests\\sessions.py:701\u001B[0m, in \u001B[0;36mSession.send\u001B[1;34m(self, request, **kwargs)\u001B[0m\n\u001B[0;32m    698\u001B[0m start \u001B[38;5;241m=\u001B[39m preferred_clock()\n\u001B[0;32m    700\u001B[0m \u001B[38;5;66;03m# Send the request\u001B[39;00m\n\u001B[1;32m--> 701\u001B[0m r \u001B[38;5;241m=\u001B[39m \u001B[43madapter\u001B[49m\u001B[38;5;241;43m.\u001B[39;49m\u001B[43msend\u001B[49m\u001B[43m(\u001B[49m\u001B[43mrequest\u001B[49m\u001B[43m,\u001B[49m\u001B[43m \u001B[49m\u001B[38;5;241;43m*\u001B[39;49m\u001B[38;5;241;43m*\u001B[39;49m\u001B[43mkwargs\u001B[49m\u001B[43m)\u001B[49m\n\u001B[0;32m    703\u001B[0m \u001B[38;5;66;03m# Total elapsed time of the request (approximately)\u001B[39;00m\n\u001B[0;32m    704\u001B[0m elapsed \u001B[38;5;241m=\u001B[39m preferred_clock() \u001B[38;5;241m-\u001B[39m start\n",
      "File \u001B[1;32m~\\PycharmProjects\\backup-package\\venv\\Lib\\site-packages\\requests\\adapters.py:559\u001B[0m, in \u001B[0;36mHTTPAdapter.send\u001B[1;34m(self, request, stream, timeout, verify, cert, proxies)\u001B[0m\n\u001B[0;32m    556\u001B[0m     \u001B[38;5;28;01mraise\u001B[39;00m RetryError(e, request\u001B[38;5;241m=\u001B[39mrequest)\n\u001B[0;32m    558\u001B[0m \u001B[38;5;28;01mif\u001B[39;00m \u001B[38;5;28misinstance\u001B[39m(e\u001B[38;5;241m.\u001B[39mreason, _ProxyError):\n\u001B[1;32m--> 559\u001B[0m     \u001B[38;5;28;01mraise\u001B[39;00m ProxyError(e, request\u001B[38;5;241m=\u001B[39mrequest)\n\u001B[0;32m    561\u001B[0m \u001B[38;5;28;01mif\u001B[39;00m \u001B[38;5;28misinstance\u001B[39m(e\u001B[38;5;241m.\u001B[39mreason, _SSLError):\n\u001B[0;32m    562\u001B[0m     \u001B[38;5;66;03m# This branch is for urllib3 v1.22 and later.\u001B[39;00m\n\u001B[0;32m    563\u001B[0m     \u001B[38;5;28;01mraise\u001B[39;00m SSLError(e, request\u001B[38;5;241m=\u001B[39mrequest)\n",
      "\u001B[1;31mProxyError\u001B[0m: HTTPSConnectionPool(host='shortcutapp.io', port=443): Max retries exceeded with url: /n/YWI5NWY5MjhhNzUzNTIwYTExNGE5YTdkN2U4ZTBhOGJi (Caused by ProxyError('Cannot connect to proxy.', OSError('Tunnel connection failed: 503 56;')))"
     ]
    }
   ],
   "source": [
    "import json\n",
    "import os\n",
    "import time\n",
    "from datetime import datetime\n",
    "from functools import wraps\n",
    "from typing import List, Dict\n",
    "\n",
    "import requests\n",
    "from bs4 import BeautifulSoup\n",
    "\n",
    "allowed_categories = [\"vorspeise\", \"hauptgang\", \"dessert\", \"fruehstueck\", \"snacks\", \"brote\", \"getraenke\"]\n",
    "report = []\n",
    "\n",
    "\n",
    "def timeit(func):\n",
    "    \"\"\"\n",
    "    Function, to get the runtime from different functions\n",
    "    :param func:\n",
    "    :return: runtime\n",
    "    \"\"\"\n",
    "\n",
    "    @wraps(func)\n",
    "    def timeit_wrapper(*args, **kwargs):\n",
    "        start_time = time.perf_counter()\n",
    "        result = func(*args, **kwargs)\n",
    "        end_time = time.perf_counter()\n",
    "        total_time = end_time - start_time\n",
    "        print(f'Function {func.__name__}{args} {kwargs} Took {total_time:.4f} seconds')\n",
    "        return result\n",
    "\n",
    "    return timeit_wrapper\n",
    "\n",
    "\n",
    "@timeit\n",
    "def get_page_content(link: str) -> str:\n",
    "    \"\"\"\n",
    "    Get a Parsed homepage as HTML str.\n",
    "    :param link:\n",
    "    :return: parsed_homepage\n",
    "    \"\"\"\n",
    "    homepage = requests.get(link)\n",
    "    if not homepage.status_code == 200:\n",
    "        report.append(f\"Can't reach {link} with status code 200.\")\n",
    "        return False\n",
    "    elif homepage.status_code == 200:\n",
    "        parsed_homepage = BeautifulSoup(homepage.text, 'html.parser')\n",
    "        return parsed_homepage\n",
    "\n",
    "\n",
    "corrupt_page = get_page_content(\"https://shortcutapp.io/n/YWI5NWY5MjhhNzUzNTIwYTExNGE5YTdkN2U4ZTBhOGJi\")\n",
    "main_page = get_page_content('https://storage.googleapis.com/www.selinaschoice.ch/index.html')\n",
    "recipe = get_page_content(\"https://shortcutapp.io/n/MGEzNzRmYzQ1MjkzYTlhMjY0YTE2NjE4MjgwMGEzOTY5\")"
   ]
  },
  {
   "cell_type": "code",
   "execution_count": null,
   "outputs": [],
   "source": [
    "@timeit\n",
    "def get_links_from_category(category: List) -> List:\n",
    "    \"\"\"\n",
    "    Get a List recipes acording to the categories\n",
    "    :param category:\n",
    "    :return: recipes\n",
    "    \"\"\"\n",
    "    recipes = []\n",
    "    recipes_by_category = main_page.find_all(\"div\", class_=category)  # a -> div\n",
    "    for tag in recipes_by_category:\n",
    "        recipe = tag.a.get('href', None)\n",
    "        recipes.append(recipe)\n",
    "    return recipes\n",
    "\n",
    "\n",
    "get_links_from_category([\"vorspeise\", \"hauptgang\"])\n",
    "\n",
    "\n",
    "@timeit\n",
    "def get_links_to_scrape(categories=None) -> List:\n",
    "    \"\"\"\n",
    "    Get all or some Recipes by categories. Default is None and will give you all recipies links.\n",
    "    :param categories: None, str oder List\n",
    "    :return: recipes: List\n",
    "    \"\"\"\n",
    "    if categories is None:\n",
    "        recipes = get_links_from_category(allowed_categories)\n",
    "    else:\n",
    "        recipes = get_links_from_category(categories)\n",
    "    return recipes\n",
    "\n",
    "\n",
    "tes = get_links_to_scrape()\n",
    "len(tes)"
   ],
   "metadata": {
    "collapsed": false
   }
  },
  {
   "cell_type": "markdown",
   "source": [
    "# All Link Functions that are now working with a str input"
   ],
   "metadata": {
    "collapsed": false
   }
  },
  {
   "cell_type": "code",
   "execution_count": null,
   "outputs": [],
   "source": [
    "def get_timestamp(recipe: str) -> str:\n",
    "    \"\"\"\n",
    "    Get Timestamp from when the recipe is created.\n",
    "    :param link: str\n",
    "    :return time: str\n",
    "    \"\"\"\n",
    "    recipe.find_all('time')\n",
    "    datetime_str = recipe.find('time')[\"datetime\"]\n",
    "    datetime_object = datetime.strptime(datetime_str, \"%Y-%m-%dT%H:%M:%SZ\")\n",
    "    return (str(datetime_object))\n",
    "\n",
    "\n",
    "get_timestamp(recipe)\n",
    "\n",
    "\n",
    "def get_recipe_title(recipe: str) -> str:\n",
    "    \"\"\"\n",
    "    Get the Title from a recipe with a recipe link.\n",
    "    :param recipe: str\n",
    "    :return: title: str\n",
    "    \"\"\"\n",
    "    title = recipe.h1.text\n",
    "    return title\n",
    "\n",
    "\n",
    "get_recipe_title(recipe)\n",
    "\n",
    "\n",
    "def get_prep_time(recipe: str) -> str:\n",
    "    \"\"\"\n",
    "    Get the preparation time from a recipe.\n",
    "    :param recipe: str\n",
    "    :return prep_time: str\n",
    "    \"\"\"\n",
    "    try:\n",
    "        prep_time = recipe.find('time', itemprop=\"prepTime\").text\n",
    "    except AttributeError as e:\n",
    "        print(f\"Problem with {e}\")\n",
    "        prep_time = recipe.find('time', itemprop=\"performTime\").text\n",
    "    return prep_time\n",
    "\n",
    "\n",
    "get_prep_time(recipe)\n",
    "\n",
    "\n",
    "def get_serves(recipe: str) -> str:\n",
    "    \"\"\"\n",
    "    Get serves from recipe.\n",
    "    :param link: str\n",
    "    :return serves: str\n",
    "    \"\"\"\n",
    "    serves = recipe.find_all('li')[1].text\n",
    "    return serves[8:]  # without index returns \"serves: 4 persons\"\n",
    "\n",
    "\n",
    "get_serves(recipe)\n",
    "\n",
    "\n",
    "def get_difficulty(recipe: str) -> str:\n",
    "    \"\"\"\n",
    "    Get difficulty from recipe.\n",
    "    :param link: str\n",
    "    :return difficulty: str\n",
    "    \"\"\"\n",
    "    difficulty = recipe.find_all('li')[2].text\n",
    "    return difficulty[12:]  # without index returns \"difficulty: easy emoji\"\n",
    "\n",
    "\n",
    "get_difficulty(recipe)\n",
    "\n",
    "\n",
    "def get_ingredients(recipe: str) -> List[Dict]:\n",
    "    \"\"\"\n",
    "    get all ingredients from a recipe.\n",
    "    :param recipe: str\n",
    "    :return ingredientArray: list\n",
    "    \"\"\"\n",
    "    ingredients = recipe.find(\"section\", class_=\"ingredients\")\n",
    "    ingredientArray = []\n",
    "    for li in ingredients.find_all('li'):\n",
    "        quantity = li.find('div', class_='quantity').text\n",
    "        ingredient = li.find('div', class_='name').text\n",
    "        # print(quantity)\n",
    "        # print(ingredient)\n",
    "        ingredientValues = {\n",
    "            \"quantity\": quantity,\n",
    "            \"name\": ingredient,\n",
    "        }\n",
    "        ingredientArray.append(ingredientValues)\n",
    "    return ingredientArray\n",
    "\n",
    "\n",
    "get_ingredients(recipe)\n",
    "\n",
    "\n",
    "def get_instructions(recipe: str) -> List[Dict]:\n",
    "    \"\"\"\n",
    "    Get the instructions from a recipe.\n",
    "    :param recipe: str\n",
    "    :return instructionArray: list\n",
    "    \"\"\"\n",
    "    instruction_array = []\n",
    "    instructions = recipe.find('section', class_='instructions')\n",
    "    for li in instructions.find_all('li'):\n",
    "        stepTitle = li.find('div', class_='details').h3.text\n",
    "        stepInfo = li.find('div', class_='text').text\n",
    "        # print(stepTitle)\n",
    "        # print(stepInfo)\n",
    "        instructionValues = {\n",
    "            \"step\": stepTitle,\n",
    "            \"instruction\": stepInfo,\n",
    "        }\n",
    "        instruction_array.append(instructionValues)\n",
    "    return instruction_array\n",
    "\n",
    "\n",
    "get_instructions(recipe)"
   ],
   "metadata": {
    "collapsed": false
   }
  },
  {
   "cell_type": "markdown",
   "source": [
    "# Functions that need the link to work with"
   ],
   "metadata": {
    "collapsed": false
   }
  },
  {
   "cell_type": "code",
   "execution_count": 5,
   "outputs": [
    {
     "ename": "NameError",
     "evalue": "name 'main_page' is not defined",
     "output_type": "error",
     "traceback": [
      "\u001B[1;31m---------------------------------------------------------------------------\u001B[0m",
      "\u001B[1;31mNameError\u001B[0m                                 Traceback (most recent call last)",
      "Cell \u001B[1;32mIn[5], line 18\u001B[0m\n\u001B[0;32m     14\u001B[0m     \u001B[38;5;28;01melse\u001B[39;00m:\n\u001B[0;32m     15\u001B[0m         \u001B[38;5;28mprint\u001B[39m(\u001B[38;5;124mf\u001B[39m\u001B[38;5;124m\"\u001B[39m\u001B[38;5;124mThe class from recipe: \u001B[39m\u001B[38;5;132;01m{\u001B[39;00mlink\u001B[38;5;132;01m}\u001B[39;00m\u001B[38;5;124m is \u001B[39m\u001B[38;5;132;01m{\u001B[39;00mrecipe_class\u001B[38;5;132;01m}\u001B[39;00m\u001B[38;5;124m and not in \u001B[39m\u001B[38;5;132;01m{\u001B[39;00mallowed_categories\u001B[38;5;132;01m}\u001B[39;00m\u001B[38;5;124m.\u001B[39m\u001B[38;5;124m\"\u001B[39m)\n\u001B[1;32m---> 18\u001B[0m \u001B[43mget_category_from_recipe\u001B[49m\u001B[43m(\u001B[49m\u001B[38;5;124;43m'\u001B[39;49m\u001B[38;5;124;43mhttps://shortcutapp.io/n/MGEzNzRmYzQ1MjkzYTlhMjY0YTE2NjE4MjgwMGEzOTY5\u001B[39;49m\u001B[38;5;124;43m'\u001B[39;49m\u001B[43m)\u001B[49m\n\u001B[0;32m     21\u001B[0m \u001B[38;5;129m@timeit\u001B[39m\n\u001B[0;32m     22\u001B[0m \u001B[38;5;28;01mdef\u001B[39;00m \u001B[38;5;21mget_recipe_img_path\u001B[39m(link: \u001B[38;5;28mstr\u001B[39m) \u001B[38;5;241m-\u001B[39m\u001B[38;5;241m>\u001B[39m \u001B[38;5;28mstr\u001B[39m:\n\u001B[0;32m     23\u001B[0m \u001B[38;5;250m    \u001B[39m\u001B[38;5;124;03m\"\"\"\u001B[39;00m\n\u001B[0;32m     24\u001B[0m \u001B[38;5;124;03m    Get the img path from a recipe with the recipe link.\u001B[39;00m\n\u001B[0;32m     25\u001B[0m \u001B[38;5;124;03m    :param link: str\u001B[39;00m\n\u001B[0;32m     26\u001B[0m \u001B[38;5;124;03m    :return img_path: str\u001B[39;00m\n\u001B[0;32m     27\u001B[0m \u001B[38;5;124;03m    \"\"\"\u001B[39;00m\n",
      "Cell \u001B[1;32mIn[4], line 24\u001B[0m, in \u001B[0;36mtimeit.<locals>.timeit_wrapper\u001B[1;34m(*args, **kwargs)\u001B[0m\n\u001B[0;32m     21\u001B[0m \u001B[38;5;129m@wraps\u001B[39m(func)\n\u001B[0;32m     22\u001B[0m \u001B[38;5;28;01mdef\u001B[39;00m \u001B[38;5;21mtimeit_wrapper\u001B[39m(\u001B[38;5;241m*\u001B[39margs, \u001B[38;5;241m*\u001B[39m\u001B[38;5;241m*\u001B[39mkwargs):\n\u001B[0;32m     23\u001B[0m     start_time \u001B[38;5;241m=\u001B[39m time\u001B[38;5;241m.\u001B[39mperf_counter()\n\u001B[1;32m---> 24\u001B[0m     result \u001B[38;5;241m=\u001B[39m \u001B[43mfunc\u001B[49m\u001B[43m(\u001B[49m\u001B[38;5;241;43m*\u001B[39;49m\u001B[43margs\u001B[49m\u001B[43m,\u001B[49m\u001B[43m \u001B[49m\u001B[38;5;241;43m*\u001B[39;49m\u001B[38;5;241;43m*\u001B[39;49m\u001B[43mkwargs\u001B[49m\u001B[43m)\u001B[49m\n\u001B[0;32m     25\u001B[0m     end_time \u001B[38;5;241m=\u001B[39m time\u001B[38;5;241m.\u001B[39mperf_counter()\n\u001B[0;32m     26\u001B[0m     total_time \u001B[38;5;241m=\u001B[39m end_time \u001B[38;5;241m-\u001B[39m start_time\n",
      "Cell \u001B[1;32mIn[5], line 8\u001B[0m, in \u001B[0;36mget_category_from_recipe\u001B[1;34m(link)\u001B[0m\n\u001B[0;32m      1\u001B[0m \u001B[38;5;129m@timeit\u001B[39m\n\u001B[0;32m      2\u001B[0m \u001B[38;5;28;01mdef\u001B[39;00m \u001B[38;5;21mget_category_from_recipe\u001B[39m(link: \u001B[38;5;28mstr\u001B[39m) \u001B[38;5;241m-\u001B[39m\u001B[38;5;241m>\u001B[39m \u001B[38;5;28mstr\u001B[39m:\n\u001B[0;32m      3\u001B[0m \u001B[38;5;250m    \u001B[39m\u001B[38;5;124;03m\"\"\"\u001B[39;00m\n\u001B[0;32m      4\u001B[0m \u001B[38;5;124;03m    Get the one of allowed classes based on the recipe link.\u001B[39;00m\n\u001B[0;32m      5\u001B[0m \u001B[38;5;124;03m    :param link: str\u001B[39;00m\n\u001B[0;32m      6\u001B[0m \u001B[38;5;124;03m    :return recipe_class: str\u001B[39;00m\n\u001B[0;32m      7\u001B[0m \u001B[38;5;124;03m    \"\"\"\u001B[39;00m\n\u001B[1;32m----> 8\u001B[0m     specific_recipe \u001B[38;5;241m=\u001B[39m \u001B[43mmain_page\u001B[49m\u001B[38;5;241m.\u001B[39mfind(\u001B[38;5;124m\"\u001B[39m\u001B[38;5;124ma\u001B[39m\u001B[38;5;124m\"\u001B[39m, href\u001B[38;5;241m=\u001B[39mlink)\u001B[38;5;241m.\u001B[39mparent\n\u001B[0;32m      9\u001B[0m     \u001B[38;5;28mprint\u001B[39m(specific_recipe)\n\u001B[0;32m     10\u001B[0m     specific_recipe_class \u001B[38;5;241m=\u001B[39m specific_recipe[\u001B[38;5;124m\"\u001B[39m\u001B[38;5;124mclass\u001B[39m\u001B[38;5;124m\"\u001B[39m][\u001B[38;5;241m1\u001B[39m:]\n",
      "\u001B[1;31mNameError\u001B[0m: name 'main_page' is not defined"
     ]
    }
   ],
   "source": [
    "@timeit\n",
    "def get_category_from_recipe(link: str) -> str:\n",
    "    \"\"\"\n",
    "    Get the one of allowed classes based on the recipe link.\n",
    "    :param link: str\n",
    "    :return recipe_class: str\n",
    "    \"\"\"\n",
    "    specific_recipe = main_page.find(\"a\", href=link).parent\n",
    "    print(specific_recipe)\n",
    "    specific_recipe_class = specific_recipe[\"class\"][1:]\n",
    "    recipe_class = \"\".join(specific_recipe_class)\n",
    "    if recipe_class in allowed_categories:\n",
    "        return recipe_class\n",
    "    else:\n",
    "        print(f\"The class from recipe: {link} is {recipe_class} and not in {allowed_categories}.\")\n",
    "\n",
    "\n",
    "get_category_from_recipe('https://shortcutapp.io/n/MGEzNzRmYzQ1MjkzYTlhMjY0YTE2NjE4MjgwMGEzOTY5')\n",
    "\n",
    "\n",
    "@timeit\n",
    "def get_recipe_img_path(link: str) -> str:\n",
    "    \"\"\"\n",
    "    Get the img path from a recipe with the recipe link.\n",
    "    :param link: str\n",
    "    :return img_path: str\n",
    "    \"\"\"\n",
    "    main_page = get_page_content('https://storage.googleapis.com/www.selinaschoice.ch/index.html#hauptgang')\n",
    "    specific_recipe = main_page.find(\"a\", href=link)\n",
    "    img = specific_recipe.find(\"img\")\n",
    "    img_path = img.get(\"src\")\n",
    "    return img_path\n",
    "\n",
    "\n",
    "get_recipe_img_path(\"https://shortcutapp.io/n/MGEzNzRmYzQ1MjkzYTlhMjY0YTE2NjE4MjgwMGEzOTY5\")"
   ],
   "metadata": {
    "collapsed": false
   }
  },
  {
   "cell_type": "markdown",
   "source": [
    "# Validate Recipe"
   ],
   "metadata": {
    "collapsed": false
   }
  },
  {
   "cell_type": "code",
   "execution_count": 6,
   "outputs": [
    {
     "ename": "ProxyError",
     "evalue": "HTTPSConnectionPool(host='shortcutapp.io', port=443): Max retries exceeded with url: /n/YWI5NWY5MjhhNzUzNTIwYTExNGE5YTdkN2U4ZTBhOGJi (Caused by ProxyError('Cannot connect to proxy.', RemoteDisconnected('Remote end closed connection without response')))",
     "output_type": "error",
     "traceback": [
      "\u001B[1;31m---------------------------------------------------------------------------\u001B[0m",
      "\u001B[1;31mRemoteDisconnected\u001B[0m                        Traceback (most recent call last)",
      "File \u001B[1;32m~\\PycharmProjects\\backup-package\\venv\\Lib\\site-packages\\urllib3\\connectionpool.py:700\u001B[0m, in \u001B[0;36mHTTPConnectionPool.urlopen\u001B[1;34m(self, method, url, body, headers, retries, redirect, assert_same_host, timeout, pool_timeout, release_conn, chunked, body_pos, **response_kw)\u001B[0m\n\u001B[0;32m    699\u001B[0m \u001B[38;5;28;01mif\u001B[39;00m is_new_proxy_conn \u001B[38;5;129;01mand\u001B[39;00m http_tunnel_required:\n\u001B[1;32m--> 700\u001B[0m     \u001B[38;5;28;43mself\u001B[39;49m\u001B[38;5;241;43m.\u001B[39;49m\u001B[43m_prepare_proxy\u001B[49m\u001B[43m(\u001B[49m\u001B[43mconn\u001B[49m\u001B[43m)\u001B[49m\n\u001B[0;32m    702\u001B[0m \u001B[38;5;66;03m# Make the request on the httplib connection object.\u001B[39;00m\n",
      "File \u001B[1;32m~\\PycharmProjects\\backup-package\\venv\\Lib\\site-packages\\urllib3\\connectionpool.py:996\u001B[0m, in \u001B[0;36mHTTPSConnectionPool._prepare_proxy\u001B[1;34m(self, conn)\u001B[0m\n\u001B[0;32m    994\u001B[0m     conn\u001B[38;5;241m.\u001B[39mtls_in_tls_required \u001B[38;5;241m=\u001B[39m \u001B[38;5;28;01mTrue\u001B[39;00m\n\u001B[1;32m--> 996\u001B[0m \u001B[43mconn\u001B[49m\u001B[38;5;241;43m.\u001B[39;49m\u001B[43mconnect\u001B[49m\u001B[43m(\u001B[49m\u001B[43m)\u001B[49m\n",
      "File \u001B[1;32m~\\PycharmProjects\\backup-package\\venv\\Lib\\site-packages\\urllib3\\connection.py:374\u001B[0m, in \u001B[0;36mHTTPSConnection.connect\u001B[1;34m(self)\u001B[0m\n\u001B[0;32m    372\u001B[0m \u001B[38;5;66;03m# Calls self._set_hostport(), so self.host is\u001B[39;00m\n\u001B[0;32m    373\u001B[0m \u001B[38;5;66;03m# self._tunnel_host below.\u001B[39;00m\n\u001B[1;32m--> 374\u001B[0m \u001B[38;5;28;43mself\u001B[39;49m\u001B[38;5;241;43m.\u001B[39;49m\u001B[43m_tunnel\u001B[49m\u001B[43m(\u001B[49m\u001B[43m)\u001B[49m\n\u001B[0;32m    375\u001B[0m \u001B[38;5;66;03m# Mark this connection as not reusable\u001B[39;00m\n",
      "File \u001B[1;32m~\\AppData\\Local\\Programs\\Python\\Python311\\Lib\\http\\client.py:920\u001B[0m, in \u001B[0;36mHTTPConnection._tunnel\u001B[1;34m(self)\u001B[0m\n\u001B[0;32m    919\u001B[0m response \u001B[38;5;241m=\u001B[39m \u001B[38;5;28mself\u001B[39m\u001B[38;5;241m.\u001B[39mresponse_class(\u001B[38;5;28mself\u001B[39m\u001B[38;5;241m.\u001B[39msock, method\u001B[38;5;241m=\u001B[39m\u001B[38;5;28mself\u001B[39m\u001B[38;5;241m.\u001B[39m_method)\n\u001B[1;32m--> 920\u001B[0m (version, code, message) \u001B[38;5;241m=\u001B[39m \u001B[43mresponse\u001B[49m\u001B[38;5;241;43m.\u001B[39;49m\u001B[43m_read_status\u001B[49m\u001B[43m(\u001B[49m\u001B[43m)\u001B[49m\n\u001B[0;32m    922\u001B[0m \u001B[38;5;28;01mif\u001B[39;00m code \u001B[38;5;241m!=\u001B[39m http\u001B[38;5;241m.\u001B[39mHTTPStatus\u001B[38;5;241m.\u001B[39mOK:\n",
      "File \u001B[1;32m~\\AppData\\Local\\Programs\\Python\\Python311\\Lib\\http\\client.py:287\u001B[0m, in \u001B[0;36mHTTPResponse._read_status\u001B[1;34m(self)\u001B[0m\n\u001B[0;32m    284\u001B[0m \u001B[38;5;28;01mif\u001B[39;00m \u001B[38;5;129;01mnot\u001B[39;00m line:\n\u001B[0;32m    285\u001B[0m     \u001B[38;5;66;03m# Presumably, the server closed the connection before\u001B[39;00m\n\u001B[0;32m    286\u001B[0m     \u001B[38;5;66;03m# sending a valid response.\u001B[39;00m\n\u001B[1;32m--> 287\u001B[0m     \u001B[38;5;28;01mraise\u001B[39;00m RemoteDisconnected(\u001B[38;5;124m\"\u001B[39m\u001B[38;5;124mRemote end closed connection without\u001B[39m\u001B[38;5;124m\"\u001B[39m\n\u001B[0;32m    288\u001B[0m                              \u001B[38;5;124m\"\u001B[39m\u001B[38;5;124m response\u001B[39m\u001B[38;5;124m\"\u001B[39m)\n\u001B[0;32m    289\u001B[0m \u001B[38;5;28;01mtry\u001B[39;00m:\n",
      "\u001B[1;31mRemoteDisconnected\u001B[0m: Remote end closed connection without response",
      "\nDuring handling of the above exception, another exception occurred:\n",
      "\u001B[1;31mMaxRetryError\u001B[0m                             Traceback (most recent call last)",
      "File \u001B[1;32m~\\PycharmProjects\\backup-package\\venv\\Lib\\site-packages\\requests\\adapters.py:489\u001B[0m, in \u001B[0;36mHTTPAdapter.send\u001B[1;34m(self, request, stream, timeout, verify, cert, proxies)\u001B[0m\n\u001B[0;32m    488\u001B[0m \u001B[38;5;28;01mif\u001B[39;00m \u001B[38;5;129;01mnot\u001B[39;00m chunked:\n\u001B[1;32m--> 489\u001B[0m     resp \u001B[38;5;241m=\u001B[39m \u001B[43mconn\u001B[49m\u001B[38;5;241;43m.\u001B[39;49m\u001B[43murlopen\u001B[49m\u001B[43m(\u001B[49m\n\u001B[0;32m    490\u001B[0m \u001B[43m        \u001B[49m\u001B[43mmethod\u001B[49m\u001B[38;5;241;43m=\u001B[39;49m\u001B[43mrequest\u001B[49m\u001B[38;5;241;43m.\u001B[39;49m\u001B[43mmethod\u001B[49m\u001B[43m,\u001B[49m\n\u001B[0;32m    491\u001B[0m \u001B[43m        \u001B[49m\u001B[43murl\u001B[49m\u001B[38;5;241;43m=\u001B[39;49m\u001B[43murl\u001B[49m\u001B[43m,\u001B[49m\n\u001B[0;32m    492\u001B[0m \u001B[43m        \u001B[49m\u001B[43mbody\u001B[49m\u001B[38;5;241;43m=\u001B[39;49m\u001B[43mrequest\u001B[49m\u001B[38;5;241;43m.\u001B[39;49m\u001B[43mbody\u001B[49m\u001B[43m,\u001B[49m\n\u001B[0;32m    493\u001B[0m \u001B[43m        \u001B[49m\u001B[43mheaders\u001B[49m\u001B[38;5;241;43m=\u001B[39;49m\u001B[43mrequest\u001B[49m\u001B[38;5;241;43m.\u001B[39;49m\u001B[43mheaders\u001B[49m\u001B[43m,\u001B[49m\n\u001B[0;32m    494\u001B[0m \u001B[43m        \u001B[49m\u001B[43mredirect\u001B[49m\u001B[38;5;241;43m=\u001B[39;49m\u001B[38;5;28;43;01mFalse\u001B[39;49;00m\u001B[43m,\u001B[49m\n\u001B[0;32m    495\u001B[0m \u001B[43m        \u001B[49m\u001B[43massert_same_host\u001B[49m\u001B[38;5;241;43m=\u001B[39;49m\u001B[38;5;28;43;01mFalse\u001B[39;49;00m\u001B[43m,\u001B[49m\n\u001B[0;32m    496\u001B[0m \u001B[43m        \u001B[49m\u001B[43mpreload_content\u001B[49m\u001B[38;5;241;43m=\u001B[39;49m\u001B[38;5;28;43;01mFalse\u001B[39;49;00m\u001B[43m,\u001B[49m\n\u001B[0;32m    497\u001B[0m \u001B[43m        \u001B[49m\u001B[43mdecode_content\u001B[49m\u001B[38;5;241;43m=\u001B[39;49m\u001B[38;5;28;43;01mFalse\u001B[39;49;00m\u001B[43m,\u001B[49m\n\u001B[0;32m    498\u001B[0m \u001B[43m        \u001B[49m\u001B[43mretries\u001B[49m\u001B[38;5;241;43m=\u001B[39;49m\u001B[38;5;28;43mself\u001B[39;49m\u001B[38;5;241;43m.\u001B[39;49m\u001B[43mmax_retries\u001B[49m\u001B[43m,\u001B[49m\n\u001B[0;32m    499\u001B[0m \u001B[43m        \u001B[49m\u001B[43mtimeout\u001B[49m\u001B[38;5;241;43m=\u001B[39;49m\u001B[43mtimeout\u001B[49m\u001B[43m,\u001B[49m\n\u001B[0;32m    500\u001B[0m \u001B[43m    \u001B[49m\u001B[43m)\u001B[49m\n\u001B[0;32m    502\u001B[0m \u001B[38;5;66;03m# Send the request.\u001B[39;00m\n\u001B[0;32m    503\u001B[0m \u001B[38;5;28;01melse\u001B[39;00m:\n",
      "File \u001B[1;32m~\\PycharmProjects\\backup-package\\venv\\Lib\\site-packages\\urllib3\\connectionpool.py:787\u001B[0m, in \u001B[0;36mHTTPConnectionPool.urlopen\u001B[1;34m(self, method, url, body, headers, retries, redirect, assert_same_host, timeout, pool_timeout, release_conn, chunked, body_pos, **response_kw)\u001B[0m\n\u001B[0;32m    785\u001B[0m     e \u001B[38;5;241m=\u001B[39m ProtocolError(\u001B[38;5;124m\"\u001B[39m\u001B[38;5;124mConnection aborted.\u001B[39m\u001B[38;5;124m\"\u001B[39m, e)\n\u001B[1;32m--> 787\u001B[0m retries \u001B[38;5;241m=\u001B[39m \u001B[43mretries\u001B[49m\u001B[38;5;241;43m.\u001B[39;49m\u001B[43mincrement\u001B[49m\u001B[43m(\u001B[49m\n\u001B[0;32m    788\u001B[0m \u001B[43m    \u001B[49m\u001B[43mmethod\u001B[49m\u001B[43m,\u001B[49m\u001B[43m \u001B[49m\u001B[43murl\u001B[49m\u001B[43m,\u001B[49m\u001B[43m \u001B[49m\u001B[43merror\u001B[49m\u001B[38;5;241;43m=\u001B[39;49m\u001B[43me\u001B[49m\u001B[43m,\u001B[49m\u001B[43m \u001B[49m\u001B[43m_pool\u001B[49m\u001B[38;5;241;43m=\u001B[39;49m\u001B[38;5;28;43mself\u001B[39;49m\u001B[43m,\u001B[49m\u001B[43m \u001B[49m\u001B[43m_stacktrace\u001B[49m\u001B[38;5;241;43m=\u001B[39;49m\u001B[43msys\u001B[49m\u001B[38;5;241;43m.\u001B[39;49m\u001B[43mexc_info\u001B[49m\u001B[43m(\u001B[49m\u001B[43m)\u001B[49m\u001B[43m[\u001B[49m\u001B[38;5;241;43m2\u001B[39;49m\u001B[43m]\u001B[49m\n\u001B[0;32m    789\u001B[0m \u001B[43m\u001B[49m\u001B[43m)\u001B[49m\n\u001B[0;32m    790\u001B[0m retries\u001B[38;5;241m.\u001B[39msleep()\n",
      "File \u001B[1;32m~\\PycharmProjects\\backup-package\\venv\\Lib\\site-packages\\urllib3\\util\\retry.py:592\u001B[0m, in \u001B[0;36mRetry.increment\u001B[1;34m(self, method, url, response, error, _pool, _stacktrace)\u001B[0m\n\u001B[0;32m    591\u001B[0m \u001B[38;5;28;01mif\u001B[39;00m new_retry\u001B[38;5;241m.\u001B[39mis_exhausted():\n\u001B[1;32m--> 592\u001B[0m     \u001B[38;5;28;01mraise\u001B[39;00m MaxRetryError(_pool, url, error \u001B[38;5;129;01mor\u001B[39;00m ResponseError(cause))\n\u001B[0;32m    594\u001B[0m log\u001B[38;5;241m.\u001B[39mdebug(\u001B[38;5;124m\"\u001B[39m\u001B[38;5;124mIncremented Retry for (url=\u001B[39m\u001B[38;5;124m'\u001B[39m\u001B[38;5;132;01m%s\u001B[39;00m\u001B[38;5;124m'\u001B[39m\u001B[38;5;124m): \u001B[39m\u001B[38;5;132;01m%r\u001B[39;00m\u001B[38;5;124m\"\u001B[39m, url, new_retry)\n",
      "\u001B[1;31mMaxRetryError\u001B[0m: HTTPSConnectionPool(host='shortcutapp.io', port=443): Max retries exceeded with url: /n/YWI5NWY5MjhhNzUzNTIwYTExNGE5YTdkN2U4ZTBhOGJi (Caused by ProxyError('Cannot connect to proxy.', RemoteDisconnected('Remote end closed connection without response')))",
      "\nDuring handling of the above exception, another exception occurred:\n",
      "\u001B[1;31mProxyError\u001B[0m                                Traceback (most recent call last)",
      "Cell \u001B[1;32mIn[6], line 9\u001B[0m\n\u001B[0;32m      6\u001B[0m     \u001B[38;5;28;01melse\u001B[39;00m:\n\u001B[0;32m      7\u001B[0m         \u001B[38;5;28;01mreturn\u001B[39;00m \u001B[38;5;28;01mTrue\u001B[39;00m\n\u001B[1;32m----> 9\u001B[0m recipe \u001B[38;5;241m=\u001B[39m \u001B[43mget_page_content\u001B[49m\u001B[43m(\u001B[49m\u001B[38;5;124;43m\"\u001B[39;49m\u001B[38;5;124;43mhttps://shortcutapp.io/n/YWI5NWY5MjhhNzUzNTIwYTExNGE5YTdkN2U4ZTBhOGJi\u001B[39;49m\u001B[38;5;124;43m\"\u001B[39;49m\u001B[43m)\u001B[49m\n\u001B[0;32m     10\u001B[0m validate_recipe(recipe)\n\u001B[0;32m     11\u001B[0m \u001B[38;5;28mprint\u001B[39m(report)\n",
      "Cell \u001B[1;32mIn[4], line 24\u001B[0m, in \u001B[0;36mtimeit.<locals>.timeit_wrapper\u001B[1;34m(*args, **kwargs)\u001B[0m\n\u001B[0;32m     21\u001B[0m \u001B[38;5;129m@wraps\u001B[39m(func)\n\u001B[0;32m     22\u001B[0m \u001B[38;5;28;01mdef\u001B[39;00m \u001B[38;5;21mtimeit_wrapper\u001B[39m(\u001B[38;5;241m*\u001B[39margs, \u001B[38;5;241m*\u001B[39m\u001B[38;5;241m*\u001B[39mkwargs):\n\u001B[0;32m     23\u001B[0m     start_time \u001B[38;5;241m=\u001B[39m time\u001B[38;5;241m.\u001B[39mperf_counter()\n\u001B[1;32m---> 24\u001B[0m     result \u001B[38;5;241m=\u001B[39m \u001B[43mfunc\u001B[49m\u001B[43m(\u001B[49m\u001B[38;5;241;43m*\u001B[39;49m\u001B[43margs\u001B[49m\u001B[43m,\u001B[49m\u001B[43m \u001B[49m\u001B[38;5;241;43m*\u001B[39;49m\u001B[38;5;241;43m*\u001B[39;49m\u001B[43mkwargs\u001B[49m\u001B[43m)\u001B[49m\n\u001B[0;32m     25\u001B[0m     end_time \u001B[38;5;241m=\u001B[39m time\u001B[38;5;241m.\u001B[39mperf_counter()\n\u001B[0;32m     26\u001B[0m     total_time \u001B[38;5;241m=\u001B[39m end_time \u001B[38;5;241m-\u001B[39m start_time\n",
      "Cell \u001B[1;32mIn[4], line 40\u001B[0m, in \u001B[0;36mget_page_content\u001B[1;34m(link)\u001B[0m\n\u001B[0;32m     33\u001B[0m \u001B[38;5;129m@timeit\u001B[39m\n\u001B[0;32m     34\u001B[0m \u001B[38;5;28;01mdef\u001B[39;00m \u001B[38;5;21mget_page_content\u001B[39m(link: \u001B[38;5;28mstr\u001B[39m) \u001B[38;5;241m-\u001B[39m\u001B[38;5;241m>\u001B[39m \u001B[38;5;28mstr\u001B[39m:\n\u001B[0;32m     35\u001B[0m \u001B[38;5;250m    \u001B[39m\u001B[38;5;124;03m\"\"\"\u001B[39;00m\n\u001B[0;32m     36\u001B[0m \u001B[38;5;124;03m    Get a Parsed homepage as HTML str.\u001B[39;00m\n\u001B[0;32m     37\u001B[0m \u001B[38;5;124;03m    :param link:\u001B[39;00m\n\u001B[0;32m     38\u001B[0m \u001B[38;5;124;03m    :return: parsed_homepage\u001B[39;00m\n\u001B[0;32m     39\u001B[0m \u001B[38;5;124;03m    \"\"\"\u001B[39;00m\n\u001B[1;32m---> 40\u001B[0m     homepage \u001B[38;5;241m=\u001B[39m \u001B[43mrequests\u001B[49m\u001B[38;5;241;43m.\u001B[39;49m\u001B[43mget\u001B[49m\u001B[43m(\u001B[49m\u001B[43mlink\u001B[49m\u001B[43m)\u001B[49m\n\u001B[0;32m     41\u001B[0m     \u001B[38;5;28;01mif\u001B[39;00m \u001B[38;5;129;01mnot\u001B[39;00m homepage\u001B[38;5;241m.\u001B[39mstatus_code \u001B[38;5;241m==\u001B[39m \u001B[38;5;241m200\u001B[39m:\n\u001B[0;32m     42\u001B[0m         report\u001B[38;5;241m.\u001B[39mappend(\u001B[38;5;124mf\u001B[39m\u001B[38;5;124m\"\u001B[39m\u001B[38;5;124mCan\u001B[39m\u001B[38;5;124m'\u001B[39m\u001B[38;5;124mt reach \u001B[39m\u001B[38;5;132;01m{\u001B[39;00mlink\u001B[38;5;132;01m}\u001B[39;00m\u001B[38;5;124m with status code 200.\u001B[39m\u001B[38;5;124m\"\u001B[39m)\n",
      "File \u001B[1;32m~\\PycharmProjects\\backup-package\\venv\\Lib\\site-packages\\requests\\api.py:73\u001B[0m, in \u001B[0;36mget\u001B[1;34m(url, params, **kwargs)\u001B[0m\n\u001B[0;32m     62\u001B[0m \u001B[38;5;28;01mdef\u001B[39;00m \u001B[38;5;21mget\u001B[39m(url, params\u001B[38;5;241m=\u001B[39m\u001B[38;5;28;01mNone\u001B[39;00m, \u001B[38;5;241m*\u001B[39m\u001B[38;5;241m*\u001B[39mkwargs):\n\u001B[0;32m     63\u001B[0m \u001B[38;5;250m    \u001B[39m\u001B[38;5;124mr\u001B[39m\u001B[38;5;124;03m\"\"\"Sends a GET request.\u001B[39;00m\n\u001B[0;32m     64\u001B[0m \n\u001B[0;32m     65\u001B[0m \u001B[38;5;124;03m    :param url: URL for the new :class:`Request` object.\u001B[39;00m\n\u001B[1;32m   (...)\u001B[0m\n\u001B[0;32m     70\u001B[0m \u001B[38;5;124;03m    :rtype: requests.Response\u001B[39;00m\n\u001B[0;32m     71\u001B[0m \u001B[38;5;124;03m    \"\"\"\u001B[39;00m\n\u001B[1;32m---> 73\u001B[0m     \u001B[38;5;28;01mreturn\u001B[39;00m \u001B[43mrequest\u001B[49m\u001B[43m(\u001B[49m\u001B[38;5;124;43m\"\u001B[39;49m\u001B[38;5;124;43mget\u001B[39;49m\u001B[38;5;124;43m\"\u001B[39;49m\u001B[43m,\u001B[49m\u001B[43m \u001B[49m\u001B[43murl\u001B[49m\u001B[43m,\u001B[49m\u001B[43m \u001B[49m\u001B[43mparams\u001B[49m\u001B[38;5;241;43m=\u001B[39;49m\u001B[43mparams\u001B[49m\u001B[43m,\u001B[49m\u001B[43m \u001B[49m\u001B[38;5;241;43m*\u001B[39;49m\u001B[38;5;241;43m*\u001B[39;49m\u001B[43mkwargs\u001B[49m\u001B[43m)\u001B[49m\n",
      "File \u001B[1;32m~\\PycharmProjects\\backup-package\\venv\\Lib\\site-packages\\requests\\api.py:59\u001B[0m, in \u001B[0;36mrequest\u001B[1;34m(method, url, **kwargs)\u001B[0m\n\u001B[0;32m     55\u001B[0m \u001B[38;5;66;03m# By using the 'with' statement we are sure the session is closed, thus we\u001B[39;00m\n\u001B[0;32m     56\u001B[0m \u001B[38;5;66;03m# avoid leaving sockets open which can trigger a ResourceWarning in some\u001B[39;00m\n\u001B[0;32m     57\u001B[0m \u001B[38;5;66;03m# cases, and look like a memory leak in others.\u001B[39;00m\n\u001B[0;32m     58\u001B[0m \u001B[38;5;28;01mwith\u001B[39;00m sessions\u001B[38;5;241m.\u001B[39mSession() \u001B[38;5;28;01mas\u001B[39;00m session:\n\u001B[1;32m---> 59\u001B[0m     \u001B[38;5;28;01mreturn\u001B[39;00m \u001B[43msession\u001B[49m\u001B[38;5;241;43m.\u001B[39;49m\u001B[43mrequest\u001B[49m\u001B[43m(\u001B[49m\u001B[43mmethod\u001B[49m\u001B[38;5;241;43m=\u001B[39;49m\u001B[43mmethod\u001B[49m\u001B[43m,\u001B[49m\u001B[43m \u001B[49m\u001B[43murl\u001B[49m\u001B[38;5;241;43m=\u001B[39;49m\u001B[43murl\u001B[49m\u001B[43m,\u001B[49m\u001B[43m \u001B[49m\u001B[38;5;241;43m*\u001B[39;49m\u001B[38;5;241;43m*\u001B[39;49m\u001B[43mkwargs\u001B[49m\u001B[43m)\u001B[49m\n",
      "File \u001B[1;32m~\\PycharmProjects\\backup-package\\venv\\Lib\\site-packages\\requests\\sessions.py:587\u001B[0m, in \u001B[0;36mSession.request\u001B[1;34m(self, method, url, params, data, headers, cookies, files, auth, timeout, allow_redirects, proxies, hooks, stream, verify, cert, json)\u001B[0m\n\u001B[0;32m    582\u001B[0m send_kwargs \u001B[38;5;241m=\u001B[39m {\n\u001B[0;32m    583\u001B[0m     \u001B[38;5;124m\"\u001B[39m\u001B[38;5;124mtimeout\u001B[39m\u001B[38;5;124m\"\u001B[39m: timeout,\n\u001B[0;32m    584\u001B[0m     \u001B[38;5;124m\"\u001B[39m\u001B[38;5;124mallow_redirects\u001B[39m\u001B[38;5;124m\"\u001B[39m: allow_redirects,\n\u001B[0;32m    585\u001B[0m }\n\u001B[0;32m    586\u001B[0m send_kwargs\u001B[38;5;241m.\u001B[39mupdate(settings)\n\u001B[1;32m--> 587\u001B[0m resp \u001B[38;5;241m=\u001B[39m \u001B[38;5;28;43mself\u001B[39;49m\u001B[38;5;241;43m.\u001B[39;49m\u001B[43msend\u001B[49m\u001B[43m(\u001B[49m\u001B[43mprep\u001B[49m\u001B[43m,\u001B[49m\u001B[43m \u001B[49m\u001B[38;5;241;43m*\u001B[39;49m\u001B[38;5;241;43m*\u001B[39;49m\u001B[43msend_kwargs\u001B[49m\u001B[43m)\u001B[49m\n\u001B[0;32m    589\u001B[0m \u001B[38;5;28;01mreturn\u001B[39;00m resp\n",
      "File \u001B[1;32m~\\PycharmProjects\\backup-package\\venv\\Lib\\site-packages\\requests\\sessions.py:701\u001B[0m, in \u001B[0;36mSession.send\u001B[1;34m(self, request, **kwargs)\u001B[0m\n\u001B[0;32m    698\u001B[0m start \u001B[38;5;241m=\u001B[39m preferred_clock()\n\u001B[0;32m    700\u001B[0m \u001B[38;5;66;03m# Send the request\u001B[39;00m\n\u001B[1;32m--> 701\u001B[0m r \u001B[38;5;241m=\u001B[39m \u001B[43madapter\u001B[49m\u001B[38;5;241;43m.\u001B[39;49m\u001B[43msend\u001B[49m\u001B[43m(\u001B[49m\u001B[43mrequest\u001B[49m\u001B[43m,\u001B[49m\u001B[43m \u001B[49m\u001B[38;5;241;43m*\u001B[39;49m\u001B[38;5;241;43m*\u001B[39;49m\u001B[43mkwargs\u001B[49m\u001B[43m)\u001B[49m\n\u001B[0;32m    703\u001B[0m \u001B[38;5;66;03m# Total elapsed time of the request (approximately)\u001B[39;00m\n\u001B[0;32m    704\u001B[0m elapsed \u001B[38;5;241m=\u001B[39m preferred_clock() \u001B[38;5;241m-\u001B[39m start\n",
      "File \u001B[1;32m~\\PycharmProjects\\backup-package\\venv\\Lib\\site-packages\\requests\\adapters.py:559\u001B[0m, in \u001B[0;36mHTTPAdapter.send\u001B[1;34m(self, request, stream, timeout, verify, cert, proxies)\u001B[0m\n\u001B[0;32m    556\u001B[0m     \u001B[38;5;28;01mraise\u001B[39;00m RetryError(e, request\u001B[38;5;241m=\u001B[39mrequest)\n\u001B[0;32m    558\u001B[0m \u001B[38;5;28;01mif\u001B[39;00m \u001B[38;5;28misinstance\u001B[39m(e\u001B[38;5;241m.\u001B[39mreason, _ProxyError):\n\u001B[1;32m--> 559\u001B[0m     \u001B[38;5;28;01mraise\u001B[39;00m ProxyError(e, request\u001B[38;5;241m=\u001B[39mrequest)\n\u001B[0;32m    561\u001B[0m \u001B[38;5;28;01mif\u001B[39;00m \u001B[38;5;28misinstance\u001B[39m(e\u001B[38;5;241m.\u001B[39mreason, _SSLError):\n\u001B[0;32m    562\u001B[0m     \u001B[38;5;66;03m# This branch is for urllib3 v1.22 and later.\u001B[39;00m\n\u001B[0;32m    563\u001B[0m     \u001B[38;5;28;01mraise\u001B[39;00m SSLError(e, request\u001B[38;5;241m=\u001B[39mrequest)\n",
      "\u001B[1;31mProxyError\u001B[0m: HTTPSConnectionPool(host='shortcutapp.io', port=443): Max retries exceeded with url: /n/YWI5NWY5MjhhNzUzNTIwYTExNGE5YTdkN2U4ZTBhOGJi (Caused by ProxyError('Cannot connect to proxy.', RemoteDisconnected('Remote end closed connection without response')))"
     ]
    }
   ],
   "source": [
    "def validate_recipe(recipe: str):\n",
    "    rapport = []\n",
    "    if not get_page_content:\n",
    "        rapport.append(recipe)\n",
    "        return False\n",
    "    else:\n",
    "        return True\n",
    "\n",
    "\n",
    "recipe = get_page_content(\"https://shortcutapp.io/n/YWI5NWY5MjhhNzUzNTIwYTExNGE5YTdkN2U4ZTBhOGJi\")\n",
    "validate_recipe(recipe)\n",
    "print(report)"
   ],
   "metadata": {
    "collapsed": false
   }
  },
  {
   "cell_type": "markdown",
   "source": [
    "# Parse and Backup Recipe"
   ],
   "metadata": {
    "collapsed": false
   }
  },
  {
   "cell_type": "code",
   "execution_count": 10,
   "outputs": [],
   "source": [
    "@timeit\n",
    "def get_parsed_recipe(link: str) -> Dict:\n",
    "    if not get_page_content(link):\n",
    "        print(f\"{link} is corrupt\")\n",
    "    else:\n",
    "        recipe = get_page_content(link)\n",
    "        title = get_recipe_title(recipe)\n",
    "        recipe_class = get_category_from_recipe(link)\n",
    "        time_stamp = get_timestamp(recipe)\n",
    "        img = get_recipe_img_path(link)\n",
    "        prep_time = get_prep_time(recipe)\n",
    "        serves = get_serves(recipe)\n",
    "        difficulty = get_difficulty(recipe)\n",
    "        ingredients = get_ingredients(recipe)\n",
    "        instructions = get_instructions(recipe)\n",
    "\n",
    "        recipe_dict = {\n",
    "            \"title\": title,\n",
    "            \"recipe_class\": recipe_class,\n",
    "            \"time\": time_stamp,\n",
    "            \"img_path\": img,\n",
    "            \"prep_time\": prep_time,\n",
    "            \"serves\": serves,\n",
    "            \"difficulty\": difficulty,\n",
    "            \"ingredients\": ingredients,\n",
    "            \"instructions\": instructions,\n",
    "        }\n",
    "        return recipe_dict"
   ],
   "metadata": {
    "collapsed": false
   }
  },
  {
   "cell_type": "code",
   "execution_count": 11,
   "outputs": [
    {
     "name": "stdout",
     "output_type": "stream",
     "text": [
      "Function get_page_content('https://shortcutapp.io/n/ZTg2YzQ0NjM4Y2VkMjFmOGZiNzM3NTY5YTU3NmE5MDYx',) {} Took 2.3025 seconds\n",
      "Function get_page_content('https://shortcutapp.io/n/ZTg2YzQ0NjM4Y2VkMjFmOGZiNzM3NTY5YTU3NmE5MDYx',) {} Took 2.2931 seconds\n",
      "<div class=\"rezept dessert\">\n",
      "<a href=\"https://shortcutapp.io/n/ZTg2YzQ0NjM4Y2VkMjFmOGZiNzM3NTY5YTU3NmE5MDYx\">\n",
      "<img alt=\"Rezeptname\" src=\"img\\dessert\\schokokuchen.jpg\"/>\n",
      "<h3 class=\"rezeptname\">Schokoladenkuchen</h3>\n",
      "</a>\n",
      "</div>\n",
      "Function get_category_from_recipe('https://shortcutapp.io/n/ZTg2YzQ0NjM4Y2VkMjFmOGZiNzM3NTY5YTU3NmE5MDYx',) {} Took 0.0004 seconds\n",
      "Function get_page_content('https://storage.googleapis.com/www.selinaschoice.ch/index.html#hauptgang',) {} Took 2.1676 seconds\n",
      "Function get_recipe_img_path('https://shortcutapp.io/n/ZTg2YzQ0NjM4Y2VkMjFmOGZiNzM3NTY5YTU3NmE5MDYx',) {} Took 2.1681 seconds\n",
      "Problem with 'NoneType' object has no attribute 'text'\n",
      "Function get_parsed_recipe('https://shortcutapp.io/n/ZTg2YzQ0NjM4Y2VkMjFmOGZiNzM3NTY5YTU3NmE5MDYx',) {} Took 6.7655 seconds\n"
     ]
    },
    {
     "data": {
      "text/plain": "{'title': 'Schokoladekuchen',\n 'recipe_class': 'dessert',\n 'time': '2021-10-18 08:59:55',\n 'img_path': 'img\\\\dessert\\\\schokokuchen.jpg',\n 'prep_time': '20 minutes',\n 'serves': '8 persons',\n 'difficulty': ' weich',\n 'ingredients': [{'quantity': '150 g', 'name': 'Butter, weich'},\n  {'quantity': '300 g', 'name': 'Zucker'},\n  {'quantity': '1 Packung', 'name': 'Vanillezucker'},\n  {'quantity': '1 Prise', 'name': 'Salz'},\n  {'quantity': '3', 'name': 'Eier'},\n  {'quantity': '300 g', 'name': 'Mehl'},\n  {'quantity': '½ Packung', 'name': 'Backpulver'},\n  {'quantity': '100 g', 'name': 'Schokoladepulver'},\n  {'quantity': '75 g', 'name': 'gemahlene Haselnüsse'},\n  {'quantity': '1 ½ dl', 'name': 'Milch'},\n  {'quantity': '100 g', 'name': 'Schokostückchen'}],\n 'instructions': [{'step': 'Step 1',\n   'instruction': 'Ofen auf 180 Grad vorheizen.Butter in eine Schüssel geben, Zucker, Vanillezucker und Salz darunterrühren. Ein Ei nach dem andern darunterrühren, weiterrühren, bis die Masse heller ist.'},\n  {'step': 'Step 2',\n   'instruction': 'Mehl, Backpulver, Schokoladepulver und Nüsse mischen, mit der Milch unter die Masse rühren. \\nDen Teig in die vorbereitete runde Form füllen.'},\n  {'step': 'Step 3',\n   'instruction': 'Backen: ca. 40\\xa0Min. in der unteren Hälfte des Ofens. Herausnehmen, etwas abkühlen, Formenrand entfernen, Kuchen auf ein Gitter schieben, auskühlen. Puderzucker darüberstäuben.'}]}"
     },
     "execution_count": 11,
     "metadata": {},
     "output_type": "execute_result"
    }
   ],
   "source": [
    "get_parsed_recipe(\"https://shortcutapp.io/n/ZTg2YzQ0NjM4Y2VkMjFmOGZiNzM3NTY5YTU3NmE5MDYx\")"
   ],
   "metadata": {
    "collapsed": false
   }
  },
  {
   "cell_type": "code",
   "execution_count": 14,
   "outputs": [],
   "source": [
    "@timeit\n",
    "def save_recipe(recipe=Dict) -> json:\n",
    "    filename = recipe[\"title\"] + \".json\"\n",
    "    folder = recipe[\"recipe_class\"]\n",
    "    os.chdir(f\"../recipes/{folder}\")\n",
    "    json_object = json.dumps(recipe, indent=4, ensure_ascii=False)\n",
    "    with open(filename, \"w\", encoding=\"utf-8\") as outfile:\n",
    "        outfile.write(json_object)\n",
    "    os.chdir(\"../../src\")"
   ],
   "metadata": {
    "collapsed": false
   }
  },
  {
   "cell_type": "code",
   "execution_count": 15,
   "outputs": [
    {
     "name": "stdout",
     "output_type": "stream",
     "text": [
      "Function get_page_content('https://shortcutapp.io/n/YWI5NWY5MjhhNzUzNTIwYTExNGE5YTdkN2U4ZTBhOGJi',) {} Took 2.2807 seconds\n",
      "https://shortcutapp.io/n/YWI5NWY5MjhhNzUzNTIwYTExNGE5YTdkN2U4ZTBhOGJi is corrupt\n",
      "Function get_parsed_recipe('https://shortcutapp.io/n/YWI5NWY5MjhhNzUzNTIwYTExNGE5YTdkN2U4ZTBhOGJi',) {} Took 2.2810 seconds\n",
      "None\n"
     ]
    },
    {
     "ename": "TypeError",
     "evalue": "'NoneType' object is not subscriptable",
     "output_type": "error",
     "traceback": [
      "\u001B[1;31m---------------------------------------------------------------------------\u001B[0m",
      "\u001B[1;31mTypeError\u001B[0m                                 Traceback (most recent call last)",
      "Cell \u001B[1;32mIn[15], line 3\u001B[0m\n\u001B[0;32m      1\u001B[0m recipe \u001B[38;5;241m=\u001B[39m get_parsed_recipe(\u001B[38;5;124m\"\u001B[39m\u001B[38;5;124mhttps://shortcutapp.io/n/YWI5NWY5MjhhNzUzNTIwYTExNGE5YTdkN2U4ZTBhOGJi\u001B[39m\u001B[38;5;124m\"\u001B[39m)\n\u001B[0;32m      2\u001B[0m \u001B[38;5;28mprint\u001B[39m(recipe)\n\u001B[1;32m----> 3\u001B[0m \u001B[43msave_recipe\u001B[49m\u001B[43m(\u001B[49m\u001B[43mrecipe\u001B[49m\u001B[43m)\u001B[49m\n",
      "Cell \u001B[1;32mIn[5], line 24\u001B[0m, in \u001B[0;36mtimeit.<locals>.timeit_wrapper\u001B[1;34m(*args, **kwargs)\u001B[0m\n\u001B[0;32m     21\u001B[0m \u001B[38;5;129m@wraps\u001B[39m(func)\n\u001B[0;32m     22\u001B[0m \u001B[38;5;28;01mdef\u001B[39;00m \u001B[38;5;21mtimeit_wrapper\u001B[39m(\u001B[38;5;241m*\u001B[39margs, \u001B[38;5;241m*\u001B[39m\u001B[38;5;241m*\u001B[39mkwargs):\n\u001B[0;32m     23\u001B[0m     start_time \u001B[38;5;241m=\u001B[39m time\u001B[38;5;241m.\u001B[39mperf_counter()\n\u001B[1;32m---> 24\u001B[0m     result \u001B[38;5;241m=\u001B[39m func(\u001B[38;5;241m*\u001B[39margs, \u001B[38;5;241m*\u001B[39m\u001B[38;5;241m*\u001B[39mkwargs)\n\u001B[0;32m     25\u001B[0m     end_time \u001B[38;5;241m=\u001B[39m time\u001B[38;5;241m.\u001B[39mperf_counter()\n\u001B[0;32m     26\u001B[0m     total_time \u001B[38;5;241m=\u001B[39m end_time \u001B[38;5;241m-\u001B[39m start_time\n",
      "Cell \u001B[1;32mIn[14], line 3\u001B[0m, in \u001B[0;36msave_recipe\u001B[1;34m(recipe)\u001B[0m\n\u001B[0;32m      1\u001B[0m \u001B[38;5;129m@timeit\u001B[39m\n\u001B[0;32m      2\u001B[0m \u001B[38;5;28;01mdef\u001B[39;00m \u001B[38;5;21msave_recipe\u001B[39m(recipe\u001B[38;5;241m=\u001B[39mDict) \u001B[38;5;241m-\u001B[39m\u001B[38;5;241m>\u001B[39m json:\n\u001B[1;32m----> 3\u001B[0m     filename \u001B[38;5;241m=\u001B[39m \u001B[43mrecipe\u001B[49m\u001B[43m[\u001B[49m\u001B[38;5;124;43m\"\u001B[39;49m\u001B[38;5;124;43mtitle\u001B[39;49m\u001B[38;5;124;43m\"\u001B[39;49m\u001B[43m]\u001B[49m \u001B[38;5;241m+\u001B[39m \u001B[38;5;124m\"\u001B[39m\u001B[38;5;124m.json\u001B[39m\u001B[38;5;124m\"\u001B[39m\n\u001B[0;32m      4\u001B[0m     folder \u001B[38;5;241m=\u001B[39m recipe[\u001B[38;5;124m\"\u001B[39m\u001B[38;5;124mrecipe_class\u001B[39m\u001B[38;5;124m\"\u001B[39m]\n\u001B[0;32m      5\u001B[0m     os\u001B[38;5;241m.\u001B[39mchdir(\u001B[38;5;124mf\u001B[39m\u001B[38;5;124m\"\u001B[39m\u001B[38;5;124m../recipes/\u001B[39m\u001B[38;5;132;01m{\u001B[39;00mfolder\u001B[38;5;132;01m}\u001B[39;00m\u001B[38;5;124m\"\u001B[39m)\n",
      "\u001B[1;31mTypeError\u001B[0m: 'NoneType' object is not subscriptable"
     ]
    }
   ],
   "source": [
    "recipe = get_parsed_recipe(\"https://shortcutapp.io/n/YWI5NWY5MjhhNzUzNTIwYTExNGE5YTdkN2U4ZTBhOGJi\")\n",
    "print(recipe)\n",
    "save_recipe(recipe)"
   ],
   "metadata": {
    "collapsed": false
   }
  },
  {
   "cell_type": "markdown",
   "source": [
    "# To-Do"
   ],
   "metadata": {
    "collapsed": false
   }
  },
  {
   "cell_type": "code",
   "execution_count": 18,
   "outputs": [],
   "source": [
    "@timeit\n",
    "def backup_recipe(link: str):\n",
    "    if not get_page_content(link):\n",
    "        print(f\"{link} is corrupt\")\n",
    "    else:\n",
    "        os.chdir(\"../recipes\")\n",
    "        dirName = get_category_from_recipe(link)\n",
    "        recipe = get_parsed_recipe(link)\n",
    "        try:\n",
    "            # Create target Directory\n",
    "            os.mkdir(dirName)\n",
    "        except FileExistsError:\n",
    "            print(\"Directory \", dirName, \" already exists\")\n",
    "        save_recipe(recipe)"
   ],
   "metadata": {
    "collapsed": false
   }
  },
  {
   "cell_type": "code",
   "execution_count": 19,
   "outputs": [
    {
     "name": "stdout",
     "output_type": "stream",
     "text": [
      "Function get_page_content('https://shortcutapp.io/n/ZjY0YThmNGY2ZGZhNGUyMTU3NTMyNWFjZGUyNzA3OTBh',) {} Took 2.3163 seconds\n",
      "<div class=\"rezept brote\">\n",
      "<a href=\"https://shortcutapp.io/n/ZjY0YThmNGY2ZGZhNGUyMTU3NTMyNWFjZGUyNzA3OTBh\">\n",
      "<img alt=\"Rezeptname\" src=\"img\\brote\\bazlama.jpg\"/>\n",
      "<h3 class=\"rezeptname\">Bazlama Fladenbrot</h3>\n",
      "</a>\n",
      "</div>\n",
      "Function get_category_from_recipe('https://shortcutapp.io/n/ZjY0YThmNGY2ZGZhNGUyMTU3NTMyNWFjZGUyNzA3OTBh',) {} Took 0.0008 seconds\n",
      "Function get_page_content('https://shortcutapp.io/n/ZjY0YThmNGY2ZGZhNGUyMTU3NTMyNWFjZGUyNzA3OTBh',) {} Took 2.3166 seconds\n",
      "Function get_page_content('https://shortcutapp.io/n/ZjY0YThmNGY2ZGZhNGUyMTU3NTMyNWFjZGUyNzA3OTBh',) {} Took 2.2915 seconds\n",
      "<div class=\"rezept brote\">\n",
      "<a href=\"https://shortcutapp.io/n/ZjY0YThmNGY2ZGZhNGUyMTU3NTMyNWFjZGUyNzA3OTBh\">\n",
      "<img alt=\"Rezeptname\" src=\"img\\brote\\bazlama.jpg\"/>\n",
      "<h3 class=\"rezeptname\">Bazlama Fladenbrot</h3>\n",
      "</a>\n",
      "</div>\n",
      "Function get_category_from_recipe('https://shortcutapp.io/n/ZjY0YThmNGY2ZGZhNGUyMTU3NTMyNWFjZGUyNzA3OTBh',) {} Took 0.0010 seconds\n",
      "Function get_page_content('https://storage.googleapis.com/www.selinaschoice.ch/index.html#hauptgang',) {} Took 2.2280 seconds\n",
      "Function get_recipe_img_path('https://shortcutapp.io/n/ZjY0YThmNGY2ZGZhNGUyMTU3NTMyNWFjZGUyNzA3OTBh',) {} Took 2.2293 seconds\n",
      "Function get_parsed_recipe('https://shortcutapp.io/n/ZjY0YThmNGY2ZGZhNGUyMTU3NTMyNWFjZGUyNzA3OTBh',) {} Took 6.8399 seconds\n",
      "Directory  brote  already exists\n",
      "Function save_recipe({'title': 'Bazlama - türkisches Fladenbrot', 'recipe_class': 'brote', 'time': '2021-07-04 08:57:54', 'img_path': 'img\\\\brote\\\\bazlama.jpg', 'prep_time': '30 minutes', 'serves': '4 persons', 'difficulty': '', 'ingredients': [{'quantity': '500 g', 'name': 'Mehl'}, {'quantity': '2 EL', 'name': 'Olivenöl'}, {'quantity': '2 EL', 'name': 'Milch'}, {'quantity': '1 EL', 'name': 'Salz'}, {'quantity': '1 Beutel', 'name': 'Trockenhefe oder 25gr frische Hefe'}, {'quantity': '225 ml', 'name': 'Wasser'}, {'quantity': '', 'name': 'Optional: 1/2 Ei'}], 'instructions': [{'step': 'Step 1', 'instruction': 'Alle Zutaten zusammen in eine Schüssel geben und anschliessend mit der Küchenmaschine kneten bis ein glatter Teig entsteht.'}, {'step': 'Step 2', 'instruction': 'Danach den Teig zugedeckt 30-60min ruhen lassen. Anschliessend ca. 8 Kugeln aus dem Teig formen und zu einer kleinen Tellergrösse auswallen. Die Fladenbrote so nochmals 15min ruhen lassen.'}, {'step': 'Step 3', 'instruction': 'Eine beschichtete Bratpfanne erhitzen und die Fladenbrote darin einzel auf mittlerer Hitze 2-3 Minuten backen (ohne Öl) und warm servieren.'}]},) {} Took 0.0101 seconds\n",
      "Function backup_recipe('https://shortcutapp.io/n/ZjY0YThmNGY2ZGZhNGUyMTU3NTMyNWFjZGUyNzA3OTBh',) {} Took 9.1678 seconds\n"
     ]
    }
   ],
   "source": [
    "backup_recipe(\"https://shortcutapp.io/n/ZjY0YThmNGY2ZGZhNGUyMTU3NTMyNWFjZGUyNzA3OTBh\")"
   ],
   "metadata": {
    "collapsed": false
   }
  },
  {
   "cell_type": "code",
   "execution_count": 24,
   "outputs": [],
   "source": [
    "@timeit\n",
    "def backup_website(category: List):\n",
    "    raw_recipes = get_links_to_scrape(category)\n",
    "    print(raw_recipes)\n",
    "    for recipe in raw_recipes:\n",
    "        backup_recipe(recipe)"
   ],
   "metadata": {
    "collapsed": false
   }
  },
  {
   "cell_type": "code",
   "execution_count": 25,
   "outputs": [
    {
     "name": "stdout",
     "output_type": "stream",
     "text": [
      "Function get_links_from_category(['brote', 'snacks'],) {} Took 0.0017 seconds\n",
      "Function get_links_to_scrape(['brote', 'snacks'],) {} Took 0.0020 seconds\n",
      "['https://shortcutapp.io/n/YjNhNTQxOWNjNWRkNjY3NDI0NWExYjZiODllYzRiNWVk', 'https://shortcutapp.io/n/MjJmNmNjMWY5MWU2ZWQ5MDEwNWEzYzU5MzI1MmIxOGRi', 'https://shortcutapp.io/n/ODBhYzMyYmVkOTJjOWE2NjNjOTgxNjBkMTViMzE2NjFh', 'https://shortcutapp.io/n/ZDc4MGIyOGJkMzJlY2RkY2Y1MTFjNGJjZjhkYTViZDM1', 'https://shortcutapp.io/n/ODQyODU2NzE4YjVkZDFkN2FiNTc2ODAzODI4YTRjNzBh', 'https://shortcutapp.io/n/NDJlNzE0NGIyMTUwYzcwYjliMzcxZTEyYWMyZTk2YzE4', 'https://shortcutapp.io/n/ZjY0YThmNGY2ZGZhNGUyMTU3NTMyNWFjZGUyNzA3OTBh', 'https://shortcutapp.io/n/NDc0ZTFhZGYzMTBiOWRmY2U2NTkyNjU4ZWMyNzY4ODQ2', 'https://shortcutapp.io/n/MzdhOWE0OWMwYTgwZjUxYjZmOWRjZGMxYjAzYzNhYzMw']\n",
      "Function get_page_content('https://shortcutapp.io/n/YjNhNTQxOWNjNWRkNjY3NDI0NWExYjZiODllYzRiNWVk',) {} Took 2.3318 seconds\n",
      "<div class=\"rezept snacks\">\n",
      "<a href=\"https://shortcutapp.io/n/YjNhNTQxOWNjNWRkNjY3NDI0NWExYjZiODllYzRiNWVk\">\n",
      "<img alt=\"Rezeptname\" src=\"img\\snacks\\knuspernuesse.jpeg\"/>\n",
      "<h3 class=\"rezeptname\">KnuspernÃ¼sse</h3>\n",
      "</a>\n",
      "</div>\n",
      "Function get_category_from_recipe('https://shortcutapp.io/n/YjNhNTQxOWNjNWRkNjY3NDI0NWExYjZiODllYzRiNWVk',) {} Took 0.0006 seconds\n",
      "Function get_page_content('https://shortcutapp.io/n/YjNhNTQxOWNjNWRkNjY3NDI0NWExYjZiODllYzRiNWVk',) {} Took 2.3920 seconds\n",
      "Function get_page_content('https://shortcutapp.io/n/YjNhNTQxOWNjNWRkNjY3NDI0NWExYjZiODllYzRiNWVk',) {} Took 2.3643 seconds\n",
      "<div class=\"rezept snacks\">\n",
      "<a href=\"https://shortcutapp.io/n/YjNhNTQxOWNjNWRkNjY3NDI0NWExYjZiODllYzRiNWVk\">\n",
      "<img alt=\"Rezeptname\" src=\"img\\snacks\\knuspernuesse.jpeg\"/>\n",
      "<h3 class=\"rezeptname\">KnuspernÃ¼sse</h3>\n",
      "</a>\n",
      "</div>\n",
      "Function get_category_from_recipe('https://shortcutapp.io/n/YjNhNTQxOWNjNWRkNjY3NDI0NWExYjZiODllYzRiNWVk',) {} Took 0.0009 seconds\n"
     ]
    },
    {
     "ename": "ProxyError",
     "evalue": "HTTPSConnectionPool(host='storage.googleapis.com', port=443): Max retries exceeded with url: /www.selinaschoice.ch/index.html (Caused by ProxyError('Cannot connect to proxy.', OSError('Tunnel connection failed: 401 Proxy server authentication failed: dmz-gate.zrh.local:8080')))",
     "output_type": "error",
     "traceback": [
      "\u001B[1;31m---------------------------------------------------------------------------\u001B[0m",
      "\u001B[1;31mOSError\u001B[0m                                   Traceback (most recent call last)",
      "File \u001B[1;32m~\\PycharmProjects\\backup-package\\venv\\lib\\site-packages\\urllib3\\connectionpool.py:700\u001B[0m, in \u001B[0;36mHTTPConnectionPool.urlopen\u001B[1;34m(self, method, url, body, headers, retries, redirect, assert_same_host, timeout, pool_timeout, release_conn, chunked, body_pos, **response_kw)\u001B[0m\n\u001B[0;32m    699\u001B[0m \u001B[38;5;28;01mif\u001B[39;00m is_new_proxy_conn \u001B[38;5;129;01mand\u001B[39;00m http_tunnel_required:\n\u001B[1;32m--> 700\u001B[0m     \u001B[38;5;28;43mself\u001B[39;49m\u001B[38;5;241;43m.\u001B[39;49m\u001B[43m_prepare_proxy\u001B[49m\u001B[43m(\u001B[49m\u001B[43mconn\u001B[49m\u001B[43m)\u001B[49m\n\u001B[0;32m    702\u001B[0m \u001B[38;5;66;03m# Make the request on the httplib connection object.\u001B[39;00m\n",
      "File \u001B[1;32m~\\PycharmProjects\\backup-package\\venv\\lib\\site-packages\\urllib3\\connectionpool.py:996\u001B[0m, in \u001B[0;36mHTTPSConnectionPool._prepare_proxy\u001B[1;34m(self, conn)\u001B[0m\n\u001B[0;32m    994\u001B[0m     conn\u001B[38;5;241m.\u001B[39mtls_in_tls_required \u001B[38;5;241m=\u001B[39m \u001B[38;5;28;01mTrue\u001B[39;00m\n\u001B[1;32m--> 996\u001B[0m \u001B[43mconn\u001B[49m\u001B[38;5;241;43m.\u001B[39;49m\u001B[43mconnect\u001B[49m\u001B[43m(\u001B[49m\u001B[43m)\u001B[49m\n",
      "File \u001B[1;32m~\\PycharmProjects\\backup-package\\venv\\lib\\site-packages\\urllib3\\connection.py:374\u001B[0m, in \u001B[0;36mHTTPSConnection.connect\u001B[1;34m(self)\u001B[0m\n\u001B[0;32m    372\u001B[0m \u001B[38;5;66;03m# Calls self._set_hostport(), so self.host is\u001B[39;00m\n\u001B[0;32m    373\u001B[0m \u001B[38;5;66;03m# self._tunnel_host below.\u001B[39;00m\n\u001B[1;32m--> 374\u001B[0m \u001B[38;5;28;43mself\u001B[39;49m\u001B[38;5;241;43m.\u001B[39;49m\u001B[43m_tunnel\u001B[49m\u001B[43m(\u001B[49m\u001B[43m)\u001B[49m\n\u001B[0;32m    375\u001B[0m \u001B[38;5;66;03m# Mark this connection as not reusable\u001B[39;00m\n",
      "File \u001B[1;32m~\\AppData\\Local\\Programs\\Python\\Python310\\lib\\http\\client.py:924\u001B[0m, in \u001B[0;36mHTTPConnection._tunnel\u001B[1;34m(self)\u001B[0m\n\u001B[0;32m    923\u001B[0m     \u001B[38;5;28mself\u001B[39m\u001B[38;5;241m.\u001B[39mclose()\n\u001B[1;32m--> 924\u001B[0m     \u001B[38;5;28;01mraise\u001B[39;00m \u001B[38;5;167;01mOSError\u001B[39;00m(\u001B[38;5;124mf\u001B[39m\u001B[38;5;124m\"\u001B[39m\u001B[38;5;124mTunnel connection failed: \u001B[39m\u001B[38;5;132;01m{\u001B[39;00mcode\u001B[38;5;132;01m}\u001B[39;00m\u001B[38;5;124m \u001B[39m\u001B[38;5;132;01m{\u001B[39;00mmessage\u001B[38;5;241m.\u001B[39mstrip()\u001B[38;5;132;01m}\u001B[39;00m\u001B[38;5;124m\"\u001B[39m)\n\u001B[0;32m    925\u001B[0m \u001B[38;5;28;01mwhile\u001B[39;00m \u001B[38;5;28;01mTrue\u001B[39;00m:\n",
      "\u001B[1;31mOSError\u001B[0m: Tunnel connection failed: 401 Proxy server authentication failed: dmz-gate.zrh.local:8080",
      "\nDuring handling of the above exception, another exception occurred:\n",
      "\u001B[1;31mMaxRetryError\u001B[0m                             Traceback (most recent call last)",
      "File \u001B[1;32m~\\PycharmProjects\\backup-package\\venv\\lib\\site-packages\\requests\\adapters.py:489\u001B[0m, in \u001B[0;36mHTTPAdapter.send\u001B[1;34m(self, request, stream, timeout, verify, cert, proxies)\u001B[0m\n\u001B[0;32m    488\u001B[0m \u001B[38;5;28;01mif\u001B[39;00m \u001B[38;5;129;01mnot\u001B[39;00m chunked:\n\u001B[1;32m--> 489\u001B[0m     resp \u001B[38;5;241m=\u001B[39m \u001B[43mconn\u001B[49m\u001B[38;5;241;43m.\u001B[39;49m\u001B[43murlopen\u001B[49m\u001B[43m(\u001B[49m\n\u001B[0;32m    490\u001B[0m \u001B[43m        \u001B[49m\u001B[43mmethod\u001B[49m\u001B[38;5;241;43m=\u001B[39;49m\u001B[43mrequest\u001B[49m\u001B[38;5;241;43m.\u001B[39;49m\u001B[43mmethod\u001B[49m\u001B[43m,\u001B[49m\n\u001B[0;32m    491\u001B[0m \u001B[43m        \u001B[49m\u001B[43murl\u001B[49m\u001B[38;5;241;43m=\u001B[39;49m\u001B[43murl\u001B[49m\u001B[43m,\u001B[49m\n\u001B[0;32m    492\u001B[0m \u001B[43m        \u001B[49m\u001B[43mbody\u001B[49m\u001B[38;5;241;43m=\u001B[39;49m\u001B[43mrequest\u001B[49m\u001B[38;5;241;43m.\u001B[39;49m\u001B[43mbody\u001B[49m\u001B[43m,\u001B[49m\n\u001B[0;32m    493\u001B[0m \u001B[43m        \u001B[49m\u001B[43mheaders\u001B[49m\u001B[38;5;241;43m=\u001B[39;49m\u001B[43mrequest\u001B[49m\u001B[38;5;241;43m.\u001B[39;49m\u001B[43mheaders\u001B[49m\u001B[43m,\u001B[49m\n\u001B[0;32m    494\u001B[0m \u001B[43m        \u001B[49m\u001B[43mredirect\u001B[49m\u001B[38;5;241;43m=\u001B[39;49m\u001B[38;5;28;43;01mFalse\u001B[39;49;00m\u001B[43m,\u001B[49m\n\u001B[0;32m    495\u001B[0m \u001B[43m        \u001B[49m\u001B[43massert_same_host\u001B[49m\u001B[38;5;241;43m=\u001B[39;49m\u001B[38;5;28;43;01mFalse\u001B[39;49;00m\u001B[43m,\u001B[49m\n\u001B[0;32m    496\u001B[0m \u001B[43m        \u001B[49m\u001B[43mpreload_content\u001B[49m\u001B[38;5;241;43m=\u001B[39;49m\u001B[38;5;28;43;01mFalse\u001B[39;49;00m\u001B[43m,\u001B[49m\n\u001B[0;32m    497\u001B[0m \u001B[43m        \u001B[49m\u001B[43mdecode_content\u001B[49m\u001B[38;5;241;43m=\u001B[39;49m\u001B[38;5;28;43;01mFalse\u001B[39;49;00m\u001B[43m,\u001B[49m\n\u001B[0;32m    498\u001B[0m \u001B[43m        \u001B[49m\u001B[43mretries\u001B[49m\u001B[38;5;241;43m=\u001B[39;49m\u001B[38;5;28;43mself\u001B[39;49m\u001B[38;5;241;43m.\u001B[39;49m\u001B[43mmax_retries\u001B[49m\u001B[43m,\u001B[49m\n\u001B[0;32m    499\u001B[0m \u001B[43m        \u001B[49m\u001B[43mtimeout\u001B[49m\u001B[38;5;241;43m=\u001B[39;49m\u001B[43mtimeout\u001B[49m\u001B[43m,\u001B[49m\n\u001B[0;32m    500\u001B[0m \u001B[43m    \u001B[49m\u001B[43m)\u001B[49m\n\u001B[0;32m    502\u001B[0m \u001B[38;5;66;03m# Send the request.\u001B[39;00m\n\u001B[0;32m    503\u001B[0m \u001B[38;5;28;01melse\u001B[39;00m:\n",
      "File \u001B[1;32m~\\PycharmProjects\\backup-package\\venv\\lib\\site-packages\\urllib3\\connectionpool.py:787\u001B[0m, in \u001B[0;36mHTTPConnectionPool.urlopen\u001B[1;34m(self, method, url, body, headers, retries, redirect, assert_same_host, timeout, pool_timeout, release_conn, chunked, body_pos, **response_kw)\u001B[0m\n\u001B[0;32m    785\u001B[0m     e \u001B[38;5;241m=\u001B[39m ProtocolError(\u001B[38;5;124m\"\u001B[39m\u001B[38;5;124mConnection aborted.\u001B[39m\u001B[38;5;124m\"\u001B[39m, e)\n\u001B[1;32m--> 787\u001B[0m retries \u001B[38;5;241m=\u001B[39m \u001B[43mretries\u001B[49m\u001B[38;5;241;43m.\u001B[39;49m\u001B[43mincrement\u001B[49m\u001B[43m(\u001B[49m\n\u001B[0;32m    788\u001B[0m \u001B[43m    \u001B[49m\u001B[43mmethod\u001B[49m\u001B[43m,\u001B[49m\u001B[43m \u001B[49m\u001B[43murl\u001B[49m\u001B[43m,\u001B[49m\u001B[43m \u001B[49m\u001B[43merror\u001B[49m\u001B[38;5;241;43m=\u001B[39;49m\u001B[43me\u001B[49m\u001B[43m,\u001B[49m\u001B[43m \u001B[49m\u001B[43m_pool\u001B[49m\u001B[38;5;241;43m=\u001B[39;49m\u001B[38;5;28;43mself\u001B[39;49m\u001B[43m,\u001B[49m\u001B[43m \u001B[49m\u001B[43m_stacktrace\u001B[49m\u001B[38;5;241;43m=\u001B[39;49m\u001B[43msys\u001B[49m\u001B[38;5;241;43m.\u001B[39;49m\u001B[43mexc_info\u001B[49m\u001B[43m(\u001B[49m\u001B[43m)\u001B[49m\u001B[43m[\u001B[49m\u001B[38;5;241;43m2\u001B[39;49m\u001B[43m]\u001B[49m\n\u001B[0;32m    789\u001B[0m \u001B[43m\u001B[49m\u001B[43m)\u001B[49m\n\u001B[0;32m    790\u001B[0m retries\u001B[38;5;241m.\u001B[39msleep()\n",
      "File \u001B[1;32m~\\PycharmProjects\\backup-package\\venv\\lib\\site-packages\\urllib3\\util\\retry.py:592\u001B[0m, in \u001B[0;36mRetry.increment\u001B[1;34m(self, method, url, response, error, _pool, _stacktrace)\u001B[0m\n\u001B[0;32m    591\u001B[0m \u001B[38;5;28;01mif\u001B[39;00m new_retry\u001B[38;5;241m.\u001B[39mis_exhausted():\n\u001B[1;32m--> 592\u001B[0m     \u001B[38;5;28;01mraise\u001B[39;00m MaxRetryError(_pool, url, error \u001B[38;5;129;01mor\u001B[39;00m ResponseError(cause))\n\u001B[0;32m    594\u001B[0m log\u001B[38;5;241m.\u001B[39mdebug(\u001B[38;5;124m\"\u001B[39m\u001B[38;5;124mIncremented Retry for (url=\u001B[39m\u001B[38;5;124m'\u001B[39m\u001B[38;5;132;01m%s\u001B[39;00m\u001B[38;5;124m'\u001B[39m\u001B[38;5;124m): \u001B[39m\u001B[38;5;132;01m%r\u001B[39;00m\u001B[38;5;124m\"\u001B[39m, url, new_retry)\n",
      "\u001B[1;31mMaxRetryError\u001B[0m: HTTPSConnectionPool(host='storage.googleapis.com', port=443): Max retries exceeded with url: /www.selinaschoice.ch/index.html (Caused by ProxyError('Cannot connect to proxy.', OSError('Tunnel connection failed: 401 Proxy server authentication failed: dmz-gate.zrh.local:8080')))",
      "\nDuring handling of the above exception, another exception occurred:\n",
      "\u001B[1;31mProxyError\u001B[0m                                Traceback (most recent call last)",
      "Cell \u001B[1;32mIn[25], line 1\u001B[0m\n\u001B[1;32m----> 1\u001B[0m \u001B[43mbackup_website\u001B[49m\u001B[43m(\u001B[49m\u001B[43m[\u001B[49m\u001B[38;5;124;43m\"\u001B[39;49m\u001B[38;5;124;43mbrote\u001B[39;49m\u001B[38;5;124;43m\"\u001B[39;49m\u001B[43m,\u001B[49m\u001B[43m \u001B[49m\u001B[38;5;124;43m\"\u001B[39;49m\u001B[38;5;124;43msnacks\u001B[39;49m\u001B[38;5;124;43m\"\u001B[39;49m\u001B[43m]\u001B[49m\u001B[43m)\u001B[49m\n\u001B[0;32m      2\u001B[0m \u001B[38;5;28mprint\u001B[39m(report)\n",
      "Cell \u001B[1;32mIn[5], line 24\u001B[0m, in \u001B[0;36mtimeit.<locals>.timeit_wrapper\u001B[1;34m(*args, **kwargs)\u001B[0m\n\u001B[0;32m     21\u001B[0m \u001B[38;5;129m@wraps\u001B[39m(func)\n\u001B[0;32m     22\u001B[0m \u001B[38;5;28;01mdef\u001B[39;00m \u001B[38;5;21mtimeit_wrapper\u001B[39m(\u001B[38;5;241m*\u001B[39margs, \u001B[38;5;241m*\u001B[39m\u001B[38;5;241m*\u001B[39mkwargs):\n\u001B[0;32m     23\u001B[0m     start_time \u001B[38;5;241m=\u001B[39m time\u001B[38;5;241m.\u001B[39mperf_counter()\n\u001B[1;32m---> 24\u001B[0m     result \u001B[38;5;241m=\u001B[39m func(\u001B[38;5;241m*\u001B[39margs, \u001B[38;5;241m*\u001B[39m\u001B[38;5;241m*\u001B[39mkwargs)\n\u001B[0;32m     25\u001B[0m     end_time \u001B[38;5;241m=\u001B[39m time\u001B[38;5;241m.\u001B[39mperf_counter()\n\u001B[0;32m     26\u001B[0m     total_time \u001B[38;5;241m=\u001B[39m end_time \u001B[38;5;241m-\u001B[39m start_time\n",
      "Cell \u001B[1;32mIn[24], line 6\u001B[0m, in \u001B[0;36mbackup_website\u001B[1;34m(category)\u001B[0m\n\u001B[0;32m      4\u001B[0m \u001B[38;5;28mprint\u001B[39m(raw_recipes)\n\u001B[0;32m      5\u001B[0m \u001B[38;5;28;01mfor\u001B[39;00m recipe \u001B[38;5;129;01min\u001B[39;00m raw_recipes:\n\u001B[1;32m----> 6\u001B[0m     \u001B[43mbackup_recipe\u001B[49m\u001B[43m(\u001B[49m\u001B[43mrecipe\u001B[49m\u001B[43m)\u001B[49m\n",
      "Cell \u001B[1;32mIn[5], line 24\u001B[0m, in \u001B[0;36mtimeit.<locals>.timeit_wrapper\u001B[1;34m(*args, **kwargs)\u001B[0m\n\u001B[0;32m     21\u001B[0m \u001B[38;5;129m@wraps\u001B[39m(func)\n\u001B[0;32m     22\u001B[0m \u001B[38;5;28;01mdef\u001B[39;00m \u001B[38;5;21mtimeit_wrapper\u001B[39m(\u001B[38;5;241m*\u001B[39margs, \u001B[38;5;241m*\u001B[39m\u001B[38;5;241m*\u001B[39mkwargs):\n\u001B[0;32m     23\u001B[0m     start_time \u001B[38;5;241m=\u001B[39m time\u001B[38;5;241m.\u001B[39mperf_counter()\n\u001B[1;32m---> 24\u001B[0m     result \u001B[38;5;241m=\u001B[39m func(\u001B[38;5;241m*\u001B[39margs, \u001B[38;5;241m*\u001B[39m\u001B[38;5;241m*\u001B[39mkwargs)\n\u001B[0;32m     25\u001B[0m     end_time \u001B[38;5;241m=\u001B[39m time\u001B[38;5;241m.\u001B[39mperf_counter()\n\u001B[0;32m     26\u001B[0m     total_time \u001B[38;5;241m=\u001B[39m end_time \u001B[38;5;241m-\u001B[39m start_time\n",
      "Cell \u001B[1;32mIn[18], line 8\u001B[0m, in \u001B[0;36mbackup_recipe\u001B[1;34m(link)\u001B[0m\n\u001B[0;32m      6\u001B[0m os\u001B[38;5;241m.\u001B[39mchdir(\u001B[38;5;124m\"\u001B[39m\u001B[38;5;124m../recipes\u001B[39m\u001B[38;5;124m\"\u001B[39m)\n\u001B[0;32m      7\u001B[0m dirName \u001B[38;5;241m=\u001B[39m get_category_from_recipe(link)\n\u001B[1;32m----> 8\u001B[0m recipe \u001B[38;5;241m=\u001B[39m \u001B[43mget_parsed_recipe\u001B[49m\u001B[43m(\u001B[49m\u001B[43mlink\u001B[49m\u001B[43m)\u001B[49m\n\u001B[0;32m      9\u001B[0m \u001B[38;5;28;01mtry\u001B[39;00m:\n\u001B[0;32m     10\u001B[0m     \u001B[38;5;66;03m# Create target Directory\u001B[39;00m\n\u001B[0;32m     11\u001B[0m     os\u001B[38;5;241m.\u001B[39mmkdir(dirName)\n",
      "Cell \u001B[1;32mIn[5], line 24\u001B[0m, in \u001B[0;36mtimeit.<locals>.timeit_wrapper\u001B[1;34m(*args, **kwargs)\u001B[0m\n\u001B[0;32m     21\u001B[0m \u001B[38;5;129m@wraps\u001B[39m(func)\n\u001B[0;32m     22\u001B[0m \u001B[38;5;28;01mdef\u001B[39;00m \u001B[38;5;21mtimeit_wrapper\u001B[39m(\u001B[38;5;241m*\u001B[39margs, \u001B[38;5;241m*\u001B[39m\u001B[38;5;241m*\u001B[39mkwargs):\n\u001B[0;32m     23\u001B[0m     start_time \u001B[38;5;241m=\u001B[39m time\u001B[38;5;241m.\u001B[39mperf_counter()\n\u001B[1;32m---> 24\u001B[0m     result \u001B[38;5;241m=\u001B[39m func(\u001B[38;5;241m*\u001B[39margs, \u001B[38;5;241m*\u001B[39m\u001B[38;5;241m*\u001B[39mkwargs)\n\u001B[0;32m     25\u001B[0m     end_time \u001B[38;5;241m=\u001B[39m time\u001B[38;5;241m.\u001B[39mperf_counter()\n\u001B[0;32m     26\u001B[0m     total_time \u001B[38;5;241m=\u001B[39m end_time \u001B[38;5;241m-\u001B[39m start_time\n",
      "Cell \u001B[1;32mIn[10], line 10\u001B[0m, in \u001B[0;36mget_parsed_recipe\u001B[1;34m(link)\u001B[0m\n\u001B[0;32m      8\u001B[0m recipe_class \u001B[38;5;241m=\u001B[39m get_category_from_recipe(link)\n\u001B[0;32m      9\u001B[0m time_stamp \u001B[38;5;241m=\u001B[39m get_timestamp(recipe)\n\u001B[1;32m---> 10\u001B[0m img \u001B[38;5;241m=\u001B[39m \u001B[43mget_recipe_img_path\u001B[49m\u001B[43m(\u001B[49m\u001B[43mlink\u001B[49m\u001B[43m)\u001B[49m\n\u001B[0;32m     11\u001B[0m prep_time \u001B[38;5;241m=\u001B[39m get_prep_time(recipe)\n\u001B[0;32m     12\u001B[0m serves \u001B[38;5;241m=\u001B[39m get_serves(recipe)\n",
      "Cell \u001B[1;32mIn[5], line 24\u001B[0m, in \u001B[0;36mtimeit.<locals>.timeit_wrapper\u001B[1;34m(*args, **kwargs)\u001B[0m\n\u001B[0;32m     21\u001B[0m \u001B[38;5;129m@wraps\u001B[39m(func)\n\u001B[0;32m     22\u001B[0m \u001B[38;5;28;01mdef\u001B[39;00m \u001B[38;5;21mtimeit_wrapper\u001B[39m(\u001B[38;5;241m*\u001B[39margs, \u001B[38;5;241m*\u001B[39m\u001B[38;5;241m*\u001B[39mkwargs):\n\u001B[0;32m     23\u001B[0m     start_time \u001B[38;5;241m=\u001B[39m time\u001B[38;5;241m.\u001B[39mperf_counter()\n\u001B[1;32m---> 24\u001B[0m     result \u001B[38;5;241m=\u001B[39m func(\u001B[38;5;241m*\u001B[39margs, \u001B[38;5;241m*\u001B[39m\u001B[38;5;241m*\u001B[39mkwargs)\n\u001B[0;32m     25\u001B[0m     end_time \u001B[38;5;241m=\u001B[39m time\u001B[38;5;241m.\u001B[39mperf_counter()\n\u001B[0;32m     26\u001B[0m     total_time \u001B[38;5;241m=\u001B[39m end_time \u001B[38;5;241m-\u001B[39m start_time\n",
      "Cell \u001B[1;32mIn[8], line 28\u001B[0m, in \u001B[0;36mget_recipe_img_path\u001B[1;34m(link)\u001B[0m\n\u001B[0;32m     21\u001B[0m \u001B[38;5;129m@timeit\u001B[39m\n\u001B[0;32m     22\u001B[0m \u001B[38;5;28;01mdef\u001B[39;00m \u001B[38;5;21mget_recipe_img_path\u001B[39m(link: \u001B[38;5;28mstr\u001B[39m) \u001B[38;5;241m-\u001B[39m\u001B[38;5;241m>\u001B[39m \u001B[38;5;28mstr\u001B[39m:\n\u001B[0;32m     23\u001B[0m \u001B[38;5;250m    \u001B[39m\u001B[38;5;124;03m\"\"\"\u001B[39;00m\n\u001B[0;32m     24\u001B[0m \u001B[38;5;124;03m    Get the img path from a recipe with the recipe link.\u001B[39;00m\n\u001B[0;32m     25\u001B[0m \u001B[38;5;124;03m    :param link: str\u001B[39;00m\n\u001B[0;32m     26\u001B[0m \u001B[38;5;124;03m    :return img_path: str\u001B[39;00m\n\u001B[0;32m     27\u001B[0m \u001B[38;5;124;03m    \"\"\"\u001B[39;00m\n\u001B[1;32m---> 28\u001B[0m     main_page \u001B[38;5;241m=\u001B[39m \u001B[43mget_page_content\u001B[49m\u001B[43m(\u001B[49m\u001B[38;5;124;43m'\u001B[39;49m\u001B[38;5;124;43mhttps://storage.googleapis.com/www.selinaschoice.ch/index.html#hauptgang\u001B[39;49m\u001B[38;5;124;43m'\u001B[39;49m\u001B[43m)\u001B[49m\n\u001B[0;32m     29\u001B[0m     specific_recipe \u001B[38;5;241m=\u001B[39m main_page\u001B[38;5;241m.\u001B[39mfind(\u001B[38;5;124m\"\u001B[39m\u001B[38;5;124ma\u001B[39m\u001B[38;5;124m\"\u001B[39m, href\u001B[38;5;241m=\u001B[39mlink)\n\u001B[0;32m     30\u001B[0m     img \u001B[38;5;241m=\u001B[39m specific_recipe\u001B[38;5;241m.\u001B[39mfind(\u001B[38;5;124m\"\u001B[39m\u001B[38;5;124mimg\u001B[39m\u001B[38;5;124m\"\u001B[39m)\n",
      "Cell \u001B[1;32mIn[5], line 24\u001B[0m, in \u001B[0;36mtimeit.<locals>.timeit_wrapper\u001B[1;34m(*args, **kwargs)\u001B[0m\n\u001B[0;32m     21\u001B[0m \u001B[38;5;129m@wraps\u001B[39m(func)\n\u001B[0;32m     22\u001B[0m \u001B[38;5;28;01mdef\u001B[39;00m \u001B[38;5;21mtimeit_wrapper\u001B[39m(\u001B[38;5;241m*\u001B[39margs, \u001B[38;5;241m*\u001B[39m\u001B[38;5;241m*\u001B[39mkwargs):\n\u001B[0;32m     23\u001B[0m     start_time \u001B[38;5;241m=\u001B[39m time\u001B[38;5;241m.\u001B[39mperf_counter()\n\u001B[1;32m---> 24\u001B[0m     result \u001B[38;5;241m=\u001B[39m func(\u001B[38;5;241m*\u001B[39margs, \u001B[38;5;241m*\u001B[39m\u001B[38;5;241m*\u001B[39mkwargs)\n\u001B[0;32m     25\u001B[0m     end_time \u001B[38;5;241m=\u001B[39m time\u001B[38;5;241m.\u001B[39mperf_counter()\n\u001B[0;32m     26\u001B[0m     total_time \u001B[38;5;241m=\u001B[39m end_time \u001B[38;5;241m-\u001B[39m start_time\n",
      "Cell \u001B[1;32mIn[5], line 40\u001B[0m, in \u001B[0;36mget_page_content\u001B[1;34m(link)\u001B[0m\n\u001B[0;32m     33\u001B[0m \u001B[38;5;129m@timeit\u001B[39m\n\u001B[0;32m     34\u001B[0m \u001B[38;5;28;01mdef\u001B[39;00m \u001B[38;5;21mget_page_content\u001B[39m(link: \u001B[38;5;28mstr\u001B[39m) \u001B[38;5;241m-\u001B[39m\u001B[38;5;241m>\u001B[39m \u001B[38;5;28mstr\u001B[39m:\n\u001B[0;32m     35\u001B[0m \u001B[38;5;250m    \u001B[39m\u001B[38;5;124;03m\"\"\"\u001B[39;00m\n\u001B[0;32m     36\u001B[0m \u001B[38;5;124;03m    Get a Parsed homepage as HTML str.\u001B[39;00m\n\u001B[0;32m     37\u001B[0m \u001B[38;5;124;03m    :param link:\u001B[39;00m\n\u001B[0;32m     38\u001B[0m \u001B[38;5;124;03m    :return: parsed_homepage\u001B[39;00m\n\u001B[0;32m     39\u001B[0m \u001B[38;5;124;03m    \"\"\"\u001B[39;00m\n\u001B[1;32m---> 40\u001B[0m     homepage \u001B[38;5;241m=\u001B[39m \u001B[43mrequests\u001B[49m\u001B[38;5;241;43m.\u001B[39;49m\u001B[43mget\u001B[49m\u001B[43m(\u001B[49m\u001B[43mlink\u001B[49m\u001B[43m)\u001B[49m\n\u001B[0;32m     41\u001B[0m     \u001B[38;5;28;01mif\u001B[39;00m \u001B[38;5;129;01mnot\u001B[39;00m homepage\u001B[38;5;241m.\u001B[39mstatus_code \u001B[38;5;241m==\u001B[39m \u001B[38;5;241m200\u001B[39m:\n\u001B[0;32m     42\u001B[0m         report\u001B[38;5;241m.\u001B[39mappend(\u001B[38;5;124mf\u001B[39m\u001B[38;5;124m\"\u001B[39m\u001B[38;5;124mCan\u001B[39m\u001B[38;5;124m'\u001B[39m\u001B[38;5;124mt reach \u001B[39m\u001B[38;5;132;01m{\u001B[39;00mlink\u001B[38;5;132;01m}\u001B[39;00m\u001B[38;5;124m with status code 200.\u001B[39m\u001B[38;5;124m\"\u001B[39m)\n",
      "File \u001B[1;32m~\\PycharmProjects\\backup-package\\venv\\lib\\site-packages\\requests\\api.py:73\u001B[0m, in \u001B[0;36mget\u001B[1;34m(url, params, **kwargs)\u001B[0m\n\u001B[0;32m     62\u001B[0m \u001B[38;5;28;01mdef\u001B[39;00m \u001B[38;5;21mget\u001B[39m(url, params\u001B[38;5;241m=\u001B[39m\u001B[38;5;28;01mNone\u001B[39;00m, \u001B[38;5;241m*\u001B[39m\u001B[38;5;241m*\u001B[39mkwargs):\n\u001B[0;32m     63\u001B[0m \u001B[38;5;250m    \u001B[39m\u001B[38;5;124mr\u001B[39m\u001B[38;5;124;03m\"\"\"Sends a GET request.\u001B[39;00m\n\u001B[0;32m     64\u001B[0m \n\u001B[0;32m     65\u001B[0m \u001B[38;5;124;03m    :param url: URL for the new :class:`Request` object.\u001B[39;00m\n\u001B[1;32m   (...)\u001B[0m\n\u001B[0;32m     70\u001B[0m \u001B[38;5;124;03m    :rtype: requests.Response\u001B[39;00m\n\u001B[0;32m     71\u001B[0m \u001B[38;5;124;03m    \"\"\"\u001B[39;00m\n\u001B[1;32m---> 73\u001B[0m     \u001B[38;5;28;01mreturn\u001B[39;00m request(\u001B[38;5;124m\"\u001B[39m\u001B[38;5;124mget\u001B[39m\u001B[38;5;124m\"\u001B[39m, url, params\u001B[38;5;241m=\u001B[39mparams, \u001B[38;5;241m*\u001B[39m\u001B[38;5;241m*\u001B[39mkwargs)\n",
      "File \u001B[1;32m~\\PycharmProjects\\backup-package\\venv\\lib\\site-packages\\requests\\api.py:59\u001B[0m, in \u001B[0;36mrequest\u001B[1;34m(method, url, **kwargs)\u001B[0m\n\u001B[0;32m     55\u001B[0m \u001B[38;5;66;03m# By using the 'with' statement we are sure the session is closed, thus we\u001B[39;00m\n\u001B[0;32m     56\u001B[0m \u001B[38;5;66;03m# avoid leaving sockets open which can trigger a ResourceWarning in some\u001B[39;00m\n\u001B[0;32m     57\u001B[0m \u001B[38;5;66;03m# cases, and look like a memory leak in others.\u001B[39;00m\n\u001B[0;32m     58\u001B[0m \u001B[38;5;28;01mwith\u001B[39;00m sessions\u001B[38;5;241m.\u001B[39mSession() \u001B[38;5;28;01mas\u001B[39;00m session:\n\u001B[1;32m---> 59\u001B[0m     \u001B[38;5;28;01mreturn\u001B[39;00m session\u001B[38;5;241m.\u001B[39mrequest(method\u001B[38;5;241m=\u001B[39mmethod, url\u001B[38;5;241m=\u001B[39murl, \u001B[38;5;241m*\u001B[39m\u001B[38;5;241m*\u001B[39mkwargs)\n",
      "File \u001B[1;32m~\\PycharmProjects\\backup-package\\venv\\lib\\site-packages\\requests\\sessions.py:587\u001B[0m, in \u001B[0;36mSession.request\u001B[1;34m(self, method, url, params, data, headers, cookies, files, auth, timeout, allow_redirects, proxies, hooks, stream, verify, cert, json)\u001B[0m\n\u001B[0;32m    582\u001B[0m send_kwargs \u001B[38;5;241m=\u001B[39m {\n\u001B[0;32m    583\u001B[0m     \u001B[38;5;124m\"\u001B[39m\u001B[38;5;124mtimeout\u001B[39m\u001B[38;5;124m\"\u001B[39m: timeout,\n\u001B[0;32m    584\u001B[0m     \u001B[38;5;124m\"\u001B[39m\u001B[38;5;124mallow_redirects\u001B[39m\u001B[38;5;124m\"\u001B[39m: allow_redirects,\n\u001B[0;32m    585\u001B[0m }\n\u001B[0;32m    586\u001B[0m send_kwargs\u001B[38;5;241m.\u001B[39mupdate(settings)\n\u001B[1;32m--> 587\u001B[0m resp \u001B[38;5;241m=\u001B[39m \u001B[38;5;28mself\u001B[39m\u001B[38;5;241m.\u001B[39msend(prep, \u001B[38;5;241m*\u001B[39m\u001B[38;5;241m*\u001B[39msend_kwargs)\n\u001B[0;32m    589\u001B[0m \u001B[38;5;28;01mreturn\u001B[39;00m resp\n",
      "File \u001B[1;32m~\\PycharmProjects\\backup-package\\venv\\lib\\site-packages\\requests\\sessions.py:701\u001B[0m, in \u001B[0;36mSession.send\u001B[1;34m(self, request, **kwargs)\u001B[0m\n\u001B[0;32m    698\u001B[0m start \u001B[38;5;241m=\u001B[39m preferred_clock()\n\u001B[0;32m    700\u001B[0m \u001B[38;5;66;03m# Send the request\u001B[39;00m\n\u001B[1;32m--> 701\u001B[0m r \u001B[38;5;241m=\u001B[39m adapter\u001B[38;5;241m.\u001B[39msend(request, \u001B[38;5;241m*\u001B[39m\u001B[38;5;241m*\u001B[39mkwargs)\n\u001B[0;32m    703\u001B[0m \u001B[38;5;66;03m# Total elapsed time of the request (approximately)\u001B[39;00m\n\u001B[0;32m    704\u001B[0m elapsed \u001B[38;5;241m=\u001B[39m preferred_clock() \u001B[38;5;241m-\u001B[39m start\n",
      "File \u001B[1;32m~\\PycharmProjects\\backup-package\\venv\\lib\\site-packages\\requests\\adapters.py:559\u001B[0m, in \u001B[0;36mHTTPAdapter.send\u001B[1;34m(self, request, stream, timeout, verify, cert, proxies)\u001B[0m\n\u001B[0;32m    556\u001B[0m     \u001B[38;5;28;01mraise\u001B[39;00m RetryError(e, request\u001B[38;5;241m=\u001B[39mrequest)\n\u001B[0;32m    558\u001B[0m \u001B[38;5;28;01mif\u001B[39;00m \u001B[38;5;28misinstance\u001B[39m(e\u001B[38;5;241m.\u001B[39mreason, _ProxyError):\n\u001B[1;32m--> 559\u001B[0m     \u001B[38;5;28;01mraise\u001B[39;00m ProxyError(e, request\u001B[38;5;241m=\u001B[39mrequest)\n\u001B[0;32m    561\u001B[0m \u001B[38;5;28;01mif\u001B[39;00m \u001B[38;5;28misinstance\u001B[39m(e\u001B[38;5;241m.\u001B[39mreason, _SSLError):\n\u001B[0;32m    562\u001B[0m     \u001B[38;5;66;03m# This branch is for urllib3 v1.22 and later.\u001B[39;00m\n\u001B[0;32m    563\u001B[0m     \u001B[38;5;28;01mraise\u001B[39;00m SSLError(e, request\u001B[38;5;241m=\u001B[39mrequest)\n",
      "\u001B[1;31mProxyError\u001B[0m: HTTPSConnectionPool(host='storage.googleapis.com', port=443): Max retries exceeded with url: /www.selinaschoice.ch/index.html (Caused by ProxyError('Cannot connect to proxy.', OSError('Tunnel connection failed: 401 Proxy server authentication failed: dmz-gate.zrh.local:8080')))"
     ]
    }
   ],
   "source": [
    "backup_website([\"brote\", \"snacks\"])\n",
    "print(report)"
   ],
   "metadata": {
    "collapsed": false
   }
  },
  {
   "cell_type": "markdown",
   "source": [],
   "metadata": {
    "collapsed": false
   }
  },
  {
   "cell_type": "markdown",
   "source": [
    "\n",
    "ToDo:\n",
    "- Automate creation from recipe folder\n",
    "- Create Function to backup img\n",
    "- make Function if the recipe link fails like the one from Erdbeer Clafoutis - https://shortcutapp.io/n/YWI5NWY5MjhhNzUzNTIwYTExNGE5YTdkN2U4ZTBhOGJi\n",
    "- make sure dataquality is good with None Vlaue handling.\n",
    "- Move package out to create Tests"
   ],
   "metadata": {
    "collapsed": false
   }
  },
  {
   "cell_type": "code",
   "execution_count": 9,
   "outputs": [
    {
     "name": "stdout",
     "output_type": "stream",
     "text": [
      "it works s\n"
     ]
    }
   ],
   "source": [
    "# Test Zone\n",
    "allowed_categories = [\"vorspeise\", \"hauptgang\", \"dessert\", \"fruehstueck\", \"snacks\", \"brote\", \"getraenke\"]\n",
    "\n",
    "selected_categories = [\"vorspeise\", \"hauptgang\", \"dessert\", \"fruehstueck\", \"snacks\", \"brote\", \"getraenke\"]\n",
    "\n",
    "if set(selected_categories).issubset(set(allowed_categories)):\n",
    "    print(\"it works s\")\n",
    "else:\n",
    "    print(\"No work\")"
   ],
   "metadata": {
    "collapsed": false
   }
  },
  {
   "cell_type": "markdown",
   "source": [],
   "metadata": {
    "collapsed": false
   }
  },
  {
   "cell_type": "code",
   "execution_count": 16,
   "outputs": [
    {
     "ename": "MissingSchema",
     "evalue": "Invalid URL 'img\\\\brand.png': No scheme supplied. Perhaps you meant https://img\\brand.png?",
     "output_type": "error",
     "traceback": [
      "\u001B[1;31m---------------------------------------------------------------------------\u001B[0m",
      "\u001B[1;31mMissingSchema\u001B[0m                             Traceback (most recent call last)",
      "Cell \u001B[1;32mIn[16], line 15\u001B[0m\n\u001B[0;32m     11\u001B[0m image \u001B[38;5;241m=\u001B[39m soup\u001B[38;5;241m.\u001B[39mfind(\u001B[38;5;124m'\u001B[39m\u001B[38;5;124mimg\u001B[39m\u001B[38;5;124m'\u001B[39m)\n\u001B[0;32m     12\u001B[0m image_url \u001B[38;5;241m=\u001B[39m image[\u001B[38;5;124m'\u001B[39m\u001B[38;5;124msrc\u001B[39m\u001B[38;5;124m'\u001B[39m]\n\u001B[1;32m---> 15\u001B[0m img \u001B[38;5;241m=\u001B[39m Image\u001B[38;5;241m.\u001B[39mopen(\u001B[43mrequests\u001B[49m\u001B[38;5;241;43m.\u001B[39;49m\u001B[43mget\u001B[49m\u001B[43m(\u001B[49m\u001B[43mimage_url\u001B[49m\u001B[43m,\u001B[49m\u001B[43m \u001B[49m\u001B[43mstream\u001B[49m\u001B[43m \u001B[49m\u001B[38;5;241;43m=\u001B[39;49m\u001B[43m \u001B[49m\u001B[38;5;28;43;01mTrue\u001B[39;49;00m\u001B[43m)\u001B[49m\u001B[38;5;241m.\u001B[39mraw)\n\u001B[0;32m     17\u001B[0m img\u001B[38;5;241m.\u001B[39msave(\u001B[38;5;124m'\u001B[39m\u001B[38;5;124mimage.jpg\u001B[39m\u001B[38;5;124m'\u001B[39m)\n",
      "File \u001B[1;32m~\\PycharmProjects\\backup-package\\venv\\Lib\\site-packages\\requests\\api.py:73\u001B[0m, in \u001B[0;36mget\u001B[1;34m(url, params, **kwargs)\u001B[0m\n\u001B[0;32m     62\u001B[0m \u001B[38;5;28;01mdef\u001B[39;00m \u001B[38;5;21mget\u001B[39m(url, params\u001B[38;5;241m=\u001B[39m\u001B[38;5;28;01mNone\u001B[39;00m, \u001B[38;5;241m*\u001B[39m\u001B[38;5;241m*\u001B[39mkwargs):\n\u001B[0;32m     63\u001B[0m \u001B[38;5;250m    \u001B[39m\u001B[38;5;124mr\u001B[39m\u001B[38;5;124;03m\"\"\"Sends a GET request.\u001B[39;00m\n\u001B[0;32m     64\u001B[0m \n\u001B[0;32m     65\u001B[0m \u001B[38;5;124;03m    :param url: URL for the new :class:`Request` object.\u001B[39;00m\n\u001B[1;32m   (...)\u001B[0m\n\u001B[0;32m     70\u001B[0m \u001B[38;5;124;03m    :rtype: requests.Response\u001B[39;00m\n\u001B[0;32m     71\u001B[0m \u001B[38;5;124;03m    \"\"\"\u001B[39;00m\n\u001B[1;32m---> 73\u001B[0m     \u001B[38;5;28;01mreturn\u001B[39;00m \u001B[43mrequest\u001B[49m\u001B[43m(\u001B[49m\u001B[38;5;124;43m\"\u001B[39;49m\u001B[38;5;124;43mget\u001B[39;49m\u001B[38;5;124;43m\"\u001B[39;49m\u001B[43m,\u001B[49m\u001B[43m \u001B[49m\u001B[43murl\u001B[49m\u001B[43m,\u001B[49m\u001B[43m \u001B[49m\u001B[43mparams\u001B[49m\u001B[38;5;241;43m=\u001B[39;49m\u001B[43mparams\u001B[49m\u001B[43m,\u001B[49m\u001B[43m \u001B[49m\u001B[38;5;241;43m*\u001B[39;49m\u001B[38;5;241;43m*\u001B[39;49m\u001B[43mkwargs\u001B[49m\u001B[43m)\u001B[49m\n",
      "File \u001B[1;32m~\\PycharmProjects\\backup-package\\venv\\Lib\\site-packages\\requests\\api.py:59\u001B[0m, in \u001B[0;36mrequest\u001B[1;34m(method, url, **kwargs)\u001B[0m\n\u001B[0;32m     55\u001B[0m \u001B[38;5;66;03m# By using the 'with' statement we are sure the session is closed, thus we\u001B[39;00m\n\u001B[0;32m     56\u001B[0m \u001B[38;5;66;03m# avoid leaving sockets open which can trigger a ResourceWarning in some\u001B[39;00m\n\u001B[0;32m     57\u001B[0m \u001B[38;5;66;03m# cases, and look like a memory leak in others.\u001B[39;00m\n\u001B[0;32m     58\u001B[0m \u001B[38;5;28;01mwith\u001B[39;00m sessions\u001B[38;5;241m.\u001B[39mSession() \u001B[38;5;28;01mas\u001B[39;00m session:\n\u001B[1;32m---> 59\u001B[0m     \u001B[38;5;28;01mreturn\u001B[39;00m \u001B[43msession\u001B[49m\u001B[38;5;241;43m.\u001B[39;49m\u001B[43mrequest\u001B[49m\u001B[43m(\u001B[49m\u001B[43mmethod\u001B[49m\u001B[38;5;241;43m=\u001B[39;49m\u001B[43mmethod\u001B[49m\u001B[43m,\u001B[49m\u001B[43m \u001B[49m\u001B[43murl\u001B[49m\u001B[38;5;241;43m=\u001B[39;49m\u001B[43murl\u001B[49m\u001B[43m,\u001B[49m\u001B[43m \u001B[49m\u001B[38;5;241;43m*\u001B[39;49m\u001B[38;5;241;43m*\u001B[39;49m\u001B[43mkwargs\u001B[49m\u001B[43m)\u001B[49m\n",
      "File \u001B[1;32m~\\PycharmProjects\\backup-package\\venv\\Lib\\site-packages\\requests\\sessions.py:573\u001B[0m, in \u001B[0;36mSession.request\u001B[1;34m(self, method, url, params, data, headers, cookies, files, auth, timeout, allow_redirects, proxies, hooks, stream, verify, cert, json)\u001B[0m\n\u001B[0;32m    560\u001B[0m \u001B[38;5;66;03m# Create the Request.\u001B[39;00m\n\u001B[0;32m    561\u001B[0m req \u001B[38;5;241m=\u001B[39m Request(\n\u001B[0;32m    562\u001B[0m     method\u001B[38;5;241m=\u001B[39mmethod\u001B[38;5;241m.\u001B[39mupper(),\n\u001B[0;32m    563\u001B[0m     url\u001B[38;5;241m=\u001B[39murl,\n\u001B[1;32m   (...)\u001B[0m\n\u001B[0;32m    571\u001B[0m     hooks\u001B[38;5;241m=\u001B[39mhooks,\n\u001B[0;32m    572\u001B[0m )\n\u001B[1;32m--> 573\u001B[0m prep \u001B[38;5;241m=\u001B[39m \u001B[38;5;28;43mself\u001B[39;49m\u001B[38;5;241;43m.\u001B[39;49m\u001B[43mprepare_request\u001B[49m\u001B[43m(\u001B[49m\u001B[43mreq\u001B[49m\u001B[43m)\u001B[49m\n\u001B[0;32m    575\u001B[0m proxies \u001B[38;5;241m=\u001B[39m proxies \u001B[38;5;129;01mor\u001B[39;00m {}\n\u001B[0;32m    577\u001B[0m settings \u001B[38;5;241m=\u001B[39m \u001B[38;5;28mself\u001B[39m\u001B[38;5;241m.\u001B[39mmerge_environment_settings(\n\u001B[0;32m    578\u001B[0m     prep\u001B[38;5;241m.\u001B[39murl, proxies, stream, verify, cert\n\u001B[0;32m    579\u001B[0m )\n",
      "File \u001B[1;32m~\\PycharmProjects\\backup-package\\venv\\Lib\\site-packages\\requests\\sessions.py:484\u001B[0m, in \u001B[0;36mSession.prepare_request\u001B[1;34m(self, request)\u001B[0m\n\u001B[0;32m    481\u001B[0m     auth \u001B[38;5;241m=\u001B[39m get_netrc_auth(request\u001B[38;5;241m.\u001B[39murl)\n\u001B[0;32m    483\u001B[0m p \u001B[38;5;241m=\u001B[39m PreparedRequest()\n\u001B[1;32m--> 484\u001B[0m \u001B[43mp\u001B[49m\u001B[38;5;241;43m.\u001B[39;49m\u001B[43mprepare\u001B[49m\u001B[43m(\u001B[49m\n\u001B[0;32m    485\u001B[0m \u001B[43m    \u001B[49m\u001B[43mmethod\u001B[49m\u001B[38;5;241;43m=\u001B[39;49m\u001B[43mrequest\u001B[49m\u001B[38;5;241;43m.\u001B[39;49m\u001B[43mmethod\u001B[49m\u001B[38;5;241;43m.\u001B[39;49m\u001B[43mupper\u001B[49m\u001B[43m(\u001B[49m\u001B[43m)\u001B[49m\u001B[43m,\u001B[49m\n\u001B[0;32m    486\u001B[0m \u001B[43m    \u001B[49m\u001B[43murl\u001B[49m\u001B[38;5;241;43m=\u001B[39;49m\u001B[43mrequest\u001B[49m\u001B[38;5;241;43m.\u001B[39;49m\u001B[43murl\u001B[49m\u001B[43m,\u001B[49m\n\u001B[0;32m    487\u001B[0m \u001B[43m    \u001B[49m\u001B[43mfiles\u001B[49m\u001B[38;5;241;43m=\u001B[39;49m\u001B[43mrequest\u001B[49m\u001B[38;5;241;43m.\u001B[39;49m\u001B[43mfiles\u001B[49m\u001B[43m,\u001B[49m\n\u001B[0;32m    488\u001B[0m \u001B[43m    \u001B[49m\u001B[43mdata\u001B[49m\u001B[38;5;241;43m=\u001B[39;49m\u001B[43mrequest\u001B[49m\u001B[38;5;241;43m.\u001B[39;49m\u001B[43mdata\u001B[49m\u001B[43m,\u001B[49m\n\u001B[0;32m    489\u001B[0m \u001B[43m    \u001B[49m\u001B[43mjson\u001B[49m\u001B[38;5;241;43m=\u001B[39;49m\u001B[43mrequest\u001B[49m\u001B[38;5;241;43m.\u001B[39;49m\u001B[43mjson\u001B[49m\u001B[43m,\u001B[49m\n\u001B[0;32m    490\u001B[0m \u001B[43m    \u001B[49m\u001B[43mheaders\u001B[49m\u001B[38;5;241;43m=\u001B[39;49m\u001B[43mmerge_setting\u001B[49m\u001B[43m(\u001B[49m\n\u001B[0;32m    491\u001B[0m \u001B[43m        \u001B[49m\u001B[43mrequest\u001B[49m\u001B[38;5;241;43m.\u001B[39;49m\u001B[43mheaders\u001B[49m\u001B[43m,\u001B[49m\u001B[43m \u001B[49m\u001B[38;5;28;43mself\u001B[39;49m\u001B[38;5;241;43m.\u001B[39;49m\u001B[43mheaders\u001B[49m\u001B[43m,\u001B[49m\u001B[43m \u001B[49m\u001B[43mdict_class\u001B[49m\u001B[38;5;241;43m=\u001B[39;49m\u001B[43mCaseInsensitiveDict\u001B[49m\n\u001B[0;32m    492\u001B[0m \u001B[43m    \u001B[49m\u001B[43m)\u001B[49m\u001B[43m,\u001B[49m\n\u001B[0;32m    493\u001B[0m \u001B[43m    \u001B[49m\u001B[43mparams\u001B[49m\u001B[38;5;241;43m=\u001B[39;49m\u001B[43mmerge_setting\u001B[49m\u001B[43m(\u001B[49m\u001B[43mrequest\u001B[49m\u001B[38;5;241;43m.\u001B[39;49m\u001B[43mparams\u001B[49m\u001B[43m,\u001B[49m\u001B[43m \u001B[49m\u001B[38;5;28;43mself\u001B[39;49m\u001B[38;5;241;43m.\u001B[39;49m\u001B[43mparams\u001B[49m\u001B[43m)\u001B[49m\u001B[43m,\u001B[49m\n\u001B[0;32m    494\u001B[0m \u001B[43m    \u001B[49m\u001B[43mauth\u001B[49m\u001B[38;5;241;43m=\u001B[39;49m\u001B[43mmerge_setting\u001B[49m\u001B[43m(\u001B[49m\u001B[43mauth\u001B[49m\u001B[43m,\u001B[49m\u001B[43m \u001B[49m\u001B[38;5;28;43mself\u001B[39;49m\u001B[38;5;241;43m.\u001B[39;49m\u001B[43mauth\u001B[49m\u001B[43m)\u001B[49m\u001B[43m,\u001B[49m\n\u001B[0;32m    495\u001B[0m \u001B[43m    \u001B[49m\u001B[43mcookies\u001B[49m\u001B[38;5;241;43m=\u001B[39;49m\u001B[43mmerged_cookies\u001B[49m\u001B[43m,\u001B[49m\n\u001B[0;32m    496\u001B[0m \u001B[43m    \u001B[49m\u001B[43mhooks\u001B[49m\u001B[38;5;241;43m=\u001B[39;49m\u001B[43mmerge_hooks\u001B[49m\u001B[43m(\u001B[49m\u001B[43mrequest\u001B[49m\u001B[38;5;241;43m.\u001B[39;49m\u001B[43mhooks\u001B[49m\u001B[43m,\u001B[49m\u001B[43m \u001B[49m\u001B[38;5;28;43mself\u001B[39;49m\u001B[38;5;241;43m.\u001B[39;49m\u001B[43mhooks\u001B[49m\u001B[43m)\u001B[49m\u001B[43m,\u001B[49m\n\u001B[0;32m    497\u001B[0m \u001B[43m\u001B[49m\u001B[43m)\u001B[49m\n\u001B[0;32m    498\u001B[0m \u001B[38;5;28;01mreturn\u001B[39;00m p\n",
      "File \u001B[1;32m~\\PycharmProjects\\backup-package\\venv\\Lib\\site-packages\\requests\\models.py:368\u001B[0m, in \u001B[0;36mPreparedRequest.prepare\u001B[1;34m(self, method, url, headers, files, data, params, auth, cookies, hooks, json)\u001B[0m\n\u001B[0;32m    365\u001B[0m \u001B[38;5;250m\u001B[39m\u001B[38;5;124;03m\"\"\"Prepares the entire request with the given parameters.\"\"\"\u001B[39;00m\n\u001B[0;32m    367\u001B[0m \u001B[38;5;28mself\u001B[39m\u001B[38;5;241m.\u001B[39mprepare_method(method)\n\u001B[1;32m--> 368\u001B[0m \u001B[38;5;28;43mself\u001B[39;49m\u001B[38;5;241;43m.\u001B[39;49m\u001B[43mprepare_url\u001B[49m\u001B[43m(\u001B[49m\u001B[43murl\u001B[49m\u001B[43m,\u001B[49m\u001B[43m \u001B[49m\u001B[43mparams\u001B[49m\u001B[43m)\u001B[49m\n\u001B[0;32m    369\u001B[0m \u001B[38;5;28mself\u001B[39m\u001B[38;5;241m.\u001B[39mprepare_headers(headers)\n\u001B[0;32m    370\u001B[0m \u001B[38;5;28mself\u001B[39m\u001B[38;5;241m.\u001B[39mprepare_cookies(cookies)\n",
      "File \u001B[1;32m~\\PycharmProjects\\backup-package\\venv\\Lib\\site-packages\\requests\\models.py:439\u001B[0m, in \u001B[0;36mPreparedRequest.prepare_url\u001B[1;34m(self, url, params)\u001B[0m\n\u001B[0;32m    436\u001B[0m     \u001B[38;5;28;01mraise\u001B[39;00m InvalidURL(\u001B[38;5;241m*\u001B[39me\u001B[38;5;241m.\u001B[39margs)\n\u001B[0;32m    438\u001B[0m \u001B[38;5;28;01mif\u001B[39;00m \u001B[38;5;129;01mnot\u001B[39;00m scheme:\n\u001B[1;32m--> 439\u001B[0m     \u001B[38;5;28;01mraise\u001B[39;00m MissingSchema(\n\u001B[0;32m    440\u001B[0m         \u001B[38;5;124mf\u001B[39m\u001B[38;5;124m\"\u001B[39m\u001B[38;5;124mInvalid URL \u001B[39m\u001B[38;5;132;01m{\u001B[39;00murl\u001B[38;5;132;01m!r}\u001B[39;00m\u001B[38;5;124m: No scheme supplied. \u001B[39m\u001B[38;5;124m\"\u001B[39m\n\u001B[0;32m    441\u001B[0m         \u001B[38;5;124mf\u001B[39m\u001B[38;5;124m\"\u001B[39m\u001B[38;5;124mPerhaps you meant https://\u001B[39m\u001B[38;5;132;01m{\u001B[39;00murl\u001B[38;5;132;01m}\u001B[39;00m\u001B[38;5;124m?\u001B[39m\u001B[38;5;124m\"\u001B[39m\n\u001B[0;32m    442\u001B[0m     )\n\u001B[0;32m    444\u001B[0m \u001B[38;5;28;01mif\u001B[39;00m \u001B[38;5;129;01mnot\u001B[39;00m host:\n\u001B[0;32m    445\u001B[0m     \u001B[38;5;28;01mraise\u001B[39;00m InvalidURL(\u001B[38;5;124mf\u001B[39m\u001B[38;5;124m\"\u001B[39m\u001B[38;5;124mInvalid URL \u001B[39m\u001B[38;5;132;01m{\u001B[39;00murl\u001B[38;5;132;01m!r}\u001B[39;00m\u001B[38;5;124m: No host supplied\u001B[39m\u001B[38;5;124m\"\u001B[39m)\n",
      "\u001B[1;31mMissingSchema\u001B[0m: Invalid URL 'img\\\\brand.png': No scheme supplied. Perhaps you meant https://img\\brand.png?"
     ]
    }
   ],
   "source": [
    "from PIL import Image\n",
    "import requests\n",
    "import bs4\n",
    "\n",
    "url = \"https://storage.googleapis.com/www.selinaschoice.ch/index.html\"\n",
    "\n",
    "response = requests.get(url)\n",
    "\n",
    "soup = bs4.BeautifulSoup(response.text, 'html.parser')\n",
    "\n",
    "image = soup.find('img')\n",
    "image_url = image['src']\n",
    "\n",
    "img = Image.open(requests.get(image_url, stream=True).raw)\n",
    "\n",
    "img.save('image.jpg')"
   ],
   "metadata": {
    "collapsed": false
   }
  },
  {
   "cell_type": "code",
   "execution_count": 7,
   "outputs": [],
   "source": [
    "def get_page_content(link: str) -> str:\n",
    "    \"\"\"\n",
    "    Get a Parsed HTML-Page as str.\n",
    "    :param link:\n",
    "    :return: parsed_page\n",
    "    \"\"\"\n",
    "    homepage = requests.get(link)\n",
    "    if not homepage.status_code == 200:\n",
    "        report.append(f\"Can't reach {link} with status code 200.\")\n",
    "        return False\n",
    "    elif homepage.status_code == 200:\n",
    "        parsed_page = BeautifulSoup(homepage.text, 'html.parser')\n",
    "        return parsed_page\n",
    "\n",
    "\n",
    "def get_recipe_img_path(main_page: str, link: str) -> str:\n",
    "    \"\"\"\n",
    "    Get the img path from a recipe with the recipe link.\n",
    "    :param main_page: str\n",
    "    :param link: str\n",
    "    :return img_path: str\n",
    "    \"\"\"\n",
    "    specific_recipe = main_page.find(\"a\", href=link)\n",
    "    img = specific_recipe.find(\"img\")\n",
    "    img_path_raw = img.get(\"src\")\n",
    "    img_path = img_path_raw.replace(\"\\\\\", \"/\")\n",
    "    return img_path\n",
    "\n",
    "\n",
    "def get_category_from_recipe(main_page, link: str) -> str:\n",
    "    \"\"\"\n",
    "    Get the one of allowed classes based on the recipe link.\n",
    "    :param link: str\n",
    "    :return recipe_class: str\n",
    "    \"\"\"\n",
    "    specific_recipe = main_page.find(\"a\", href=link).parent\n",
    "    specific_recipe_class = specific_recipe[\"class\"][1:]\n",
    "    recipe_class = \"\".join(specific_recipe_class)\n",
    "    if recipe_class in allowed_categories:\n",
    "        return recipe_class\n",
    "    else:\n",
    "        print(f\"The class from recipe: {link} is {recipe_class} and not in {allowed_categories}.\")"
   ],
   "metadata": {
    "collapsed": false
   }
  },
  {
   "cell_type": "code",
   "execution_count": 12,
   "outputs": [],
   "source": [
    "page = get_page_content(\"https://storage.googleapis.com/www.selinaschoice.ch/index.html\")\n",
    "recipe = \"https://shortcutapp.io/n/ZjY0YThmNGY2ZGZhNGUyMTU3NTMyNWFjZGUyNzA3OTBh\"\n",
    "\n",
    "\n",
    "def save_recipe_img(main_page: str, link: str):\n",
    "    \"\"\"\n",
    "    Saves the img from a recipe to the correct folder.\n",
    "    :param main_page: str\n",
    "    :param link: str\n",
    "    :return:\n",
    "    \"\"\"\n",
    "    # Get img data\n",
    "    additional_path = get_recipe_img_path(main_page, link)\n",
    "    img_url = f\"https://storage.googleapis.com/www.selinaschoice.ch/{additional_path}\"\n",
    "    img_data = requests.get(img_url).content\n",
    "    # Handle dir changes\n",
    "    # ToDo Handle dir changes for different img's\n",
    "    category = get_category_from_recipe(main_page, link)\n",
    "    recipe_name = get_recipe_title()\n",
    "    os.chdir(f\"../img/{category}\")\n",
    "    print(os.getcwd())\n",
    "    with open('test.jpg', 'wb') as handler:\n",
    "        handler.write(img_data)\n",
    "\n",
    "\n",
    "save_recipe_img(page, recipe)"
   ],
   "metadata": {
    "collapsed": false
   }
  },
  {
   "cell_type": "code",
   "execution_count": null,
   "outputs": [],
   "source": [
    "# Save a img\n",
    "soup = get_page_content(\"https://storage.googleapis.com/www.selinaschoice.ch/index.html\")\n",
    "\n",
    "images = soup.select('img')\n",
    "\n",
    "images_url = images[5]['src']\n",
    "\n",
    "new_url = images_url.replace(\"\\\\\", \"/\")\n",
    "\n",
    "full_url = f\"https://storage.googleapis.com/www.selinaschoice.ch/{new_url}\"\n",
    "\n",
    "print(full_url)\n",
    "\n",
    "img_data = requests.get(full_url).content\n",
    "\n",
    "with open('netflix.jpg', 'wb') as handler:\n",
    "    handler.write(img_data)"
   ],
   "metadata": {
    "collapsed": false
   }
  },
  {
   "cell_type": "code",
   "execution_count": null,
   "outputs": [],
   "source": [
    "from re import sub\n",
    "from parser import *\n",
    "\n",
    "url = \"https://storage.googleapis.com/www.selinaschoice.ch/index.html\"\n",
    "response = requests.get(url)\n",
    "\n",
    "main_page = get_page_content(\"https://storage.googleapis.com/www.selinaschoice.ch/index.html\")\n",
    "link = \"https://shortcutapp.io/n/ZjY0YThmNGY2ZGZhNGUyMTU3NTMyNWFjZGUyNzA3OTBh\"\n",
    "\n",
    "image_url = get_recipe_img_path(main_page, link)\n",
    "full_url = f\"https://storage.googleapis.com/www.selinaschoice.ch/{image_url}\"\n",
    "\n",
    "# Save Function\n",
    "recipe = get_page_content(link)\n",
    "recipe_name = get_recipe_title(recipe)\n",
    "\n",
    "img_data = requests.get(full_url).content\n",
    "new_name = '_'.join(\n",
    "    sub('([A-Z][a-z]+)', r' \\1', sub('([A-Z]+)', r' \\1', recipe_name.replace('-', ' '))).split()).lower()\n",
    "\n",
    "with open(f\"{new_name}.jpg\", 'wb') as handler:\n",
    "    handler.write(img_data)"
   ],
   "metadata": {
    "collapsed": false
   }
  },
  {
   "cell_type": "code",
   "execution_count": 1,
   "outputs": [
    {
     "name": "stdout",
     "output_type": "stream",
     "text": [
      "{'title': 'Bazlama - türkisches Fladenbrot', 'recipe_class': 'brote', 'time': '2021-07-04 08:57:54', 'img_path': 'img/brote/bazlama.jpg', 'prep_time': '30 minutes', 'serves': '4 persons', 'difficulty': 'easy', 'ingredients': [{'quantity': '500 g', 'name': 'Mehl'}, {'quantity': '2 EL', 'name': 'Olivenöl'}, {'quantity': '2 EL', 'name': 'Milch'}, {'quantity': '1 EL', 'name': 'Salz'}, {'quantity': '1 Beutel', 'name': 'Trockenhefe oder 25gr frische Hefe'}, {'quantity': '225 ml', 'name': 'Wasser'}, {'quantity': '', 'name': 'Optional: 1/2 Ei'}], 'instructions': [{'step': 'Step 1', 'instruction': 'Alle Zutaten zusammen in eine Schüssel geben und anschliessend mit der Küchenmaschine kneten bis ein glatter Teig entsteht.'}, {'step': 'Step 2', 'instruction': 'Danach den Teig zugedeckt 30-60min ruhen lassen. Anschliessend ca. 8 Kugeln aus dem Teig formen und zu einer kleinen Tellergrösse auswallen. Die Fladenbrote so nochmals 15min ruhen lassen.'}, {'step': 'Step 3', 'instruction': 'Eine beschichtete Bratpfanne erhitzen und die Fladenbrote darin einzel auf mittlerer Hitze 2-3 Minuten backen (ohne Öl) und warm servieren.'}]}\n"
     ]
    }
   ],
   "source": [
    "from re import sub\n",
    "from parser import *\n",
    "\n",
    "link = \"https://shortcutapp.io/n/ZjY0YThmNGY2ZGZhNGUyMTU3NTMyNWFjZGUyNzA3OTBh\"\n",
    "main_page = get_page_content(\"https://storage.googleapis.com/www.selinaschoice.ch/index.html\")\n",
    "recipe = get_parsed_recipe(link, main_page)\n",
    "print(recipe)"
   ],
   "metadata": {
    "collapsed": false
   }
  },
  {
   "cell_type": "code",
   "execution_count": 2,
   "outputs": [],
   "source": [
    "def save_img(recipe: Dict):\n",
    "    \"\"\"\n",
    "    Saves the img from a recipe automatically to the right folder and renames it right.\n",
    "    :param recipe: Dict\n",
    "    :return:\n",
    "    \"\"\"\n",
    "    image_url = recipe[\"img_path\"]\n",
    "    recipe_name = recipe[\"title\"]\n",
    "    category = recipe[\"recipe_class\"]\n",
    "\n",
    "    full_url = f\"https://storage.googleapis.com/www.selinaschoice.ch/{image_url}\"\n",
    "\n",
    "    img_data = requests.get(full_url).content\n",
    "    img_sub_name = '_'.join(\n",
    "        sub('([A-Z][a-z]+)', r' \\1', sub('([A-Z]+)', r' \\1', recipe_name.replace('-', ' '))).split()).lower()\n",
    "    os.chdir(f\"../img/{category}\")\n",
    "    with open(f\"{img_sub_name}.jpg\", 'wb') as handler:\n",
    "        handler.write(img_data)\n",
    "    os.chdir(\"../../src\")"
   ],
   "metadata": {
    "collapsed": false
   }
  },
  {
   "cell_type": "code",
   "execution_count": 3,
   "outputs": [
    {
     "name": "stdout",
     "output_type": "stream",
     "text": [
      "C:\\Users\\u108695\\PycharmProjects\\backup-package\\img\\brote\n",
      "C:\\Users\\u108695\\PycharmProjects\\backup-package\\src\n"
     ]
    }
   ],
   "source": [
    "save_img(recipe)"
   ],
   "metadata": {
    "collapsed": false
   }
  },
  {
   "cell_type": "code",
   "execution_count": null,
   "outputs": [],
   "source": [
    "# def save_recipe(recipe=Dict) -> json:\n",
    "#     filename = recipe[\"title\"] + \".json\"\n",
    "#     folder = recipe[\"recipe_class\"]\n",
    "#     os.chdir(f\"../recipes/{folder}\")\n",
    "#     json_object = json.dumps(recipe, indent=4, ensure_ascii=False)\n",
    "#     with open(filename, \"w\", encoding=\"utf-8\") as outfile:\n",
    "#         outfile.write(json_object)\n",
    "#     os.chdir(\"../../src\")"
   ],
   "metadata": {
    "collapsed": false
   }
  },
  {
   "cell_type": "code",
   "execution_count": 7,
   "outputs": [],
   "source": [
    "def save_recipe(recipe: Dict):\n",
    "    recipe_title = recipe[\"title\"]\n",
    "    file_sub_name = '_'.join(sub('([A-Z][a-z]+)', r' \\1', sub('([A-Z]+)', r' \\1', recipe_title.replace('-', ' '))).split()).lower()\n",
    "    filename = file_sub_name + \".json\"\n",
    "    category = recipe[\"recipe_class\"]\n",
    "\n",
    "    os.chdir(f\"../recipes/{category}\")\n",
    "    json_object = json.dumps(recipe, indent=4, ensure_ascii=False)\n",
    "    with open(filename, \"w\", encoding=\"utf-8\") as outfile:\n",
    "         outfile.write(json_object)\n",
    "    os.chdir(\"../../src\")"
   ],
   "metadata": {
    "collapsed": false
   }
  },
  {
   "cell_type": "code",
   "execution_count": 8,
   "outputs": [],
   "source": [
    "save_recipe(recipe)"
   ],
   "metadata": {
    "collapsed": false
   }
  },
  {
   "cell_type": "code",
   "execution_count": 2,
   "outputs": [
    {
     "name": "stdout",
     "output_type": "stream",
     "text": [
      "{'title': 'Salvia Fritta', 'recipe_class': 'vorspeise', 'time': '2021-07-09 14:33:09', 'img_path': 'img/vorspeisen/salvia-fritta.jpeg', 'prep_time': '15 minutes', 'serves': '4 persons', 'difficulty': 'easy', 'ingredients': [{'quantity': '200 ml', 'name': 'Mineralwasser'}, {'quantity': '100 g', 'name': 'Mehl'}, {'quantity': '1', 'name': 'Ei'}, {'quantity': '1 Tasse', 'name': 'Öl zum Frittieren'}, {'quantity': '30', 'name': 'Salbeiblätter'}, {'quantity': '1 Prise', 'name': 'Salz'}], 'instructions': [{'step': 'Step 1', 'instruction': 'Alle Zutaten in eine Schüssel geben und zu einem dicken, glatten Teig rühren.'}, {'step': 'Step 2', 'instruction': 'Die Salbeiblätter waschen, trocken tupfen und vorsichtig in die Masse tauchen.'}, {'step': 'Step 3', 'instruction': 'Anschliessend das Öl in einer Pfanne erhitzen und die Salbeiblätter mithilfe eines Löffels vorsichtig im schwimmenden Öl frittieren und anschliessend salzen.'}]}\n",
      "{'title': 'Paprika-Hummus', 'recipe_class': 'vorspeise', 'time': '2021-06-23 12:52:54', 'img_path': 'img/vorspeisen/paprikahumus.jpg', 'prep_time': 'about 1 hour', 'serves': 'ty: medium 😀', 'difficulty': 'easy', 'ingredients': [{'quantity': '5', 'name': 'Paprika'}, {'quantity': '400 g', 'name': 'gekochte Kichererbsen'}, {'quantity': '50 ml', 'name': 'Wasser'}, {'quantity': '3 EL', 'name': 'Tahini'}, {'quantity': '3 EL', 'name': 'Olivenöl'}, {'quantity': '2 TL', 'name': 'Salz'}, {'quantity': '1', 'name': 'Knoblauchzehe'}, {'quantity': '2 EL', 'name': 'Zitronensaft'}, {'quantity': '', 'name': 'evtl. Chillipulver'}], 'instructions': [{'step': 'Step 1', 'instruction': 'Den Backofen auf 200 Grad vorheizen. Parika waschen, halbieren und mit Öl bestreichend. Auf einem Backblech auslegen und ca. 30min backen bis sie Farbe angenommen haben.'}, {'step': 'Step 2', 'instruction': 'Die Paprika auskühlen lassen und anschliessend die Haut abziehen.'}, {'step': 'Step 3', 'instruction': 'Alle aufgeführten Zutaten inkl. den Paprikas in einen Mixer geben und zu einer cremigen, glatten Masse mixen.'}, {'step': 'Step 4', 'instruction': 'Falls nötig noch etwas Flüssigkeit nachgeben oder mit Chilli schärfen. Abschmecken und geniessen!'}]}\n",
      "{'title': 'Tsatsiki', 'recipe_class': 'vorspeise', 'time': '2021-06-23 12:38:09', 'img_path': 'img/vorspeisen/tsatsiki.jpg', 'prep_time': '20 minutes', 'serves': '4 persons', 'difficulty': 'easy', 'ingredients': [{'quantity': '500 g', 'name': 'griechischer Joghurt'}, {'quantity': '1', 'name': 'Schlangengurke'}, {'quantity': '2', 'name': 'Knoblauchzehen'}, {'quantity': '1', 'name': 'handvoll Dill, frisch gehackt'}, {'quantity': '½ EL', 'name': 'Zitronensaft'}, {'quantity': '1 EL', 'name': 'Olivenöl'}, {'quantity': '1 EL', 'name': 'milder weisser Balsamico'}, {'quantity': '1 Prise', 'name': 'Zucker'}, {'quantity': '', 'name': 'Salz & Pfeffer, zum abschmecken'}], 'instructions': [{'step': 'Step 1', 'instruction': 'Die Schlangengurke schälen und auf einer groben Reibe direkt auf ein Geschirrtuch reiben.'}, {'step': 'Step 2', 'instruction': 'Das Geschirrtuch eindrehen und die Gurkenraspeln so fest als möglich auswinden, damit möglichst wenig Saft vorhanden ist.'}, {'step': 'Step 3', 'instruction': 'Die anderen Zutaten in einer Schüssel verrühren und anschliessend die Gurkenraspeln und den Dill in die Masse geben.'}, {'step': 'Step 4', 'instruction': 'Abschmecken und guten Appetit!'}]}\n",
      "{'title': 'Tartar-Sauce', 'recipe_class': 'vorspeise', 'time': '2021-07-06 19:03:00', 'img_path': 'img/vorspeisen/tartar.jpg', 'prep_time': '15 minutes', 'serves': '0 minutes', 'difficulty': 'easy', 'ingredients': [{'quantity': '100 g', 'name': 'Crème fraîche'}, {'quantity': '80 g', 'name': 'Magerquark'}, {'quantity': '70 g', 'name': 'Mayonnaise'}, {'quantity': '1', 'name': 'Ei, hart gekocht & klein gewürfelt'}, {'quantity': '2', 'name': 'Essiggurken, klein gewürfelt'}, {'quantity': '½', 'name': 'Zwiebel, fein gehackt'}, {'quantity': '1', 'name': 'Knoblauchzehe'}, {'quantity': '2 EL', 'name': 'geschnittener Schnittlauch'}, {'quantity': '2 EL', 'name': 'gehackte Petersilie'}, {'quantity': '', 'name': 'Salz'}, {'quantity': '', 'name': 'Pfeffer'}], 'instructions': [{'step': 'Step 1', 'instruction': 'Crème Fraîche, Magerquark und Mayonnaise gut verrühren. Restliche Zutaten beifügen, mischen und mit Salz / Pfeffer abschmecken.'}, {'step': 'Step 2', 'instruction': 'Die Sauce in einer Schale anrichten und bis zum Servieren kühl stellen.'}]}\n",
      "{'title': 'Sommersalat', 'recipe_class': 'vorspeise', 'time': '2021-07-06 20:14:52', 'img_path': 'img/vorspeisen/sommersalat.jpg', 'prep_time': '15 minutes', 'serves': '4 persons', 'difficulty': 'easy', 'ingredients': [{'quantity': '1', 'name': 'Gurke'}, {'quantity': '2', 'name': 'Avocado'}, {'quantity': '2', 'name': 'Tomaten'}, {'quantity': '1', 'name': 'Mango'}, {'quantity': '1 Zweig', 'name': 'Pfefferminze'}, {'quantity': '2 EL', 'name': 'weisser Balsamicoessig (süss)'}, {'quantity': '2 EL', 'name': 'Olivenöl'}, {'quantity': '', 'name': 'Zitronen- / Limettensaft'}, {'quantity': '', 'name': 'Salz, Pfeffer'}], 'instructions': [{'step': 'Step 1', 'instruction': 'Die Avocado halbieren, den Kern entfernen, aus der Schale löffeln und in Stücke schneiden. Mango und Gurke schälen und mundgerecht würfeln. Cherrytomaten waschen und halbieren. Minze waschen und in feine Streifen schneiden.'}, {'step': 'Step 2', 'instruction': 'Alle Zutaten zusammen in einer großen Schüssel mit Olivenöl und Balsamicoessig vermischen. Mit Salz, Pfeffer und Zitronensaft abschmecken. Und an einem heissen Sommertag geniessen!'}]}\n",
      "{'title': 'Tomatenbutter', 'recipe_class': 'vorspeise', 'time': '2021-07-11 09:05:52', 'img_path': 'img/snacks/tomatenbutter.jpeg', 'prep_time': '10 minutes', 'serves': ' minutes', 'difficulty': 'easy', 'ingredients': [{'quantity': '125 g', 'name': 'Butter, weich'}, {'quantity': '50 g', 'name': 'Tomatenmark'}, {'quantity': '1 Zehe', 'name': 'Knoblauch'}, {'quantity': '', 'name': 'Salz & Pfeffer'}, {'quantity': 'evtl.', 'name': 'Basilikum zum Garnieren'}], 'instructions': [{'step': 'Step 1', 'instruction': 'Weiche Butter mit Tomatenmark, gepresstem Knoblauch, Salz und Pfeffer zu einer gleichmäßigen Masse vermengen. Wenig Basilikum feinhacken und darunter mischen. Anschließend kühl stellen.'}, {'step': 'Step 2', 'instruction': 'Basilikum verzieren und die Masse auf frisches Brot streichen.'}]}\n",
      "{'title': 'Kürbissuppe', 'recipe_class': 'vorspeise', 'time': '2021-09-28 18:54:32', 'img_path': 'img/vorspeisen/kÃ¼rbissuppe.jpg', 'prep_time': 'about 1 hour', 'serves': ' 20 minutes', 'difficulty': 'easy', 'ingredients': [{'quantity': '800 g', 'name': 'Kürbis Hokkaido oder Butternuss'}, {'quantity': '3', 'name': 'Rüebli'}, {'quantity': '2', 'name': 'Kartoffeln'}, {'quantity': '1', 'name': 'Zwiebel'}, {'quantity': '1', 'name': 'Knoblauchzehe'}, {'quantity': '1', 'name': 'Stück Ingwer (ca. 5cm)'}, {'quantity': '1 l', 'name': 'Gemüsebrühe'}, {'quantity': '300 ml', 'name': 'Kokosmilch'}, {'quantity': '2 EL', 'name': 'Butter'}, {'quantity': '2 EL', 'name': 'Mehl'}, {'quantity': '2 EL', 'name': 'Zitronensaft'}, {'quantity': '', 'name': 'Salz und Pfeffer'}, {'quantity': '', 'name': 'Sojasauce'}], 'instructions': [{'step': 'Step 1', 'instruction': 'Kürbis, Rüebli, Kartoffeln, Ingwer, Knoblauch und Zwiebel schälen und würfeln. Dann alle Zutaten ca. 5 Minuten in Butter andünsten, danach das Mehl dazugeben und kurz weiterdünsten. Mit der Gemüsebullion aufgießen und etwa 20-30 Minuten weich kochen.'}, {'step': 'Step 2', 'instruction': 'Dann sehr fein pürieren, eventuell durch ein Sieb streichen. Die Kokosmilch unterrühren, mit Salz, Pfeffer, Sojasauce und Zitronensaft abschmecken und noch mal erwärmen.'}]}\n",
      "{'title': 'Miso-Ramen', 'recipe_class': 'hauptgang', 'time': '2021-07-04 12:26:05', 'img_path': 'img/hauptgang/miso_rahmen.jpg', 'prep_time': '30 minutes', 'serves': ' about 1 hour', 'difficulty': 'easy', 'ingredients': [{'quantity': '250 g', 'name': 'Ramen-Nudeln'}, {'quantity': '1 l', 'name': 'Hühner- oder Gemüsebrühe'}, {'quantity': '3 EL', 'name': 'Miso-Paste'}, {'quantity': '1 TL', 'name': 'Sesampaste'}, {'quantity': '1 EL', 'name': 'Zucker'}, {'quantity': '2 EL', 'name': 'Sojasauce'}, {'quantity': '1', 'name': 'Knoblauchzehe'}, {'quantity': 'Prise', 'name': 'Pfeffer'}, {'quantity': '200 g', 'name': 'Pouletbrust oder Tofu'}, {'quantity': '4', 'name': 'Eier'}, {'quantity': '2', 'name': 'Frühlingszwiebeln'}, {'quantity': '1', 'name': 'grosse Karotte'}, {'quantity': '2', 'name': 'Handvoll Pilze'}, {'quantity': '2', 'name': 'Handvoll Brokkoli'}, {'quantity': '1', 'name': 'Chilischote'}, {'quantity': '', 'name': 'Bambussprossen'}], 'instructions': [{'step': 'Step 1', 'instruction': 'Bullion, Miso-Paste, Sesampaste, Zucker, Knoblauchzehe und Sojasauce für 10 Minuten in einem grossen Topf aufkochen.'}, {'step': 'Step 2', 'instruction': 'Poulet oder Tofu in 1 cm grosse Scheiben schneiden und zur Bouillon geben, solange bis es durchgegart ist.'}, {'step': 'Step 3', 'instruction': 'Die Chilischote waschen, halbieren und Kerne entfernen. Abschliessend mit in den Topf geben und die verbleibende Zeit mitkochen lassen.'}, {'step': 'Step 4', 'instruction': 'Die Ramen-Nudeln nach Anweisung zubereiten. Nicht ganz weich werden lassen, da diese später in der Bouillon nochmal nachziehen.'}, {'step': 'Step 5', 'instruction': 'Eier mit der Schale in das kochende Wasser geben und 6 Minuten kochen. Unter kaltem Wasser abschrecken, die Schale entfernen und die Eier halbieren.'}, {'step': 'Step 6', 'instruction': 'Frühlingszwiebel waschen und in feine Streifen schneiden. Die Karotte ebenfalls schälen und in dünn Scheiben schneiden. Den Brokkoli und die Pilze in mundgerechte Stücke schneiden.'}, {'step': 'Step 7', 'instruction': 'Gemüse in den Topf mit der Brühe geben und garkochen oder in separater Bratpfanne anbraten.'}, {'step': 'Step 8', 'instruction': 'Die Brühe abschmecken uns mit Pfeffer verfeinern. Die Nudeln in Suppen-Schalen verteilen, mit der Suppe übergiessen und mit den vorbereiteten Zutaten garnieren.'}]}\n",
      "{'title': 'Sommer-Rollen', 'recipe_class': 'hauptgang', 'time': '2021-06-23 13:40:08', 'img_path': 'img/hauptgang/somerrollen.jpg', 'prep_time': 'about 1 hour', 'serves': '4 persons', 'difficulty': 'medium', 'ingredients': [{'quantity': '200 g', 'name': 'Reisnudeln'}, {'quantity': '16', 'name': 'Reisblätter'}, {'quantity': '250 g', 'name': 'Poulet oder gehacktes Rindfleisch'}, {'quantity': '1', 'name': 'Avocado'}, {'quantity': '2', 'name': 'Karotten'}, {'quantity': '1', 'name': 'Mango'}, {'quantity': '100 g', 'name': 'Salat'}, {'quantity': '½', 'name': 'Zwiebel'}, {'quantity': '1', 'name': 'Knoblauchzehe'}, {'quantity': '1 Bund', 'name': 'Pfefferminze'}, {'quantity': '', 'name': 'Soyasauce'}, {'quantity': '', 'name': 'Sweet Chillisauce'}, {'quantity': '', 'name': 'Erdnusssauce'}], 'instructions': [{'step': 'Step 1', 'instruction': 'Die Glasnudeln im gesalzenen Wasser kochen, bis diese aldente sind. Anschliessend unter kaltem Wasser abspülen, abtropfen und zur Seite stellen.'}, {'step': 'Step 2', 'instruction': 'Das Fleisch in einer Pfanne braten und gehackte Zwiebeln / Knoblauch hinzugeben. Mit Soyasauce und den gewünschten Gewürzen abschmecken, anschliessend zur Seite stellen.'}, {'step': 'Step 3', 'instruction': 'Die Avocado und Mango in dünne Scheiben schneiden. Die Karotten mit dem Sparschäler auch zu feinen Scheiben verarbeiten. Den Salat und die Pfefferminze waschen und die einzelnen Blätter bereitlegen.'}, {'step': 'Step 4', 'instruction': 'Die Reisblätter in einer grossen Schüssel mit Warmwasser kurz abtauchen, bis diese beweglich werden. Anschliessend auf einem Küchentuch oder Schneidebrett auslegen (glatte Seite nach unten).'}, {'step': 'Step 5', 'instruction': 'Die Reisblätter in der Mitte mit Reisnudeln, Fleisch, Avocado, Mango, Karotten, Salat und Pfefferminze belegen. Anschliessend die Seiten des Reisblattes einklappen und von oben nach unten zusammenrollen.'}, {'step': 'Step 6', 'instruction': 'Diesen Schritt pro Reisblatt wiederholen bis die Zutaten aufgebraucht sind. Es wird pro Person mit 3-4 Rollen gerrechnet.'}, {'step': 'Step 7', 'instruction': 'Für die Saucen kann eine Erdnusssauce zubereitet/gekauft werden oder die Soyasauce mit der Sweetchillisauce mischen und anschliessend die Summer-Rollen darin dippen und geniessen.'}, {'step': 'Step 8', 'instruction': 'Die Sommer-Rollen können nach jeweiliger Lust und Laune gestaltet werden: vegetarisch, vegan, mit Fisch/Crevetten oder nur mit Gemüse.'}]}\n",
      "{'title': 'Poké Bowl', 'recipe_class': 'hauptgang', 'time': '2021-07-04 09:22:01', 'img_path': 'img/hauptgang/poke_bowl.jpg', 'prep_time': 'about 1 hour', 'serves': 'bout 2 hours', 'difficulty': 'easy', 'ingredients': [{'quantity': '2 EL', 'name': 'Sojasauce'}, {'quantity': '2 EL', 'name': 'Teriyaki- oder süsse Sojasauce'}, {'quantity': '2 TL', 'name': 'Sesam'}, {'quantity': '2 EL', 'name': 'Ingwerscheiben'}, {'quantity': '400 g', 'name': 'Lachs oder Thunfisch'}, {'quantity': '350 g', 'name': 'Sushi-Reis'}, {'quantity': '5 dl', 'name': 'Wasser'}, {'quantity': '3 EL', 'name': 'Reisessig'}, {'quantity': '1 EL', 'name': 'Zucker'}, {'quantity': '1 TL', 'name': 'Salz'}, {'quantity': '200 g', 'name': 'Gurken'}, {'quantity': '1', 'name': 'Avocado'}, {'quantity': '½', 'name': 'Mango'}, {'quantity': '', 'name': 'evtl. 100g Edamame (ohne Schale)'}], 'instructions': [{'step': 'Step 1', 'instruction': 'Sojasauce, Teriyakisauce und Sesam in einer Schüssel verrühren. Lachs / Thunfisch beigeben, mischen, zugedeckt im Kühlschrank mindestens 30 Min. marinieren.'}, {'step': 'Step 2', 'instruction': 'Reis gemäss Sushi Reis Rezept kochen und auskühlen lassen.'}, {'step': 'Step 3', 'instruction': 'Reis in Bowls verteilen. Gurke, Avocado, Mango, Edamame und Lachs in Stücke/Scheiben schneiden und darauf schön anrichten, bei Bedarf noch Soyasauce darübergeben. Ein Foto von der gelungenen Bowl machen, an Selina schicken und geniessen!'}]}\n",
      "{'title': 'Gyoza - Japanische Teigtaschen', 'recipe_class': 'hauptgang', 'time': '2021-09-10 19:09:01', 'img_path': 'img/hauptgang/gyoza.jpg', 'prep_time': 'about 2 hours', 'serves': '4 persons', 'difficulty': 'hard', 'ingredients': [{'quantity': '500 g', 'name': 'Weizenmehl'}, {'quantity': '50 g', 'name': 'Kartoffelstärke'}, {'quantity': '300 ml', 'name': 'Wasser'}, {'quantity': '1 TL', 'name': 'Salz'}, {'quantity': '200 g', 'name': 'Hackfleisch'}, {'quantity': '150 g', 'name': 'Weisskohl'}, {'quantity': '80 g', 'name': 'Champignons'}, {'quantity': '1', 'name': 'grosses Rüebli'}, {'quantity': '1', 'name': 'rote Zwiebel'}, {'quantity': '3', 'name': 'Frühlingszwiebeln'}, {'quantity': '3', 'name': 'Knoblauchzehen'}, {'quantity': '', 'name': 'Soyasauce'}, {'quantity': '', 'name': 'Sesamöl'}, {'quantity': '', 'name': 'Reisessig'}, {'quantity': '', 'name': 'Salz & Pfeffer'}, {'quantity': '', 'name': 'Chilliflocken/Chilliöl'}], 'instructions': [{'step': 'Step 1', 'instruction': 'Für den Teig: Das Wasser in einem Wasserkocher aufkochen und in einem Massbecher abmessen. Das Salz ins heiße Wasser rühren. Das Mehl und die Stärke in eine Schüssel sieben und vermischen. Das heisse Salzwasser zum Mehl gießen und den Teig zuerst mit einem Löffel, dann mit den Händen zu kleinen Klümpchen vermischen, sodass sich das Wasser ideal mit dem Mehl verbindet.'}, {'step': 'Step 2', 'instruction': 'Danach den Teig von Hand ca. 5 Minuten zu einer festen Kugel kneten. Die Teigkugel in Frischhaltefolie wickeln (damit der Teig keine Feuchtigkeit verliert) und für 30 Minuten ruhen lassen.'}, {'step': 'Step 3', 'instruction': 'Nach der Ruhezeit sie Teigkugel aus Folie wickeln mit den Handinnenflächen zu einer flacheren Scheibe pressen und auf eine mit Stärke bestäubten Fläche legen. Die Teigscheibe ebenfalls mit etwas Stärke bestreuen. Den Teig mit einem Nudelholz auf eine Breite von circa 2-3 mm (also sehr dünn) ausrollen. Nun den Teig mit einer circa 9 cm breiten Ausstechform 40-45 Kreise aus dem Teig stechen.'}, {'step': 'Step 4', 'instruction': 'Jedes Gyozablatt vorsichtig herauslösen, mit etwas Stärke bepinseln (damit die Blätternicht aneinanderkleben) und zur Seite stellen. Wenn die Teigblätter schön eng ausgestochen wurden, sollte nur sehr wenig Restteig übrigbleiben. Bis zur Verwendung sollte der Stapel mit den Teigblättern mit einem feuchten Küchentuch abgedeckt werden, damit der Teig nicht austrocknet und schön elastisch zum Falten der Gyoza bleibt.'}, {'step': 'Step 5', 'instruction': 'Für die Füllung: Alle Gemüsesorten waschen und anschliessend in kleine Stücke hacken. In einer großen Schüssel Hackfleisch, Weisskohl, Karotten, Zwiebel, Frühlingszwiebeln, Knoblauch, 3 EL Sojasauce, 2 EL Sesamöl, Salz und Pfeffer vermischen. Die Zutaten werden nicht vorgekocht.'}, {'step': 'Step 6', 'instruction': 'Formen der Teigtaschen: 1. Eins der Teigblätter für Gyoza in die flache Hand legen und mit einem kleinen Löffel einen kleinen Kleks der Füllung in die Mitte der Teigtasche setzen. 2. Damit die Ränder später gut zusammenhalten, den Teigrand mit einem angefeuchteten Finger zur Hälfte entlangfahren. Dann die andere Teighälfte des Blatts über die Füllung auf den feuchten Rand legen.'}, {'step': 'Step 7', 'instruction': '3. Jetzt den Rand in die klassischen Falten legen. Dazu immer nach etwa 2 cm ein Stückchen Rand zwischen Daumen und Zeigefinger nehmen und eine Falte formen sowie diese gründlich zusammendrücken. Den gesamten Teigrand bis zum anderen Ende entlangarbeiten, damit die Teigtaschen beim Braten gut zusammenhalten. 4. Den Vorgang wiederholen, bis alle Teige und die Füllung aufgebraucht ist. In diesem Zustand können die Gyozas bis zu einem Monat aufbewahrt und eingefroren werden.'}, {'step': 'Step 8', 'instruction': 'Braten: Eine Pfanne auf mittlerer Hitze erwärmen und Sesamöl hineingeben. Die Gyozas in der Pfanne platzieren und solange braten bis, sie von unten wunderschön goldbraun sind, das dauert etwa 3 bis 4 Minuten. Achtung: Nicht wenden! Jetzt etwas Wasser (ca. 100ml) vorsichtig in die Pfanne gießen und alles mit einem Deckel abdecken. Die Gyoza 3 Minuten dämpfen, bis das Wasser verkocht ist. Bei Bedarf am Schluss nochmals ein wenig Öl in die Pfanne geben und die Gyozas ca. 1 Minute knuspriger braten.'}, {'step': 'Step 9', 'instruction': 'Für den Dipp: 2 EL Reisessig, 4 EL Sojasauce, 2 1 TL Sesamöl und 1/2 TL Chiliflocken/öl in einer kleinen Schale vermischen. Anschliessend die heissen Gyozas in der Sauce dippen und geniessen!'}]}\n",
      "{'title': 'Low Carb Sushi', 'recipe_class': 'hauptgang', 'time': '2021-09-10 18:50:33', 'img_path': 'img/hauptgang/lowcarbsuhsi.jpg', 'prep_time': '30 minutes', 'serves': '1 person', 'difficulty': 'medium', 'ingredients': [{'quantity': '1', 'name': 'Salatgurke'}, {'quantity': '1', 'name': 'Avocado'}, {'quantity': '100 g', 'name': 'Lachs (geräuchert in Scheiben)'}, {'quantity': '50 g', 'name': 'Philadelphia'}, {'quantity': '', 'name': 'Sesam'}, {'quantity': '', 'name': 'Soyasauce'}], 'instructions': [{'step': 'Step 1', 'instruction': 'Die Gurke in feine lange Streifen schälen. Die Feuchtigkeit der Gurkenstreifen abtupfen und anschliessend ausbreiten.'}, {'step': 'Step 2', 'instruction': 'Die Streifen mit Frischkäse bestreichen, dann mit Avocado und Lachs belegen. Das Ganze kann bei Bedarf auch noch mit Dill oder anderen Kräutern gewürzt werden.'}, {'step': 'Step 3', 'instruction': 'Die belegten Streifen einzeln zu Röllchen aufrollen. Durch den Philadelphia sollten sie gut zusammenkleben.'}, {'step': 'Step 4', 'instruction': 'Die Röllchen anrichten, mit Sesam bestreuen und beim Essen in die Soyasauce dippen.'}]}\n",
      "{'title': 'Indisches Butterchickencurry', 'recipe_class': 'hauptgang', 'time': '2021-07-04 10:21:46', 'img_path': 'img/hauptgang/indisches_butterchickencurry.jpg', 'prep_time': '30 minutes', 'serves': '4 persons', 'difficulty': 'easy', 'ingredients': [{'quantity': '3', 'name': 'Hähnchenbrustfilets'}, {'quantity': '1', 'name': 'Zwiebel'}, {'quantity': '1', 'name': 'Knoblauchzehe'}, {'quantity': '300 g', 'name': 'Gemüse deiner Wahl'}, {'quantity': '300 ml', 'name': 'Kokosmilch'}, {'quantity': '150 ml', 'name': 'passierte Tomaten'}, {'quantity': '4 EL', 'name': 'Currypulver'}, {'quantity': '1 EL', 'name': 'Butter'}, {'quantity': '', 'name': 'Salz & Pfeffer'}], 'instructions': [{'step': 'Step 1', 'instruction': 'Hähnchen und das gewünschte Gemüse, sowie Zwiebeln & Knoblauch in Stücke schneiden.'}, {'step': 'Step 2', 'instruction': 'In einer Bratpfanne den Butter schmelzen und die Hähnchenstücke anbraten. Nicht ganz durchbraten und dann zur Seite legen.'}, {'step': 'Step 3', 'instruction': 'Zwiebeln, Knoblauch und das Gemüse anbraten und anschliessend die Kokosmilch und passierte Tomaten hinzugeben.'}, {'step': 'Step 4', 'instruction': 'Currypulver, Salz und Pfeffer hinzugeben und das ganze ca. 10min köcheln lassen (je nach Gemüse). Anschliessend die Hähnchenstückebeigeben und nochmals ca. 5min köcheln lassen.'}, {'step': 'Step 5', 'instruction': 'Die Sauce abschmecken und anschliessend mit Reis oder Naan-Brote servieren und geniessen.'}]}\n",
      "{'title': 'Chicken Tikka Masala', 'recipe_class': 'hauptgang', 'time': '2021-07-04 12:08:51', 'img_path': 'img/hauptgang/chicken_tikka_malasa.jpg', 'prep_time': '20 minutes', 'serves': 'bout 2 hours', 'difficulty': 'easy', 'ingredients': [{'quantity': '3', 'name': 'Pouletbrüstchen'}, {'quantity': '2', 'name': 'Knoblauchzehen'}, {'quantity': '150 g', 'name': 'Broccoli'}, {'quantity': '150 g', 'name': 'Peperoni'}, {'quantity': '500 g', 'name': 'Tikka Masala Sauce'}, {'quantity': '4', 'name': 'Naans (indisches Fladenbrot)'}, {'quantity': '180 g', 'name': 'Joghurt nature'}, {'quantity': '1', 'name': 'Msp. Kreuzkümmel'}, {'quantity': '½', 'name': 'Bund Koriander'}], 'instructions': [{'step': 'Step 1', 'instruction': 'Den Ofen auf 220°C vorheizen. Die Pouletbrüstchen und das Gemüse in mundgerechte Stücke schneiden und den Knoblauch dazupressen.'}, {'step': 'Step 2', 'instruction': '3 EL Joghurt und die Tikka Masala Sauce dazugeben und alles in einer backofenfesten Form vermengen.'}, {'step': 'Step 3', 'instruction': 'Das Gericht für 15 Minuten im Ofen backen. Die restliche Tikka Masala Sauce dazumischen und ca. weitere 10 Minuten durchbacken. Ofentemperatur auf 180 °C reduzieren. Die Naans gemäss separatem Rezept nebenbei vorbereiten oder fertige Naans verwenden, diese mit wenig Wasser beträufeln und in der Ofenmitte 4–5 Minuten aufbacken.'}, {'step': 'Step 4', 'instruction': 'Für die Raita Koriander fein hacken. Zum restlichen Joghurt mischen. Kreuzkümmel im Mörser fein mahlen. Zum Joghurt geben und mit wenig Salz abschmecken. Das Chicken Tikka Masala mit Raita und Naans servieren und geniessen.'}]}\n",
      "{'title': 'Rotes Thai Curry', 'recipe_class': 'hauptgang', 'time': '2021-07-07 12:39:08', 'img_path': 'img/hauptgang/rotesthaicurry.jpg', 'prep_time': '30 minutes', 'serves': '4 persons', 'difficulty': 'easy', 'ingredients': [{'quantity': '400 g', 'name': 'Poulet oder Rindfleisch'}, {'quantity': '1', 'name': 'Zucchini'}, {'quantity': '2', 'name': 'Peperoni'}, {'quantity': '1', 'name': 'Zwiebel'}, {'quantity': '200 g', 'name': 'Brokkoli'}, {'quantity': '3 EL', 'name': 'Rote Currypaste'}, {'quantity': '500 ml', 'name': 'Kokosnussmilch'}, {'quantity': '', 'name': 'Soyasauce'}, {'quantity': '', 'name': 'Salz, Pfeffer'}], 'instructions': [{'step': 'Step 1', 'instruction': 'Öl in einer Wok oder grossen Bratpfanne erhitzen, das Fleisch anbraten und zur Seite stellen.'}, {'step': 'Step 2', 'instruction': 'Kokosnussmilch und rote Curry Paste zusammen aufkochen.'}, {'step': 'Step 3', 'instruction': 'Zucchini, Peperoni, Broccoli und Zwiebel in mundgerechte Stücke schneiden und beifügen, dann ca. 10 Min. köcheln lassen.'}, {'step': 'Step 4', 'instruction': 'Angebratenes Fleisch hinzugeben und weitere 3 Min. köcheln lassen.'}, {'step': 'Step 5', 'instruction': 'Mit Soyasauce, Salz, Pfeffer und evtl. mehr Currypaste abschmecken. Das Thai Curry mit Reis servieren, gemäss sep. Rezept.'}, {'step': 'Step 6', 'instruction': 'Das Curry kann auch vegetarisch zubereitet werden, dann einfach die Menge des Fleischs durch Gemüse ersetzen. Für eine noch schneller Zubereitung: tiefgefrorene Gemüsemischung verwenden'}]}\n",
      "{'title': 'Club Sandwich', 'recipe_class': 'hauptgang', 'time': '2021-07-06 19:02:59', 'img_path': 'img/hauptgang/Clubsandwich.jpg', 'prep_time': '30 minutes', 'serves': '2 persons', 'difficulty': 'easy', 'ingredients': [{'quantity': '2', 'name': 'Pouletbrüstchen'}, {'quantity': '4', 'name': 'Salatblätter'}, {'quantity': '200 g', 'name': 'Gurke'}, {'quantity': '½', 'name': 'Zwiebel'}, {'quantity': '1', 'name': 'kleine Tomate'}, {'quantity': '1', 'name': 'Avocado'}, {'quantity': '4', 'name': 'Scheiben Speck'}, {'quantity': '2', 'name': 'Scheibenkäse'}, {'quantity': '2', 'name': 'Eier'}, {'quantity': '6', 'name': 'Scheiben Toastbrot'}, {'quantity': '', 'name': 'Cocktailsauce'}, {'quantity': '', 'name': 'Knoblauchpulver'}, {'quantity': '', 'name': 'Zitronensaft'}, {'quantity': '', 'name': 'Salz, Pfeffer'}], 'instructions': [{'step': 'Step 1', 'instruction': 'Die Pouletbrüste dünn aufschneiden, in einer Bratpfanne durchbraten und mit den gewünschten Gewürzen abschmecken.'}, {'step': 'Step 2', 'instruction': 'Die Gucamole vorbereiten: Avocado zerdrücken, die Tomate in feine Würfel hacken und vermischen. Abschmecken mit Salz, Pfeffer, Knoblauchpulver und Zitronensaft.'}, {'step': 'Step 3', 'instruction': 'Das restliche Gemüse waschen und in dünne Scheiben schneiden.'}, {'step': 'Step 4', 'instruction': 'Die Speckscheiben anbraten und zur Seite legen, anschliessend die Eier auf beiden Seiten anbraten, so dass das Eigelb in der Mitte noch knapp flüssig ist und leicht salzen.'}, {'step': 'Step 5', 'instruction': 'Die Toastbrotscheiben toasten und den einen Deckel mit Guacamole bestreichen und den anderen mit Cocktailsauce. Danach alle Zutaten zu einem Sandwich schichten und eine weitere Scheibe Toast in die Mitte geben und falls gewünscht mit weiterer Sauce bestreichen.'}, {'step': 'Step 6', 'instruction': 'Sandwich diagonal durchschneiden und die zwei Hälften mit Zahnstocher oder Spiess fixieren und servieren. Optional als Beilage: Salat oder Pommes'}]}\n",
      "{'title': 'Pouletgeschnetzeltes an Peperonisauce', 'recipe_class': 'hauptgang', 'time': '2021-07-06 18:35:43', 'img_path': 'img/hauptgang/pouletgeschn.jpg', 'prep_time': '40 minutes', 'serves': '4 persons', 'difficulty': 'medium', 'ingredients': [{'quantity': '600 g', 'name': 'Pouletgeschnetzeltes'}, {'quantity': '2', 'name': 'rote Peperoni'}, {'quantity': '3 dl', 'name': 'Saucenrahm'}, {'quantity': '2 dl', 'name': 'Gemüsebrühe'}, {'quantity': '1 TL', 'name': 'Maizena'}, {'quantity': '', 'name': 'Salz'}, {'quantity': '', 'name': 'Pfeffer'}, {'quantity': '', 'name': 'Olivenöl'}], 'instructions': [{'step': 'Step 1', 'instruction': 'Die beiden Peperoni entkernen, waschen, vierteln, mit Öl bestreichen und auf ein Blech geben. Anschliessend ca. 20-30 Minuten im Backofen bei 200 Grad backen bis die Peperoni Farbe angenommen haben. Optional: in die Heissluftfritteuse geben'}, {'step': 'Step 2', 'instruction': 'Nach dem backen die Haut der Peperoni entfernen, alles in einen Mixer geben und pürieren.'}, {'step': 'Step 3', 'instruction': 'Das Pouletgeschnetzelte im Öl anbraten. Maizena in der Gemüsebrühe verrühren, in die Pfanne zum Poulet geben und ein wenig einkochen lassen.'}, {'step': 'Step 4', 'instruction': 'Das Peperonipüree hinzufügen, mit Rahm verfeinern und Salz/Pfeffer abschmecken.'}]}\n",
      "{'title': 'Peanut Butter Chicken', 'recipe_class': 'hauptgang', 'time': '2021-07-07 20:03:43', 'img_path': 'img/hauptgang/PeanutButterChicken.jpg', 'prep_time': '20 minutes', 'serves': '2 persons', 'difficulty': 'easy', 'ingredients': [{'quantity': '200 g', 'name': 'Pouletbrust'}, {'quantity': '2', 'name': 'Handvoll Babyspinat'}, {'quantity': '150 g', 'name': 'Cherrytomaten'}, {'quantity': '10 g', 'name': 'Ingwer'}, {'quantity': '2 dl', 'name': 'Kokosmilch'}, {'quantity': '20 g', 'name': 'Erdnussbutter'}, {'quantity': '1 TL', 'name': 'Kokosöl'}, {'quantity': '', 'name': 'Soyasauce'}, {'quantity': '', 'name': 'Paprikapulver'}, {'quantity': '', 'name': 'Chillipulver'}, {'quantity': '', 'name': 'Salz, Pfeffer'}], 'instructions': [{'step': 'Step 1', 'instruction': 'Die Pouletbrüste in Stücke schneiden und mit dem Kokosöl in einer Pfanne scharf anbraten. Nicht ganz durchbraten und zur Seite legen.'}, {'step': 'Step 2', 'instruction': 'Für die Sauce wird Kokosmilch, Erdnussbutter, Soyasauce, Salz, Pfeffer und etwas Chilli zusammen vermischt und in die Pfanne gegeben.'}, {'step': 'Step 3', 'instruction': 'Die Pouletstücke in die Sauce geben und das ganze für ca. 10min leicht köcheln lassen. In der Zwischenzeit den Ingwer fein hacken und die Cherrytomaten halbieren.'}, {'step': 'Step 4', 'instruction': 'Den Babyspinat, Ingwer und die Tomatenstücke in die Sauce geben, nochmals kurz aufkochen und abschmecken. Dann mit einer Beilage z.B. Reis servieren.'}]}\n",
      "{'title': 'Egliknusperli', 'recipe_class': 'hauptgang', 'time': '2021-07-06 19:03:00', 'img_path': 'img/hauptgang/knusperli.jpg', 'prep_time': 'about 1 hour', 'serves': '2 persons', 'difficulty': 'medium', 'ingredients': [{'quantity': '300 g', 'name': 'Eglifilets'}, {'quantity': '2', 'name': 'Eier'}, {'quantity': '150 g', 'name': 'Mehl'}, {'quantity': '2 dl', 'name': 'Bier'}, {'quantity': '1 TL', 'name': 'Olivenöl'}, {'quantity': '½', 'name': 'Zitrone'}, {'quantity': '', 'name': 'Salz'}, {'quantity': '', 'name': 'Pfeffer'}, {'quantity': '5 dl', 'name': 'Frittieröl'}], 'instructions': [{'step': 'Step 1', 'instruction': 'Fischfilet je nach Grösse in Stücke schneiden, mit Zitronensaft, Salz und Pfeffer würzen und anschliessend mehlen.'}, {'step': 'Step 2', 'instruction': 'Mehl, Bier, zwei Eigelb, Olivenöl und eine Prise Salz zu einem glatten Teig vermengen.'}, {'step': 'Step 3', 'instruction': 'Eiweiss mit einer Prise Salz steifschlagen und vorsichtig in drei Portionen unter den Teig heben.'}, {'step': 'Step 4', 'instruction': 'Das Öl in einer Pfanne bei mittlerer Hitze erwärmen oder Fritteuse auf 180°C einschalten.'}, {'step': 'Step 5', 'instruction': 'Die Eglifilets durch den Bierteig ziehen und im heissen Öl goldbraun frittieren.'}, {'step': 'Step 6', 'instruction': 'Fischknusperli und Tartar-Sauce gemäss separatem Rezept mit Zitronenschnitzen servieren und geniessen.'}]}\n",
      "{'title': 'Egli an Zitronenbutter', 'recipe_class': 'hauptgang', 'time': '2021-07-06 18:51:27', 'img_path': 'img/hauptgang/egli_zitrone.jpg', 'prep_time': '20 minutes', 'serves': '0 minutes', 'difficulty': 'easy', 'ingredients': [{'quantity': '400 g', 'name': 'Egli tiefgekühlt, vor Gebrauch aufgetaut'}, {'quantity': '500 g', 'name': 'tiefgekühlter, gehackter Blumenkohl'}, {'quantity': '80 g', 'name': 'Butter'}, {'quantity': '20 g', 'name': 'Mehl'}, {'quantity': '½', 'name': 'Zitrone'}, {'quantity': '½ Bund', 'name': 'Dill oder Schnittlauch'}, {'quantity': '', 'name': 'Salz'}, {'quantity': '', 'name': 'Pfeffer'}], 'instructions': [{'step': 'Step 1', 'instruction': 'Die Eglifilets mit Haushaltspapier abtupfen. Mit Salz und Pfeffer würzen, im Mehl wenden und leicht abklopfen. 2/3 der Butter in einer grossen Bratpfanne erhitzen.'}, {'step': 'Step 2', 'instruction': 'Eglifilets mit der Hautseite nach unten hineinlegen. Beidseitig ca. 3 Minuten braten. Zitronenschale dazureiben. Wenig Zitronensaft dazupressen. Mit Salz und Pfeffer abschmecken.'}, {'step': 'Step 3', 'instruction': 'Inzwischen den gehackten Blumenkohl in einer beschichteten Bratpfanne mit der restlichen Butter ca. 5 Minuten braten. Kräuter hacken und daruntermischen. Mit den Eglifilets servieren und geniessen.'}]}\n",
      "{'title': 'Chilli Con Simon', 'recipe_class': 'hauptgang', 'time': '2021-07-09 13:04:45', 'img_path': 'img/hauptgang/chilliconcarne.jpg', 'prep_time': 'about 1 hour', 'serves': '4 persons', 'difficulty': 'medium', 'ingredients': [{'quantity': '1', 'name': 'Peperoni (gelb)'}, {'quantity': '1', 'name': 'Zwiebel'}, {'quantity': '1 Zehe', 'name': 'Knoblauch'}, {'quantity': '4 EL', 'name': 'Öl'}, {'quantity': '1 EL', 'name': 'Gemüsebujong'}, {'quantity': '1', 'name': 'Büchse Pelati (Tomaten)'}, {'quantity': '1', 'name': 'Büchse Kidneybohnen'}, {'quantity': '1', 'name': 'Büchse Mais'}, {'quantity': '300 g', 'name': 'Kartoffeln'}, {'quantity': '6 EL', 'name': 'Tomatenmark'}, {'quantity': '500 g', 'name': 'Rinderhackfleisch oder Quorn'}, {'quantity': '100 ml', 'name': 'Rotwein'}, {'quantity': '50 ml', 'name': 'Bier'}, {'quantity': '', 'name': 'Chilli je nach Schärfe'}, {'quantity': '1 TL', 'name': 'Basilikum und Oregano'}, {'quantity': '2 TL', 'name': 'Kakaopulver'}, {'quantity': '3 TL', 'name': 'Paprikapulver'}, {'quantity': '1 TL', 'name': 'Zimt'}, {'quantity': '2 TL', 'name': 'Kreuzkrümel (Pulver)'}, {'quantity': '2 TL', 'name': 'Salz'}, {'quantity': '1', 'name': 'Espresso'}, {'quantity': '200 g', 'name': 'Sauercreme'}, {'quantity': '1', 'name': 'Chiabatta Brot'}], 'instructions': [{'step': 'Step 1', 'instruction': 'Alles klein schneiden und die Zutaten bis auf die Pelati aus der Dose, in einem Sieb abwaschen.'}, {'step': 'Step 2', 'instruction': 'Die Zwiebeln mit Öl in der Pfanne andünsten. Danach das Fleisch oder Quorn beigeben und goldbraun anbraten. Anschliessend mit Rotwein, Bier und Espresso ablöschen.'}, {'step': 'Step 3', 'instruction': 'Die restlichen Zutaten und Gewürze hinzu gebeben und für 20 min mit geschlossenem Deckel köcheln lassen. Danach für 10 min unter ständigem rühren kochen, bis die gewünschte Konsistenz erreicht ist.'}, {'step': 'Step 4', 'instruction': 'Mit Chiabatta Brot und einem Klecks Sauercreme servieren.'}]}\n",
      "{'title': 'Couscous-Salat', 'recipe_class': 'hauptgang', 'time': '2021-09-06 15:32:01', 'img_path': 'img/hauptgang/couscous.jpg', 'prep_time': '30 minutes', 'serves': '6 persons', 'difficulty': 'easy', 'ingredients': [{'quantity': '320 g', 'name': 'Couscous'}, {'quantity': '440 ml', 'name': 'Wasser'}, {'quantity': '1 TL', 'name': 'Gemüsebullion'}, {'quantity': '½', 'name': 'Schlangengurke'}, {'quantity': '2', 'name': 'Tomaten'}, {'quantity': '1', 'name': 'Avocado'}, {'quantity': '1', 'name': 'rote Zwiebel'}, {'quantity': '½', 'name': 'Zitrone'}, {'quantity': '1 Bund', 'name': 'Basilikum'}, {'quantity': '1 Bund', 'name': 'Schnittlauch'}, {'quantity': '6 EL', 'name': 'Olivenöl'}, {'quantity': '3 EL', 'name': 'weisser Balsamico (mild, süsslich)'}, {'quantity': '', 'name': 'Salz & Pfeffer'}], 'instructions': [{'step': 'Step 1', 'instruction': 'Das Wasser in einem Topf aufkochen, dann vom Herd nehmen. Den Couscous, 1 EL Olivenöl und die Gemüsebullion in den Topf geben un vermengen.'}, {'step': 'Step 2', 'instruction': 'Den Deckel auf den Topf setzen und so den Couscous 5-10min quellen lassen. Danach den Couscous in eine Schüssel geben und auskühlen lassen.'}, {'step': 'Step 3', 'instruction': 'In der Zwischenzeit Gurke, Tomaten, Avocado und Zwiebel in kleine Stücke schneiden. Den Basilikum und Schnittlauch fein zerhacken.'}, {'step': 'Step 4', 'instruction': 'Anschliessend das zerkleinerte Gemüse und Basilikum/Schnittlauch zum kalten Couscous geben und alles vermengen.'}, {'step': 'Step 5', 'instruction': 'Olivenöl, weisser Traubenbalsamico und Zitronensaft hinzufügen. Das Verhältniss muss jeweils ein wenig abgeschmeckt werden. Mit Salz/Pfeffer würzen und geniessen!'}]}\n",
      "{'title': 'Cornflakes Chicken Nuggets', 'recipe_class': 'hauptgang', 'time': '2021-07-15 19:14:27', 'img_path': 'img/hauptgang/CornflakesNuggets.jpg', 'prep_time': '15 minutes', 'serves': ' 18 minutes', 'difficulty': 'easy', 'ingredients': [{'quantity': '140', 'name': 'g Cornflakes'}, {'quantity': '1', 'name': 'TL Knoblauch'}, {'quantity': '1', 'name': 'TL Paprikapulver scharf'}, {'quantity': '1', 'name': 'TL Salz'}, {'quantity': '1', 'name': 'TL Pfeffer'}, {'quantity': '2', 'name': 'Stk. Hähnchenbrust Filet'}, {'quantity': '1', 'name': 'Tasse Mehl'}, {'quantity': '2', 'name': 'Stk. Eier'}], 'instructions': [{'step': 'Step 1', 'instruction': 'Cornflakes, Knoblauch, Paprikapulver, Salz und Pfeffer kurz in einem Mixer vermischen oder von Hand im Beutel zerdrücken.'}, {'step': 'Step 2', 'instruction': 'Hähnchenbrustfilet (oder Putenbrust) in mundgerechte Stücke schneiden.'}, {'step': 'Step 3', 'instruction': 'Die Fleischstückchen nacheinander in Mehl, Ei und Cornflakes wenden.'}, {'step': 'Step 4', 'instruction': 'Auf ein Backblech legen und bei 180 Grad für 15-20 Minuten backen.'}]}\n",
      "{'title': 'Spinat-Ricotta Cannelloni', 'recipe_class': 'hauptgang', 'time': '2021-07-06 18:12:01', 'img_path': 'img/hauptgang/spinatricotta.jpg', 'prep_time': '40 minutes', 'serves': ' 20 minutes', 'difficulty': 'easy', 'ingredients': [{'quantity': '300 g', 'name': 'Ricottakäse'}, {'quantity': '400 g', 'name': 'Spinat'}, {'quantity': '1', 'name': 'Zwiebel'}, {'quantity': '1', 'name': 'Knoblauchzehe'}, {'quantity': '1', 'name': 'Zitrone'}, {'quantity': '200 g', 'name': 'passierte Tomaten'}, {'quantity': '2 EL', 'name': 'Tomatenmark'}, {'quantity': '3 EL', 'name': 'Butter'}, {'quantity': '2 EL', 'name': 'Mehl'}, {'quantity': '300 ml', 'name': 'Vollmilch'}, {'quantity': '1 Packung', 'name': 'Barilla Cannelloni'}, {'quantity': '40 g', 'name': 'Parmesankäse'}, {'quantity': '100 g', 'name': 'Mozzarella'}, {'quantity': '', 'name': 'Salz'}, {'quantity': '', 'name': 'Pfeffer'}, {'quantity': '', 'name': 'Zucker'}, {'quantity': '', 'name': 'gemahlene Muskatnuss'}], 'instructions': [{'step': 'Step 1', 'instruction': 'Backofen auf 200°C vorheizen. Zwiebel und Knoblauch schälen und fein würfeln, den Spinat hacken. Etwas Öl in einer Pfanne erhitzen und die Hälfte der Zwiebel und des Knoblauchs darin anschwitzen, bis sie glasig sind. Spinat dazugeben und ca. 2 Min. anbraten, bis er zusammenfällt. Die Spinatmischung vom Herd nehmen und in einem Sieb abtropfen lassen.'}, {'step': 'Step 2', 'instruction': 'Etwas Öl in einer weiteren Pfanne erhitzen und die restlichen Zwiebel- und Knoblauchwürfel dazugeben und anschwitzen. Mit Zitronensaft ablöschen und passierte Tomaten und Tomatenmark dazugeben. Die Tomatensauce mit Salz, Pfeffer und Zucker abschmecken und über kleiner Hitze köcheln und reduzieren lassen.'}, {'step': 'Step 3', 'instruction': 'Für die Béchamelsauce Butter in einer Pfanne schmelzen. Mehl mit einem Schneebesen unterrühren und anschließend die Milch langsam dazugeben und einrühren, bis eine cremige Soße entsteht. Mit Salz, Pfeffer und Muskat abschmecken.'}, {'step': 'Step 4', 'instruction': 'Den abgetropften Spinat in eine Schüssel geben und mit Ricotta vermengen. Die Füllung ebenfalls mit Salz, Pfeffer und Muskat abschmecken.'}, {'step': 'Step 5', 'instruction': 'Den Boden einer Auflaufform mit etwas Olivenöl einfetten und die Hälfte der Tomaten- und Béchamelsauce darauf verteilen. Die Spinat-Ricotta-Füllung in einen Spritzbeutel geben, damit die Cannelloni-Formen füllen und anschliessend in die Auflaufform legen.'}, {'step': 'Step 6', 'instruction': 'Die restliche Tomaten- und Béchamelsauce über den Cannelloni verteilen. Mit frisch geriebenem Parmesankäse bestreuen und den Mozzarellakäse in kleine Stücke rupfen und ebenfalls darauf verteilen.'}]}\n",
      "{'title': 'Pfannen Reis', 'recipe_class': 'hauptgang', 'time': '2021-07-04 13:04:53', 'img_path': 'img/hauptgang/Bolognese.jpg', 'prep_time': 'about 1 hour', 'serves': '2 persons', 'difficulty': 'easy', 'ingredients': [{'quantity': '1 Tasse', 'name': 'Reis'}, {'quantity': '1 ½ Tasse', 'name': 'Wasser'}, {'quantity': '1 TL', 'name': 'Salz'}, {'quantity': '1 Scheibe', 'name': 'Butter'}], 'instructions': [{'step': 'Step 1', 'instruction': 'Reis kann man auf unterschiedliche Art und Weise zubereiten. Die bekannteste Methode ist jedoch das Kochen des Reis im Kochtopf - durch die sogenannte Quellmethode.'}, {'step': 'Step 2', 'instruction': 'Bevor man den Reis kocht sollte man ihn waschen um überflüssige Stärke zu entfernen und damit der Reis nicht so klebt. Dazu kann man den Reis für ca. 5 Minuten in einen Topf mit Wasser geben und anschliessend den Reis durch ein Sieb abgiessen – dies wird 2x gemacht.'}, {'step': 'Step 3', 'instruction': 'Den Reis mit Wasser und Salz in einem Topf zum Kochen bringen und diesen bei mittlerer Hitze, zugedeckt weiter leichtköcheln/quellen lassen – bis das Wasser verdampft ist.'}, {'step': 'Step 4', 'instruction': 'Zum Verfeinern kann man noch ein kleines Stück Butter in den Reis einrühren.'}, {'step': 'Step 5', 'instruction': 'Tipps zum Rezept Die Quellmethode eignet sich am besten für weissen Reis – dazu gehört Jasmin Reis und Basmati Reis. Vollkorn Reis braucht etwas mehr Wasser als weisser Reis - da sollte man immer die doppelte Menge an Wasser nehmen - das Reis-Wasser-Verhältnis sollte hier 1:2 betragen.'}]}\n",
      "{'title': 'Griesschnitten mit Zwetschgenkompott', 'recipe_class': 'hauptgang', 'time': '2021-08-09 19:09:02', 'img_path': 'img/hauptgang/griesschnitten.jpg', 'prep_time': '20 minutes', 'serves': '4 persons', 'difficulty': 'easy', 'ingredients': [{'quantity': '200 g', 'name': 'Hartweizengriess'}, {'quantity': '¾ l', 'name': 'Milch'}, {'quantity': '20 g', 'name': 'Butter'}, {'quantity': '1 EL', 'name': 'Zucker'}, {'quantity': '1 Prise', 'name': 'Salz'}, {'quantity': '1', 'name': 'Eigelb'}, {'quantity': '', 'name': 'Weissmehl zum Panieren'}, {'quantity': '1', 'name': 'Ei zum Panieren'}, {'quantity': '', 'name': 'Paniermehl'}, {'quantity': '20 g', 'name': 'Butter zum Anbraten'}, {'quantity': '500 g', 'name': 'Zwetschgen (halbiert und entkernt)'}], 'instructions': [{'step': 'Step 1', 'instruction': 'Die Milch mit Butter, Zucker und Salz zum Kochen bringen. Den Grieß einrühren und quellen lassen. Das Eigelb zum Schluss unterrühren. Den fertigen Grießbrei ca. 1,5 cm dick auf ein mit kaltem Wasser abgespültes Backblech streichen.'}, {'step': 'Step 2', 'instruction': 'Nach dem Erkalten in Vierecke oder Dreiecke schneiden, in Mehl wenden und mit Ei und Semmelmehl panieren. In Butterschmalz braten.'}, {'step': 'Step 3', 'instruction': 'Zwetschgen halbieren und entkernen, danach in eine Pfanne geben und mit etwas Zucker und Zimt aufkochen. Abkühlen lassen und mit den Griessschnitten zusammen servieren.'}]}\n",
      "{'title': 'Sushireis - Grundrezept', 'recipe_class': 'hauptgang', 'time': '2021-07-04 09:36:27', 'img_path': 'img/hauptgang/sushi_reis.jpg', 'prep_time': '25 minutes', 'serves': ' about 2 hours', 'difficulty': 'easy', 'ingredients': [{'quantity': '250 g', 'name': 'Sushireis (japanischer Rundkornreis)'}, {'quantity': '50 ml', 'name': 'Reisessig (Sushi-Zu)'}, {'quantity': '1 Prise', 'name': 'Salz'}, {'quantity': '25 g', 'name': 'Zucker'}, {'quantity': '350 ml', 'name': 'Wasser'}], 'instructions': [{'step': 'Step 1', 'instruction': 'Den Sushireis zunächst mit frischem, kaltem Wasser bedecken und durchkneten. Anschließend durch ein Sieb abgießen. Jetzt Wasser so oft dazu gießen und erneut absieben, bis es vollständig klar ist.'}, {'step': 'Step 2', 'instruction': 'Danach wird der Reis mit dem Wasser aufgekocht. Dann für etwa 15 Minuten bei schwacher Hitze köcheln lassen. Anschließend ein Leinentuch zwischen Topf und Deckel klemmen, alles erneut für etwa 20 Minuten ruhen lassen. Tipp: Das ganze kann auch einfacher in einem Reiskocher oder Dampfgarer gemacht werden.'}, {'step': 'Step 3', 'instruction': 'Der Sushi-Essig wird in der Zwischenzeit mit Zucker und Salz in einem kleinen Topf erwärmt. Dabei bitte öfter umrühren, bis sich Zucker und Salz aufgelöst haben.'}, {'step': 'Step 4', 'instruction': 'Der Sushireis wird nun in eine Schüssel gefüllt. Mithilfe eines Spatels auflockern und den Sushi-Essig einarbeiten, anschliessend die ganze Masse auf ein Blech geben und auskühlen lassen.'}]}\n",
      "{'title': 'Pfannen Reis', 'recipe_class': 'hauptgang', 'time': '2021-07-04 13:04:53', 'img_path': 'img/hauptgang/Bolognese.jpg', 'prep_time': 'about 1 hour', 'serves': '2 persons', 'difficulty': 'easy', 'ingredients': [{'quantity': '1 Tasse', 'name': 'Reis'}, {'quantity': '1 ½ Tasse', 'name': 'Wasser'}, {'quantity': '1 TL', 'name': 'Salz'}, {'quantity': '1 Scheibe', 'name': 'Butter'}], 'instructions': [{'step': 'Step 1', 'instruction': 'Reis kann man auf unterschiedliche Art und Weise zubereiten. Die bekannteste Methode ist jedoch das Kochen des Reis im Kochtopf - durch die sogenannte Quellmethode.'}, {'step': 'Step 2', 'instruction': 'Bevor man den Reis kocht sollte man ihn waschen um überflüssige Stärke zu entfernen und damit der Reis nicht so klebt. Dazu kann man den Reis für ca. 5 Minuten in einen Topf mit Wasser geben und anschliessend den Reis durch ein Sieb abgiessen – dies wird 2x gemacht.'}, {'step': 'Step 3', 'instruction': 'Den Reis mit Wasser und Salz in einem Topf zum Kochen bringen und diesen bei mittlerer Hitze, zugedeckt weiter leichtköcheln/quellen lassen – bis das Wasser verdampft ist.'}, {'step': 'Step 4', 'instruction': 'Zum Verfeinern kann man noch ein kleines Stück Butter in den Reis einrühren.'}, {'step': 'Step 5', 'instruction': 'Tipps zum Rezept Die Quellmethode eignet sich am besten für weissen Reis – dazu gehört Jasmin Reis und Basmati Reis. Vollkorn Reis braucht etwas mehr Wasser als weisser Reis - da sollte man immer die doppelte Menge an Wasser nehmen - das Reis-Wasser-Verhältnis sollte hier 1:2 betragen.'}]}\n",
      "{'title': 'Strudel dalla Nonna', 'recipe_class': 'dessert', 'time': '2021-07-09 11:10:37', 'img_path': 'img/dessert/strudel.jpg', 'prep_time': 'about 1 hour', 'serves': '8 persons', 'difficulty': 'medium', 'ingredients': [{'quantity': '1', 'name': 'Blätterteig Rechteckig'}, {'quantity': '50 g', 'name': 'Butter'}, {'quantity': '3 EL', 'name': 'Paniermehl'}, {'quantity': '4', 'name': 'Äpfel'}, {'quantity': '1 ½ EL', 'name': 'Zucker'}, {'quantity': '8', 'name': 'Amaretti'}, {'quantity': '2 EL', 'name': 'Gemahlene Haselnüsse'}, {'quantity': '1 TL', 'name': 'Zimt'}, {'quantity': '75 g', 'name': 'Schwarze Schokolade'}, {'quantity': '1', 'name': 'Eigelb'}], 'instructions': [{'step': 'Step 1', 'instruction': 'Äpfel schälen und würfeln. Amaretti zerbröseln. Schwarze Schokolade in kleine würfel schneiden.'}, {'step': 'Step 2', 'instruction': 'Blätterteig noch etwas ausrollen, danach das Paniermehl im Butter rösten und darauf verzeilen.'}, {'step': 'Step 3', 'instruction': 'Alle Zutaten gleichmässig auf dem Teig verteilen und den Strudel aufrollen.'}, {'step': 'Step 4', 'instruction': 'Ofen auf 180 Grad Mittelhitze vorheizen und auf der unteren Hälfte ca. 45 min backen.'}, {'step': 'Step 5', 'instruction': 'Nach dem Backen, den abgekühlten Strudel mit Puderzrucker bestreuen. Tipp: Vanillesauce zum servieren oder Weinbeeren als Ergänzung im Grundrezept können noch beigefüht werden.'}]}\n",
      "https://shortcutapp.io/n/YWI5NWY5MjhhNzUzNTIwYTExNGE5YTdkN2U4ZTBhOGJi is corrupt\n",
      "None\n"
     ]
    },
    {
     "ename": "TypeError",
     "evalue": "'NoneType' object is not subscriptable",
     "output_type": "error",
     "traceback": [
      "\u001B[1;31m---------------------------------------------------------------------------\u001B[0m",
      "\u001B[1;31mTypeError\u001B[0m                                 Traceback (most recent call last)",
      "Cell \u001B[1;32mIn[2], line 12\u001B[0m\n\u001B[0;32m      9\u001B[0m         save_img(recipe)\n\u001B[0;32m     10\u001B[0m     \u001B[38;5;28mprint\u001B[39m(report)\n\u001B[1;32m---> 12\u001B[0m \u001B[43mbackup_website\u001B[49m\u001B[43m(\u001B[49m\u001B[38;5;124;43m\"\u001B[39;49m\u001B[38;5;124;43mhttps://storage.googleapis.com/www.selinaschoice.ch/index.html\u001B[39;49m\u001B[38;5;124;43m\"\u001B[39;49m\u001B[43m)\u001B[49m\n",
      "Cell \u001B[1;32mIn[2], line 8\u001B[0m, in \u001B[0;36mbackup_website\u001B[1;34m(main_link)\u001B[0m\n\u001B[0;32m      6\u001B[0m     recipe \u001B[38;5;241m=\u001B[39m get_parsed_recipe(main_page, recipe_link)\n\u001B[0;32m      7\u001B[0m     \u001B[38;5;28mprint\u001B[39m(recipe)\n\u001B[1;32m----> 8\u001B[0m     \u001B[43msave_recipe\u001B[49m\u001B[43m(\u001B[49m\u001B[43mrecipe\u001B[49m\u001B[43m)\u001B[49m\n\u001B[0;32m      9\u001B[0m     save_img(recipe)\n\u001B[0;32m     10\u001B[0m \u001B[38;5;28mprint\u001B[39m(report)\n",
      "File \u001B[1;32m~\\PycharmProjects\\backup-package\\src\\parser.py:267\u001B[0m, in \u001B[0;36msave_recipe\u001B[1;34m(recipe)\u001B[0m\n\u001B[0;32m    261\u001B[0m \u001B[38;5;28;01mdef\u001B[39;00m \u001B[38;5;21msave_recipe\u001B[39m(recipe: Dict):\n\u001B[0;32m    262\u001B[0m \u001B[38;5;250m    \u001B[39m\u001B[38;5;124;03m\"\"\"\u001B[39;00m\n\u001B[0;32m    263\u001B[0m \u001B[38;5;124;03m    Saves a json from a recipe automatically to the right folder and renames it right.\u001B[39;00m\n\u001B[0;32m    264\u001B[0m \u001B[38;5;124;03m    :param recipe:\u001B[39;00m\n\u001B[0;32m    265\u001B[0m \u001B[38;5;124;03m    :return:\u001B[39;00m\n\u001B[0;32m    266\u001B[0m \u001B[38;5;124;03m    \"\"\"\u001B[39;00m\n\u001B[1;32m--> 267\u001B[0m     recipe_title \u001B[38;5;241m=\u001B[39m \u001B[43mrecipe\u001B[49m\u001B[43m[\u001B[49m\u001B[38;5;124;43m\"\u001B[39;49m\u001B[38;5;124;43mtitle\u001B[39;49m\u001B[38;5;124;43m\"\u001B[39;49m\u001B[43m]\u001B[49m\n\u001B[0;32m    268\u001B[0m     file_sub_name \u001B[38;5;241m=\u001B[39m \u001B[38;5;124m'\u001B[39m\u001B[38;5;124m_\u001B[39m\u001B[38;5;124m'\u001B[39m\u001B[38;5;241m.\u001B[39mjoin(\n\u001B[0;32m    269\u001B[0m         sub(\u001B[38;5;124m'\u001B[39m\u001B[38;5;124m([A-Z][a-z]+)\u001B[39m\u001B[38;5;124m'\u001B[39m, \u001B[38;5;124mr\u001B[39m\u001B[38;5;124m'\u001B[39m\u001B[38;5;124m \u001B[39m\u001B[38;5;124m\\\u001B[39m\u001B[38;5;124m1\u001B[39m\u001B[38;5;124m'\u001B[39m, sub(\u001B[38;5;124m'\u001B[39m\u001B[38;5;124m([A-Z]+)\u001B[39m\u001B[38;5;124m'\u001B[39m, \u001B[38;5;124mr\u001B[39m\u001B[38;5;124m'\u001B[39m\u001B[38;5;124m \u001B[39m\u001B[38;5;124m\\\u001B[39m\u001B[38;5;124m1\u001B[39m\u001B[38;5;124m'\u001B[39m, recipe_title\u001B[38;5;241m.\u001B[39mreplace(\u001B[38;5;124m'\u001B[39m\u001B[38;5;124m-\u001B[39m\u001B[38;5;124m'\u001B[39m, \u001B[38;5;124m'\u001B[39m\u001B[38;5;124m \u001B[39m\u001B[38;5;124m'\u001B[39m)))\u001B[38;5;241m.\u001B[39msplit())\u001B[38;5;241m.\u001B[39mlower()\n\u001B[0;32m    270\u001B[0m     filename \u001B[38;5;241m=\u001B[39m file_sub_name \u001B[38;5;241m+\u001B[39m \u001B[38;5;124m\"\u001B[39m\u001B[38;5;124m.json\u001B[39m\u001B[38;5;124m\"\u001B[39m\n",
      "\u001B[1;31mTypeError\u001B[0m: 'NoneType' object is not subscriptable"
     ]
    }
   ],
   "source": [
    "from parser import *\n",
    "def backup_website(main_link: str):\n",
    "    main_page = get_page_content(main_link)\n",
    "    all_recipe_links = get_links_to_scrape(main_page)\n",
    "    for recipe_link in all_recipe_links:\n",
    "        recipe = get_parsed_recipe(main_page, recipe_link)\n",
    "        print(recipe)\n",
    "        save_recipe(recipe)\n",
    "        save_img(recipe)\n",
    "    print(report)\n",
    "\n",
    "backup_website(\"https://storage.googleapis.com/www.selinaschoice.ch/index.html\")"
   ],
   "metadata": {
    "collapsed": false
   }
  },
  {
   "cell_type": "code",
   "execution_count": 4,
   "outputs": [
    {
     "ename": "TypeError",
     "evalue": "get_links_to_scrape() missing 1 required positional argument: 'main_page'",
     "output_type": "error",
     "traceback": [
      "\u001B[1;31m---------------------------------------------------------------------------\u001B[0m",
      "\u001B[1;31mTypeError\u001B[0m                                 Traceback (most recent call last)",
      "Cell \u001B[1;32mIn[4], line 1\u001B[0m\n\u001B[1;32m----> 1\u001B[0m all_recipes \u001B[38;5;241m=\u001B[39m \u001B[43mget_links_to_scrape\u001B[49m\u001B[43m(\u001B[49m\u001B[43m)\u001B[49m\n\u001B[0;32m      2\u001B[0m \u001B[38;5;28mprint\u001B[39m(all_recipes)\n",
      "\u001B[1;31mTypeError\u001B[0m: get_links_to_scrape() missing 1 required positional argument: 'main_page'"
     ]
    }
   ],
   "source": [
    "all_recipes = get_links_to_scrape()\n",
    "print(all_recipes)"
   ],
   "metadata": {
    "collapsed": false
   }
  },
  {
   "cell_type": "code",
   "execution_count": null,
   "outputs": [],
   "source": [],
   "metadata": {
    "collapsed": false
   }
  }
 ],
 "metadata": {
  "kernelspec": {
   "display_name": "Python 3",
   "language": "python",
   "name": "python3"
  },
  "language_info": {
   "codemirror_mode": {
    "name": "ipython",
    "version": 2
   },
   "file_extension": ".py",
   "mimetype": "text/x-python",
   "name": "python",
   "nbconvert_exporter": "python",
   "pygments_lexer": "ipython2",
   "version": "2.7.6"
  }
 },
 "nbformat": 4,
 "nbformat_minor": 0
}
